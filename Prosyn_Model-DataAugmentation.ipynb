{
 "cells": [
  {
   "cell_type": "markdown",
   "metadata": {},
   "source": [
    "# Charge et exploration de données"
   ]
  },
  {
   "cell_type": "code",
   "execution_count": 42,
   "metadata": {},
   "outputs": [],
   "source": [
    "import numpy as np # linear algebra\n",
    "import pandas as pd # data processing, CSV file I/O (e.g. pd.read_csv)"
   ]
  },
  {
   "cell_type": "code",
   "execution_count": 43,
   "metadata": {},
   "outputs": [],
   "source": [
    "# download the data from web and saved to local directory\n",
    "# put the data in a variable make the following code usable for any data sources\n",
    "##data_dir = \"C:\\\\Users\\\\jeang\\\\Documents\\\\BDEB\\\\A62\\\\ProSyn3\\\\data\"\n",
    "data_dir  = \"C:\\\\Users\\\\Nisha Haulkhory\\\\Desktop\\\\projet de synthese\\\\fer2013.csv\""
   ]
  },
  {
   "cell_type": "code",
   "execution_count": 44,
   "metadata": {},
   "outputs": [
    {
     "data": {
      "text/html": [
       "<div>\n",
       "<style scoped>\n",
       "    .dataframe tbody tr th:only-of-type {\n",
       "        vertical-align: middle;\n",
       "    }\n",
       "\n",
       "    .dataframe tbody tr th {\n",
       "        vertical-align: top;\n",
       "    }\n",
       "\n",
       "    .dataframe thead th {\n",
       "        text-align: right;\n",
       "    }\n",
       "</style>\n",
       "<table border=\"1\" class=\"dataframe\">\n",
       "  <thead>\n",
       "    <tr style=\"text-align: right;\">\n",
       "      <th></th>\n",
       "      <th>emotion</th>\n",
       "      <th>pixels</th>\n",
       "      <th>Usage</th>\n",
       "    </tr>\n",
       "  </thead>\n",
       "  <tbody>\n",
       "    <tr>\n",
       "      <th>0</th>\n",
       "      <td>0</td>\n",
       "      <td>70 80 82 72 58 58 60 63 54 58 60 48 89 115 121...</td>\n",
       "      <td>Training</td>\n",
       "    </tr>\n",
       "    <tr>\n",
       "      <th>1</th>\n",
       "      <td>0</td>\n",
       "      <td>151 150 147 155 148 133 111 140 170 174 182 15...</td>\n",
       "      <td>Training</td>\n",
       "    </tr>\n",
       "    <tr>\n",
       "      <th>2</th>\n",
       "      <td>2</td>\n",
       "      <td>231 212 156 164 174 138 161 173 182 200 106 38...</td>\n",
       "      <td>Training</td>\n",
       "    </tr>\n",
       "    <tr>\n",
       "      <th>3</th>\n",
       "      <td>4</td>\n",
       "      <td>24 32 36 30 32 23 19 20 30 41 21 22 32 34 21 1...</td>\n",
       "      <td>Training</td>\n",
       "    </tr>\n",
       "    <tr>\n",
       "      <th>4</th>\n",
       "      <td>6</td>\n",
       "      <td>4 0 0 0 0 0 0 0 0 0 0 0 3 15 23 28 48 50 58 84...</td>\n",
       "      <td>Training</td>\n",
       "    </tr>\n",
       "  </tbody>\n",
       "</table>\n",
       "</div>"
      ],
      "text/plain": [
       "   emotion                                             pixels     Usage\n",
       "0        0  70 80 82 72 58 58 60 63 54 58 60 48 89 115 121...  Training\n",
       "1        0  151 150 147 155 148 133 111 140 170 174 182 15...  Training\n",
       "2        2  231 212 156 164 174 138 161 173 182 200 106 38...  Training\n",
       "3        4  24 32 36 30 32 23 19 20 30 41 21 22 32 34 21 1...  Training\n",
       "4        6  4 0 0 0 0 0 0 0 0 0 0 0 3 15 23 28 48 50 58 84...  Training"
      ]
     },
     "execution_count": 44,
     "metadata": {},
     "output_type": "execute_result"
    }
   ],
   "source": [
    "# Original data is hold by df\n",
    "df = pd.read_csv(data_dir )\n",
    "df.head()"
   ]
  },
  {
   "cell_type": "code",
   "execution_count": 45,
   "metadata": {},
   "outputs": [
    {
     "data": {
      "text/plain": [
       "(35887, 3)"
      ]
     },
     "execution_count": 45,
     "metadata": {},
     "output_type": "execute_result"
    }
   ],
   "source": [
    "df.shape"
   ]
  },
  {
   "cell_type": "code",
   "execution_count": 46,
   "metadata": {},
   "outputs": [
    {
     "name": "stdout",
     "output_type": "stream",
     "text": [
      "['PrivateTest', 'Training', 'PublicTest']\n"
     ]
    }
   ],
   "source": [
    "split = list(set(df['Usage']))\n",
    "print(split)"
   ]
  },
  {
   "cell_type": "code",
   "execution_count": 47,
   "metadata": {},
   "outputs": [
    {
     "data": {
      "text/html": [
       "<div>\n",
       "<style scoped>\n",
       "    .dataframe tbody tr th:only-of-type {\n",
       "        vertical-align: middle;\n",
       "    }\n",
       "\n",
       "    .dataframe tbody tr th {\n",
       "        vertical-align: top;\n",
       "    }\n",
       "\n",
       "    .dataframe thead th {\n",
       "        text-align: right;\n",
       "    }\n",
       "</style>\n",
       "<table border=\"1\" class=\"dataframe\">\n",
       "  <thead>\n",
       "    <tr style=\"text-align: right;\">\n",
       "      <th></th>\n",
       "      <th>emotion</th>\n",
       "      <th>pixels</th>\n",
       "      <th>Usage</th>\n",
       "    </tr>\n",
       "  </thead>\n",
       "  <tbody>\n",
       "    <tr>\n",
       "      <th>0</th>\n",
       "      <td>0</td>\n",
       "      <td>70 80 82 72 58 58 60 63 54 58 60 48 89 115 121...</td>\n",
       "      <td>Training</td>\n",
       "    </tr>\n",
       "    <tr>\n",
       "      <th>1</th>\n",
       "      <td>0</td>\n",
       "      <td>151 150 147 155 148 133 111 140 170 174 182 15...</td>\n",
       "      <td>Training</td>\n",
       "    </tr>\n",
       "    <tr>\n",
       "      <th>2</th>\n",
       "      <td>2</td>\n",
       "      <td>231 212 156 164 174 138 161 173 182 200 106 38...</td>\n",
       "      <td>Training</td>\n",
       "    </tr>\n",
       "    <tr>\n",
       "      <th>3</th>\n",
       "      <td>4</td>\n",
       "      <td>24 32 36 30 32 23 19 20 30 41 21 22 32 34 21 1...</td>\n",
       "      <td>Training</td>\n",
       "    </tr>\n",
       "    <tr>\n",
       "      <th>4</th>\n",
       "      <td>6</td>\n",
       "      <td>4 0 0 0 0 0 0 0 0 0 0 0 3 15 23 28 48 50 58 84...</td>\n",
       "      <td>Training</td>\n",
       "    </tr>\n",
       "  </tbody>\n",
       "</table>\n",
       "</div>"
      ],
      "text/plain": [
       "   emotion                                             pixels     Usage\n",
       "0        0  70 80 82 72 58 58 60 63 54 58 60 48 89 115 121...  Training\n",
       "1        0  151 150 147 155 148 133 111 140 170 174 182 15...  Training\n",
       "2        2  231 212 156 164 174 138 161 173 182 200 106 38...  Training\n",
       "3        4  24 32 36 30 32 23 19 20 30 41 21 22 32 34 21 1...  Training\n",
       "4        6  4 0 0 0 0 0 0 0 0 0 0 0 3 15 23 28 48 50 58 84...  Training"
      ]
     },
     "execution_count": 47,
     "metadata": {},
     "output_type": "execute_result"
    }
   ],
   "source": [
    "df_training = df[df['Usage']=='Training']\n",
    "df_PublicTest = df[df['Usage']=='PublicTest']\n",
    "df_PrivateTest = df[df['Usage']=='PrivateTest']\n",
    "\n",
    "df_training.head()\n"
   ]
  },
  {
   "cell_type": "code",
   "execution_count": 48,
   "metadata": {},
   "outputs": [
    {
     "data": {
      "text/plain": [
       "Training       28709\n",
       "PublicTest      3589\n",
       "PrivateTest     3589\n",
       "Name: Usage, dtype: int64"
      ]
     },
     "execution_count": 48,
     "metadata": {},
     "output_type": "execute_result"
    }
   ],
   "source": [
    "df.Usage.value_counts()"
   ]
  },
  {
   "cell_type": "code",
   "execution_count": 49,
   "metadata": {},
   "outputs": [
    {
     "name": "stdout",
     "output_type": "stream",
     "text": [
      "<class 'pandas.core.frame.DataFrame'>\n",
      "RangeIndex: 35887 entries, 0 to 35886\n",
      "Data columns (total 3 columns):\n",
      "emotion    35887 non-null int64\n",
      "pixels     35887 non-null object\n",
      "Usage      35887 non-null object\n",
      "dtypes: int64(1), object(2)\n",
      "memory usage: 841.2+ KB\n"
     ]
    }
   ],
   "source": [
    "df.info()"
   ]
  },
  {
   "cell_type": "code",
   "execution_count": 50,
   "metadata": {},
   "outputs": [
    {
     "data": {
      "text/html": [
       "<div>\n",
       "<style scoped>\n",
       "    .dataframe tbody tr th:only-of-type {\n",
       "        vertical-align: middle;\n",
       "    }\n",
       "\n",
       "    .dataframe tbody tr th {\n",
       "        vertical-align: top;\n",
       "    }\n",
       "\n",
       "    .dataframe thead th {\n",
       "        text-align: right;\n",
       "    }\n",
       "</style>\n",
       "<table border=\"1\" class=\"dataframe\">\n",
       "  <thead>\n",
       "    <tr style=\"text-align: right;\">\n",
       "      <th></th>\n",
       "      <th>emotion</th>\n",
       "      <th>pixels</th>\n",
       "      <th>Usage</th>\n",
       "      <th>length</th>\n",
       "    </tr>\n",
       "  </thead>\n",
       "  <tbody>\n",
       "    <tr>\n",
       "      <th>0</th>\n",
       "      <td>0</td>\n",
       "      <td>70 80 82 72 58 58 60 63 54 58 60 48 89 115 121...</td>\n",
       "      <td>Training</td>\n",
       "      <td>2304</td>\n",
       "    </tr>\n",
       "    <tr>\n",
       "      <th>1</th>\n",
       "      <td>0</td>\n",
       "      <td>151 150 147 155 148 133 111 140 170 174 182 15...</td>\n",
       "      <td>Training</td>\n",
       "      <td>2304</td>\n",
       "    </tr>\n",
       "    <tr>\n",
       "      <th>2</th>\n",
       "      <td>2</td>\n",
       "      <td>231 212 156 164 174 138 161 173 182 200 106 38...</td>\n",
       "      <td>Training</td>\n",
       "      <td>2304</td>\n",
       "    </tr>\n",
       "    <tr>\n",
       "      <th>3</th>\n",
       "      <td>4</td>\n",
       "      <td>24 32 36 30 32 23 19 20 30 41 21 22 32 34 21 1...</td>\n",
       "      <td>Training</td>\n",
       "      <td>2304</td>\n",
       "    </tr>\n",
       "    <tr>\n",
       "      <th>4</th>\n",
       "      <td>6</td>\n",
       "      <td>4 0 0 0 0 0 0 0 0 0 0 0 3 15 23 28 48 50 58 84...</td>\n",
       "      <td>Training</td>\n",
       "      <td>2304</td>\n",
       "    </tr>\n",
       "  </tbody>\n",
       "</table>\n",
       "</div>"
      ],
      "text/plain": [
       "   emotion                                             pixels     Usage  \\\n",
       "0        0  70 80 82 72 58 58 60 63 54 58 60 48 89 115 121...  Training   \n",
       "1        0  151 150 147 155 148 133 111 140 170 174 182 15...  Training   \n",
       "2        2  231 212 156 164 174 138 161 173 182 200 106 38...  Training   \n",
       "3        4  24 32 36 30 32 23 19 20 30 41 21 22 32 34 21 1...  Training   \n",
       "4        6  4 0 0 0 0 0 0 0 0 0 0 0 3 15 23 28 48 50 58 84...  Training   \n",
       "\n",
       "   length  \n",
       "0    2304  \n",
       "1    2304  \n",
       "2    2304  \n",
       "3    2304  \n",
       "4    2304  "
      ]
     },
     "execution_count": 50,
     "metadata": {},
     "output_type": "execute_result"
    }
   ],
   "source": [
    "df['length'] = df.pixels.apply(lambda x: len(str(x).split(' ')))\n",
    "df.head()"
   ]
  },
  {
   "cell_type": "code",
   "execution_count": 51,
   "metadata": {},
   "outputs": [
    {
     "data": {
      "text/html": [
       "<div>\n",
       "<style scoped>\n",
       "    .dataframe tbody tr th:only-of-type {\n",
       "        vertical-align: middle;\n",
       "    }\n",
       "\n",
       "    .dataframe tbody tr th {\n",
       "        vertical-align: top;\n",
       "    }\n",
       "\n",
       "    .dataframe thead th {\n",
       "        text-align: right;\n",
       "    }\n",
       "</style>\n",
       "<table border=\"1\" class=\"dataframe\">\n",
       "  <thead>\n",
       "    <tr style=\"text-align: right;\">\n",
       "      <th></th>\n",
       "      <th>emotion</th>\n",
       "    </tr>\n",
       "  </thead>\n",
       "  <tbody>\n",
       "    <tr>\n",
       "      <th>3</th>\n",
       "      <td>8989</td>\n",
       "    </tr>\n",
       "    <tr>\n",
       "      <th>6</th>\n",
       "      <td>6198</td>\n",
       "    </tr>\n",
       "    <tr>\n",
       "      <th>4</th>\n",
       "      <td>6077</td>\n",
       "    </tr>\n",
       "    <tr>\n",
       "      <th>2</th>\n",
       "      <td>5121</td>\n",
       "    </tr>\n",
       "    <tr>\n",
       "      <th>0</th>\n",
       "      <td>4953</td>\n",
       "    </tr>\n",
       "  </tbody>\n",
       "</table>\n",
       "</div>"
      ],
      "text/plain": [
       "   emotion\n",
       "3     8989\n",
       "6     6198\n",
       "4     6077\n",
       "2     5121\n",
       "0     4953"
      ]
     },
     "execution_count": 51,
     "metadata": {},
     "output_type": "execute_result"
    }
   ],
   "source": [
    "lab = df.emotion.value_counts()\n",
    "lab = pd.DataFrame(lab)\n",
    "lab.head()\n"
   ]
  },
  {
   "cell_type": "markdown",
   "metadata": {},
   "source": [
    "# Nettoyage de données"
   ]
  },
  {
   "cell_type": "code",
   "execution_count": 52,
   "metadata": {},
   "outputs": [
    {
     "data": {
      "text/plain": [
       "0"
      ]
     },
     "execution_count": 52,
     "metadata": {},
     "output_type": "execute_result"
    }
   ],
   "source": [
    "no_data = sum(df.length.isna())\n",
    "no_data"
   ]
  },
  {
   "cell_type": "markdown",
   "metadata": {},
   "source": [
    "* Nous constatons que Les données n'ont pas de valeur manquante \n",
    "* La distribution des emotions montre qu'il y a plus de catégorie 3 et moins de catégorie 1"
   ]
  },
  {
   "cell_type": "markdown",
   "metadata": {},
   "source": [
    "# Points particulier"
   ]
  },
  {
   "cell_type": "code",
   "execution_count": 53,
   "metadata": {},
   "outputs": [
    {
     "data": {
      "text/plain": [
       "<matplotlib.axes._subplots.AxesSubplot at 0x23de9bb03c8>"
      ]
     },
     "execution_count": 53,
     "metadata": {},
     "output_type": "execute_result"
    },
    {
     "data": {
      "image/png": "[encoded data removed]",
      "text/plain": [
       "<Figure size 432x288 with 1 Axes>"
      ]
     },
     "metadata": {
      "needs_background": "light"
     },
     "output_type": "display_data"
    }
   ],
   "source": [
    "lab.plot.bar(title=\"labels break Down\")"
   ]
  },
  {
   "cell_type": "markdown",
   "metadata": {},
   "source": [
    "* Les données contient essentiellement deux colonnes: emotion est la cible (catégories) et pixels l'image 48x48 = 2304"
   ]
  },
  {
   "cell_type": "markdown",
   "metadata": {},
   "source": [
    "* L'autre colonne, Usage, est une parition des données: Training, PublicTest, PrivateTest\n",
    "* Nous allons utiliser la partie Training pour developper le modele et PrivateTest pour tester notre modele\n",
    "* En fin, la partie PublicTest sera utilisée pour la validation"
   ]
  },
  {
   "cell_type": "code",
   "execution_count": 219,
   "metadata": {},
   "outputs": [
    {
     "name": "stdout",
     "output_type": "stream",
     "text": [
      "Sad\n"
     ]
    },
    {
     "data": {
      "image/png": "[encoded data removed]",
      "text/plain": [
       "<Figure size 432x288 with 1 Axes>"
      ]
     },
     "metadata": {
      "needs_background": "light"
     },
     "output_type": "display_data"
    }
   ],
   "source": [
    "import numpy as np\n",
    "import matplotlib.pyplot as plt\n",
    "FER2013_WIDTH = 48\n",
    "FER2013_HEIGHT = 48\n",
    "Emotions = [\"Angry\", \"Disgust\", \"Fear\", \"Happy\", \"Sad\", \"Surprise\", \"Neutral\"]  # indices 0 to 6\n",
    "sample = []\n",
    "def fer2013_show_instance(index):\n",
    "    \"\"\"Shows the image and the emotion label of the index's instance.\"\"\"\n",
    "    image = np.reshape(df_training.at[index, \"pixels\"].split(\" \"), (FER2013_WIDTH, FER2013_HEIGHT)).astype(\"float\")\n",
    "    sample.append(image)\n",
    "    #image -= np.mean(image)\n",
    "    #image /= np.std(image)\n",
    "    print(Emotions[df_training.at[index, \"emotion\"]])\n",
    "    plt.imshow(image, cmap=\"gray\")\n",
    "fer2013_show_instance(np.random.randint(0,len(df_training)))"
   ]
  },
  {
   "cell_type": "code",
   "execution_count": 55,
   "metadata": {},
   "outputs": [],
   "source": [
    "def fer2013_to_X():\n",
    "    \"\"\"Transforms the (blank separated) pixel strings in the DataFrame to an 3-dimensional array \n",
    "    (1st dim: instances, 2nd and 3rd dims represent 2D image).\"\"\"\n",
    "    \n",
    "    X = []\n",
    "    pixels_list = df_training[\"pixels\"].values\n",
    "    \n",
    "    for pixels in pixels_list:\n",
    "        single_image = np.reshape(pixels.split(\" \"), (FER2013_WIDTH, FER2013_HEIGHT)).astype(\"float\")\n",
    "        X.append(single_image)\n",
    "        \n",
    "    # Convert list to 4D array:\n",
    "    X = np.expand_dims(np.array(X), -1)\n",
    "    \n",
    "    # Normalize image data:\n",
    "   # X -= np.mean(X, axis=0)\n",
    "    X = X/255\n",
    "    \n",
    "    return X"
   ]
  },
  {
   "cell_type": "code",
   "execution_count": 56,
   "metadata": {},
   "outputs": [],
   "source": [
    "def fer2013_to_Y():\n",
    "    \"\"\"Transforms the (blank separated) pixel strings in the DataFrame to an 3-dimensional array \n",
    "    (1st dim: instances, 2nd and 3rd dims represent 2D image).\"\"\"\n",
    "    \n",
    "    X = []\n",
    "    pixels_list = df_PrivateTest[\"pixels\"].values\n",
    "    \n",
    "    for pixels in pixels_list:\n",
    "        single_image = np.reshape(pixels.split(\" \"), (FER2013_WIDTH, FER2013_HEIGHT)).astype(\"float\")\n",
    "        X.append(single_image)\n",
    "        \n",
    "    # Convert list to 4D array:\n",
    "    X = np.expand_dims(np.array(X), -1)\n",
    "    \n",
    "    # Normalize image data:\n",
    "   # X -= np.mean(X, axis=0)\n",
    "    X = X/255\n",
    "    \n",
    "    return X"
   ]
  },
  {
   "cell_type": "code",
   "execution_count": 57,
   "metadata": {},
   "outputs": [],
   "source": [
    "X=fer2013_to_X()\n",
    "X_test = fer2013_to_Y()"
   ]
  },
  {
   "cell_type": "code",
   "execution_count": 58,
   "metadata": {},
   "outputs": [
    {
     "name": "stdout",
     "output_type": "stream",
     "text": [
      "(28709, 48, 48, 1)\n",
      "(3589, 48, 48, 1)\n"
     ]
    }
   ],
   "source": [
    "X.shape\n",
    "#X[0].shape\n",
    "#X_test.shape\n",
    "print(X.shape)\n",
    "print(X_test.shape)"
   ]
  },
  {
   "cell_type": "code",
   "execution_count": 59,
   "metadata": {},
   "outputs": [
    {
     "name": "stdout",
     "output_type": "stream",
     "text": [
      "(3589, 7)\n"
     ]
    }
   ],
   "source": [
    " #Get labels (one-hot encoded)\n",
    "Y = pd.get_dummies(df_training['emotion']).values\n",
    "Y_test = pd.get_dummies(df_PrivateTest['emotion']).values\n",
    "#Y.shape\n",
    "print(Y_test.shape)\n",
    "\n"
   ]
  },
  {
   "cell_type": "code",
   "execution_count": 60,
   "metadata": {},
   "outputs": [
    {
     "name": "stdout",
     "output_type": "stream",
     "text": [
      "1.0\n",
      "0.17647058823529413\n"
     ]
    }
   ],
   "source": [
    "#print(np.max(X[0]))\n",
    "#print(np.min(X[0]))\n",
    "print(np.max(X_test[0]))\n",
    "print(np.min(X_test[0]))"
   ]
  },
  {
   "cell_type": "markdown",
   "metadata": {},
   "source": [
    "# Let us reshape the images so that it's of size 48 x 48 x 1, and feed this as an input to the network.\n",
    "\n",
    "The reason you need to reshape your data is that Tensorflow expects a certain input shape for its Deep Learning Model, i.e., in this case, a Convolution Neural Network, specifically:\n",
    "\n",
    "(<number of images>, <image x_dim>, <image y_dim>, <number of channels>)"
   ]
  },
  {
   "cell_type": "code",
   "execution_count": 61,
   "metadata": {},
   "outputs": [
    {
     "data": {
      "text/plain": [
       "(28709, 7)"
      ]
     },
     "execution_count": 61,
     "metadata": {},
     "output_type": "execute_result"
    }
   ],
   "source": [
    "# Reshape training and testing image\n",
    "X= X.reshape(-1, 48, 48, 1)\n",
    "X_test = X_test.reshape(-1, 48, 48, 1)\n",
    "input_shape = X.shape\n",
    "Y.shape\n"
   ]
  },
  {
   "cell_type": "markdown",
   "metadata": {},
   "source": [
    "# The Deep Neural Network\n",
    "\n",
    "First, we will define the Convolutional neural networks architecture as follows:\n",
    "\n",
    "1- The first hidden layer is a convolutional layer called a Convolution2D. We will use 32 filters with size 5×5 each.\n",
    "\n",
    "2- Then a Max pooling layer with a pool size of 2×2.\n",
    "\n",
    "3- Another convolutional layer with 64 filters with size 5×5 each.\n",
    "\n",
    "4- Then a Max pooling layer with a pool size of 2×2.\n",
    "\n",
    "5- Then next is a Flatten layer that converts the 2D matrix data to a 1D vector before building the fully connected layers.\n",
    "\n",
    "6- After that we will use a fully connected layer with 1024 neurons and relu activation function.\n",
    "\n",
    "7- Then we will use a regularization layer called Dropout. It is configured to randomly exclude 20% of neurons in the layer in order to reduce overfitting.\n",
    "\n",
    "8- Finally, the output layer which has 10 neurons for the 10 classes and a softmax activation function to output probability-like predictions for each class.\n"
   ]
  },
  {
   "cell_type": "code",
   "execution_count": 62,
   "metadata": {},
   "outputs": [],
   "source": [
    "from keras.models import Sequential\n",
    "from keras.layers import Dense, Conv2D, Dropout, Flatten, MaxPooling2D \n",
    "import tensorflow as tf"
   ]
  },
  {
   "cell_type": "markdown",
   "metadata": {},
   "source": [
    "# Step 1 – Create a model:"
   ]
  },
  {
   "cell_type": "markdown",
   "metadata": {},
   "source": [
    "Keras first creates a new instance of a model object and then add layers to it one after the another. It is called a sequential model API. We can add layers to the neural network just by calling model.add and passing in the type of layer we want to add. Finally, we will compile the model with two important information, loss function, and cost optimization algorithm."
   ]
  },
  {
   "cell_type": "code",
   "execution_count": 99,
   "metadata": {},
   "outputs": [],
   "source": [
    "# Creating a Sequential Model and adding the layers\n",
    "input_shape = (48, 48, 1)\n",
    "model = Sequential()\n",
    "#first layer\n",
    "model.add(Conv2D(32, kernel_size=(5,5), input_shape=input_shape))\n",
    "model.add(MaxPooling2D(pool_size=(2, 2)))\n",
    "#second layer\n",
    "model.add(Conv2D(64, kernel_size=(5,5), input_shape=input_shape))\n",
    "model.add(MaxPooling2D(pool_size=(2, 2)))\n",
    "model.add(Flatten()) # Flattening the 2D arrays for fully connected layers\n",
    "model.add(Dense(64, activation=tf.nn.relu))\n",
    "model.add(Dropout(0.2))\n",
    "model.add(Dense(7,activation=tf.nn.softmax)) "
   ]
  },
  {
   "cell_type": "markdown",
   "metadata": {},
   "source": [
    "# Network Parameters\n",
    "\n",
    "Next, you need to define the network parameters. Firstly, you define the number of inputs. This is 2304 since the image is initially loaded as a 2304-dimensional vector. Later, you will see that how you will reshape the 2304-dimensional vector to a 48 x 48 x 1 matrix. Secondly, you'll also define the number of classes, which is nothing else than the number of class labels.here 7"
   ]
  },
  {
   "cell_type": "code",
   "execution_count": 100,
   "metadata": {},
   "outputs": [],
   "source": [
    "#Compile the model\n",
    "optimizer = 'adam'\n",
    "model.compile(optimizer=optimizer, loss='categorical_crossentropy', metrics=['accuracy']) "
   ]
  },
  {
   "cell_type": "code",
   "execution_count": 101,
   "metadata": {},
   "outputs": [
    {
     "name": "stdout",
     "output_type": "stream",
     "text": [
      "Model: \"sequential_7\"\n",
      "_________________________________________________________________\n",
      "Layer (type)                 Output Shape              Param #   \n",
      "=================================================================\n",
      "conv2d_12 (Conv2D)           (None, 44, 44, 32)        832       \n",
      "_________________________________________________________________\n",
      "max_pooling2d_12 (MaxPooling (None, 22, 22, 32)        0         \n",
      "_________________________________________________________________\n",
      "conv2d_13 (Conv2D)           (None, 18, 18, 64)        51264     \n",
      "_________________________________________________________________\n",
      "max_pooling2d_13 (MaxPooling (None, 9, 9, 64)          0         \n",
      "_________________________________________________________________\n",
      "flatten_6 (Flatten)          (None, 5184)              0         \n",
      "_________________________________________________________________\n",
      "dense_12 (Dense)             (None, 64)                331840    \n",
      "_________________________________________________________________\n",
      "dropout_6 (Dropout)          (None, 64)                0         \n",
      "_________________________________________________________________\n",
      "dense_13 (Dense)             (None, 7)                 455       \n",
      "=================================================================\n",
      "Total params: 384,391\n",
      "Trainable params: 384,391\n",
      "Non-trainable params: 0\n",
      "_________________________________________________________________\n"
     ]
    }
   ],
   "source": [
    "model.summary() "
   ]
  },
  {
   "cell_type": "code",
   "execution_count": 103,
   "metadata": {},
   "outputs": [
    {
     "name": "stdout",
     "output_type": "stream",
     "text": [
      "Epoch 1/10\n",
      "288/288 [==============================] - 70s 244ms/step - loss: 1.6853 - accuracy: 0.3340 - val_loss: 1.5071 - val_accuracy: 0.4210\n",
      "Epoch 2/10\n",
      "288/288 [==============================] - 74s 255ms/step - loss: 1.4749 - accuracy: 0.4324 - val_loss: 1.4175 - val_accuracy: 0.4494\n",
      "Epoch 3/10\n",
      "288/288 [==============================] - 73s 252ms/step - loss: 1.3668 - accuracy: 0.4745 - val_loss: 1.3952 - val_accuracy: 0.4600\n",
      "Epoch 4/10\n",
      "288/288 [==============================] - 72s 250ms/step - loss: 1.2910 - accuracy: 0.5034 - val_loss: 1.3487 - val_accuracy: 0.4926\n",
      "Epoch 5/10\n",
      "288/288 [==============================] - 71s 247ms/step - loss: 1.2302 - accuracy: 0.5324 - val_loss: 1.3115 - val_accuracy: 0.4987\n",
      "Epoch 6/10\n",
      "288/288 [==============================] - 72s 249ms/step - loss: 1.1529 - accuracy: 0.5629 - val_loss: 1.2930 - val_accuracy: 0.5049\n",
      "Epoch 7/10\n",
      "288/288 [==============================] - 71s 248ms/step - loss: 1.0868 - accuracy: 0.5928 - val_loss: 1.2949 - val_accuracy: 0.5077\n",
      "Epoch 8/10\n",
      "288/288 [==============================] - 72s 252ms/step - loss: 1.0213 - accuracy: 0.6152 - val_loss: 1.3162 - val_accuracy: 0.5013\n",
      "Epoch 9/10\n",
      "288/288 [==============================] - 73s 252ms/step - loss: 0.9576 - accuracy: 0.6382 - val_loss: 1.3565 - val_accuracy: 0.5013\n",
      "Epoch 10/10\n",
      "288/288 [==============================] - 73s 252ms/step - loss: 0.8833 - accuracy: 0.6727 - val_loss: 1.3774 - val_accuracy: 0.5174\n"
     ]
    }
   ],
   "source": [
    "l = model.fit(x=X,y=Y,validation_data = (X_test, Y_test), batch_size=100,epochs=10) "
   ]
  },
  {
   "cell_type": "markdown",
   "metadata": {},
   "source": [
    "# Evaluate Model"
   ]
  },
  {
   "cell_type": "code",
   "execution_count": 104,
   "metadata": {},
   "outputs": [
    {
     "name": "stdout",
     "output_type": "stream",
     "text": [
      "Evaluate on test data\n",
      "113/113 [==============================] - 3s 23ms/step - loss: 1.3774 - accuracy: 0.5174\n",
      "test loss, test acc: [1.3774218559265137, 0.5174143314361572]\n"
     ]
    }
   ],
   "source": [
    "# Evaluate the model on the test data using `evaluate`\n",
    "print(\"Evaluate on test data\")\n",
    "results = model.evaluate(X_test, Y_test)\n",
    "print(\"test loss, test acc:\", results)"
   ]
  },
  {
   "cell_type": "code",
   "execution_count": 105,
   "metadata": {},
   "outputs": [
    {
     "data": {
      "text/plain": [
       "{'loss': [1.6853328943252563,\n",
       "  1.4749324321746826,\n",
       "  1.3667538166046143,\n",
       "  1.2909959554672241,\n",
       "  1.2301756143569946,\n",
       "  1.152944564819336,\n",
       "  1.0867840051651,\n",
       "  1.0212585926055908,\n",
       "  0.957560658454895,\n",
       "  0.8833183646202087],\n",
       " 'accuracy': [0.33400675654411316,\n",
       "  0.432407945394516,\n",
       "  0.4744853675365448,\n",
       "  0.5033613443374634,\n",
       "  0.5323765873908997,\n",
       "  0.5628548264503479,\n",
       "  0.5928454399108887,\n",
       "  0.615242600440979,\n",
       "  0.6382319331169128,\n",
       "  0.6727159023284912],\n",
       " 'val_loss': [1.507125735282898,\n",
       "  1.4175432920455933,\n",
       "  1.3952341079711914,\n",
       "  1.3486928939819336,\n",
       "  1.31150484085083,\n",
       "  1.2929617166519165,\n",
       "  1.2948983907699585,\n",
       "  1.3162387609481812,\n",
       "  1.3564549684524536,\n",
       "  1.377421259880066],\n",
       " 'val_accuracy': [0.4210086464881897,\n",
       "  0.4494287967681885,\n",
       "  0.46001672744750977,\n",
       "  0.49261632561683655,\n",
       "  0.4987461566925049,\n",
       "  0.5048760175704956,\n",
       "  0.507662296295166,\n",
       "  0.5012538433074951,\n",
       "  0.5012538433074951,\n",
       "  0.5174143314361572]}"
      ]
     },
     "execution_count": 105,
     "metadata": {},
     "output_type": "execute_result"
    }
   ],
   "source": [
    "l.history"
   ]
  },
  {
   "cell_type": "code",
   "execution_count": 106,
   "metadata": {},
   "outputs": [
    {
     "data": {
      "image/png": "[encoded data removed]",
      "text/plain": [
       "<Figure size 432x288 with 1 Axes>"
      ]
     },
     "metadata": {
      "needs_background": "light"
     },
     "output_type": "display_data"
    }
   ],
   "source": [
    "import seaborn as sns\n",
    "df_history = pd.DataFrame(l.history)\n",
    "sns.lineplot(data=df_history[['accuracy','val_accuracy']], palette=\"tab10\", linewidth=2.5);"
   ]
  },
  {
   "cell_type": "markdown",
   "metadata": {},
   "source": [
    "# Predict"
   ]
  },
  {
   "cell_type": "code",
   "execution_count": 107,
   "metadata": {},
   "outputs": [],
   "source": [
    "# load test data and make prediction\n",
    "y_pred= model.predict(X_test)"
   ]
  },
  {
   "cell_type": "code",
   "execution_count": 108,
   "metadata": {},
   "outputs": [],
   "source": [
    "# convert prediction to df\n",
    "submission = pd.DataFrame(data=y_pred)\n",
    "\n",
    "# set label as the 0-6 class with highest value \n",
    "submission['Label'] = submission.idxmax(axis=1)\n",
    "submission['ImageId'] = np.asarray([i+1 for i in range(submission.shape[0])])"
   ]
  },
  {
   "cell_type": "code",
   "execution_count": 109,
   "metadata": {},
   "outputs": [
    {
     "data": {
      "text/html": [
       "<div>\n",
       "<style scoped>\n",
       "    .dataframe tbody tr th:only-of-type {\n",
       "        vertical-align: middle;\n",
       "    }\n",
       "\n",
       "    .dataframe tbody tr th {\n",
       "        vertical-align: top;\n",
       "    }\n",
       "\n",
       "    .dataframe thead th {\n",
       "        text-align: right;\n",
       "    }\n",
       "</style>\n",
       "<table border=\"1\" class=\"dataframe\">\n",
       "  <thead>\n",
       "    <tr style=\"text-align: right;\">\n",
       "      <th></th>\n",
       "      <th>0</th>\n",
       "      <th>1</th>\n",
       "      <th>2</th>\n",
       "      <th>3</th>\n",
       "      <th>4</th>\n",
       "      <th>5</th>\n",
       "      <th>6</th>\n",
       "      <th>Label</th>\n",
       "      <th>ImageId</th>\n",
       "    </tr>\n",
       "  </thead>\n",
       "  <tbody>\n",
       "    <tr>\n",
       "      <th>0</th>\n",
       "      <td>0.431666</td>\n",
       "      <td>0.049297</td>\n",
       "      <td>0.103845</td>\n",
       "      <td>0.015000</td>\n",
       "      <td>0.069788</td>\n",
       "      <td>0.134498</td>\n",
       "      <td>0.195907</td>\n",
       "      <td>0</td>\n",
       "      <td>1</td>\n",
       "    </tr>\n",
       "    <tr>\n",
       "      <th>1</th>\n",
       "      <td>0.048420</td>\n",
       "      <td>0.004936</td>\n",
       "      <td>0.059096</td>\n",
       "      <td>0.199386</td>\n",
       "      <td>0.664509</td>\n",
       "      <td>0.001540</td>\n",
       "      <td>0.022113</td>\n",
       "      <td>4</td>\n",
       "      <td>2</td>\n",
       "    </tr>\n",
       "    <tr>\n",
       "      <th>2</th>\n",
       "      <td>0.122297</td>\n",
       "      <td>0.000604</td>\n",
       "      <td>0.197152</td>\n",
       "      <td>0.357614</td>\n",
       "      <td>0.053312</td>\n",
       "      <td>0.142704</td>\n",
       "      <td>0.126316</td>\n",
       "      <td>3</td>\n",
       "      <td>3</td>\n",
       "    </tr>\n",
       "    <tr>\n",
       "      <th>3</th>\n",
       "      <td>0.036983</td>\n",
       "      <td>0.015570</td>\n",
       "      <td>0.121944</td>\n",
       "      <td>0.194770</td>\n",
       "      <td>0.359524</td>\n",
       "      <td>0.070863</td>\n",
       "      <td>0.200347</td>\n",
       "      <td>4</td>\n",
       "      <td>4</td>\n",
       "    </tr>\n",
       "    <tr>\n",
       "      <th>4</th>\n",
       "      <td>0.281617</td>\n",
       "      <td>0.106835</td>\n",
       "      <td>0.141429</td>\n",
       "      <td>0.003087</td>\n",
       "      <td>0.284631</td>\n",
       "      <td>0.027658</td>\n",
       "      <td>0.154743</td>\n",
       "      <td>4</td>\n",
       "      <td>5</td>\n",
       "    </tr>\n",
       "  </tbody>\n",
       "</table>\n",
       "</div>"
      ],
      "text/plain": [
       "          0         1         2         3         4         5         6  \\\n",
       "0  0.431666  0.049297  0.103845  0.015000  0.069788  0.134498  0.195907   \n",
       "1  0.048420  0.004936  0.059096  0.199386  0.664509  0.001540  0.022113   \n",
       "2  0.122297  0.000604  0.197152  0.357614  0.053312  0.142704  0.126316   \n",
       "3  0.036983  0.015570  0.121944  0.194770  0.359524  0.070863  0.200347   \n",
       "4  0.281617  0.106835  0.141429  0.003087  0.284631  0.027658  0.154743   \n",
       "\n",
       "   Label  ImageId  \n",
       "0      0        1  \n",
       "1      4        2  \n",
       "2      3        3  \n",
       "3      4        4  \n",
       "4      4        5  "
      ]
     },
     "execution_count": 109,
     "metadata": {},
     "output_type": "execute_result"
    }
   ],
   "source": [
    "submission.head()"
   ]
  },
  {
   "cell_type": "code",
   "execution_count": 110,
   "metadata": {},
   "outputs": [],
   "source": [
    "from sklearn.metrics import confusion_matrix\n",
    "cm = confusion_matrix(submission['Label'],df_PrivateTest['emotion'])"
   ]
  },
  {
   "cell_type": "code",
   "execution_count": 111,
   "metadata": {},
   "outputs": [
    {
     "name": "stdout",
     "output_type": "stream",
     "text": [
      "     0   1    2    3    4    5    6\n",
      "0  196  17   74   59   77   14   45\n",
      "1    4  18    2    0    0    0    1\n",
      "2   65   7  165   40   78   53   46\n",
      "3   55   3   47  647   71   29   74\n",
      "4   86   2  107   65  232   14  112\n",
      "5   18   0   62   17   29  285   34\n",
      "6   67   8   71   51  107   21  314\n"
     ]
    }
   ],
   "source": [
    "print(pd.DataFrame(cm))"
   ]
  },
  {
   "cell_type": "markdown",
   "metadata": {},
   "source": [
    "# Data Augmentation"
   ]
  },
  {
   "cell_type": "code",
   "execution_count": 215,
   "metadata": {},
   "outputs": [],
   "source": [
    "# data augmentation\n",
    "from keras.preprocessing.image import ImageDataGenerator\n",
    "datagen = ImageDataGenerator(featurewise_center=False,\n",
    "                        featurewise_std_normalization=False,\n",
    "                        rotation_range=10,\n",
    "                        width_shift_range=0.1,\n",
    "                        height_shift_range=0.1,\n",
    "                        zoom_range=.1,\n",
    "                        horizontal_flip=True,\n",
    "                        vertical_flip=False)\n"
   ]
  },
  {
   "cell_type": "code",
   "execution_count": 217,
   "metadata": {},
   "outputs": [],
   "source": [
    "datagen.fit(X)"
   ]
  },
  {
   "cell_type": "code",
   "execution_count": 227,
   "metadata": {},
   "outputs": [
    {
     "name": "stdout",
     "output_type": "stream",
     "text": [
      "Epoch 1/6\n",
      "288/287 [==============================] - 76s 263ms/step - loss: 1.3242 - accuracy: 0.4958 - val_loss: 1.1840 - val_accuracy: 0.5436\n",
      "Epoch 2/6\n",
      "288/287 [==============================] - 77s 269ms/step - loss: 1.3105 - accuracy: 0.4980 - val_loss: 1.1742 - val_accuracy: 0.5539\n",
      "Epoch 3/6\n",
      "288/287 [==============================] - 78s 271ms/step - loss: 1.3061 - accuracy: 0.5013 - val_loss: 1.1900 - val_accuracy: 0.5428\n",
      "Epoch 4/6\n",
      "288/287 [==============================] - 78s 271ms/step - loss: 1.3032 - accuracy: 0.5022 - val_loss: 1.1869 - val_accuracy: 0.5383\n",
      "Epoch 5/6\n",
      "288/287 [==============================] - 78s 271ms/step - loss: 1.3060 - accuracy: 0.5024 - val_loss: 1.1727 - val_accuracy: 0.5539\n",
      "Epoch 6/6\n",
      "288/287 [==============================] - 79s 275ms/step - loss: 1.3042 - accuracy: 0.5035 - val_loss: 1.1727 - val_accuracy: 0.5506\n"
     ]
    }
   ],
   "source": [
    "history1 = model.fit_generator(datagen.flow(X,Y, batch_size=100),epochs = 6, \n",
    "                                  validation_data = (X_test,Y_test),verbose = 1, \n",
    "                                  steps_per_epoch = X.shape[0] / 100,)"
   ]
  },
  {
   "cell_type": "code",
   "execution_count": 228,
   "metadata": {},
   "outputs": [
    {
     "name": "stdout",
     "output_type": "stream",
     "text": [
      "Evaluate on test data\n",
      "113/113 [==============================] - 3s 23ms/step - loss: 1.1727 - accuracy: 0.5506\n",
      "test loss, test acc: [1.17266845703125, 0.5505712032318115]\n"
     ]
    },
    {
     "data": {
      "image/png": "[encoded data removed]",
      "text/plain": [
       "<Figure size 432x288 with 1 Axes>"
      ]
     },
     "metadata": {
      "needs_background": "light"
     },
     "output_type": "display_data"
    }
   ],
   "source": [
    "import seaborn as sns\n",
    "df_history1 = pd.DataFrame(history1.history)\n",
    "sns.lineplot(data=df_history1[['accuracy','val_accuracy']], palette=\"tab10\", linewidth=2.5);\n",
    "# Evaluate the model on the test data using `evaluate`\n",
    "print(\"Evaluate on test data\")\n",
    "results = model.evaluate(X_test, Y_test)\n",
    "print(\"test loss, test acc:\", results)"
   ]
  },
  {
   "cell_type": "code",
   "execution_count": 125,
   "metadata": {},
   "outputs": [
    {
     "name": "stdout",
     "output_type": "stream",
     "text": [
      "Angry\n"
     ]
    },
    {
     "data": {
      "image/png": "[encoded data removed]",
      "text/plain": [
       "<Figure size 432x288 with 1 Axes>"
      ]
     },
     "metadata": {
      "needs_background": "light"
     },
     "output_type": "display_data"
    }
   ],
   "source": [
    "fer2013_show_instance(1)"
   ]
  },
  {
   "cell_type": "code",
   "execution_count": 211,
   "metadata": {},
   "outputs": [],
   "source": [
    "# example of horizontal flip image augmentation\n",
    "from numpy import expand_dims\n",
    "from keras.preprocessing.image import img_to_array\n",
    "from matplotlib import pyplot\n",
    "# convert to numpy array"
   ]
  },
  {
   "cell_type": "code",
   "execution_count": 226,
   "metadata": {},
   "outputs": [
    {
     "name": "stdout",
     "output_type": "stream",
     "text": [
      "Neutral\n"
     ]
    },
    {
     "data": {
      "image/png": "[encoded data removed]",
      "text/plain": [
       "<Figure size 432x288 with 1 Axes>"
      ]
     },
     "metadata": {
      "needs_background": "light"
     },
     "output_type": "display_data"
    }
   ],
   "source": [
    "image_sample = np.reshape(df_training.at[4, \"pixels\"].split(\" \"), (FER2013_WIDTH, FER2013_HEIGHT)).astype(\"float\")\n",
    "plt.imshow(image_sample, cmap=\"gray\")\n",
    "print(Emotions[df_training.at[4, \"emotion\"]])\n"
   ]
  },
  {
   "cell_type": "code",
   "execution_count": 213,
   "metadata": {},
   "outputs": [
    {
     "data": {
      "text/plain": [
       "(1, 48, 48, 1)"
      ]
     },
     "execution_count": 213,
     "metadata": {},
     "output_type": "execute_result"
    }
   ],
   "source": [
    "image_sample= image_sample.reshape(-1, 48, 48, 1)\n",
    "image_sample.shape\n"
   ]
  },
  {
   "cell_type": "code",
   "execution_count": 214,
   "metadata": {},
   "outputs": [
    {
     "data": {
      "image/png": "[encoded data removed]",
      "text/plain": [
       "<Figure size 432x288 with 9 Axes>"
      ]
     },
     "metadata": {
      "needs_background": "light"
     },
     "output_type": "display_data"
    }
   ],
   "source": [
    "# create image data augmentation generator\n",
    "datagen = ImageDataGenerator(featurewise_center=False,\n",
    "                        featurewise_std_normalization=False,\n",
    "                        rotation_range=10,\n",
    "                        width_shift_range=0.1,\n",
    "                        height_shift_range=0.1,\n",
    "                        zoom_range=.1,\n",
    "                        horizontal_flip=True,\n",
    "                        vertical_flip=False)\n",
    "# prepare iterator\n",
    "it = datagen.flow(image_sample, batch_size=1)\n",
    "# generate samples and plot\n",
    "image =[]\n",
    "for i in range(9):\n",
    "    pyplot.subplot(330 + 1 + i)\n",
    "    batch = it.next()\n",
    "    image = batch[0].astype('uint8').reshape(48,48)\n",
    "    plt.imshow(image,cmap=\"gray\")\n",
    "plt.show()"
   ]
  },
  {
   "cell_type": "code",
   "execution_count": null,
   "metadata": {},
   "outputs": [],
   "source": []
  }
 ],
 "metadata": {
  "kernelspec": {
   "display_name": "Python 3",
   "language": "python",
   "name": "python3"
  },
  "language_info": {
   "codemirror_mode": {
    "name": "ipython",
    "version": 3
   },
   "file_extension": ".py",
   "mimetype": "text/x-python",
   "name": "python",
   "nbconvert_exporter": "python",
   "pygments_lexer": "ipython3",
   "version": "3.7.3"
  }
 },
 "nbformat": 4,
 "nbformat_minor": 4
}
