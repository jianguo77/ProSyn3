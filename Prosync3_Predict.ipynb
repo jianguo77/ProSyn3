{
 "cells": [
  {
   "cell_type": "markdown",
   "metadata": {},
   "source": [
    "# Enter your name"
   ]
  },
  {
   "cell_type": "code",
   "execution_count": 21,
   "metadata": {},
   "outputs": [
    {
     "name": "stdout",
     "output_type": "stream",
     "text": [
      "Amardeep\n"
     ]
    }
   ],
   "source": [
    "#input the neme of the User\n",
    "user = input()\n",
    "user = str(user)"
   ]
  },
  {
   "cell_type": "code",
   "execution_count": 22,
   "metadata": {},
   "outputs": [
    {
     "data": {
      "text/plain": [
       "<function destroyAllWindows>"
      ]
     },
     "execution_count": 22,
     "metadata": {},
     "output_type": "execute_result"
    }
   ],
   "source": [
    "import numpy as np\n",
    "import time as t\n",
    "import winsound\n",
    "from keras.preprocessing import image\n",
    "from keras.models import model_from_json\n",
    "\n",
    "#load model\n",
    "model = model_from_json(open(\"C:\\\\Users\\\\Nisha Haulkhory\\\\projet de synthese\\\\fer.json\", \"r\").read())\n",
    "#load weights\n",
    "model.load_weights('C:\\\\Users\\\\Nisha Haulkhory\\\\projet de synthese\\\\fer.h5')\n",
    "\n",
    "import cv2\n",
    "# Load the cascade\n",
    "face_haar_cascade = cv2.CascadeClassifier('C:\\\\Users\\\\Nisha Haulkhory\\\\projet de synthese\\\\haarcascade_frontalface_default.xml')\n",
    "cap=cv2.VideoCapture(0)\n",
    "u = []\n",
    "data = []\n",
    "im = []\n",
    "classification = []\n",
    "while True:\n",
    "    ret,test_img=cap.read()# captures frame and returns boolean value and captured image\n",
    "    if not ret:\n",
    "        continue\n",
    "    gray_img= cv2.cvtColor(test_img, cv2.COLOR_BGR2GRAY)\n",
    "\n",
    "    faces_detected = face_haar_cascade.detectMultiScale(gray_img, 1.32, 5)\n",
    "    \n",
    "    for (x,y,w,h) in faces_detected:\n",
    "        \n",
    "        cv2.rectangle(test_img,(x,y),(x+w,y+h),(255,0,0),thickness=7)\n",
    "        roi_gray=gray_img[y:y+w,x:x+h]#cropping region of interest i.e. face area from  image\n",
    "        roi_gray1=cv2.resize(roi_gray,(48,48))\n",
    "        img_pixels = image.img_to_array(roi_gray1)\n",
    "        img_pixels = np.expand_dims(img_pixels, axis = 0)\n",
    "        img_pixels /= 255\n",
    "        im.append(roi_gray1)\n",
    "        predictions = model.predict(img_pixels)   \n",
    "        \n",
    "\n",
    "        #find max indexed array\n",
    "        max_index = np.argmax(predictions[0])\n",
    "        emotions = ('angry', 'disgust', 'fear', 'happy', 'sad', 'surprise', 'neutral')\n",
    "        predicted_emotion = emotions[max_index]\n",
    "        classification.append(predicted_emotion)\n",
    "        u.append(str(user))\n",
    "        cv2.putText(test_img, user +\" is \" + predicted_emotion , (int(x), int(y)), cv2.FONT_HERSHEY_SIMPLEX, 1, (0,0,255), 2)\n",
    "        #eyes = eye_cascade.detectMultiScale(roi_gray)\n",
    "        #for (ex,ey,ew,eh) in eyes:\n",
    "            #cv2.rectangle(roi_color,(ex,ey),(ex+ew,ey+eh),(0,255,0),2)\n",
    "    resized_img = cv2.resize(test_img, (1000, 700))\n",
    "    #cv2.imshow('Facial emotion analysis',resized_img)\n",
    "    # Window name in which image is displayed \n",
    "    window_name = 'Facial Emotion analysis'\n",
    "\n",
    "    # text \n",
    "    text = 'Emotion analysis Detector - Powered by ProSyn3'\n",
    "    text1 = 'Press q to stop Capture'\n",
    "\n",
    "    # font \n",
    "    font = cv2.FONT_HERSHEY_SIMPLEX \n",
    "\n",
    "    # org \n",
    "    org = (50, 50)\n",
    "    org1 = (50, 600)\n",
    "\n",
    "    # fontScale \n",
    "    fontScale = 1\n",
    "\n",
    "    # Red color in BGR \n",
    "    color = (0, 0, 255) \n",
    "\n",
    "    # Line thickness of 2 px \n",
    "    thickness = 2\n",
    "\n",
    "    # Using cv2.putText() method \n",
    "    resized_img = cv2.putText(resized_img, text, org, font, fontScale,  \n",
    "                     color, thickness, cv2.LINE_AA, False)\n",
    "    resized_img = cv2.putText(resized_img, text1, org1, font, fontScale,  \n",
    "                 color, thickness, cv2.LINE_AA, False) \n",
    "\n",
    "    # Using cv2.putText() method \n",
    "    #resized_img = cv2.putText(resized_img, text, org, font, fontScale, \n",
    "                      #color, thickness, cv2.LINE_AA, True)\n",
    "    #cv2.putText(resized_img, \"ProSyn3\" , (int(x), int(y)), cv2.FONT_HERSHEY_SIMPLEX, 1, (0,0,255), 2)\n",
    "    cv2.imshow(window_name,resized_img)\n",
    "    \n",
    "   \n",
    "    if cv2.waitKey(10) == ord('q'):#wait until 'q' key is pressed\n",
    "        break\n",
    "\n",
    "cap.release()\n",
    "cv2.destroyAllWindows"
   ]
  },
  {
   "cell_type": "markdown",
   "metadata": {},
   "source": [
    "# Saving data in DataFrame"
   ]
  },
  {
   "cell_type": "code",
   "execution_count": 25,
   "metadata": {},
   "outputs": [],
   "source": [
    "import pandas as pd\n",
    "\n",
    "df = pd.DataFrame(list(zip(im,classification,u)), \n",
    "               columns =['Pixel' ,'Emotions','User']) "
   ]
  },
  {
   "cell_type": "code",
   "execution_count": 26,
   "metadata": {},
   "outputs": [
    {
     "data": {
      "text/html": [
       "<div>\n",
       "<style scoped>\n",
       "    .dataframe tbody tr th:only-of-type {\n",
       "        vertical-align: middle;\n",
       "    }\n",
       "\n",
       "    .dataframe tbody tr th {\n",
       "        vertical-align: top;\n",
       "    }\n",
       "\n",
       "    .dataframe thead th {\n",
       "        text-align: right;\n",
       "    }\n",
       "</style>\n",
       "<table border=\"1\" class=\"dataframe\">\n",
       "  <thead>\n",
       "    <tr style=\"text-align: right;\">\n",
       "      <th></th>\n",
       "      <th>Pixel</th>\n",
       "      <th>Emotions</th>\n",
       "      <th>User</th>\n",
       "    </tr>\n",
       "  </thead>\n",
       "  <tbody>\n",
       "    <tr>\n",
       "      <th>0</th>\n",
       "      <td>[[149, 147, 142, 135, 109, 82, 49, 36, 33, 30,...</td>\n",
       "      <td>neutral</td>\n",
       "      <td>Amardeep</td>\n",
       "    </tr>\n",
       "    <tr>\n",
       "      <th>1</th>\n",
       "      <td>[[154, 155, 156, 153, 153, 171, 152, 162, 120,...</td>\n",
       "      <td>neutral</td>\n",
       "      <td>Amardeep</td>\n",
       "    </tr>\n",
       "    <tr>\n",
       "      <th>2</th>\n",
       "      <td>[[155, 155, 153, 155, 164, 223, 249, 212, 116,...</td>\n",
       "      <td>neutral</td>\n",
       "      <td>Amardeep</td>\n",
       "    </tr>\n",
       "    <tr>\n",
       "      <th>3</th>\n",
       "      <td>[[153, 154, 155, 155, 158, 173, 225, 248, 230,...</td>\n",
       "      <td>neutral</td>\n",
       "      <td>Amardeep</td>\n",
       "    </tr>\n",
       "    <tr>\n",
       "      <th>4</th>\n",
       "      <td>[[162, 162, 159, 190, 185, 171, 104, 60, 42, 4...</td>\n",
       "      <td>neutral</td>\n",
       "      <td>Amardeep</td>\n",
       "    </tr>\n",
       "  </tbody>\n",
       "</table>\n",
       "</div>"
      ],
      "text/plain": [
       "                                               Pixel Emotions      User\n",
       "0  [[149, 147, 142, 135, 109, 82, 49, 36, 33, 30,...  neutral  Amardeep\n",
       "1  [[154, 155, 156, 153, 153, 171, 152, 162, 120,...  neutral  Amardeep\n",
       "2  [[155, 155, 153, 155, 164, 223, 249, 212, 116,...  neutral  Amardeep\n",
       "3  [[153, 154, 155, 155, 158, 173, 225, 248, 230,...  neutral  Amardeep\n",
       "4  [[162, 162, 159, 190, 185, 171, 104, 60, 42, 4...  neutral  Amardeep"
      ]
     },
     "execution_count": 26,
     "metadata": {},
     "output_type": "execute_result"
    }
   ],
   "source": [
    "df.head()"
   ]
  },
  {
   "cell_type": "code",
   "execution_count": null,
   "metadata": {},
   "outputs": [],
   "source": []
  }
 ],
 "metadata": {
  "kernelspec": {
   "display_name": "Python 3",
   "language": "python",
   "name": "python3"
  },
  "language_info": {
   "codemirror_mode": {
    "name": "ipython",
    "version": 3
   },
   "file_extension": ".py",
   "mimetype": "text/x-python",
   "name": "python",
   "nbconvert_exporter": "python",
   "pygments_lexer": "ipython3",
   "version": "3.7.3"
  }
 },
 "nbformat": 4,
 "nbformat_minor": 2
}
