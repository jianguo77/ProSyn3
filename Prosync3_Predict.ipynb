{
 "cells": [
  {
   "cell_type": "markdown",
   "metadata": {},
   "source": [
    "# Enter your name"
   ]
  },
  {
   "cell_type": "code",
   "execution_count": 31,
   "metadata": {},
   "outputs": [
    {
     "name": "stdout",
     "output_type": "stream",
     "text": [
      "Donald\n"
     ]
    }
   ],
   "source": [
    "#input the neme of the User\n",
    "user = input()\n",
    "user = str(user)"
   ]
  },
  {
   "cell_type": "code",
   "execution_count": 34,
   "metadata": {},
   "outputs": [
    {
     "data": {
      "text/plain": [
       "<function destroyAllWindows>"
      ]
     },
     "execution_count": 34,
     "metadata": {},
     "output_type": "execute_result"
    }
   ],
   "source": [
    "import numpy as np\n",
    "import pandas as pd \n",
    "import datetime\n",
    "import time as t\n",
    "from keras.preprocessing import image\n",
    "from keras.models import model_from_json\n",
    "\n",
    "#load model\n",
    "model = model_from_json(open(\"C:\\\\Users\\\\Nisha Haulkhory\\\\projet de synthese\\\\GIT\\\\ProSyn3\\\\fer.json\", \"r\").read())\n",
    "#load weights\n",
    "model.load_weights(\"C:\\\\Users\\\\Nisha Haulkhory\\\\projet de synthese\\\\GIT\\\\ProSyn3\\\\fer.h5\")\n",
    "\n",
    "import cv2\n",
    "# Load the cascade\n",
    "face_haar_cascade = cv2.CascadeClassifier('C:\\\\Users\\\\Nisha Haulkhory\\\\projet de synthese\\\\haarcascade_frontalface_default.xml')\n",
    "cap=cv2.VideoCapture(0)\n",
    "u = []\n",
    "data = []\n",
    "im = []\n",
    "classification = []\n",
    "time=[]\n",
    "while True:\n",
    "    ret,test_img=cap.read()# captures frame and returns boolean value and captured image\n",
    "    if not ret:\n",
    "        continue\n",
    "    gray_img= cv2.cvtColor(test_img, cv2.COLOR_BGR2GRAY)\n",
    "\n",
    "    faces_detected = face_haar_cascade.detectMultiScale(gray_img, 1.32, 5)\n",
    "    \n",
    "    for (x,y,w,h) in faces_detected:\n",
    "        \n",
    "        cv2.rectangle(test_img,(x,y),(x+w,y+h),(255,0,0),thickness=7)\n",
    "        roi_gray=gray_img[y:y+w,x:x+h]#cropping region of interest i.e. face area from  image\n",
    "        roi_gray1=cv2.resize(roi_gray,(48,48))\n",
    "        img_pixels = image.img_to_array(roi_gray1)\n",
    "        img_pixels = np.expand_dims(img_pixels, axis = 0)\n",
    "        img_pixels /= 255\n",
    "        im.append(roi_gray1)\n",
    "        predictions = model.predict(img_pixels)   \n",
    "        \n",
    "\n",
    "        #find max indexed array\n",
    "        max_index = np.argmax(predictions[0])\n",
    "        emotions = ('angry', 'disgust', 'fear', 'happy', 'sad', 'surprise', 'neutral')\n",
    "        predicted_emotion = emotions[max_index]\n",
    "        classification.append(predicted_emotion)\n",
    "        u.append(str(user))\n",
    "        time.append(datetime.datetime.now())\n",
    "        cv2.putText(test_img, user +\" is \" + predicted_emotion , (int(x), int(y)), cv2.FONT_HERSHEY_SIMPLEX, 1, (0,0,255), 2)\n",
    "        #eyes = eye_cascade.detectMultiScale(roi_gray)\n",
    "        #for (ex,ey,ew,eh) in eyes:\n",
    "            #cv2.rectangle(roi_color,(ex,ey),(ex+ew,ey+eh),(0,255,0),2)\n",
    "    resized_img = cv2.resize(test_img, (1000, 700))\n",
    "    #cv2.imshow('Facial emotion analysis',resized_img)\n",
    "    # Window name in which image is displayed \n",
    "    window_name = 'Facial Emotion analysis'\n",
    "\n",
    "    # text \n",
    "    text = 'Emotion analysis Detector - Powered by ProSyn3'\n",
    "    text1 = 'Press q to stop Capture'\n",
    "\n",
    "    # font \n",
    "    font = cv2.FONT_HERSHEY_SIMPLEX \n",
    "\n",
    "    # org \n",
    "    org = (50, 50)\n",
    "    org1 = (50, 600)\n",
    "\n",
    "    # fontScale \n",
    "    fontScale = 1\n",
    "\n",
    "    # Red color in BGR \n",
    "    color = (0, 0, 255) \n",
    "\n",
    "    # Line thickness of 2 px \n",
    "    thickness = 2\n",
    "\n",
    "    # Using cv2.putText() method \n",
    "    resized_img = cv2.putText(resized_img, text, org, font, fontScale,  \n",
    "                     color, thickness, cv2.LINE_AA, False)\n",
    "    resized_img = cv2.putText(resized_img, text1, org1, font, fontScale,  \n",
    "                 color, thickness, cv2.LINE_AA, False) \n",
    "\n",
    "    # Using cv2.putText() method \n",
    "    #resized_img = cv2.putText(resized_img, text, org, font, fontScale, \n",
    "                      #color, thickness, cv2.LINE_AA, True)\n",
    "    #cv2.putText(resized_img, \"ProSyn3\" , (int(x), int(y)), cv2.FONT_HERSHEY_SIMPLEX, 1, (0,0,255), 2)\n",
    "    cv2.imshow(window_name,resized_img)\n",
    "    \n",
    "   \n",
    "    if cv2.waitKey(10) == ord('q'):#wait until 'q' key is pressed\n",
    "        break\n",
    "\n",
    "cap.release()\n",
    "cv2.destroyAllWindows"
   ]
  },
  {
   "cell_type": "markdown",
   "metadata": {},
   "source": [
    "# Saving data in DataFrame"
   ]
  },
  {
   "cell_type": "code",
   "execution_count": 39,
   "metadata": {},
   "outputs": [],
   "source": [
    "import pandas as pd\n",
    "\n",
    "df = pd.DataFrame(list(zip(im,classification,u, time)), \n",
    "               columns =['Pixel' ,'Emotions','User', 'Timestamp']) "
   ]
  },
  {
   "cell_type": "code",
   "execution_count": 40,
   "metadata": {},
   "outputs": [
    {
     "data": {
      "text/html": [
       "<div>\n",
       "<style scoped>\n",
       "    .dataframe tbody tr th:only-of-type {\n",
       "        vertical-align: middle;\n",
       "    }\n",
       "\n",
       "    .dataframe tbody tr th {\n",
       "        vertical-align: top;\n",
       "    }\n",
       "\n",
       "    .dataframe thead th {\n",
       "        text-align: right;\n",
       "    }\n",
       "</style>\n",
       "<table border=\"1\" class=\"dataframe\">\n",
       "  <thead>\n",
       "    <tr style=\"text-align: right;\">\n",
       "      <th></th>\n",
       "      <th>Pixel</th>\n",
       "      <th>Emotions</th>\n",
       "      <th>User</th>\n",
       "      <th>Timestamp</th>\n",
       "    </tr>\n",
       "  </thead>\n",
       "  <tbody>\n",
       "    <tr>\n",
       "      <th>0</th>\n",
       "      <td>[[33, 26, 65, 36, 35, 36, 34, 30, 26, 23, 16, ...</td>\n",
       "      <td>angry</td>\n",
       "      <td>Donald</td>\n",
       "      <td>2020-09-25 23:02:09.794541</td>\n",
       "    </tr>\n",
       "    <tr>\n",
       "      <th>1</th>\n",
       "      <td>[[32, 32, 29, 35, 39, 41, 39, 26, 25, 24, 19, ...</td>\n",
       "      <td>angry</td>\n",
       "      <td>Donald</td>\n",
       "      <td>2020-09-25 23:02:09.964237</td>\n",
       "    </tr>\n",
       "    <tr>\n",
       "      <th>2</th>\n",
       "      <td>[[128, 127, 127, 125, 124, 95, 33, 27, 25, 23,...</td>\n",
       "      <td>angry</td>\n",
       "      <td>Donald</td>\n",
       "      <td>2020-09-25 23:02:10.156183</td>\n",
       "    </tr>\n",
       "    <tr>\n",
       "      <th>3</th>\n",
       "      <td>[[128, 129, 154, 146, 142, 143, 127, 117, 46, ...</td>\n",
       "      <td>sad</td>\n",
       "      <td>Donald</td>\n",
       "      <td>2020-09-25 23:02:10.236401</td>\n",
       "    </tr>\n",
       "    <tr>\n",
       "      <th>4</th>\n",
       "      <td>[[183, 220, 213, 215, 215, 211, 175, 115, 87, ...</td>\n",
       "      <td>sad</td>\n",
       "      <td>Donald</td>\n",
       "      <td>2020-09-25 23:02:10.353311</td>\n",
       "    </tr>\n",
       "  </tbody>\n",
       "</table>\n",
       "</div>"
      ],
      "text/plain": [
       "                                               Pixel Emotions    User  \\\n",
       "0  [[33, 26, 65, 36, 35, 36, 34, 30, 26, 23, 16, ...    angry  Donald   \n",
       "1  [[32, 32, 29, 35, 39, 41, 39, 26, 25, 24, 19, ...    angry  Donald   \n",
       "2  [[128, 127, 127, 125, 124, 95, 33, 27, 25, 23,...    angry  Donald   \n",
       "3  [[128, 129, 154, 146, 142, 143, 127, 117, 46, ...      sad  Donald   \n",
       "4  [[183, 220, 213, 215, 215, 211, 175, 115, 87, ...      sad  Donald   \n",
       "\n",
       "                   Timestamp  \n",
       "0 2020-09-25 23:02:09.794541  \n",
       "1 2020-09-25 23:02:09.964237  \n",
       "2 2020-09-25 23:02:10.156183  \n",
       "3 2020-09-25 23:02:10.236401  \n",
       "4 2020-09-25 23:02:10.353311  "
      ]
     },
     "execution_count": 40,
     "metadata": {},
     "output_type": "execute_result"
    }
   ],
   "source": [
    "df.head()"
   ]
  },
  {
   "cell_type": "code",
   "execution_count": 41,
   "metadata": {},
   "outputs": [],
   "source": [
    "df.to_csv(\"C:\\\\Users\\\\Nisha Haulkhory\\\\projet de synthese\\\\GIT\\\\ProSyn3\\\\outputcamera.csv\")"
   ]
  },
  {
   "cell_type": "code",
   "execution_count": 42,
   "metadata": {},
   "outputs": [
    {
     "name": "stdout",
     "output_type": "stream",
     "text": [
      "2020-09-25 23:02:26.837982\n"
     ]
    }
   ],
   "source": [
    "import pandas as pd \n",
    "import datetime\n",
    "print(datetime.datetime.now())"
   ]
  },
  {
   "cell_type": "code",
   "execution_count": null,
   "metadata": {},
   "outputs": [],
   "source": []
  }
 ],
 "metadata": {
  "kernelspec": {
   "display_name": "Python 3",
   "language": "python",
   "name": "python3"
  },
  "language_info": {
   "codemirror_mode": {
    "name": "ipython",
    "version": 3
   },
   "file_extension": ".py",
   "mimetype": "text/x-python",
   "name": "python",
   "nbconvert_exporter": "python",
   "pygments_lexer": "ipython3",
   "version": "3.7.3"
  }
 },
 "nbformat": 4,
 "nbformat_minor": 2
}
