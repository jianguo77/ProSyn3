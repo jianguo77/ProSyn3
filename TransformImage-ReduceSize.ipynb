{
 "cells": [
  {
   "cell_type": "code",
   "execution_count": 1,
   "metadata": {},
   "outputs": [],
   "source": [
    "import cv2\n",
    "import numpy as np \n",
    "import os\n",
    "import pandas as pd "
   ]
  },
  {
   "cell_type": "code",
   "execution_count": 2,
   "metadata": {},
   "outputs": [],
   "source": [
    "folder = \"C:/Users/Hilaire Yuma/Documents/Bois de boulogne/Cours420-A62_ProjetdeSynthese/Datasets\"\n",
    "ImgFile = ''"
   ]
  },
  {
   "cell_type": "code",
   "execution_count": 5,
   "metadata": {},
   "outputs": [
    {
     "name": "stdout",
     "output_type": "stream",
     "text": [
      "(24, 9)\n"
     ]
    },
    {
     "data": {
      "text/html": [
       "<div>\n",
       "<style scoped>\n",
       "    .dataframe tbody tr th:only-of-type {\n",
       "        vertical-align: middle;\n",
       "    }\n",
       "\n",
       "    .dataframe tbody tr th {\n",
       "        vertical-align: top;\n",
       "    }\n",
       "\n",
       "    .dataframe thead th {\n",
       "        text-align: right;\n",
       "    }\n",
       "</style>\n",
       "<table border=\"1\" class=\"dataframe\">\n",
       "  <thead>\n",
       "    <tr style=\"text-align: right;\">\n",
       "      <th></th>\n",
       "      <th>Name</th>\n",
       "      <th>ah</th>\n",
       "      <th>av</th>\n",
       "      <th>bh</th>\n",
       "      <th>bv</th>\n",
       "      <th>ch</th>\n",
       "      <th>cv</th>\n",
       "      <th>dh</th>\n",
       "      <th>dv</th>\n",
       "    </tr>\n",
       "  </thead>\n",
       "  <tbody>\n",
       "    <tr>\n",
       "      <th>0</th>\n",
       "      <td>hyImg_0.jpg</td>\n",
       "      <td>273</td>\n",
       "      <td>28</td>\n",
       "      <td>460</td>\n",
       "      <td>28</td>\n",
       "      <td>273</td>\n",
       "      <td>239</td>\n",
       "      <td>460</td>\n",
       "      <td>239</td>\n",
       "    </tr>\n",
       "  </tbody>\n",
       "</table>\n",
       "</div>"
      ],
      "text/plain": [
       "          Name   ah  av   bh  bv   ch   cv   dh   dv\n",
       "0  hyImg_0.jpg  273  28  460  28  273  239  460  239"
      ]
     },
     "execution_count": 5,
     "metadata": {},
     "output_type": "execute_result"
    }
   ],
   "source": [
    "df = pd.read_csv(folder +\"/photosList.csv\")\n",
    "print(df.shape)\n",
    "df.head(1)"
   ]
  },
  {
   "cell_type": "code",
   "execution_count": 6,
   "metadata": {},
   "outputs": [],
   "source": [
    "width, heigth = 480,480"
   ]
  },
  {
   "cell_type": "code",
   "execution_count": 21,
   "metadata": {},
   "outputs": [
    {
     "name": "stdout",
     "output_type": "stream",
     "text": [
      "C:/Users/Hilaire Yuma/Documents/Bois de boulogne/Cours420-A62_ProjetdeSynthese/Datasets/Resize/hyImg_0.jpg successfully saved\n",
      "C:/Users/Hilaire Yuma/Documents/Bois de boulogne/Cours420-A62_ProjetdeSynthese/Datasets/Resize/hyImg_1.jpg successfully saved\n",
      "C:/Users/Hilaire Yuma/Documents/Bois de boulogne/Cours420-A62_ProjetdeSynthese/Datasets/Resize/hyImg_2.jpg successfully saved\n",
      "C:/Users/Hilaire Yuma/Documents/Bois de boulogne/Cours420-A62_ProjetdeSynthese/Datasets/Resize/hyImg_3.jpg successfully saved\n",
      "C:/Users/Hilaire Yuma/Documents/Bois de boulogne/Cours420-A62_ProjetdeSynthese/Datasets/Resize/hyImg_4.jpg successfully saved\n",
      "C:/Users/Hilaire Yuma/Documents/Bois de boulogne/Cours420-A62_ProjetdeSynthese/Datasets/Resize/hyImg_6.jpg successfully saved\n",
      "C:/Users/Hilaire Yuma/Documents/Bois de boulogne/Cours420-A62_ProjetdeSynthese/Datasets/Resize/hyImg_7.jpg successfully saved\n",
      "C:/Users/Hilaire Yuma/Documents/Bois de boulogne/Cours420-A62_ProjetdeSynthese/Datasets/Resize/hyImg_8.jpg successfully saved\n",
      "C:/Users/Hilaire Yuma/Documents/Bois de boulogne/Cours420-A62_ProjetdeSynthese/Datasets/Resize/hyImg_9.jpg successfully saved\n",
      "C:/Users/Hilaire Yuma/Documents/Bois de boulogne/Cours420-A62_ProjetdeSynthese/Datasets/Resize/Kirezi_1.jpg successfully saved\n",
      "C:/Users/Hilaire Yuma/Documents/Bois de boulogne/Cours420-A62_ProjetdeSynthese/Datasets/Resize/Kirezi_2.jpg successfully saved\n",
      "C:/Users/Hilaire Yuma/Documents/Bois de boulogne/Cours420-A62_ProjetdeSynthese/Datasets/Resize/Kirezi_3.jpg successfully saved\n",
      "C:/Users/Hilaire Yuma/Documents/Bois de boulogne/Cours420-A62_ProjetdeSynthese/Datasets/Resize/Kirezi_5.jpg successfully saved\n",
      "C:/Users/Hilaire Yuma/Documents/Bois de boulogne/Cours420-A62_ProjetdeSynthese/Datasets/Resize/Kirezi_7.jpg successfully saved\n",
      "C:/Users/Hilaire Yuma/Documents/Bois de boulogne/Cours420-A62_ProjetdeSynthese/Datasets/Resize/Kirezi_8.jpg successfully saved\n",
      "C:/Users/Hilaire Yuma/Documents/Bois de boulogne/Cours420-A62_ProjetdeSynthese/Datasets/Resize/Kirezi_9.jpg successfully saved\n",
      "C:/Users/Hilaire Yuma/Documents/Bois de boulogne/Cours420-A62_ProjetdeSynthese/Datasets/Resize/Luis_0.jpg successfully saved\n",
      "C:/Users/Hilaire Yuma/Documents/Bois de boulogne/Cours420-A62_ProjetdeSynthese/Datasets/Resize/Luis_1.jpg successfully saved\n",
      "C:/Users/Hilaire Yuma/Documents/Bois de boulogne/Cours420-A62_ProjetdeSynthese/Datasets/Resize/Luis_2.jpg successfully saved\n",
      "C:/Users/Hilaire Yuma/Documents/Bois de boulogne/Cours420-A62_ProjetdeSynthese/Datasets/Resize/Luis_3.jpg successfully saved\n",
      "C:/Users/Hilaire Yuma/Documents/Bois de boulogne/Cours420-A62_ProjetdeSynthese/Datasets/Resize/Luis_9.jpg successfully saved\n",
      "C:/Users/Hilaire Yuma/Documents/Bois de boulogne/Cours420-A62_ProjetdeSynthese/Datasets/Resize/pict_1.jpg successfully saved\n",
      "C:/Users/Hilaire Yuma/Documents/Bois de boulogne/Cours420-A62_ProjetdeSynthese/Datasets/Resize/pict_3.jpg successfully saved\n",
      "C:/Users/Hilaire Yuma/Documents/Bois de boulogne/Cours420-A62_ProjetdeSynthese/Datasets/Resize/pict_4.jpg successfully saved\n"
     ]
    }
   ],
   "source": [
    "for i in np.arange(df.shape[0]):\n",
    "    _Name = df['Name'][i]    \n",
    "    img = cv2.imread(folder +'/'+ _Name)\n",
    "    a1,a2,b1,b2,c1,c2,d1,d2 = df['ah'][i], df['av'][i],df['bh'][i], df['bv'][i],df['ch'][i], df['cv'][i],df['dh'][i], df['dv'][i]        \n",
    "    pts1 = np.float32([[a1,a2],[b1,b2],[c1,c2],[d1,d2]])    \n",
    "    pts2 = np.float32([[0,0],[width,0],[0,heigth],[width, heigth]])\n",
    "    matrix = cv2.getPerspectiveTransform(pts1,pts2)\n",
    "    imgOutput = cv2.warpPerspective(img, matrix,(width,heigth))\n",
    "    _DestImgage = folder + '/Resize/'+ _Name\n",
    "    cv2.imwrite(_DestImgage, imgOutput)\n",
    "    print(_DestImgage + ' successfully saved')"
   ]
  },
  {
   "cell_type": "code",
   "execution_count": null,
   "metadata": {},
   "outputs": [],
   "source": []
  }
 ],
 "metadata": {
  "kernelspec": {
   "display_name": "Python 3",
   "language": "python",
   "name": "python3"
  },
  "language_info": {
   "codemirror_mode": {
    "name": "ipython",
    "version": 3
   },
   "file_extension": ".py",
   "mimetype": "text/x-python",
   "name": "python",
   "nbconvert_exporter": "python",
   "pygments_lexer": "ipython3",
   "version": "3.7.7"
  }
 },
 "nbformat": 4,
 "nbformat_minor": 4
}
