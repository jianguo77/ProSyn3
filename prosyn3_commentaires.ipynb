{
 "cells": [
  {
   "cell_type": "markdown",
   "metadata": {},
   "source": [
    "<html style=\"background-color:powderblue;\"><h1>Projet Synthese</h1><br><b>Groupe 3: Amardeep, Hilaire, Jian-Guo, Mamadou</b></html>"
   ]
  },
  {
   "cell_type": "markdown",
   "metadata": {},
   "source": [
    "<h2>Partie I - Preparation</h2>"
   ]
  },
  {
   "cell_type": "markdown",
   "metadata": {},
   "source": [
    "<h3>On commence par importer des packages nécessaires</h3)<br> <p>En utilisant <b>tensorflow.compat.v1</b>, vous devez desactiver eager_execution.<br>Ce n'est pas le cas pour <b>tensorflow.v2</b>. De plus, un message d'erreur indiquera que le package <b>tensorflow</b> n'a pas la fonction <b><i>disable_eager_execution</i></b> si vous executez cette ligne.</p>"
   ]
  },
  {
   "cell_type": "code",
   "execution_count": 1,
   "metadata": {},
   "outputs": [
    {
     "name": "stderr",
     "output_type": "stream",
     "text": [
      "Using TensorFlow backend.\n"
     ]
    }
   ],
   "source": [
    "import tensorflow as tf\n",
    "#import tensorflow.compat.v1 as tf\n",
    "#tf.disable_eager_execution()\n",
    "\n",
    "from keras.models import Sequential\n",
    "from keras.layers import Dense, Conv2D, Dropout, Flatten, MaxPooling2D \n",
    "from keras.utils import to_categorical"
   ]
  },
  {
   "cell_type": "code",
   "execution_count": 2,
   "metadata": {},
   "outputs": [],
   "source": [
    "import numpy as np      # linear algebra\n",
    "import pandas as pd     # data processing, CSV file I/O (e.g. pd.read_csv)\n",
    "import matplotlib.pyplot as plt\n",
    "import seaborn as sns\n",
    "from sklearn.metrics import confusion_matrix"
   ]
  },
  {
   "cell_type": "code",
   "execution_count": 3,
   "metadata": {},
   "outputs": [],
   "source": [
    "import os\n",
    "from keras.layers.normalization import BatchNormalization\n",
    "from keras.preprocessing.image import ImageDataGenerator"
   ]
  },
  {
   "cell_type": "code",
   "execution_count": 4,
   "metadata": {},
   "outputs": [],
   "source": [
    "from numpy import expand_dims\n",
    "from keras.preprocessing.image import img_to_array"
   ]
  },
  {
   "cell_type": "code",
   "execution_count": 5,
   "metadata": {},
   "outputs": [],
   "source": [
    "%matplotlib inline"
   ]
  },
  {
   "cell_type": "markdown",
   "metadata": {},
   "source": [
    "<h3>Chargement des donnees</h3>\n",
    "<p>Pour eviter l'operation <b>download</b> des donnees se fait chaque fois, on les sauvegarde dans un repertoire local, qui est differente pour different colaborateurs. Veuillez changez la valeur de variable <b><i>data_dir</i></b> si necessaire</p>"
   ]
  },
  {
   "cell_type": "code",
   "execution_count": 6,
   "metadata": {},
   "outputs": [],
   "source": [
    "# download the data from web and saved to local directory\n",
    "# put the data in a variable make the following code usable for any data sources\n",
    "# Original data is hold by df\n",
    "data_dir = \"C:\\\\Users\\\\jeang\\\\Documents\\\\BDEB\\\\A62\\\\ProSyn3\\\\data\\\\fer2013.csv\"\n",
    "##data_dir  = \"C:\\\\Users\\\\Nisha Haulkhory\\\\Desktop\\\\projet de synthese\\\\fer2013.csv\""
   ]
  },
  {
   "cell_type": "code",
   "execution_count": null,
   "metadata": {},
   "outputs": [],
   "source": []
  },
  {
   "cell_type": "markdown",
   "metadata": {},
   "source": [
    "<h3> Exploration des donnees</h3>"
   ]
  },
  {
   "cell_type": "markdown",
   "metadata": {},
   "source": [
    "<p>On charge les donnees dans une variable <b><i>df</i></b></p>"
   ]
  },
  {
   "cell_type": "code",
   "execution_count": 7,
   "metadata": {},
   "outputs": [
    {
     "data": {
      "text/html": [
       "<div>\n",
       "<style scoped>\n",
       "    .dataframe tbody tr th:only-of-type {\n",
       "        vertical-align: middle;\n",
       "    }\n",
       "\n",
       "    .dataframe tbody tr th {\n",
       "        vertical-align: top;\n",
       "    }\n",
       "\n",
       "    .dataframe thead th {\n",
       "        text-align: right;\n",
       "    }\n",
       "</style>\n",
       "<table border=\"1\" class=\"dataframe\">\n",
       "  <thead>\n",
       "    <tr style=\"text-align: right;\">\n",
       "      <th></th>\n",
       "      <th>emotion</th>\n",
       "      <th>pixels</th>\n",
       "      <th>Usage</th>\n",
       "    </tr>\n",
       "  </thead>\n",
       "  <tbody>\n",
       "    <tr>\n",
       "      <th>0</th>\n",
       "      <td>0</td>\n",
       "      <td>70 80 82 72 58 58 60 63 54 58 60 48 89 115 121...</td>\n",
       "      <td>Training</td>\n",
       "    </tr>\n",
       "    <tr>\n",
       "      <th>1</th>\n",
       "      <td>0</td>\n",
       "      <td>151 150 147 155 148 133 111 140 170 174 182 15...</td>\n",
       "      <td>Training</td>\n",
       "    </tr>\n",
       "    <tr>\n",
       "      <th>2</th>\n",
       "      <td>2</td>\n",
       "      <td>231 212 156 164 174 138 161 173 182 200 106 38...</td>\n",
       "      <td>Training</td>\n",
       "    </tr>\n",
       "    <tr>\n",
       "      <th>3</th>\n",
       "      <td>4</td>\n",
       "      <td>24 32 36 30 32 23 19 20 30 41 21 22 32 34 21 1...</td>\n",
       "      <td>Training</td>\n",
       "    </tr>\n",
       "    <tr>\n",
       "      <th>4</th>\n",
       "      <td>6</td>\n",
       "      <td>4 0 0 0 0 0 0 0 0 0 0 0 3 15 23 28 48 50 58 84...</td>\n",
       "      <td>Training</td>\n",
       "    </tr>\n",
       "  </tbody>\n",
       "</table>\n",
       "</div>"
      ],
      "text/plain": [
       "   emotion                                             pixels     Usage\n",
       "0        0  70 80 82 72 58 58 60 63 54 58 60 48 89 115 121...  Training\n",
       "1        0  151 150 147 155 148 133 111 140 170 174 182 15...  Training\n",
       "2        2  231 212 156 164 174 138 161 173 182 200 106 38...  Training\n",
       "3        4  24 32 36 30 32 23 19 20 30 41 21 22 32 34 21 1...  Training\n",
       "4        6  4 0 0 0 0 0 0 0 0 0 0 0 3 15 23 28 48 50 58 84...  Training"
      ]
     },
     "execution_count": 7,
     "metadata": {},
     "output_type": "execute_result"
    }
   ],
   "source": [
    "# Original data is hold by df\n",
    "df = pd.read_csv(data_dir )\n",
    "df.head()"
   ]
  },
  {
   "cell_type": "code",
   "execution_count": 8,
   "metadata": {},
   "outputs": [
    {
     "name": "stdout",
     "output_type": "stream",
     "text": [
      "Le dataset a 35887 lignes et 3 colonnes.\n"
     ]
    }
   ],
   "source": [
    "print(f\"Le dataset a {df.shape[0]} lignes et {df.shape[1]} colonnes.\")"
   ]
  },
  {
   "cell_type": "markdown",
   "metadata": {},
   "source": [
    "<h3>Pour connaitre la colonne <i>Usage</i></h3> "
   ]
  },
  {
   "cell_type": "code",
   "execution_count": 9,
   "metadata": {},
   "outputs": [
    {
     "name": "stdout",
     "output_type": "stream",
     "text": [
      "Le dataset a comme Usage ces valeurs: ['Training', 'PublicTest', 'PrivateTest']\n"
     ]
    }
   ],
   "source": [
    "split = list(set(df['Usage']))\n",
    "print(f\"Le dataset a comme Usage ces valeurs: {split}\")"
   ]
  },
  {
   "cell_type": "markdown",
   "metadata": {},
   "source": [
    "<p>On partage les donnees en 3 parties selons les valeurs d'<b><i>Usage</i></b></P>"
   ]
  },
  {
   "cell_type": "code",
   "execution_count": 10,
   "metadata": {},
   "outputs": [],
   "source": [
    "df_training = df[df['Usage']=='Training']\n",
    "df_PublicTest = df[df['Usage']=='PublicTest']\n",
    "df_PrivateTest = df[df['Usage']=='PrivateTest']"
   ]
  },
  {
   "cell_type": "markdown",
   "metadata": {},
   "source": [
    "<p>Une répartition des donnees pourrait etre désastreuse si la distribution de la cible est differente pour ces trois parties. Pour savoir si nos trois parties sont bien equilibre, nous allons charger quatre variables pour la distribution de la cible. Un pour les donnees originals, et les autres pour les trois parties</P>"
   ]
  },
  {
   "cell_type": "code",
   "execution_count": 11,
   "metadata": {},
   "outputs": [],
   "source": [
    "rdf = df.emotion.value_counts(normalize=True)\n",
    "rdf_training = df_training.emotion.value_counts(normalize=True)\n",
    "rdf_PublicTest = df_PublicTest.emotion.value_counts(normalize=True)\n",
    "rdf_PrivateTest = df_PrivateTest.emotion.value_counts(normalize=True)"
   ]
  },
  {
   "cell_type": "code",
   "execution_count": 12,
   "metadata": {},
   "outputs": [],
   "source": [
    "trainset_keep_same_ratio = all(rdf.index==rdf_training.index)\n",
    "publicset_keep_same_ratio = all(rdf.index==rdf_PublicTest.index)\n",
    "privateset_keep_same_ratio = all(rdf.index==rdf_PrivateTest.index)"
   ]
  },
  {
   "cell_type": "markdown",
   "metadata": {},
   "source": [
    "<p><ul><li>La meilleurs situation est pour le sénario lorsque ces trois parties ont relativement la meme distribution que les données avant la répartition. Si c'est le cas, on affiche une DataFrame de la distribution des cibles pour ces quatre variables</li><li>Si jamais une partie n'a pas la meme distribution que les données originals, on affiche les autres parties dans le DataFrame. Et la distribution de cette partie sera affiche en comparant avec celle des données originals</li><li>Si jamais deux parties ou plus n'ont pas la meme distribution que les donnees originals, on affiche ces quatre distributions séparativement</li></ul></P>"
   ]
  },
  {
   "cell_type": "code",
   "execution_count": 13,
   "metadata": {},
   "outputs": [
    {
     "name": "stdout",
     "output_type": "stream",
     "text": [
      "\n",
      "Train_set et private_test_set ont relativement la même partition:\n",
      "    origine  train_set  private_set\n",
      "3  0.250481   0.251315     0.244915\n",
      "6  0.172709   0.172942     0.174422\n",
      "4  0.169337   0.168240     0.165506\n",
      "2  0.142698   0.142708     0.147116\n",
      "0  0.138017   0.139155     0.136807\n",
      "5  0.111517   0.110453     0.115910\n",
      "1  0.015242   0.015187     0.015325\n",
      "Public_test_set a une partition différente:\n",
      "Original\n",
      " 3    0.250481\n",
      "6    0.172709\n",
      "4    0.169337\n",
      "2    0.142698\n",
      "0    0.138017\n",
      "5    0.111517\n",
      "1    0.015242\n",
      "Name: emotion, dtype: float64 \n",
      "PublicTest\n",
      " 3    0.249373\n",
      "4    0.181945\n",
      "6    0.169128\n",
      "2    0.138200\n",
      "0    0.130120\n",
      "5    0.115631\n",
      "1    0.015603\n",
      "Name: emotion, dtype: float64\n"
     ]
    }
   ],
   "source": [
    "if all([trainset_keep_same_ratio, publicset_keep_same_ratio, privateset_keep_same_ratio]):\n",
    "    print(\"\\nOn a une relativement bonne partition:\")\n",
    "    print(pd.DataFrame({\"origine\":rdf.values, \"train_set\":rdf_training.values, \"public_set\":rdf_PublicTest.values, \"private_set\":rdf_PrivateTest.values}, index=rdf.index))\n",
    "elif all([trainset_keep_same_ratio, privateset_keep_same_ratio]):\n",
    "    print(\"\\nTrain_set et private_test_set ont relativement la même partition:\")\n",
    "    print(pd.DataFrame({\"origine\":rdf.values, \"train_set\":rdf_training.values, \"private_set\":rdf_PrivateTest.values}, index=rdf.index))\n",
    "    print(\"Public_test_set a une partition différente:\\nOriginal\\n\", rdf, \"\\nPublicTest\\n\", rdf_PublicTest)\n",
    "elif all([trainset_keep_same_ratio, publicset_keep_same_ratio]):\n",
    "    print(\"\\nTrain_set et public_test_set ont relativement la même partition:\")\n",
    "    print(pd.DataFrame({\"origine\":rdf.values, \"train_set\":rdf_training.values, \"public_set\":rdf_PublicTest.values}, index=rdf.index))\n",
    "    print(\"Private_test_set a une partition différente:\\nOriginal\\n\", rdf, \"\\nPrivate Test\\n\", rdf_PrivateTest)          \n",
    "elif all([publicset_keep_same_ratio, privateset_keep_same_ratio]):\n",
    "    print(\"\\nPublic test set and private test set have relatively the same data partition:\")\n",
    "    print(pd.DataFrame({\"origine\":rdf.values, \"PublicTest\":rdf_PublicTest.values, \"PrivateTest\":rdf_PrivateTest.values}, index=rdf.index))\n",
    "    print(\"Train_set a une partition différente:\\nOriginal\\n\", rdf, \"\\nTraining\\n\", rdf_training)\n",
    "else:          \n",
    "    print(\"La répartition des données ne semble pas être correcte!\")\n",
    "    print(\"\\nOriginal\\n\", rdf, \"\\nTraining\\n\", rdf_training, \"PublicTest\\n\", rdf_PublicTest, \"PrivateTest\\n\", rdf_PrivateTest)"
   ]
  },
  {
   "cell_type": "markdown",
   "metadata": {},
   "source": [
    "<p>Nous constatons que:<tr><ol><li>La distribution est relativement bien dans les trois parties</li><li>Les images de categorie 4 sont un peu plus nombreuses dans la partie <b>PublicTest</b> que les données originals</li><li>Mais seulement les catégories 4 et 6 se changent de place. Ceci est tolérable pour une telle répartition</li></p>"
   ]
  },
  {
   "cell_type": "markdown",
   "metadata": {},
   "source": [
    "<p>Nous allons continuer l'exploration des donnees.<br>On verifie les datatype de donnees, les valeurs manquantes, les valeurs aberantes</p>"
   ]
  },
  {
   "cell_type": "code",
   "execution_count": 14,
   "metadata": {},
   "outputs": [
    {
     "name": "stdout",
     "output_type": "stream",
     "text": [
      "<class 'pandas.core.frame.DataFrame'>\n",
      "RangeIndex: 35887 entries, 0 to 35886\n",
      "Data columns (total 3 columns):\n",
      " #   Column   Non-Null Count  Dtype \n",
      "---  ------   --------------  ----- \n",
      " 0   emotion  35887 non-null  int64 \n",
      " 1   pixels   35887 non-null  object\n",
      " 2   Usage    35887 non-null  object\n",
      "dtypes: int64(1), object(2)\n",
      "memory usage: 841.2+ KB\n"
     ]
    }
   ],
   "source": [
    "df.info()"
   ]
  },
  {
   "cell_type": "markdown",
   "metadata": {},
   "source": [
    "<h3>Pour connaitre la structure des donnees dans la colonne <i>pixels</i></h3>\n",
    "<p>Une colonne,<b>length</b>, est ajoute qui est le nombre des chiffres sur chaque ligne</P>"
   ]
  },
  {
   "cell_type": "code",
   "execution_count": 15,
   "metadata": {},
   "outputs": [
    {
     "data": {
      "text/html": [
       "<div>\n",
       "<style scoped>\n",
       "    .dataframe tbody tr th:only-of-type {\n",
       "        vertical-align: middle;\n",
       "    }\n",
       "\n",
       "    .dataframe tbody tr th {\n",
       "        vertical-align: top;\n",
       "    }\n",
       "\n",
       "    .dataframe thead th {\n",
       "        text-align: right;\n",
       "    }\n",
       "</style>\n",
       "<table border=\"1\" class=\"dataframe\">\n",
       "  <thead>\n",
       "    <tr style=\"text-align: right;\">\n",
       "      <th></th>\n",
       "      <th>emotion</th>\n",
       "      <th>pixels</th>\n",
       "      <th>Usage</th>\n",
       "      <th>length</th>\n",
       "    </tr>\n",
       "  </thead>\n",
       "  <tbody>\n",
       "    <tr>\n",
       "      <th>0</th>\n",
       "      <td>0</td>\n",
       "      <td>70 80 82 72 58 58 60 63 54 58 60 48 89 115 121...</td>\n",
       "      <td>Training</td>\n",
       "      <td>2304</td>\n",
       "    </tr>\n",
       "    <tr>\n",
       "      <th>1</th>\n",
       "      <td>0</td>\n",
       "      <td>151 150 147 155 148 133 111 140 170 174 182 15...</td>\n",
       "      <td>Training</td>\n",
       "      <td>2304</td>\n",
       "    </tr>\n",
       "    <tr>\n",
       "      <th>2</th>\n",
       "      <td>2</td>\n",
       "      <td>231 212 156 164 174 138 161 173 182 200 106 38...</td>\n",
       "      <td>Training</td>\n",
       "      <td>2304</td>\n",
       "    </tr>\n",
       "    <tr>\n",
       "      <th>3</th>\n",
       "      <td>4</td>\n",
       "      <td>24 32 36 30 32 23 19 20 30 41 21 22 32 34 21 1...</td>\n",
       "      <td>Training</td>\n",
       "      <td>2304</td>\n",
       "    </tr>\n",
       "    <tr>\n",
       "      <th>4</th>\n",
       "      <td>6</td>\n",
       "      <td>4 0 0 0 0 0 0 0 0 0 0 0 3 15 23 28 48 50 58 84...</td>\n",
       "      <td>Training</td>\n",
       "      <td>2304</td>\n",
       "    </tr>\n",
       "  </tbody>\n",
       "</table>\n",
       "</div>"
      ],
      "text/plain": [
       "   emotion                                             pixels     Usage  \\\n",
       "0        0  70 80 82 72 58 58 60 63 54 58 60 48 89 115 121...  Training   \n",
       "1        0  151 150 147 155 148 133 111 140 170 174 182 15...  Training   \n",
       "2        2  231 212 156 164 174 138 161 173 182 200 106 38...  Training   \n",
       "3        4  24 32 36 30 32 23 19 20 30 41 21 22 32 34 21 1...  Training   \n",
       "4        6  4 0 0 0 0 0 0 0 0 0 0 0 3 15 23 28 48 50 58 84...  Training   \n",
       "\n",
       "   length  \n",
       "0    2304  \n",
       "1    2304  \n",
       "2    2304  \n",
       "3    2304  \n",
       "4    2304  "
      ]
     },
     "execution_count": 15,
     "metadata": {},
     "output_type": "execute_result"
    }
   ],
   "source": [
    "df['length'] = df.pixels.apply(lambda x: len(str(x).split(' ')))\n",
    "df.head()"
   ]
  },
  {
   "cell_type": "markdown",
   "metadata": {},
   "source": [
    "<p>Pour verifier si toutes les lignes ont la meme longeur ou s'il y a des valeurs manquantres</P>"
   ]
  },
  {
   "cell_type": "code",
   "execution_count": 16,
   "metadata": {},
   "outputs": [
    {
     "name": "stdout",
     "output_type": "stream",
     "text": [
      "pas de valeur manquant!\n",
      "pas de valeur anormale!\n"
     ]
    }
   ],
   "source": [
    "normal_length = 2304  \n",
    "no_data = sum(df.length.isna())\n",
    "anormal = sum([df.length[i] != normal_length for i in range(df.shape[0])])\n",
    "print(f\"nombre de valeur manquant = {no_data}\" if no_data>0 else \"pas de valeur manquant!\")\n",
    "print(f\"nombre de valeur anormal = {anormal}\" if anormal>0 else \"pas de valeur anormale!\")"
   ]
  },
  {
   "cell_type": "markdown",
   "metadata": {},
   "source": [
    "* Nous constatons que Les données n'ont pas de valeur manquante ni de valeur anormale\n",
    "* La distribution des emotions montre qu'il y a plus de catégorie 3 et moins de catégorie 1"
   ]
  },
  {
   "cell_type": "markdown",
   "metadata": {},
   "source": [
    "<h3> Pour connaitre la colonne <i>emotion</i></h3>"
   ]
  },
  {
   "cell_type": "markdown",
   "metadata": {},
   "source": [
    "<p>Par la colonne <b>emotion</b>, qui est la cible, nous voyons une distribution non-uniforme.</P>"
   ]
  },
  {
   "cell_type": "code",
   "execution_count": 17,
   "metadata": {},
   "outputs": [
    {
     "data": {
      "text/plain": [
       "<matplotlib.axes._subplots.AxesSubplot at 0x22642066c08>"
      ]
     },
     "execution_count": 17,
     "metadata": {},
     "output_type": "execute_result"
    },
    {
     "data": {
      "image/png": "[encoded data removed]",
      "text/plain": [
       "<Figure size 432x288 with 1 Axes>"
      ]
     },
     "metadata": {
      "needs_background": "light"
     },
     "output_type": "display_data"
    }
   ],
   "source": [
    "lab = pd.DataFrame(df.emotion.value_counts())\n",
    "lab.plot.bar(title=\"labels break Down\")"
   ]
  },
  {
   "cell_type": "markdown",
   "metadata": {},
   "source": [
    "<h3> Conclusion de l'exploration des donnees</h3>\n",
    "<ul>\n",
    "    <li>Les données contient essentiellement deux colonnes: <b>emotion</b>, la cible, et <b>pixels</b> qui est l'image 48x48 = 2304</li>\n",
    "    <li>L'autre colonne, Usage, est une partition des données: <u style=\"color:blue\">Training, PublicTest, PrivateTest</u></li>\n",
    "    <li>Nous allons utiliser la partie <b>Training</b> pour developpement et <b>PrivateTest</b> pour tester le modele</li>\n",
    "    <li>La partie <b>PublicTest</b> sera utilisée pour la validation pendant le developpement.</li>\n",
    "</ul>"
   ]
  },
  {
   "cell_type": "markdown",
   "metadata": {},
   "source": [
    "<h3>Affichage des donnees</h3>\n",
    "<p> Ces fonctions sont pour afficher un image (une ligne)<br>Notons que 48 x 48 = 2304</p>"
   ]
  },
  {
   "cell_type": "code",
   "execution_count": 18,
   "metadata": {},
   "outputs": [
    {
     "data": {
      "image/png": "[encoded data removed]",
      "text/plain": [
       "<Figure size 432x288 with 1 Axes>"
      ]
     },
     "metadata": {
      "needs_background": "light"
     },
     "output_type": "display_data"
    }
   ],
   "source": [
    "#import numpy as np\n",
    "#import matplotlib.pyplot as plt\n",
    "\n",
    "FER2013_WIDTH = 48\n",
    "FER2013_HEIGHT = 48\n",
    "\n",
    "# indices 0 - 6 correspondent emotions suivantes\n",
    "Emotions = [\"Angry\", \"Disgust\", \"Fear\", \"Happy\", \"Sad\", \"Surprise\", \"Neutral\"]  \n",
    "\n",
    "def string_to_image(str_in):\n",
    "    return np.reshape(str_in.split(\" \"), (FER2013_WIDTH, FER2013_HEIGHT)).astype(\"float\")\n",
    "\n",
    "def fer2013_show_instance(index, d=df):\n",
    "    \"\"\"Shows the image and the emotion label of the index's instance.\"\"\"\n",
    "    category, str_image = d.at[index,'emotion'], d.at[index,'pixels']\n",
    "    image = string_to_image(str_image)\n",
    "    plt.imshow(image, cmap=\"gray\")\n",
    "    plt.title(f\"Exemple de categorie {category}: {Emotions[category]}\")\n",
    "    \n",
    "fer2013_show_instance(np.random.randint(0,len(df_training)))"
   ]
  },
  {
   "cell_type": "markdown",
   "metadata": {},
   "source": [
    "<p>Nous voulons aussi savoir les differentes expressions d'emotions pour les sept categories</p>"
   ]
  },
  {
   "cell_type": "code",
   "execution_count": 19,
   "metadata": {},
   "outputs": [
    {
     "data": {
      "image/png": "[encoded data removed]",
      "text/plain": [
       "<Figure size 432x288 with 1 Axes>"
      ]
     },
     "metadata": {
      "needs_background": "light"
     },
     "output_type": "display_data"
    },
    {
     "data": {
      "image/png": "[encoded data removed]",
      "text/plain": [
       "<Figure size 432x288 with 1 Axes>"
      ]
     },
     "metadata": {
      "needs_background": "light"
     },
     "output_type": "display_data"
    },
    {
     "data": {
      "image/png": "[encoded data removed]",
      "text/plain": [
       "<Figure size 432x288 with 1 Axes>"
      ]
     },
     "metadata": {
      "needs_background": "light"
     },
     "output_type": "display_data"
    },
    {
     "data": {
      "image/png": "[encoded data removed]",
      "text/plain": [
       "<Figure size 432x288 with 1 Axes>"
      ]
     },
     "metadata": {
      "needs_background": "light"
     },
     "output_type": "display_data"
    },
    {
     "data": {
      "image/png": "[encoded data removed]",
      "text/plain": [
       "<Figure size 432x288 with 1 Axes>"
      ]
     },
     "metadata": {
      "needs_background": "light"
     },
     "output_type": "display_data"
    },
    {
     "data": {
      "image/png": "[encoded data removed]",
      "text/plain": [
       "<Figure size 432x288 with 1 Axes>"
      ]
     },
     "metadata": {
      "needs_background": "light"
     },
     "output_type": "display_data"
    },
    {
     "data": {
      "image/png": "[encoded data removed]",
      "text/plain": [
       "<Figure size 432x288 with 1 Axes>"
      ]
     },
     "metadata": {
      "needs_background": "light"
     },
     "output_type": "display_data"
    }
   ],
   "source": [
    "for cat in range(7):\n",
    "    plt.figure(cat)\n",
    "    idx = np.random.choice(df.index[df.emotion==cat])\n",
    "    fer2013_show_instance(idx)\n",
    "plt.show()"
   ]
  },
  {
   "cell_type": "markdown",
   "metadata": {},
   "source": [
    "<h3>Fonction de transformation des données.</h3><br><p><ul> La fonction <b><i>fer2013_to_4d_array</i></b> prend comme entree une dataframe qui tienne les donnees d'images en format des chaines de caracteres.<br>Elle retoune comme sortie un <b>np.array</b> de <mark>4 dim</mark>, normalisee, utilisables comme entree pour <b>tensorflow<b></ul></p>"
   ]
  },
  {
   "cell_type": "code",
   "execution_count": 20,
   "metadata": {},
   "outputs": [],
   "source": [
    "def fer2013_to_4d_array(d=df):\n",
    "    \"\"\"Transforms the (blank separated) pixel strings in the DataFrame to an 4-dimensional array \n",
    "    (1st dim: instances, 2nd and 3rd dims represent 2D image, 4th dim represent the color).\"\"\"\n",
    "    \n",
    "    pixels_list = d[\"pixels\"].values\n",
    "    list_image_2d = [string_to_image(pixels) for pixels in pixels_list]\n",
    "        \n",
    "    # Convert list to 4D array:\n",
    "    X = np.expand_dims(np.array(list_image_2d), -1)\n",
    "    print(f\"The given data <pixel strings> has been converted to {X.shape} array\")\n",
    "    \n",
    "    return X / 255"
   ]
  },
  {
   "cell_type": "markdown",
   "metadata": {},
   "source": [
    "<p>On applique la fonction <b><i>fer2013_to_4d_array</i></b> sur les trois partitions</P>"
   ]
  },
  {
   "cell_type": "code",
   "execution_count": 21,
   "metadata": {},
   "outputs": [
    {
     "name": "stdout",
     "output_type": "stream",
     "text": [
      "The given data <pixel strings> has been converted to (28709, 48, 48, 1) array\n",
      "The given data <pixel strings> has been converted to (3589, 48, 48, 1) array\n",
      "The given data <pixel strings> has been converted to (3589, 48, 48, 1) array\n"
     ]
    }
   ],
   "source": [
    "X_train = fer2013_to_4d_array(df_training)\n",
    "X_test = fer2013_to_4d_array(df_PrivateTest)\n",
    "X_valid = fer2013_to_4d_array(df_PublicTest)"
   ]
  },
  {
   "cell_type": "markdown",
   "metadata": {},
   "source": [
    "<h3>Fonction de transformation pour la cible</h3>\n",
    "<p><ul><li>La fonction <b style=\"backgroud-color:powerblue\"><i>one_hot_label</i></b> prend comme entree une dataframe qui tienne les donnees d'emotions en format categoriel (7 classes).<br>Elle retoune comme sortie un <b>np.array</b> de <mark>2 dim</mark>. Les classes sont reparties en 7 colonnes, une pour chaque, utilisables pour <b>tensorflow<b></li>\n",
    "    <li><b><mark>keras.utils.to_categorical</mark></b> peut faire le meme travail la sortie est du dtype float32</li>\n",
    "    </ul>\n",
    "    </p>"
   ]
  },
  {
   "cell_type": "code",
   "execution_count": 22,
   "metadata": {},
   "outputs": [
    {
     "name": "stdout",
     "output_type": "stream",
     "text": [
      "(28709, 7) (3589, 7) (3589, 7)\n"
     ]
    }
   ],
   "source": [
    "def one_hot_labels(d):\n",
    "    \"\"\"Get one-hot encoded labels\"\"\"\n",
    "    return pd.get_dummies(d.emotion).values\n",
    "\n",
    "Y_train = one_hot_labels(df_training)\n",
    "Y_test = one_hot_labels(df_PrivateTest)\n",
    "Y_valid = one_hot_labels(df_PublicTest)\n",
    "print(Y_train.shape, Y_test.shape, Y_valid.shape)"
   ]
  },
  {
   "cell_type": "code",
   "execution_count": 23,
   "metadata": {},
   "outputs": [
    {
     "data": {
      "text/plain": [
       "array([[1, 0, 0, 0, 0, 0, 0],\n",
       "       [1, 0, 0, 0, 0, 0, 0],\n",
       "       [0, 0, 1, 0, 0, 0, 0],\n",
       "       [0, 0, 0, 0, 1, 0, 0],\n",
       "       [0, 0, 0, 0, 0, 0, 1]], dtype=uint8)"
      ]
     },
     "execution_count": 23,
     "metadata": {},
     "output_type": "execute_result"
    }
   ],
   "source": [
    "Y_train[:5]"
   ]
  },
  {
   "cell_type": "code",
   "execution_count": 24,
   "metadata": {},
   "outputs": [
    {
     "data": {
      "text/plain": [
       "array([[1., 0., 0., 0., 0., 0., 0.],\n",
       "       [1., 0., 0., 0., 0., 0., 0.],\n",
       "       [0., 0., 1., 0., 0., 0., 0.],\n",
       "       [0., 0., 0., 0., 1., 0., 0.],\n",
       "       [0., 0., 0., 0., 0., 0., 1.]], dtype=float32)"
      ]
     },
     "execution_count": 24,
     "metadata": {},
     "output_type": "execute_result"
    }
   ],
   "source": [
    "CLASS_NUMBER = 7\n",
    "y_train = to_categorical(df_training.emotion, CLASS_NUMBER)\n",
    "y_test = to_categorical(df_PrivateTest.emotion, CLASS_NUMBER)\n",
    "y_valid = to_categorical(df_PublicTest.emotion, CLASS_NUMBER)\n",
    "y_train[:5]"
   ]
  },
  {
   "cell_type": "markdown",
   "metadata": {},
   "source": [
    "<p style=\"background-color:powderblue;\">On verifie simplement si les donnees sont normalise</p>"
   ]
  },
  {
   "cell_type": "code",
   "execution_count": 25,
   "metadata": {},
   "outputs": [
    {
     "data": {
      "text/html": [
       "<div>\n",
       "<style scoped>\n",
       "    .dataframe tbody tr th:only-of-type {\n",
       "        vertical-align: middle;\n",
       "    }\n",
       "\n",
       "    .dataframe tbody tr th {\n",
       "        vertical-align: top;\n",
       "    }\n",
       "\n",
       "    .dataframe thead th {\n",
       "        text-align: right;\n",
       "    }\n",
       "</style>\n",
       "<table border=\"1\" class=\"dataframe\">\n",
       "  <thead>\n",
       "    <tr style=\"text-align: right;\">\n",
       "      <th></th>\n",
       "      <th>max</th>\n",
       "      <th>mean</th>\n",
       "      <th>min</th>\n",
       "    </tr>\n",
       "  </thead>\n",
       "  <tbody>\n",
       "    <tr>\n",
       "      <th>train_set</th>\n",
       "      <td>1.0</td>\n",
       "      <td>0.507743</td>\n",
       "      <td>0.0</td>\n",
       "    </tr>\n",
       "    <tr>\n",
       "      <th>test_set</th>\n",
       "      <td>1.0</td>\n",
       "      <td>0.506207</td>\n",
       "      <td>0.0</td>\n",
       "    </tr>\n",
       "    <tr>\n",
       "      <th>validation_set</th>\n",
       "      <td>1.0</td>\n",
       "      <td>0.505808</td>\n",
       "      <td>0.0</td>\n",
       "    </tr>\n",
       "  </tbody>\n",
       "</table>\n",
       "</div>"
      ],
      "text/plain": [
       "                max      mean  min\n",
       "train_set       1.0  0.507743  0.0\n",
       "test_set        1.0  0.506207  0.0\n",
       "validation_set  1.0  0.505808  0.0"
      ]
     },
     "execution_count": 25,
     "metadata": {},
     "output_type": "execute_result"
    }
   ],
   "source": [
    "pd.DataFrame({'max':[np.max(X_train), np.max(X_test), np.max(X_valid)], \n",
    "              'mean':[np.mean(X_train), np.mean(X_test), np.mean(X_valid)],\n",
    "              'min':[np.min(X_train), np.min(X_test), np.min(X_valid)]}, index=['train_set', 'test_set', 'validation_set'])"
   ]
  },
  {
   "cell_type": "markdown",
   "metadata": {},
   "source": [
    "## The Deep Neural Network\n",
    "* First, we will define the Convolutional neural networks architecture as follows:\n",
    "* 1- The first hidden layer is a convolutional layer called a Convolution2D. We will use 32 filters with size 5×5 each.\n",
    "* 2- Then a Max pooling layer with a pool size of 2×2.\n",
    "* 3- Another convolutional layer with 64 filters with size 5×5 each.\n",
    "* 4- Then a Max pooling layer with a pool size of 2×2.\n",
    "* 5- Then next is a Flatten layer that converts the 2D matrix data to a 1D vector before building the fully connected layers.\n",
    "* 6- After that we will use a fully connected layer with 1024 neurons and relu activation function.\n",
    "* 7- Then we will use a regularization layer called Dropout. It is configured to randomly exclude 20% of neurons in the layer in order to reduce overfitting.\n",
    "* 8- Finally, the output layer which has 10 neurons for the 10 classes and a softmax activation function to output probability-like predictions for each class."
   ]
  },
  {
   "cell_type": "markdown",
   "metadata": {},
   "source": [
    "<h2>Partie II Modele d'apprentissage</h2>\n",
    "<p>Definir le <abbr title=\"Convolutional Neural Networks\"><b>CNN </b></abbr>architecture:</p>\n",
    "<ol>\n",
    "<li>La premiere couche, Conv2D, prend un batch de donnees avec input_shape=(48,48,1)</li>\n",
    "<li>La deuxieme couche, Conv2D, prend la sortie de couche 1, keras determine le shape qui est fonction du nombre de filtres utilises</li>\n",
    "    <li>La troisieme couche, Conv2D, prend la sortie de la couche 2, keras determine le shape automatiquement</li>\n",
    "    <li>Ainsi de suite pour les autres couches Conv2D s'il y en a besoin</li>\n",
    "    <li>Entre chaque deux couches Conv2D, une couche Max pooling, taille (2,2), est ajoutee</li>\n",
    "    <li>Pour reduire le sur-apprentissage, une couche Dropout pourrait etre ajoutee</li>\n",
    "    <li>Pour une meilleur performance, une couche Normalisation pourrait etre aussi appliquee</li>\n",
    "<li>Avant la couche dense, nous allons ajouter une couche Flatten qui convert le matrix 2D en vector 1D</li>\n",
    "    <li>Une couche Dense avec une fonction activation ReLu</li>\n",
    "    <li>Encore une couche de regularization Dropout est appliquee</li>\n",
    "    <li>Enfin, la couche de sortie donne 7 neurons pour les 7 classes avec une fonction activation softmax qui donne la possibilite de prediction pour chaque class.</li>\n",
    "</ol>"
   ]
  },
  {
   "cell_type": "markdown",
   "metadata": {},
   "source": [
    "<p><ul>Le constructeur de class <b>Conv2D</b> prend<blockquote cite=\"http://www.worldwildlife.org/who/index.html\">\n",
    "    <li>un argument <u style=\"color:red;\">‘filter’</u>, qui correspond au nombre de filtres utilisés par la couche neurons, ou le nombre des features. Le chiffre 32 ou 64 dans les codes ci-dessous montre qu'il y 32 filtres sur la première couche et 64 filtres sur la deuxième.</li>\n",
    "    <li>Un autte argument <u style = \"color:red;\"> ‘kernel_size’</u>, 5 ou 5x5 dans les codes ci-dessous, qui represent les dimensions de filter (kernel) ou la taille de <u>'receptive field'</u></li>\n",
    "    <li>On peut changer les valeurs par-defaut des autres hyperparametres (voir la liste ci-dessous).</li>\n",
    "    </ul></blockquote></p>"
   ]
  },
  {
   "cell_type": "markdown",
   "metadata": {},
   "source": [
    "<b style=\"color:blue\">tf.keras.layers.Conv2D(</b><br>\n",
    "    <ul>\n",
    "    filters, kernel_size, strides=(1, 1), padding='valid', data_format=None,<br>\n",
    "    dilation_rate=(1, 1), groups=1, activation=None, use_bias=True,<br>\n",
    "    kernel_initializer='glorot_uniform', bias_initializer='zeros',<br>\n",
    "    kernel_regularizer=None, bias_regularizer=None, activity_regularizer=None,<br>\n",
    "    kernel_constraint=None, bias_constraint=None, **kwargs\n",
    "    </ul><br>"
   ]
  },
  {
   "cell_type": "markdown",
   "metadata": {},
   "source": [
    "## Step 1 – Create a model:\n",
    "* Keras first creates a new instance of a model object and then add layers to it one after the another. It is called a sequential model API. We can add layers to the neural network just by calling model.add and passing in the type of layer we want to add. Finally, we will compile the model with two important information, loss function, and cost optimization algorithm."
   ]
  },
  {
   "cell_type": "code",
   "execution_count": 22,
   "metadata": {},
   "outputs": [],
   "source": [
    "# from keras.layers.normalization import BatchNormalization"
   ]
  },
  {
   "cell_type": "markdown",
   "metadata": {},
   "source": [
    "## Network Parameters\n",
    "* Next, you need to define the network parameters. Firstly, you define the number of inputs. This is 2304 since the image is initially loaded as a 2304-dimensional vector. Later, you will see that how you will reshape the 2304-dimensional vector to a 48 x 48 x 1 matrix. Secondly, you'll also define the number of classes, which is nothing else than the number of class labels.here 7"
   ]
  },
  {
   "cell_type": "markdown",
   "metadata": {},
   "source": [
    "<h3>Creation du modele:</h3>\n",
    "<p>Avec Keras, on cree une instance, model, de l'objet Sequential, puis on y ajoute des couches Coonv2D, une apres une autre. C'est pourquoi il s'appelle Sequential. On ajoute une couche neurone par simplement la fonction model.add() et passe le type de couche que nous voulons ajouter. Finallement, nous passons le model en compilation avec deux informations importantes: loss function, et cost optimization algorithm.</p>"
   ]
  },
  {
   "cell_type": "markdown",
   "metadata": {},
   "source": [
    "<h3>Modele de la premiere version</h3>\n",
    "<p>La premiere version contient simplement deux couches Conv2D<br> plus deux couches Dense avec une couche Dropout</p>"
   ]
  },
  {
   "cell_type": "code",
   "execution_count": 26,
   "metadata": {},
   "outputs": [],
   "source": [
    "# Creating a Sequential Model and adding the layers\n",
    "input_shape = (48, 48, 1)\n",
    "model = Sequential()\n",
    "#first layer\n",
    "model.add(Conv2D(32, kernel_size=(5,5), input_shape=input_shape))\n",
    "model.add(MaxPooling2D(pool_size=(2, 2)))\n",
    "\n",
    "#second layer\n",
    "# input_shape should be the first layer's shape, shouldn't it???\n",
    "model.add(Conv2D(64, kernel_size=(5,5), input_shape=input_shape))\n",
    "model.add(MaxPooling2D(pool_size=(2, 2)))\n",
    "\n",
    "model.add(Flatten()) # Flattening the 2D arrays for fully connected layers\n",
    "model.add(Dense(64, activation=tf.nn.relu))\n",
    "model.add(Dropout(0.2))\n",
    "model.add(Dense(7,activation=tf.nn.softmax))"
   ]
  },
  {
   "cell_type": "code",
   "execution_count": 27,
   "metadata": {},
   "outputs": [],
   "source": [
    "# Compile the model\n",
    "# optimizer = 'adam'\n",
    "# model.compile(optimizer=optimizer, loss='categorical_crossentropy', metrics=['accuracy'])\n",
    "model.compile(optimizer='adam', loss='categorical_crossentropy', metrics=['accuracy'])"
   ]
  },
  {
   "cell_type": "markdown",
   "metadata": {},
   "source": [
    "<h3>Visualiser du modele</h3>"
   ]
  },
  {
   "cell_type": "code",
   "execution_count": 28,
   "metadata": {},
   "outputs": [
    {
     "name": "stdout",
     "output_type": "stream",
     "text": [
      "Model: \"sequential_1\"\n",
      "_________________________________________________________________\n",
      "Layer (type)                 Output Shape              Param #   \n",
      "=================================================================\n",
      "conv2d_1 (Conv2D)            (None, 44, 44, 32)        832       \n",
      "_________________________________________________________________\n",
      "max_pooling2d_1 (MaxPooling2 (None, 22, 22, 32)        0         \n",
      "_________________________________________________________________\n",
      "conv2d_2 (Conv2D)            (None, 18, 18, 64)        51264     \n",
      "_________________________________________________________________\n",
      "max_pooling2d_2 (MaxPooling2 (None, 9, 9, 64)          0         \n",
      "_________________________________________________________________\n",
      "flatten_1 (Flatten)          (None, 5184)              0         \n",
      "_________________________________________________________________\n",
      "dense_1 (Dense)              (None, 64)                331840    \n",
      "_________________________________________________________________\n",
      "dropout_1 (Dropout)          (None, 64)                0         \n",
      "_________________________________________________________________\n",
      "dense_2 (Dense)              (None, 7)                 455       \n",
      "=================================================================\n",
      "Total params: 384,391\n",
      "Trainable params: 384,391\n",
      "Non-trainable params: 0\n",
      "_________________________________________________________________\n"
     ]
    }
   ],
   "source": [
    "model.summary()"
   ]
  },
  {
   "cell_type": "markdown",
   "metadata": {},
   "source": [
    "<h3>Execute le processu d'apprentissage</h3>"
   ]
  },
  {
   "cell_type": "code",
   "execution_count": 28,
   "metadata": {},
   "outputs": [
    {
     "name": "stdout",
     "output_type": "stream",
     "text": [
      "Train on 28709 samples, validate on 3589 samples\n",
      "Epoch 1/30\n",
      "28709/28709 [==============================] - 75s 3ms/step - loss: 1.6210 - accuracy: 0.3661 - val_loss: 1.4795 - val_accuracy: 0.4388\n",
      "Epoch 2/30\n",
      "28709/28709 [==============================] - 50s 2ms/step - loss: 1.4415 - accuracy: 0.4442 - val_loss: 1.3609 - val_accuracy: 0.4884\n",
      "Epoch 3/30\n",
      "28709/28709 [==============================] - 49s 2ms/step - loss: 1.3483 - accuracy: 0.4866 - val_loss: 1.3693 - val_accuracy: 0.4675\n",
      "Epoch 4/30\n",
      "28709/28709 [==============================] - 48s 2ms/step - loss: 1.2652 - accuracy: 0.5171 - val_loss: 1.3175 - val_accuracy: 0.4848\n",
      "Epoch 5/30\n",
      "28709/28709 [==============================] - 49s 2ms/step - loss: 1.1965 - accuracy: 0.5447 - val_loss: 1.4147 - val_accuracy: 0.4893\n",
      "Epoch 6/30\n",
      "28709/28709 [==============================] - 49s 2ms/step - loss: 1.1237 - accuracy: 0.5713 - val_loss: 1.3074 - val_accuracy: 0.5054\n",
      "Epoch 7/30\n",
      "28709/28709 [==============================] - 48s 2ms/step - loss: 1.0455 - accuracy: 0.6020 - val_loss: 1.3720 - val_accuracy: 0.5202\n",
      "Epoch 8/30\n",
      "28709/28709 [==============================] - 48s 2ms/step - loss: 0.9716 - accuracy: 0.6298 - val_loss: 1.3734 - val_accuracy: 0.5188\n",
      "Epoch 9/30\n",
      "28709/28709 [==============================] - 49s 2ms/step - loss: 0.8876 - accuracy: 0.6616 - val_loss: 1.4485 - val_accuracy: 0.5015\n",
      "Epoch 10/30\n",
      "28709/28709 [==============================] - 49s 2ms/step - loss: 0.8357 - accuracy: 0.6834 - val_loss: 1.4921 - val_accuracy: 0.5196\n",
      "Epoch 11/30\n",
      "28709/28709 [==============================] - 51s 2ms/step - loss: 0.7650 - accuracy: 0.7097 - val_loss: 1.5748 - val_accuracy: 0.5096\n",
      "Epoch 12/30\n",
      "28709/28709 [==============================] - 50s 2ms/step - loss: 0.7048 - accuracy: 0.7341 - val_loss: 1.6535 - val_accuracy: 0.5032\n",
      "Epoch 13/30\n",
      "28709/28709 [==============================] - 50s 2ms/step - loss: 0.6479 - accuracy: 0.7545 - val_loss: 1.7026 - val_accuracy: 0.5138\n",
      "Epoch 14/30\n",
      "28709/28709 [==============================] - 49s 2ms/step - loss: 0.6070 - accuracy: 0.7690 - val_loss: 1.8153 - val_accuracy: 0.4968\n",
      "Epoch 15/30\n",
      "28709/28709 [==============================] - 51s 2ms/step - loss: 0.5624 - accuracy: 0.7876 - val_loss: 1.8617 - val_accuracy: 0.5088\n",
      "Epoch 16/30\n",
      "28709/28709 [==============================] - 50s 2ms/step - loss: 0.5267 - accuracy: 0.7987 - val_loss: 1.9460 - val_accuracy: 0.5079\n",
      "Epoch 17/30\n",
      "28709/28709 [==============================] - 50s 2ms/step - loss: 0.4992 - accuracy: 0.8105 - val_loss: 2.1322 - val_accuracy: 0.5004\n",
      "Epoch 18/30\n",
      "28709/28709 [==============================] - 48s 2ms/step - loss: 0.4892 - accuracy: 0.8155 - val_loss: 2.3363 - val_accuracy: 0.4912\n",
      "Epoch 19/30\n",
      "28709/28709 [==============================] - 46s 2ms/step - loss: 0.4573 - accuracy: 0.8268 - val_loss: 2.3678 - val_accuracy: 0.5065\n",
      "Epoch 20/30\n",
      "28709/28709 [==============================] - 47s 2ms/step - loss: 0.4349 - accuracy: 0.8353 - val_loss: 2.4903 - val_accuracy: 0.5052\n",
      "Epoch 21/30\n",
      "28709/28709 [==============================] - 47s 2ms/step - loss: 0.4234 - accuracy: 0.8415 - val_loss: 2.4039 - val_accuracy: 0.4943\n",
      "Epoch 22/30\n",
      "28709/28709 [==============================] - 48s 2ms/step - loss: 0.4098 - accuracy: 0.8466 - val_loss: 2.5823 - val_accuracy: 0.4996\n",
      "Epoch 23/30\n",
      "28709/28709 [==============================] - 47s 2ms/step - loss: 0.4008 - accuracy: 0.8497 - val_loss: 2.5629 - val_accuracy: 0.5010\n",
      "Epoch 24/30\n",
      "28709/28709 [==============================] - 45s 2ms/step - loss: 0.3733 - accuracy: 0.8583 - val_loss: 2.6672 - val_accuracy: 0.5038\n",
      "Epoch 25/30\n",
      "28709/28709 [==============================] - 45s 2ms/step - loss: 0.3720 - accuracy: 0.8600 - val_loss: 2.8424 - val_accuracy: 0.4940\n",
      "Epoch 26/30\n",
      "28709/28709 [==============================] - 44s 2ms/step - loss: 0.3639 - accuracy: 0.8639 - val_loss: 2.9933 - val_accuracy: 0.4898\n",
      "Epoch 27/30\n",
      "28709/28709 [==============================] - 45s 2ms/step - loss: 0.3332 - accuracy: 0.8753 - val_loss: 2.9145 - val_accuracy: 0.4870\n",
      "Epoch 28/30\n",
      "28709/28709 [==============================] - 46s 2ms/step - loss: 0.3476 - accuracy: 0.8717 - val_loss: 2.9754 - val_accuracy: 0.4993\n",
      "Epoch 29/30\n",
      "28709/28709 [==============================] - 45s 2ms/step - loss: 0.3441 - accuracy: 0.8733 - val_loss: 2.8737 - val_accuracy: 0.4962\n",
      "Epoch 30/30\n",
      "28709/28709 [==============================] - 46s 2ms/step - loss: 0.3273 - accuracy: 0.8777 - val_loss: 3.0691 - val_accuracy: 0.4932\n"
     ]
    }
   ],
   "source": [
    "# l = model.fit(x=X_train, y=Y_train, validation_data = (X_valid, Y_valid), batch_size=32, epochs=30)"
   ]
  },
  {
   "cell_type": "markdown",
   "metadata": {},
   "source": [
    "## Evaluate Model"
   ]
  },
  {
   "cell_type": "markdown",
   "metadata": {},
   "source": [
    "<p>Une fois l'apprentissage est termine, nous allons evaluer notre modele par les donnees <mark>Test Set</mark> que le modele n'a pas vu avant.</p>"
   ]
  },
  {
   "cell_type": "code",
   "execution_count": 31,
   "metadata": {},
   "outputs": [
    {
     "name": "stdout",
     "output_type": "stream",
     "text": [
      "Evaluate on test data\n",
      "3589/3589 [==============================] - 1s 340us/step\n",
      "test loss, test acc: [2.960562202717209, 0.500417947769165]\n"
     ]
    }
   ],
   "source": [
    "# Evaluate the model on the test data using `evaluate`\n",
    "print(\"Evaluate on test data\")\n",
    "results = model.evaluate(X_test, Y_test)\n",
    "print(\"test loss, test acc:\", results)"
   ]
  },
  {
   "cell_type": "markdown",
   "metadata": {},
   "source": [
    "<h3>Visualisation l'histoire d'apprentissage</h3>"
   ]
  },
  {
   "cell_type": "code",
   "execution_count": 32,
   "metadata": {},
   "outputs": [
    {
     "data": {
      "text/plain": [
       "{'val_loss': [1.4795153707008437,\n",
       "  1.3608581186769133,\n",
       "  1.3693006038997924,\n",
       "  1.317479796348491,\n",
       "  1.4146972192167473,\n",
       "  1.3073569857732072,\n",
       "  1.372043533755664,\n",
       "  1.3734349228937868,\n",
       "  1.4485426970131385,\n",
       "  1.492073735077423,\n",
       "  1.5748000874696053,\n",
       "  1.6535302346448242,\n",
       "  1.7026077897211873,\n",
       "  1.8152911111019088,\n",
       "  1.8617360845652422,\n",
       "  1.9459817541711806,\n",
       "  2.1322002832057185,\n",
       "  2.336283468974271,\n",
       "  2.3677809019213636,\n",
       "  2.490256317613782,\n",
       "  2.403887202461372,\n",
       "  2.5823212775323143,\n",
       "  2.5629336478551408,\n",
       "  2.6672245023907575,\n",
       "  2.8423799094000577,\n",
       "  2.9932600183718114,\n",
       "  2.9144760441667157,\n",
       "  2.97535198676151,\n",
       "  2.8737147286198006,\n",
       "  3.0690574275314657],\n",
       " 'val_accuracy': [0.4388408958911896,\n",
       "  0.48843687772750854,\n",
       "  0.4675396978855133,\n",
       "  0.48481470346450806,\n",
       "  0.4892727732658386,\n",
       "  0.5054332613945007,\n",
       "  0.5202006101608276,\n",
       "  0.5188074707984924,\n",
       "  0.5015324354171753,\n",
       "  0.5196433663368225,\n",
       "  0.5096126794815063,\n",
       "  0.5032042264938354,\n",
       "  0.5137921571731567,\n",
       "  0.49679577350616455,\n",
       "  0.508776843547821,\n",
       "  0.507940948009491,\n",
       "  0.500417947769165,\n",
       "  0.49122318625450134,\n",
       "  0.5065478086471558,\n",
       "  0.5051546096801758,\n",
       "  0.4942881166934967,\n",
       "  0.49958205223083496,\n",
       "  0.5009751915931702,\n",
       "  0.5037614703178406,\n",
       "  0.49400946497917175,\n",
       "  0.48983004689216614,\n",
       "  0.48704373836517334,\n",
       "  0.4993034303188324,\n",
       "  0.49623849987983704,\n",
       "  0.49317359924316406],\n",
       " 'loss': [1.6210257318302308,\n",
       "  1.441482663191973,\n",
       "  1.3482819591438373,\n",
       "  1.2651711627916258,\n",
       "  1.1965264464094039,\n",
       "  1.123684789569796,\n",
       "  1.0454776198509623,\n",
       "  0.9715683933476835,\n",
       "  0.8875713184745281,\n",
       "  0.8357495032298893,\n",
       "  0.7649987418016523,\n",
       "  0.7047573981117673,\n",
       "  0.647881385064174,\n",
       "  0.6069850013993444,\n",
       "  0.5623977501803694,\n",
       "  0.5266913557882871,\n",
       "  0.4991534691361193,\n",
       "  0.4892239429729063,\n",
       "  0.4572925761831505,\n",
       "  0.4348628734167045,\n",
       "  0.42340205215820015,\n",
       "  0.4098102609031381,\n",
       "  0.4008099308058429,\n",
       "  0.3733023207620673,\n",
       "  0.37197926993598446,\n",
       "  0.36389196794088857,\n",
       "  0.33324333402014206,\n",
       "  0.34757527380973063,\n",
       "  0.3440697717003914,\n",
       "  0.327257407691587],\n",
       " 'accuracy': [0.36612213,\n",
       "  0.4442161,\n",
       "  0.48664182,\n",
       "  0.51708525,\n",
       "  0.54474205,\n",
       "  0.5713191,\n",
       "  0.6020412,\n",
       "  0.62983733,\n",
       "  0.66156954,\n",
       "  0.6833745,\n",
       "  0.7096729,\n",
       "  0.7340555,\n",
       "  0.7545369,\n",
       "  0.7690271,\n",
       "  0.7875579,\n",
       "  0.7986694,\n",
       "  0.81054723,\n",
       "  0.8155282,\n",
       "  0.82677907,\n",
       "  0.83531296,\n",
       "  0.8414783,\n",
       "  0.8465986,\n",
       "  0.8496987,\n",
       "  0.8583023,\n",
       "  0.8600091,\n",
       "  0.8639451,\n",
       "  0.8753004,\n",
       "  0.87174755,\n",
       "  0.87328017,\n",
       "  0.8777387]}"
      ]
     },
     "execution_count": 32,
     "metadata": {},
     "output_type": "execute_result"
    }
   ],
   "source": [
    "l.history"
   ]
  },
  {
   "cell_type": "markdown",
   "metadata": {},
   "source": [
    "<p>Nous pouvons voir que l'accuracy pour apprentissage se augmente continuellement meme apres 20 epoque<br>mais celle pour les donnees de validation reste faible et devient stable rapidement.<br>Une signe de sur-apprentissage (over-fitting).</p>"
   ]
  },
  {
   "cell_type": "code",
   "execution_count": 33,
   "metadata": {},
   "outputs": [
    {
     "data": {
      "image/png": "[encoded data removed]",
      "text/plain": [
       "<Figure size 432x288 with 1 Axes>"
      ]
     },
     "metadata": {
      "needs_background": "light"
     },
     "output_type": "display_data"
    }
   ],
   "source": [
    "# import seaborn as sns\n",
    "df_history = pd.DataFrame(l.history)\n",
    "sns.lineplot(data=df_history[['accuracy','val_accuracy']], palette=\"tab10\", linewidth=2.5);"
   ]
  },
  {
   "cell_type": "markdown",
   "metadata": {},
   "source": [
    "<p>Nous allons maintenant voir la performance de modele par la comarison les predictions et les cibles correspondantes</p>"
   ]
  },
  {
   "cell_type": "code",
   "execution_count": 34,
   "metadata": {},
   "outputs": [],
   "source": [
    "# load test data and make prediction\n",
    "y_pred = model.predict(X_test)"
   ]
  },
  {
   "cell_type": "code",
   "execution_count": 35,
   "metadata": {},
   "outputs": [],
   "source": [
    "# convert prediction to df\n",
    "submission = pd.DataFrame(data=y_pred)\n",
    "\n",
    "# set label as the 0-6 class with highest value \n",
    "submission['Label'] = submission.idxmax(axis=1)\n",
    "# submission['ImageId'] = np.asarray([i+1 for i in range(submission.shape[0])])"
   ]
  },
  {
   "cell_type": "markdown",
   "metadata": {},
   "source": [
    "<p>Probabilite de prediction pour chaque image</p>"
   ]
  },
  {
   "cell_type": "code",
   "execution_count": 36,
   "metadata": {},
   "outputs": [
    {
     "data": {
      "text/html": [
       "<div>\n",
       "<style scoped>\n",
       "    .dataframe tbody tr th:only-of-type {\n",
       "        vertical-align: middle;\n",
       "    }\n",
       "\n",
       "    .dataframe tbody tr th {\n",
       "        vertical-align: top;\n",
       "    }\n",
       "\n",
       "    .dataframe thead th {\n",
       "        text-align: right;\n",
       "    }\n",
       "</style>\n",
       "<table border=\"1\" class=\"dataframe\">\n",
       "  <thead>\n",
       "    <tr style=\"text-align: right;\">\n",
       "      <th></th>\n",
       "      <th>0</th>\n",
       "      <th>1</th>\n",
       "      <th>2</th>\n",
       "      <th>3</th>\n",
       "      <th>4</th>\n",
       "      <th>5</th>\n",
       "      <th>6</th>\n",
       "      <th>Label</th>\n",
       "    </tr>\n",
       "  </thead>\n",
       "  <tbody>\n",
       "    <tr>\n",
       "      <th>0</th>\n",
       "      <td>0.1614</td>\n",
       "      <td>0.0014</td>\n",
       "      <td>0.0315</td>\n",
       "      <td>0.3943</td>\n",
       "      <td>0.0665</td>\n",
       "      <td>0.0534</td>\n",
       "      <td>0.2915</td>\n",
       "      <td>3</td>\n",
       "    </tr>\n",
       "    <tr>\n",
       "      <th>1</th>\n",
       "      <td>0.0069</td>\n",
       "      <td>0.0000</td>\n",
       "      <td>0.0270</td>\n",
       "      <td>0.0000</td>\n",
       "      <td>0.9521</td>\n",
       "      <td>0.0001</td>\n",
       "      <td>0.0138</td>\n",
       "      <td>4</td>\n",
       "    </tr>\n",
       "    <tr>\n",
       "      <th>2</th>\n",
       "      <td>0.6586</td>\n",
       "      <td>0.0000</td>\n",
       "      <td>0.0082</td>\n",
       "      <td>0.3326</td>\n",
       "      <td>0.0006</td>\n",
       "      <td>0.0000</td>\n",
       "      <td>0.0000</td>\n",
       "      <td>0</td>\n",
       "    </tr>\n",
       "    <tr>\n",
       "      <th>3</th>\n",
       "      <td>0.0389</td>\n",
       "      <td>0.0004</td>\n",
       "      <td>0.0759</td>\n",
       "      <td>0.0268</td>\n",
       "      <td>0.3111</td>\n",
       "      <td>0.0002</td>\n",
       "      <td>0.5466</td>\n",
       "      <td>6</td>\n",
       "    </tr>\n",
       "    <tr>\n",
       "      <th>4</th>\n",
       "      <td>0.0435</td>\n",
       "      <td>0.0000</td>\n",
       "      <td>0.9439</td>\n",
       "      <td>0.0000</td>\n",
       "      <td>0.0119</td>\n",
       "      <td>0.0000</td>\n",
       "      <td>0.0007</td>\n",
       "      <td>2</td>\n",
       "    </tr>\n",
       "  </tbody>\n",
       "</table>\n",
       "</div>"
      ],
      "text/plain": [
       "        0       1       2       3       4       5       6  Label\n",
       "0  0.1614  0.0014  0.0315  0.3943  0.0665  0.0534  0.2915      3\n",
       "1  0.0069  0.0000  0.0270  0.0000  0.9521  0.0001  0.0138      4\n",
       "2  0.6586  0.0000  0.0082  0.3326  0.0006  0.0000  0.0000      0\n",
       "3  0.0389  0.0004  0.0759  0.0268  0.3111  0.0002  0.5466      6\n",
       "4  0.0435  0.0000  0.9439  0.0000  0.0119  0.0000  0.0007      2"
      ]
     },
     "execution_count": 36,
     "metadata": {},
     "output_type": "execute_result"
    }
   ],
   "source": [
    "submission.head().round(4)"
   ]
  },
  {
   "cell_type": "markdown",
   "metadata": {},
   "source": [
    "<p>Le matrix de confusion est"
   ]
  },
  {
   "cell_type": "code",
   "execution_count": 37,
   "metadata": {},
   "outputs": [],
   "source": [
    "# from sklearn.metrics import confusion_matrix\n",
    "cm = confusion_matrix(submission['Label'], df_PrivateTest['emotion'])\n",
    "cm = cm.astype('float') / cm.sum(axis=1)[:, np.newaxis]"
   ]
  },
  {
   "cell_type": "markdown",
   "metadata": {},
   "source": [
    "<p>Par analyse de confusion_matrix, nous allons voir que:\n",
    "<ol>\n",
    "    <li>Les chiffres sur le diagonal sont les plus eleves qui est bonne nouvelle. </li>\n",
    "    <li>Categorie 0(angry) est plus facile a melange avec 2(fear), 4(sad) et 3(happy)</li>\n",
    "    <li>Categorie 1(disquest) est plus facile a melange avec 0(angry), 2(fear) et 4(sad)</li>\n",
    "    <li>Categorie 2(fear) est plus facile a melange avec 4(sad), 0(angry), et 5(surprise)</li>\n",
    "    <li>Categorie 3(happy) est plus facile a melange avec 0(angry), 6(neutre), et 4(sad)</li>\n",
    "    <li>Categorie 4(sad) est plus facile a melange avec 2(fear), 0(angry), et 6(neutral)</li>\n",
    "    <li>Categorie 5(surprise) est plus facile a melange avec 2(fear), 3(happy), et 0(angry)</li>\n",
    "    <li>Categorie 6(fear) est plus facile a melange avec 4(sad), 0(angry), et 3(happy)</li>\n",
    "</ol>\n",
    "</p>"
   ]
  },
  {
   "cell_type": "code",
   "execution_count": 29,
   "metadata": {},
   "outputs": [],
   "source": [
    "def show_confusion_matrix(model):\n",
    "    submission = pd.DataFrame(model.predict(X_test))\n",
    "    submission['label'] = submission.idxmax(axis=1)\n",
    "    #y_pred = submission['label']\n",
    "    #y_real = df_PrivateTest['emotion']\n",
    "    cm = confusion_matrix(submission['label'], df_PrivateTest['emotion'])\n",
    "    cm = cm.astype('float') / cm.sum(axis=1)[:, np.newaxis]\n",
    "    cm = cm.round(2)\n",
    "    return pd.DataFrame(cm)"
   ]
  },
  {
   "cell_type": "code",
   "execution_count": 38,
   "metadata": {},
   "outputs": [
    {
     "name": "stdout",
     "output_type": "stream",
     "text": [
      "      0     1     2     3     4     5     6\n",
      "0  0.38  0.02  0.15  0.12  0.18  0.03  0.11\n",
      "1  0.07  0.66  0.07  0.03  0.03  0.03  0.10\n",
      "2  0.15  0.01  0.36  0.08  0.18  0.11  0.11\n",
      "3  0.05  0.01  0.05  0.70  0.08  0.03  0.08\n",
      "4  0.13  0.01  0.15  0.10  0.34  0.04  0.22\n",
      "5  0.06  0.01  0.11  0.06  0.05  0.66  0.05\n",
      "6  0.11  0.00  0.09  0.10  0.17  0.03  0.51\n"
     ]
    }
   ],
   "source": [
    "cm = cm.round(2)\n",
    "print(pd.DataFrame(cm))"
   ]
  },
  {
   "cell_type": "markdown",
   "metadata": {},
   "source": [
    "<h2>Deploiement du modele</h2)<br>\n",
    "<p>Nous allons sauvegarder ce modele pour la utiliser dans notre processure de deploiement<br>\n",
    "Nous allons continuer la recherche des hyperparametres pour la performance du modele</p>"
   ]
  },
  {
   "cell_type": "code",
   "execution_count": 39,
   "metadata": {},
   "outputs": [
    {
     "name": "stdout",
     "output_type": "stream",
     "text": [
      "Saved model to disk\n"
     ]
    }
   ],
   "source": [
    "# serialize model to JSON\n",
    "model_json = model.to_json()\n",
    "projet_dir = \"C:\\\\Users\\\\jeang\\\\Documents\\\\BDEB\\\\A62\\\\ProSyn3\"\n",
    "model_filename = 'fer.json'\n",
    "with open(os.path.join(projet_dir, model_filename), \"w\") as json_file:\n",
    "    json_file.write(model_json)\n",
    "# serialize weights to HDF5\n",
    "# model.save_weights(\"C:\\\\Users\\\\Nisha Haulkhory\\\\projet de synthese\\\\GIT\\\\ProSyn3\\\\fer.h5\")\n",
    "weight_filename = 'fer.h5'\n",
    "model.save_weights(os.path.join(projet_dir, weight_filename))\n",
    "print(\"Saved model to disk\")"
   ]
  },
  {
   "cell_type": "markdown",
   "metadata": {},
   "source": [
    "<h3>Deuxieme version</h3>\n",
    "<p>Nous nous concentrons sur le probleme de sur-apprentissage par ajustement des parametres<br>\n",
    "Le pipeline est essentiellement:<br><ul>\n",
    "    <li>Construire un modele</li>\n",
    "    <li>Visualiser et approver le modele</li>\n",
    "    <li>Apprendre ce modele</li>\n",
    "    <li>Afficher la performance du modele</li>\n",
    "    <li>Sauvegarder le modele</li>\n",
    "</ul>\n",
    "La fonction <b><mark>get_model</mark></b> est definie pour la construction du model<br>\n",
    "La fonction <b><mark>save_model</mark></b> est definie pour la sauvegarder\n",
    "</p>"
   ]
  },
  {
   "cell_type": "code",
   "execution_count": null,
   "metadata": {},
   "outputs": [],
   "source": []
  },
  {
   "cell_type": "code",
   "execution_count": 30,
   "metadata": {},
   "outputs": [],
   "source": [
    "# Creating a Sequential Model and adding the layers\n",
    "input_shape = (48, 48, 1)\n",
    "\n",
    "def get_model(num_layers=2, num_filtre=(32, 64), k_size=(5, 5), p_size=(2,2), dropout=((0,1),(0.5, 0.5))):\n",
    "    model = Sequential()\n",
    "    for layer in range(num_layers): \n",
    "        if layer == 0:\n",
    "            model.add(Conv2D(num_filtre[layer], kernel_size=k_size[layer], input_shape=input_shape))\n",
    "        else:\n",
    "            model.add(Conv2D(num_filtre[layer], kernel_size=k_size[layer]))\n",
    "        model.add(MaxPooling2D(pool_size=p_size))\n",
    "        if (len(dropout[0]) > 0) and (layer in dropout[0]):  # if specified, add Dropout layer for the Conv2D layer\n",
    "            model.add(Dropout(dropout[1][layer]))\n",
    "\n",
    "    model.add(Flatten()) # Flattening the 2D arrays for fully connected layers\n",
    "    model.add(Dense(64, activation=tf.nn.relu))\n",
    "    model.add(Dropout(0.2))\n",
    "    model.add(Dense(7,activation=tf.nn.softmax))\n",
    "    model.compile(optimizer='adam', loss='categorical_crossentropy', metrics=['accuracy'])\n",
    "    return model"
   ]
  },
  {
   "cell_type": "code",
   "execution_count": 31,
   "metadata": {},
   "outputs": [],
   "source": [
    "def save_model(model, file_json=\"\", file_weight=\"\", workdir=\"C:\\\\Users\\\\jeang\\\\Documents\\\\BDEB\\\\A62\\\\ProSyn3\"):\n",
    "    # serialize model to JSON\n",
    "    model_json = model.to_json()\n",
    "    projet_dir = workdir\n",
    "    model_filename = 'fer.json' if file_json==\"\" else file_json\n",
    "    with open(os.path.join(projet_dir, model_filename), \"w\") as json_file:\n",
    "        json_file.write(model_json)\n",
    "\n",
    "    # serialize weights to HDF5\n",
    "    # model.save_weights(\"C:\\\\Users\\\\Nisha Haulkhory\\\\projet de synthese\\\\GIT\\\\ProSyn3\\\\fer.h5\")\n",
    "    weight_filename = 'fer.h5' if file_weight==\"\" else file_weight\n",
    "    model.save_weights(os.path.join(projet_dir, weight_filename))\n",
    "    print(\"Saved model to disk\")"
   ]
  },
  {
   "cell_type": "code",
   "execution_count": 43,
   "metadata": {},
   "outputs": [],
   "source": [
    "model = get_model()"
   ]
  },
  {
   "cell_type": "code",
   "execution_count": 44,
   "metadata": {},
   "outputs": [
    {
     "name": "stdout",
     "output_type": "stream",
     "text": [
      "Model: \"sequential_3\"\n",
      "_________________________________________________________________\n",
      "Layer (type)                 Output Shape              Param #   \n",
      "=================================================================\n",
      "conv2d_4 (Conv2D)            (None, 44, 44, 32)        832       \n",
      "_________________________________________________________________\n",
      "max_pooling2d_3 (MaxPooling2 (None, 22, 22, 32)        0         \n",
      "_________________________________________________________________\n",
      "dropout_2 (Dropout)          (None, 22, 22, 32)        0         \n",
      "_________________________________________________________________\n",
      "conv2d_5 (Conv2D)            (None, 18, 18, 64)        51264     \n",
      "_________________________________________________________________\n",
      "max_pooling2d_4 (MaxPooling2 (None, 9, 9, 64)          0         \n",
      "_________________________________________________________________\n",
      "dropout_3 (Dropout)          (None, 9, 9, 64)          0         \n",
      "_________________________________________________________________\n",
      "flatten_2 (Flatten)          (None, 5184)              0         \n",
      "_________________________________________________________________\n",
      "dense_3 (Dense)              (None, 64)                331840    \n",
      "_________________________________________________________________\n",
      "dropout_4 (Dropout)          (None, 64)                0         \n",
      "_________________________________________________________________\n",
      "dense_4 (Dense)              (None, 7)                 455       \n",
      "=================================================================\n",
      "Total params: 384,391\n",
      "Trainable params: 384,391\n",
      "Non-trainable params: 0\n",
      "_________________________________________________________________\n"
     ]
    }
   ],
   "source": [
    "# model.compile(optimizer='adam', loss='categorical_crossentropy', metrics=['accuracy'])\n",
    "model.summary()"
   ]
  },
  {
   "cell_type": "code",
   "execution_count": 45,
   "metadata": {},
   "outputs": [
    {
     "name": "stdout",
     "output_type": "stream",
     "text": [
      "Train on 28709 samples, validate on 3589 samples\n",
      "Epoch 1/30\n",
      "28709/28709 [==============================] - 51s 2ms/step - loss: 1.7415 - accuracy: 0.3009 - val_loss: 1.5719 - val_accuracy: 0.3979\n",
      "Epoch 2/30\n",
      "28709/28709 [==============================] - 51s 2ms/step - loss: 1.6246 - accuracy: 0.3607 - val_loss: 1.5040 - val_accuracy: 0.4182\n",
      "Epoch 3/30\n",
      "28709/28709 [==============================] - 54s 2ms/step - loss: 1.5824 - accuracy: 0.3821 - val_loss: 1.5055 - val_accuracy: 0.4241\n",
      "Epoch 4/30\n",
      "28709/28709 [==============================] - 52s 2ms/step - loss: 1.5457 - accuracy: 0.3980 - val_loss: 1.4157 - val_accuracy: 0.4522\n",
      "Epoch 5/30\n",
      "28709/28709 [==============================] - 53s 2ms/step - loss: 1.5155 - accuracy: 0.4080 - val_loss: 1.4154 - val_accuracy: 0.4556\n",
      "Epoch 6/30\n",
      "28709/28709 [==============================] - 51s 2ms/step - loss: 1.4937 - accuracy: 0.4192 - val_loss: 1.3859 - val_accuracy: 0.4700\n",
      "Epoch 7/30\n",
      "28709/28709 [==============================] - 52s 2ms/step - loss: 1.4737 - accuracy: 0.4262 - val_loss: 1.4246 - val_accuracy: 0.4678\n",
      "Epoch 8/30\n",
      "28709/28709 [==============================] - 52s 2ms/step - loss: 1.4627 - accuracy: 0.4315 - val_loss: 1.3956 - val_accuracy: 0.4600\n",
      "Epoch 9/30\n",
      "28709/28709 [==============================] - 52s 2ms/step - loss: 1.4534 - accuracy: 0.4367 - val_loss: 1.3782 - val_accuracy: 0.4698\n",
      "Epoch 10/30\n",
      "28709/28709 [==============================] - 51s 2ms/step - loss: 1.4375 - accuracy: 0.4399 - val_loss: 1.3479 - val_accuracy: 0.4904\n",
      "Epoch 11/30\n",
      "28709/28709 [==============================] - 52s 2ms/step - loss: 1.4261 - accuracy: 0.4466 - val_loss: 1.3771 - val_accuracy: 0.4784\n",
      "Epoch 12/30\n",
      "28709/28709 [==============================] - 52s 2ms/step - loss: 1.4250 - accuracy: 0.4469 - val_loss: 1.3343 - val_accuracy: 0.4926\n",
      "Epoch 13/30\n",
      "28709/28709 [==============================] - 51s 2ms/step - loss: 1.4091 - accuracy: 0.4549 - val_loss: 1.3516 - val_accuracy: 0.4870\n",
      "Epoch 14/30\n",
      "28709/28709 [==============================] - 51s 2ms/step - loss: 1.4002 - accuracy: 0.4549 - val_loss: 1.3568 - val_accuracy: 0.4806\n",
      "Epoch 15/30\n",
      "28709/28709 [==============================] - 49s 2ms/step - loss: 1.3963 - accuracy: 0.4588 - val_loss: 1.3256 - val_accuracy: 0.4876\n",
      "Epoch 16/30\n",
      "28709/28709 [==============================] - 52s 2ms/step - loss: 1.3915 - accuracy: 0.4629 - val_loss: 1.3960 - val_accuracy: 0.4935\n",
      "Epoch 17/30\n",
      "28709/28709 [==============================] - 52s 2ms/step - loss: 1.3820 - accuracy: 0.4626 - val_loss: 1.2981 - val_accuracy: 0.4996\n",
      "Epoch 18/30\n",
      "28709/28709 [==============================] - 52s 2ms/step - loss: 1.3757 - accuracy: 0.4630 - val_loss: 1.3570 - val_accuracy: 0.4837\n",
      "Epoch 19/30\n",
      "28709/28709 [==============================] - 52s 2ms/step - loss: 1.3771 - accuracy: 0.4713 - val_loss: 1.3056 - val_accuracy: 0.4926\n",
      "Epoch 20/30\n",
      "28709/28709 [==============================] - 52s 2ms/step - loss: 1.3661 - accuracy: 0.4703 - val_loss: 1.3286 - val_accuracy: 0.5026\n",
      "Epoch 21/30\n",
      "28709/28709 [==============================] - 52s 2ms/step - loss: 1.3621 - accuracy: 0.4754 - val_loss: 1.2960 - val_accuracy: 0.5091\n",
      "Epoch 22/30\n",
      "28709/28709 [==============================] - 51s 2ms/step - loss: 1.3494 - accuracy: 0.4786 - val_loss: 1.3475 - val_accuracy: 0.4948\n",
      "Epoch 23/30\n",
      "28709/28709 [==============================] - 52s 2ms/step - loss: 1.3547 - accuracy: 0.4716 - val_loss: 1.3146 - val_accuracy: 0.4960\n",
      "Epoch 24/30\n",
      "28709/28709 [==============================] - 51s 2ms/step - loss: 1.3464 - accuracy: 0.4778 - val_loss: 1.2984 - val_accuracy: 0.5021\n",
      "Epoch 25/30\n",
      "28709/28709 [==============================] - 52s 2ms/step - loss: 1.3470 - accuracy: 0.4808 - val_loss: 1.2857 - val_accuracy: 0.5035\n",
      "Epoch 26/30\n",
      "28709/28709 [==============================] - 52s 2ms/step - loss: 1.3359 - accuracy: 0.4762 - val_loss: 1.3065 - val_accuracy: 0.5043\n",
      "Epoch 27/30\n",
      "28709/28709 [==============================] - 51s 2ms/step - loss: 1.3362 - accuracy: 0.4809 - val_loss: 1.3054 - val_accuracy: 0.5032\n",
      "Epoch 28/30\n",
      "28709/28709 [==============================] - 52s 2ms/step - loss: 1.3339 - accuracy: 0.4818 - val_loss: 1.3235 - val_accuracy: 0.5124\n",
      "Epoch 29/30\n",
      "28709/28709 [==============================] - 52s 2ms/step - loss: 1.3298 - accuracy: 0.4802 - val_loss: 1.3008 - val_accuracy: 0.4996\n",
      "Epoch 30/30\n",
      "28709/28709 [==============================] - 53s 2ms/step - loss: 1.3326 - accuracy: 0.4818 - val_loss: 1.3128 - val_accuracy: 0.5018\n"
     ]
    }
   ],
   "source": [
    "l = model.fit(x=X_train, y=Y_train, validation_data = (X_valid, Y_valid), batch_size=32, epochs=30)"
   ]
  },
  {
   "cell_type": "code",
   "execution_count": 46,
   "metadata": {},
   "outputs": [
    {
     "data": {
      "image/png": "[encoded data removed]",
      "text/plain": [
       "<Figure size 432x288 with 1 Axes>"
      ]
     },
     "metadata": {
      "needs_background": "light"
     },
     "output_type": "display_data"
    }
   ],
   "source": [
    "sns.lineplot(data=pd.DataFrame(l.history)[['accuracy','val_accuracy']], palette=\"tab10\", linewidth=2.5);"
   ]
  },
  {
   "cell_type": "code",
   "execution_count": 49,
   "metadata": {},
   "outputs": [
    {
     "name": "stdout",
     "output_type": "stream",
     "text": [
      "Saved model to disk\n"
     ]
    }
   ],
   "source": [
    "save_model(model, file_json=\"ferv2.json\", file_weight=\"ferv2.h5\")"
   ]
  },
  {
   "cell_type": "markdown",
   "metadata": {},
   "source": [
    "<h3>Troisieme version</h3>\n",
    "<ul><li>Par la version 2, le probleme de sur-apprentissage est largement regle</li>\n",
    "<li>Pour la version 2, la performance (accuracy) est fable pour les donnees d'apprentissage</li>\n",
    "    <li>Pour la version 3, nous allons concentrer sur l'augmentation de la performance</li></ul>"
   ]
  },
  {
   "cell_type": "code",
   "execution_count": 51,
   "metadata": {},
   "outputs": [
    {
     "name": "stdout",
     "output_type": "stream",
     "text": [
      "Model: \"sequential_4\"\n",
      "_________________________________________________________________\n",
      "Layer (type)                 Output Shape              Param #   \n",
      "=================================================================\n",
      "conv2d_6 (Conv2D)            (None, 46, 46, 64)        640       \n",
      "_________________________________________________________________\n",
      "max_pooling2d_5 (MaxPooling2 (None, 23, 23, 64)        0         \n",
      "_________________________________________________________________\n",
      "dropout_5 (Dropout)          (None, 23, 23, 64)        0         \n",
      "_________________________________________________________________\n",
      "conv2d_7 (Conv2D)            (None, 21, 21, 64)        36928     \n",
      "_________________________________________________________________\n",
      "max_pooling2d_6 (MaxPooling2 (None, 10, 10, 64)        0         \n",
      "_________________________________________________________________\n",
      "dropout_6 (Dropout)          (None, 10, 10, 64)        0         \n",
      "_________________________________________________________________\n",
      "flatten_3 (Flatten)          (None, 6400)              0         \n",
      "_________________________________________________________________\n",
      "dense_5 (Dense)              (None, 64)                409664    \n",
      "_________________________________________________________________\n",
      "dropout_7 (Dropout)          (None, 64)                0         \n",
      "_________________________________________________________________\n",
      "dense_6 (Dense)              (None, 7)                 455       \n",
      "=================================================================\n",
      "Total params: 447,687\n",
      "Trainable params: 447,687\n",
      "Non-trainable params: 0\n",
      "_________________________________________________________________\n"
     ]
    }
   ],
   "source": [
    "model = get_model(num_layers=2, num_filtre=(64, 64), k_size=(3, 3), p_size=(2, 2), dropout=((0,1),(0.25, 0.25)))\n",
    "model.summary()"
   ]
  },
  {
   "cell_type": "code",
   "execution_count": 52,
   "metadata": {},
   "outputs": [
    {
     "name": "stdout",
     "output_type": "stream",
     "text": [
      "Train on 28709 samples, validate on 3589 samples\n",
      "Epoch 1/30\n",
      "28709/28709 [==============================] - 66s 2ms/step - loss: 1.6449 - accuracy: 0.3505 - val_loss: 1.4866 - val_accuracy: 0.4269\n",
      "Epoch 2/30\n",
      "28709/28709 [==============================] - 66s 2ms/step - loss: 1.4614 - accuracy: 0.4351 - val_loss: 1.3780 - val_accuracy: 0.4698\n",
      "Epoch 3/30\n",
      "28709/28709 [==============================] - 65s 2ms/step - loss: 1.3798 - accuracy: 0.4684 - val_loss: 1.3485 - val_accuracy: 0.4862\n",
      "Epoch 4/30\n",
      "28709/28709 [==============================] - 66s 2ms/step - loss: 1.3127 - accuracy: 0.4928 - val_loss: 1.3332 - val_accuracy: 0.4929\n",
      "Epoch 5/30\n",
      "28709/28709 [==============================] - 65s 2ms/step - loss: 1.2510 - accuracy: 0.5227 - val_loss: 1.3314 - val_accuracy: 0.5015\n",
      "Epoch 6/30\n",
      "28709/28709 [==============================] - 65s 2ms/step - loss: 1.2043 - accuracy: 0.5416 - val_loss: 1.3544 - val_accuracy: 0.4974\n",
      "Epoch 7/30\n",
      "28709/28709 [==============================] - 65s 2ms/step - loss: 1.1433 - accuracy: 0.5658 - val_loss: 1.3133 - val_accuracy: 0.5026\n",
      "Epoch 8/30\n",
      "28709/28709 [==============================] - 65s 2ms/step - loss: 1.0974 - accuracy: 0.5831 - val_loss: 1.3255 - val_accuracy: 0.5015\n",
      "Epoch 9/30\n",
      "28709/28709 [==============================] - 65s 2ms/step - loss: 1.0540 - accuracy: 0.6013 - val_loss: 1.3221 - val_accuracy: 0.5113\n",
      "Epoch 10/30\n",
      "28709/28709 [==============================] - 65s 2ms/step - loss: 1.0045 - accuracy: 0.6210 - val_loss: 1.3941 - val_accuracy: 0.5018\n",
      "Epoch 11/30\n",
      "28709/28709 [==============================] - 66s 2ms/step - loss: 0.9668 - accuracy: 0.6340 - val_loss: 1.4416 - val_accuracy: 0.5068\n",
      "Epoch 12/30\n",
      "28709/28709 [==============================] - 66s 2ms/step - loss: 0.9286 - accuracy: 0.6489 - val_loss: 1.4388 - val_accuracy: 0.5093\n",
      "Epoch 13/30\n",
      "28709/28709 [==============================] - 64s 2ms/step - loss: 0.9036 - accuracy: 0.6589 - val_loss: 1.4200 - val_accuracy: 0.5146\n",
      "Epoch 14/30\n",
      "28709/28709 [==============================] - 66s 2ms/step - loss: 0.8715 - accuracy: 0.6687 - val_loss: 1.5057 - val_accuracy: 0.5104\n",
      "Epoch 15/30\n",
      "28709/28709 [==============================] - 66s 2ms/step - loss: 0.8563 - accuracy: 0.6738 - val_loss: 1.4879 - val_accuracy: 0.5065\n",
      "Epoch 16/30\n",
      "28709/28709 [==============================] - 65s 2ms/step - loss: 0.8328 - accuracy: 0.6832 - val_loss: 1.5748 - val_accuracy: 0.5116\n",
      "Epoch 17/30\n",
      "28709/28709 [==============================] - 65s 2ms/step - loss: 0.7994 - accuracy: 0.6954 - val_loss: 1.5697 - val_accuracy: 0.5102\n",
      "Epoch 18/30\n",
      "28709/28709 [==============================] - 64s 2ms/step - loss: 0.7892 - accuracy: 0.7019 - val_loss: 1.4960 - val_accuracy: 0.5116\n",
      "Epoch 19/30\n",
      "28709/28709 [==============================] - 66s 2ms/step - loss: 0.7731 - accuracy: 0.7090 - val_loss: 1.6351 - val_accuracy: 0.4987\n",
      "Epoch 20/30\n",
      "28709/28709 [==============================] - 65s 2ms/step - loss: 0.7525 - accuracy: 0.7156 - val_loss: 1.5991 - val_accuracy: 0.5079\n",
      "Epoch 21/30\n",
      "28709/28709 [==============================] - 64s 2ms/step - loss: 0.7407 - accuracy: 0.7182 - val_loss: 1.6728 - val_accuracy: 0.5049\n",
      "Epoch 22/30\n",
      "28709/28709 [==============================] - 65s 2ms/step - loss: 0.7219 - accuracy: 0.7279 - val_loss: 1.5870 - val_accuracy: 0.5138\n",
      "Epoch 23/30\n",
      "28709/28709 [==============================] - 65s 2ms/step - loss: 0.7190 - accuracy: 0.7304 - val_loss: 1.6577 - val_accuracy: 0.5138\n",
      "Epoch 24/30\n",
      "28709/28709 [==============================] - 65s 2ms/step - loss: 0.7026 - accuracy: 0.7373 - val_loss: 1.6224 - val_accuracy: 0.5141\n",
      "Epoch 25/30\n",
      "28709/28709 [==============================] - 66s 2ms/step - loss: 0.6920 - accuracy: 0.7391 - val_loss: 1.6937 - val_accuracy: 0.4996\n",
      "Epoch 26/30\n",
      "28709/28709 [==============================] - 65s 2ms/step - loss: 0.6876 - accuracy: 0.7372 - val_loss: 1.7347 - val_accuracy: 0.5099\n",
      "Epoch 27/30\n",
      "28709/28709 [==============================] - 64s 2ms/step - loss: 0.6683 - accuracy: 0.7480 - val_loss: 1.6700 - val_accuracy: 0.5046\n",
      "Epoch 28/30\n",
      "28709/28709 [==============================] - 65s 2ms/step - loss: 0.6594 - accuracy: 0.7493 - val_loss: 1.7840 - val_accuracy: 0.5166\n",
      "Epoch 29/30\n",
      "28709/28709 [==============================] - 65s 2ms/step - loss: 0.6468 - accuracy: 0.7552 - val_loss: 1.7539 - val_accuracy: 0.5185\n",
      "Epoch 30/30\n",
      "28709/28709 [==============================] - 65s 2ms/step - loss: 0.6440 - accuracy: 0.7571 - val_loss: 1.7978 - val_accuracy: 0.5135\n",
      "Saved model to disk\n"
     ]
    },
    {
     "data": {
      "image/png": "[encoded data removed]",
      "text/plain": [
       "<Figure size 432x288 with 1 Axes>"
      ]
     },
     "metadata": {
      "needs_background": "light"
     },
     "output_type": "display_data"
    }
   ],
   "source": [
    "l = model.fit(x=X_train, y=Y_train, validation_data = (X_valid, Y_valid), batch_size=32, epochs=30)\n",
    "sns.lineplot(data=pd.DataFrame(l.history)[['accuracy','val_accuracy']], palette=\"tab10\", linewidth=2.5);\n",
    "save_model(model, file_json=\"ferv3.json\", file_weight=\"ferv3.h5\")"
   ]
  },
  {
   "cell_type": "markdown",
   "metadata": {},
   "source": [
    "<h3> Quatrieme version</h3>\n",
    "<ul><li>Par la version 3, le probleme de faible performance n'est pas regle</li>\n",
    "<li>Pour la version 3, le probleme de sur-apprentissage est revenu</li>\n",
    "<li>Pour la version 4, nous allons ajouter une fonction activation <b><mark>ReLu</mark></b> et normalizer les donnees pour chaque couche</li></ul>"
   ]
  },
  {
   "cell_type": "code",
   "execution_count": 26,
   "metadata": {},
   "outputs": [],
   "source": [
    "def get_model_v2(num_layers=3, num_filtre=(32, 64, 64), k_size=(3, 3, 3), p_size=(2, 2), dropout=((0,1,2),(0.25, 0.25, 0.25))):\n",
    "    input_shape = (48, 48, 1)\n",
    "    model = Sequential()\n",
    "    for layer in range(num_layers): \n",
    "        if layer == 0:\n",
    "            model.add(Conv2D(num_filtre[layer], kernel_size=k_size[layer], activation=tf.nn.relu, padding=\"same\", input_shape=input_shape))\n",
    "        else:\n",
    "            model.add(Conv2D(num_filtre[layer], kernel_size=k_size[layer], activation=tf.nn.relu, padding=\"same\"))\n",
    "        \n",
    "        model.add(MaxPooling2D(pool_size=p_size))\n",
    "        model.add(BatchNormalization())\n",
    "\n",
    "        if (len(dropout[0]) > 0) and (layer in dropout[0]):  # if specified, add Dropout layer for the Conv2D layer\n",
    "            model.add(Dropout(dropout[1][layer]))\n",
    "\n",
    "    model.add(Flatten()) # Flattening the 2D arrays for fully connected layers\n",
    "    model.add(Dense(64, activation=tf.nn.relu))\n",
    "    model.add(Dropout(0.2))\n",
    "    model.add(Dense(7,activation=tf.nn.softmax))\n",
    "    model.compile(optimizer='adam', loss='categorical_crossentropy', metrics=['accuracy'])\n",
    "    return model"
   ]
  },
  {
   "cell_type": "code",
   "execution_count": 54,
   "metadata": {},
   "outputs": [
    {
     "name": "stdout",
     "output_type": "stream",
     "text": [
      "Model: \"sequential_5\"\n",
      "_________________________________________________________________\n",
      "Layer (type)                 Output Shape              Param #   \n",
      "=================================================================\n",
      "conv2d_8 (Conv2D)            (None, 48, 48, 32)        320       \n",
      "_________________________________________________________________\n",
      "max_pooling2d_7 (MaxPooling2 (None, 24, 24, 32)        0         \n",
      "_________________________________________________________________\n",
      "batch_normalization_1 (Batch (None, 24, 24, 32)        128       \n",
      "_________________________________________________________________\n",
      "dropout_8 (Dropout)          (None, 24, 24, 32)        0         \n",
      "_________________________________________________________________\n",
      "conv2d_9 (Conv2D)            (None, 24, 24, 64)        18496     \n",
      "_________________________________________________________________\n",
      "max_pooling2d_8 (MaxPooling2 (None, 12, 12, 64)        0         \n",
      "_________________________________________________________________\n",
      "batch_normalization_2 (Batch (None, 12, 12, 64)        256       \n",
      "_________________________________________________________________\n",
      "dropout_9 (Dropout)          (None, 12, 12, 64)        0         \n",
      "_________________________________________________________________\n",
      "conv2d_10 (Conv2D)           (None, 12, 12, 64)        36928     \n",
      "_________________________________________________________________\n",
      "max_pooling2d_9 (MaxPooling2 (None, 6, 6, 64)          0         \n",
      "_________________________________________________________________\n",
      "batch_normalization_3 (Batch (None, 6, 6, 64)          256       \n",
      "_________________________________________________________________\n",
      "dropout_10 (Dropout)         (None, 6, 6, 64)          0         \n",
      "_________________________________________________________________\n",
      "flatten_4 (Flatten)          (None, 2304)              0         \n",
      "_________________________________________________________________\n",
      "dense_7 (Dense)              (None, 64)                147520    \n",
      "_________________________________________________________________\n",
      "dropout_11 (Dropout)         (None, 64)                0         \n",
      "_________________________________________________________________\n",
      "dense_8 (Dense)              (None, 7)                 455       \n",
      "=================================================================\n",
      "Total params: 204,359\n",
      "Trainable params: 204,039\n",
      "Non-trainable params: 320\n",
      "_________________________________________________________________\n"
     ]
    }
   ],
   "source": [
    "model = get_model_v2()\n",
    "model.summary()"
   ]
  },
  {
   "cell_type": "code",
   "execution_count": 55,
   "metadata": {},
   "outputs": [
    {
     "name": "stdout",
     "output_type": "stream",
     "text": [
      "Train on 28709 samples, validate on 3589 samples\n",
      "Epoch 1/30\n",
      "28709/28709 [==============================] - 68s 2ms/step - loss: 1.6833 - accuracy: 0.3336 - val_loss: 1.5278 - val_accuracy: 0.4115\n",
      "Epoch 2/30\n",
      "28709/28709 [==============================] - 71s 2ms/step - loss: 1.4893 - accuracy: 0.4180 - val_loss: 1.4675 - val_accuracy: 0.4369\n",
      "Epoch 3/30\n",
      "28709/28709 [==============================] - 68s 2ms/step - loss: 1.4002 - accuracy: 0.4581 - val_loss: 1.3163 - val_accuracy: 0.4820\n",
      "Epoch 4/30\n",
      "28709/28709 [==============================] - 69s 2ms/step - loss: 1.3440 - accuracy: 0.4866 - val_loss: 1.3295 - val_accuracy: 0.4776\n",
      "Epoch 5/30\n",
      "28709/28709 [==============================] - 69s 2ms/step - loss: 1.2924 - accuracy: 0.5045 - val_loss: 1.2440 - val_accuracy: 0.5155\n",
      "Epoch 6/30\n",
      "28709/28709 [==============================] - 69s 2ms/step - loss: 1.2438 - accuracy: 0.5246 - val_loss: 1.3325 - val_accuracy: 0.5035\n",
      "Epoch 7/30\n",
      "28709/28709 [==============================] - 69s 2ms/step - loss: 1.2044 - accuracy: 0.5406 - val_loss: 1.1939 - val_accuracy: 0.5492\n",
      "Epoch 8/30\n",
      "28709/28709 [==============================] - 69s 2ms/step - loss: 1.1774 - accuracy: 0.5544 - val_loss: 1.2594 - val_accuracy: 0.5238\n",
      "Epoch 9/30\n",
      "28709/28709 [==============================] - 68s 2ms/step - loss: 1.1513 - accuracy: 0.5592 - val_loss: 1.2258 - val_accuracy: 0.5369\n",
      "Epoch 10/30\n",
      "28709/28709 [==============================] - 68s 2ms/step - loss: 1.1095 - accuracy: 0.5777 - val_loss: 1.2020 - val_accuracy: 0.5472\n",
      "Epoch 11/30\n",
      "28709/28709 [==============================] - 71s 2ms/step - loss: 1.0855 - accuracy: 0.5898 - val_loss: 1.1477 - val_accuracy: 0.5623\n",
      "Epoch 12/30\n",
      "28709/28709 [==============================] - 70s 2ms/step - loss: 1.0585 - accuracy: 0.5964 - val_loss: 1.2657 - val_accuracy: 0.5308\n",
      "Epoch 13/30\n",
      "28709/28709 [==============================] - 69s 2ms/step - loss: 1.0406 - accuracy: 0.6042 - val_loss: 1.1574 - val_accuracy: 0.5595\n",
      "Epoch 14/30\n",
      "28709/28709 [==============================] - 69s 2ms/step - loss: 1.0297 - accuracy: 0.6132 - val_loss: 1.1445 - val_accuracy: 0.5706\n",
      "Epoch 15/30\n",
      "28709/28709 [==============================] - 69s 2ms/step - loss: 1.0127 - accuracy: 0.6166 - val_loss: 1.1434 - val_accuracy: 0.5684\n",
      "Epoch 16/30\n",
      "28709/28709 [==============================] - 70s 2ms/step - loss: 0.9846 - accuracy: 0.6262 - val_loss: 1.1778 - val_accuracy: 0.5653\n",
      "Epoch 17/30\n",
      "28709/28709 [==============================] - 70s 2ms/step - loss: 0.9717 - accuracy: 0.6335 - val_loss: 1.1800 - val_accuracy: 0.5648\n",
      "Epoch 18/30\n",
      "28709/28709 [==============================] - 70s 2ms/step - loss: 0.9560 - accuracy: 0.6365 - val_loss: 1.1412 - val_accuracy: 0.5709\n",
      "Epoch 19/30\n",
      "28709/28709 [==============================] - 70s 2ms/step - loss: 0.9384 - accuracy: 0.6490 - val_loss: 1.1084 - val_accuracy: 0.5885\n",
      "Epoch 20/30\n",
      "28709/28709 [==============================] - 70s 2ms/step - loss: 0.9317 - accuracy: 0.6478 - val_loss: 1.2799 - val_accuracy: 0.5408\n",
      "Epoch 21/30\n",
      "28709/28709 [==============================] - 69s 2ms/step - loss: 0.9224 - accuracy: 0.6507 - val_loss: 1.1945 - val_accuracy: 0.5472\n",
      "Epoch 22/30\n",
      "28709/28709 [==============================] - 68s 2ms/step - loss: 0.9083 - accuracy: 0.6558 - val_loss: 1.1361 - val_accuracy: 0.5787\n",
      "Epoch 23/30\n",
      "28709/28709 [==============================] - 69s 2ms/step - loss: 0.8936 - accuracy: 0.6662 - val_loss: 1.1441 - val_accuracy: 0.5815\n",
      "Epoch 24/30\n",
      "28709/28709 [==============================] - 73s 3ms/step - loss: 0.8889 - accuracy: 0.6663 - val_loss: 1.1630 - val_accuracy: 0.5795\n",
      "Epoch 25/30\n",
      "28709/28709 [==============================] - 71s 2ms/step - loss: 0.8723 - accuracy: 0.6733 - val_loss: 1.1330 - val_accuracy: 0.5846\n",
      "Epoch 26/30\n",
      "28709/28709 [==============================] - 71s 2ms/step - loss: 0.8714 - accuracy: 0.6726 - val_loss: 1.1187 - val_accuracy: 0.5926\n",
      "Epoch 27/30\n",
      "28709/28709 [==============================] - 72s 3ms/step - loss: 0.8631 - accuracy: 0.6755 - val_loss: 1.2019 - val_accuracy: 0.5734\n",
      "Epoch 28/30\n",
      "28709/28709 [==============================] - 71s 2ms/step - loss: 0.8485 - accuracy: 0.6809 - val_loss: 1.1393 - val_accuracy: 0.5840\n",
      "Epoch 29/30\n",
      "28709/28709 [==============================] - 73s 3ms/step - loss: 0.8466 - accuracy: 0.6849 - val_loss: 1.1328 - val_accuracy: 0.5893\n",
      "Epoch 30/30\n",
      "28709/28709 [==============================] - 73s 3ms/step - loss: 0.8266 - accuracy: 0.6869 - val_loss: 1.1835 - val_accuracy: 0.5840\n",
      "Saved model to disk\n"
     ]
    },
    {
     "data": {
      "image/png": "[encoded data removed]",
      "text/plain": [
       "<Figure size 432x288 with 1 Axes>"
      ]
     },
     "metadata": {
      "needs_background": "light"
     },
     "output_type": "display_data"
    }
   ],
   "source": [
    "l = model.fit(x=X_train, y=Y_train, validation_data = (X_valid, Y_valid), batch_size=32, epochs=30)\n",
    "sns.lineplot(data=pd.DataFrame(l.history)[['accuracy','val_accuracy']], palette=\"tab10\", linewidth=2.5);\n",
    "save_model(model, file_json=\"ferv4.json\", file_weight=\"ferv4.h5\")"
   ]
  },
  {
   "cell_type": "markdown",
   "metadata": {},
   "source": [
    "<h3> Cinqieme version</h3>\n",
    "<ul><li>Par la version 4, la performance est monte 0.58 contre 0.51</li>\n",
    "<li>Pour la version 4, le probleme de sur-apprentissage exist encore</li>\n",
    "<li>Pour la version 5, nous allons ajouter simplement une couche de plus</li></ul>"
   ]
  },
  {
   "cell_type": "code",
   "execution_count": 56,
   "metadata": {},
   "outputs": [
    {
     "name": "stdout",
     "output_type": "stream",
     "text": [
      "Model: \"sequential_6\"\n",
      "_________________________________________________________________\n",
      "Layer (type)                 Output Shape              Param #   \n",
      "=================================================================\n",
      "conv2d_11 (Conv2D)           (None, 48, 48, 32)        320       \n",
      "_________________________________________________________________\n",
      "max_pooling2d_10 (MaxPooling (None, 24, 24, 32)        0         \n",
      "_________________________________________________________________\n",
      "batch_normalization_4 (Batch (None, 24, 24, 32)        128       \n",
      "_________________________________________________________________\n",
      "dropout_12 (Dropout)         (None, 24, 24, 32)        0         \n",
      "_________________________________________________________________\n",
      "conv2d_12 (Conv2D)           (None, 24, 24, 64)        18496     \n",
      "_________________________________________________________________\n",
      "max_pooling2d_11 (MaxPooling (None, 12, 12, 64)        0         \n",
      "_________________________________________________________________\n",
      "batch_normalization_5 (Batch (None, 12, 12, 64)        256       \n",
      "_________________________________________________________________\n",
      "dropout_13 (Dropout)         (None, 12, 12, 64)        0         \n",
      "_________________________________________________________________\n",
      "conv2d_13 (Conv2D)           (None, 12, 12, 64)        36928     \n",
      "_________________________________________________________________\n",
      "max_pooling2d_12 (MaxPooling (None, 6, 6, 64)          0         \n",
      "_________________________________________________________________\n",
      "batch_normalization_6 (Batch (None, 6, 6, 64)          256       \n",
      "_________________________________________________________________\n",
      "dropout_14 (Dropout)         (None, 6, 6, 64)          0         \n",
      "_________________________________________________________________\n",
      "conv2d_14 (Conv2D)           (None, 6, 6, 128)         73856     \n",
      "_________________________________________________________________\n",
      "max_pooling2d_13 (MaxPooling (None, 3, 3, 128)         0         \n",
      "_________________________________________________________________\n",
      "batch_normalization_7 (Batch (None, 3, 3, 128)         512       \n",
      "_________________________________________________________________\n",
      "dropout_15 (Dropout)         (None, 3, 3, 128)         0         \n",
      "_________________________________________________________________\n",
      "flatten_5 (Flatten)          (None, 1152)              0         \n",
      "_________________________________________________________________\n",
      "dense_9 (Dense)              (None, 64)                73792     \n",
      "_________________________________________________________________\n",
      "dropout_16 (Dropout)         (None, 64)                0         \n",
      "_________________________________________________________________\n",
      "dense_10 (Dense)             (None, 7)                 455       \n",
      "=================================================================\n",
      "Total params: 204,999\n",
      "Trainable params: 204,423\n",
      "Non-trainable params: 576\n",
      "_________________________________________________________________\n"
     ]
    }
   ],
   "source": [
    "model = get_model_v2(num_layers=4, num_filtre=(32, 64, 64, 128), k_size=(3, 3, 3, 3), p_size=(2, 2), dropout=((0,1,2,3),(0.25, 0.25, 0.25, 0.25)))\n",
    "model.summary()"
   ]
  },
  {
   "cell_type": "code",
   "execution_count": 57,
   "metadata": {},
   "outputs": [
    {
     "name": "stdout",
     "output_type": "stream",
     "text": [
      "Train on 28709 samples, validate on 3589 samples\n",
      "Epoch 1/30\n",
      "28709/28709 [==============================] - 76s 3ms/step - loss: 1.7279 - accuracy: 0.3137 - val_loss: 1.5614 - val_accuracy: 0.3968\n",
      "Epoch 2/30\n",
      "28709/28709 [==============================] - 74s 3ms/step - loss: 1.4973 - accuracy: 0.4200 - val_loss: 1.4374 - val_accuracy: 0.4475\n",
      "Epoch 3/30\n",
      "28709/28709 [==============================] - 75s 3ms/step - loss: 1.3906 - accuracy: 0.4644 - val_loss: 1.2932 - val_accuracy: 0.4965\n",
      "Epoch 4/30\n",
      "28709/28709 [==============================] - 75s 3ms/step - loss: 1.3258 - accuracy: 0.4913 - val_loss: 1.2593 - val_accuracy: 0.5121\n",
      "Epoch 5/30\n",
      "28709/28709 [==============================] - 73s 3ms/step - loss: 1.2739 - accuracy: 0.5138 - val_loss: 1.2377 - val_accuracy: 0.5235\n",
      "Epoch 6/30\n",
      "28709/28709 [==============================] - 73s 3ms/step - loss: 1.2277 - accuracy: 0.5348 - val_loss: 1.2754 - val_accuracy: 0.5096\n",
      "Epoch 7/30\n",
      "28709/28709 [==============================] - 74s 3ms/step - loss: 1.2036 - accuracy: 0.5422 - val_loss: 1.1673 - val_accuracy: 0.5522\n",
      "Epoch 8/30\n",
      "28709/28709 [==============================] - 74s 3ms/step - loss: 1.1645 - accuracy: 0.5567 - val_loss: 1.2008 - val_accuracy: 0.5322\n",
      "Epoch 9/30\n",
      "28709/28709 [==============================] - 73s 3ms/step - loss: 1.1507 - accuracy: 0.5655 - val_loss: 1.1448 - val_accuracy: 0.5612\n",
      "Epoch 10/30\n",
      "28709/28709 [==============================] - 73s 3ms/step - loss: 1.1249 - accuracy: 0.5767 - val_loss: 1.1241 - val_accuracy: 0.5687\n",
      "Epoch 11/30\n",
      "28709/28709 [==============================] - 73s 3ms/step - loss: 1.0948 - accuracy: 0.5853 - val_loss: 1.1222 - val_accuracy: 0.5740\n",
      "Epoch 12/30\n",
      "28709/28709 [==============================] - 74s 3ms/step - loss: 1.0807 - accuracy: 0.5934 - val_loss: 1.1371 - val_accuracy: 0.5684\n",
      "Epoch 13/30\n",
      "28709/28709 [==============================] - 71s 2ms/step - loss: 1.0663 - accuracy: 0.5974 - val_loss: 1.2044 - val_accuracy: 0.5461\n",
      "Epoch 14/30\n",
      "28709/28709 [==============================] - 72s 3ms/step - loss: 1.0408 - accuracy: 0.6048 - val_loss: 1.1182 - val_accuracy: 0.5765\n",
      "Epoch 15/30\n",
      "28709/28709 [==============================] - 73s 3ms/step - loss: 1.0340 - accuracy: 0.6065 - val_loss: 1.0830 - val_accuracy: 0.5926\n",
      "Epoch 16/30\n",
      "28709/28709 [==============================] - 72s 2ms/step - loss: 1.0173 - accuracy: 0.6155 - val_loss: 1.1305 - val_accuracy: 0.5751\n",
      "Epoch 17/30\n",
      "28709/28709 [==============================] - 71s 2ms/step - loss: 1.0037 - accuracy: 0.6179 - val_loss: 1.1235 - val_accuracy: 0.5818\n",
      "Epoch 18/30\n",
      "28709/28709 [==============================] - 72s 2ms/step - loss: 0.9911 - accuracy: 0.6288 - val_loss: 1.1374 - val_accuracy: 0.5773\n",
      "Epoch 19/30\n",
      "28709/28709 [==============================] - 71s 2ms/step - loss: 0.9814 - accuracy: 0.6321 - val_loss: 1.1250 - val_accuracy: 0.5720\n",
      "Epoch 20/30\n",
      "28709/28709 [==============================] - 71s 2ms/step - loss: 0.9691 - accuracy: 0.6336 - val_loss: 1.0698 - val_accuracy: 0.5965\n",
      "Epoch 21/30\n",
      "28709/28709 [==============================] - 72s 3ms/step - loss: 0.9607 - accuracy: 0.6390 - val_loss: 1.0841 - val_accuracy: 0.5946\n",
      "Epoch 22/30\n",
      "28709/28709 [==============================] - 72s 3ms/step - loss: 0.9418 - accuracy: 0.6434 - val_loss: 1.1445 - val_accuracy: 0.5717\n",
      "Epoch 23/30\n",
      "28709/28709 [==============================] - 71s 2ms/step - loss: 0.9400 - accuracy: 0.6454 - val_loss: 1.0880 - val_accuracy: 0.6018\n",
      "Epoch 24/30\n",
      "28709/28709 [==============================] - 71s 2ms/step - loss: 0.9304 - accuracy: 0.6468 - val_loss: 1.0963 - val_accuracy: 0.5921\n",
      "Epoch 25/30\n",
      "28709/28709 [==============================] - 71s 2ms/step - loss: 0.9266 - accuracy: 0.6458 - val_loss: 1.0722 - val_accuracy: 0.6030\n",
      "Epoch 26/30\n",
      "28709/28709 [==============================] - 71s 2ms/step - loss: 0.9164 - accuracy: 0.6527 - val_loss: 1.0792 - val_accuracy: 0.5982\n",
      "Epoch 27/30\n",
      "28709/28709 [==============================] - 71s 2ms/step - loss: 0.9063 - accuracy: 0.6567 - val_loss: 1.0963 - val_accuracy: 0.6002\n",
      "Epoch 28/30\n",
      "28709/28709 [==============================] - 71s 2ms/step - loss: 0.8970 - accuracy: 0.6597 - val_loss: 1.1593 - val_accuracy: 0.5795\n",
      "Epoch 29/30\n",
      "28709/28709 [==============================] - 71s 2ms/step - loss: 0.8970 - accuracy: 0.6629 - val_loss: 1.0916 - val_accuracy: 0.5929\n",
      "Epoch 30/30\n",
      "28709/28709 [==============================] - 71s 2ms/step - loss: 0.8871 - accuracy: 0.6666 - val_loss: 1.0702 - val_accuracy: 0.6099\n",
      "Saved model to disk\n"
     ]
    },
    {
     "data": {
      "image/png": "[encoded data removed]",
      "text/plain": [
       "<Figure size 432x288 with 1 Axes>"
      ]
     },
     "metadata": {
      "needs_background": "light"
     },
     "output_type": "display_data"
    }
   ],
   "source": [
    "l = model.fit(x=X_train, y=Y_train, validation_data = (X_valid, Y_valid), batch_size=32, epochs=30)\n",
    "sns.lineplot(data=pd.DataFrame(l.history)[['accuracy','val_accuracy']], palette=\"tab10\", linewidth=2.5);\n",
    "save_model(model, file_json=\"ferv5.json\", file_weight=\"ferv5.h5\")"
   ]
  },
  {
   "cell_type": "markdown",
   "metadata": {},
   "source": [
    "<h3> Sixieme version</h3>\n",
    "<ul><li>Par la version 5 la performance est encore ameliore 0.60 contre 0.58</li>\n",
    "<li>Pour la version 5, le probleme de sur-apprentissage exist encore</li>\n",
    "<li>Pour la version 6, nous allons tune le nombre de filtre et ajouter une couche de plus</li></ul>"
   ]
  },
  {
   "cell_type": "code",
   "execution_count": 59,
   "metadata": {},
   "outputs": [
    {
     "name": "stdout",
     "output_type": "stream",
     "text": [
      "Model: \"sequential_8\"\n",
      "_________________________________________________________________\n",
      "Layer (type)                 Output Shape              Param #   \n",
      "=================================================================\n",
      "conv2d_20 (Conv2D)           (None, 48, 48, 256)       2560      \n",
      "_________________________________________________________________\n",
      "max_pooling2d_19 (MaxPooling (None, 24, 24, 256)       0         \n",
      "_________________________________________________________________\n",
      "batch_normalization_13 (Batc (None, 24, 24, 256)       1024      \n",
      "_________________________________________________________________\n",
      "dropout_23 (Dropout)         (None, 24, 24, 256)       0         \n",
      "_________________________________________________________________\n",
      "conv2d_21 (Conv2D)           (None, 24, 24, 128)       295040    \n",
      "_________________________________________________________________\n",
      "max_pooling2d_20 (MaxPooling (None, 12, 12, 128)       0         \n",
      "_________________________________________________________________\n",
      "batch_normalization_14 (Batc (None, 12, 12, 128)       512       \n",
      "_________________________________________________________________\n",
      "dropout_24 (Dropout)         (None, 12, 12, 128)       0         \n",
      "_________________________________________________________________\n",
      "conv2d_22 (Conv2D)           (None, 12, 12, 128)       147584    \n",
      "_________________________________________________________________\n",
      "max_pooling2d_21 (MaxPooling (None, 6, 6, 128)         0         \n",
      "_________________________________________________________________\n",
      "batch_normalization_15 (Batc (None, 6, 6, 128)         512       \n",
      "_________________________________________________________________\n",
      "dropout_25 (Dropout)         (None, 6, 6, 128)         0         \n",
      "_________________________________________________________________\n",
      "conv2d_23 (Conv2D)           (None, 6, 6, 64)          73792     \n",
      "_________________________________________________________________\n",
      "max_pooling2d_22 (MaxPooling (None, 3, 3, 64)          0         \n",
      "_________________________________________________________________\n",
      "batch_normalization_16 (Batc (None, 3, 3, 64)          256       \n",
      "_________________________________________________________________\n",
      "dropout_26 (Dropout)         (None, 3, 3, 64)          0         \n",
      "_________________________________________________________________\n",
      "conv2d_24 (Conv2D)           (None, 3, 3, 32)          18464     \n",
      "_________________________________________________________________\n",
      "max_pooling2d_23 (MaxPooling (None, 1, 1, 32)          0         \n",
      "_________________________________________________________________\n",
      "batch_normalization_17 (Batc (None, 1, 1, 32)          128       \n",
      "_________________________________________________________________\n",
      "dropout_27 (Dropout)         (None, 1, 1, 32)          0         \n",
      "_________________________________________________________________\n",
      "flatten_7 (Flatten)          (None, 32)                0         \n",
      "_________________________________________________________________\n",
      "dense_13 (Dense)             (None, 64)                2112      \n",
      "_________________________________________________________________\n",
      "dropout_28 (Dropout)         (None, 64)                0         \n",
      "_________________________________________________________________\n",
      "dense_14 (Dense)             (None, 7)                 455       \n",
      "=================================================================\n",
      "Total params: 542,439\n",
      "Trainable params: 541,223\n",
      "Non-trainable params: 1,216\n",
      "_________________________________________________________________\n"
     ]
    }
   ],
   "source": [
    "model = get_model_v2(num_layers=5, num_filtre=(256, 128, 128, 64, 32), k_size=(3, 3, 3, 3, 3), p_size=(2, 2), dropout=((0, 1, 2, 3, 4), (0.25, 0.25, 0.25, 0.25, 0.25)))\n",
    "model.summary()"
   ]
  },
  {
   "cell_type": "code",
   "execution_count": null,
   "metadata": {},
   "outputs": [
    {
     "name": "stdout",
     "output_type": "stream",
     "text": [
      "Train on 28709 samples, validate on 3589 samples\n",
      "Epoch 1/30\n",
      "28709/28709 [==============================] - 513s 18ms/step - loss: 1.8143 - accuracy: 0.2542 - val_loss: 1.6788 - val_accuracy: 0.3084\n",
      "Epoch 2/30\n",
      "28709/28709 [==============================] - 507s 18ms/step - loss: 1.5712 - accuracy: 0.3819 - val_loss: 1.5742 - val_accuracy: 0.3806\n",
      "Epoch 3/30\n",
      "28709/28709 [==============================] - 503s 18ms/step - loss: 1.4171 - accuracy: 0.4535 - val_loss: 1.3188 - val_accuracy: 0.4887\n",
      "Epoch 4/30\n",
      "28709/28709 [==============================] - 503s 18ms/step - loss: 1.3350 - accuracy: 0.4928 - val_loss: 1.2744 - val_accuracy: 0.5001\n",
      "Epoch 5/30\n",
      "28709/28709 [==============================] - 501s 17ms/step - loss: 1.2705 - accuracy: 0.5170 - val_loss: 1.2234 - val_accuracy: 0.5280\n",
      "Epoch 6/30\n",
      "28709/28709 [==============================] - 501s 17ms/step - loss: 1.2269 - accuracy: 0.5342 - val_loss: 1.2233 - val_accuracy: 0.5286\n",
      "Epoch 7/30\n",
      "28709/28709 [==============================] - 501s 17ms/step - loss: 1.1928 - accuracy: 0.5489 - val_loss: 1.2786 - val_accuracy: 0.5085\n",
      "Epoch 8/30\n",
      "28709/28709 [==============================] - 501s 17ms/step - loss: 1.1635 - accuracy: 0.5574 - val_loss: 1.1392 - val_accuracy: 0.5653\n",
      "Epoch 9/30\n",
      "28709/28709 [==============================] - 501s 17ms/step - loss: 1.1346 - accuracy: 0.5747 - val_loss: 1.1298 - val_accuracy: 0.5665\n",
      "Epoch 10/30\n",
      "28709/28709 [==============================] - 497s 17ms/step - loss: 1.1114 - accuracy: 0.5845 - val_loss: 1.0886 - val_accuracy: 0.5862\n",
      "Epoch 11/30\n",
      "26624/28709 [==========================>...] - ETA: 34s - loss: 1.0872 - accuracy: 0.5920"
     ]
    }
   ],
   "source": [
    "l = model.fit(x=X_train, y=Y_train, validation_data = (X_valid, Y_valid), batch_size=32, epochs=30)\n",
    "sns.lineplot(data=pd.DataFrame(l.history)[['accuracy','val_accuracy']], palette=\"tab10\", linewidth=2.5);\n",
    "save_model(model, file_json=\"ferv6.json\", file_weight=\"ferv6.h5\")"
   ]
  },
  {
   "cell_type": "markdown",
   "metadata": {},
   "source": [
    "<h3> Septiieme version</h3>\n",
    "<ul><li>Lors de l'exécusion de la version 6 une erruer était glissée et forcer l'arrêt de l'exécusion.</li>\n",
    "<li>Par la version 6, la performance était mieux encore: 0.58 contre 0.56 à 5eme version epoch 10.</li>\n",
    "    <li>Le probleme de la version 6 est le temps d'apprentissage: envirion 8x plus longuer que la version 5</li>\n",
    "<li>Pour la version 7, nous allons tune le nombre de filtres sans rajou de nouvelle couche</li></ul>"
   ]
  },
  {
   "cell_type": "code",
   "execution_count": 27,
   "metadata": {},
   "outputs": [
    {
     "name": "stdout",
     "output_type": "stream",
     "text": [
      "Model: \"sequential_2\"\n",
      "_________________________________________________________________\n",
      "Layer (type)                 Output Shape              Param #   \n",
      "=================================================================\n",
      "conv2d_1 (Conv2D)            (None, 48, 48, 128)       1280      \n",
      "_________________________________________________________________\n",
      "max_pooling2d_1 (MaxPooling2 (None, 24, 24, 128)       0         \n",
      "_________________________________________________________________\n",
      "batch_normalization_1 (Batch (None, 24, 24, 128)       512       \n",
      "_________________________________________________________________\n",
      "dropout_1 (Dropout)          (None, 24, 24, 128)       0         \n",
      "_________________________________________________________________\n",
      "conv2d_2 (Conv2D)            (None, 24, 24, 64)        73792     \n",
      "_________________________________________________________________\n",
      "max_pooling2d_2 (MaxPooling2 (None, 12, 12, 64)        0         \n",
      "_________________________________________________________________\n",
      "batch_normalization_2 (Batch (None, 12, 12, 64)        256       \n",
      "_________________________________________________________________\n",
      "dropout_2 (Dropout)          (None, 12, 12, 64)        0         \n",
      "_________________________________________________________________\n",
      "conv2d_3 (Conv2D)            (None, 12, 12, 128)       73856     \n",
      "_________________________________________________________________\n",
      "max_pooling2d_3 (MaxPooling2 (None, 6, 6, 128)         0         \n",
      "_________________________________________________________________\n",
      "batch_normalization_3 (Batch (None, 6, 6, 128)         512       \n",
      "_________________________________________________________________\n",
      "dropout_3 (Dropout)          (None, 6, 6, 128)         0         \n",
      "_________________________________________________________________\n",
      "conv2d_4 (Conv2D)            (None, 6, 6, 64)          73792     \n",
      "_________________________________________________________________\n",
      "max_pooling2d_4 (MaxPooling2 (None, 3, 3, 64)          0         \n",
      "_________________________________________________________________\n",
      "batch_normalization_4 (Batch (None, 3, 3, 64)          256       \n",
      "_________________________________________________________________\n",
      "dropout_4 (Dropout)          (None, 3, 3, 64)          0         \n",
      "_________________________________________________________________\n",
      "conv2d_5 (Conv2D)            (None, 3, 3, 32)          18464     \n",
      "_________________________________________________________________\n",
      "max_pooling2d_5 (MaxPooling2 (None, 1, 1, 32)          0         \n",
      "_________________________________________________________________\n",
      "batch_normalization_5 (Batch (None, 1, 1, 32)          128       \n",
      "_________________________________________________________________\n",
      "dropout_5 (Dropout)          (None, 1, 1, 32)          0         \n",
      "_________________________________________________________________\n",
      "flatten_1 (Flatten)          (None, 32)                0         \n",
      "_________________________________________________________________\n",
      "dense_1 (Dense)              (None, 64)                2112      \n",
      "_________________________________________________________________\n",
      "dropout_6 (Dropout)          (None, 64)                0         \n",
      "_________________________________________________________________\n",
      "dense_2 (Dense)              (None, 7)                 455       \n",
      "=================================================================\n",
      "Total params: 245,415\n",
      "Trainable params: 244,583\n",
      "Non-trainable params: 832\n",
      "_________________________________________________________________\n"
     ]
    }
   ],
   "source": [
    "model = get_model_v2(num_layers=5, num_filtre=(128, 64, 128, 64, 32), k_size=(3, 3, 3, 3, 3), p_size=(2, 2), dropout=((0, 1, 2, 3, 4), (0.25, 0.25, 0.25, 0.25, 0.25)))\n",
    "model.summary()"
   ]
  },
  {
   "cell_type": "code",
   "execution_count": 28,
   "metadata": {},
   "outputs": [
    {
     "name": "stdout",
     "output_type": "stream",
     "text": [
      "Train on 28709 samples, validate on 3589 samples\n",
      "Epoch 1/30\n",
      "28709/28709 [==============================] - 210s 7ms/step - loss: 1.8239 - accuracy: 0.2466 - val_loss: 1.6955 - val_accuracy: 0.3149\n",
      "Epoch 2/30\n",
      "28709/28709 [==============================] - 213s 7ms/step - loss: 1.5972 - accuracy: 0.3727 - val_loss: 1.6055 - val_accuracy: 0.3904\n",
      "Epoch 3/30\n",
      "28709/28709 [==============================] - 209s 7ms/step - loss: 1.4446 - accuracy: 0.4429 - val_loss: 1.3913 - val_accuracy: 0.4592\n",
      "Epoch 4/30\n",
      "28709/28709 [==============================] - 207s 7ms/step - loss: 1.3637 - accuracy: 0.4756 - val_loss: 1.2895 - val_accuracy: 0.4985\n",
      "Epoch 5/30\n",
      "28709/28709 [==============================] - 210s 7ms/step - loss: 1.3060 - accuracy: 0.5018 - val_loss: 1.2683 - val_accuracy: 0.5099\n",
      "Epoch 6/30\n",
      "28709/28709 [==============================] - 210s 7ms/step - loss: 1.2548 - accuracy: 0.5227 - val_loss: 1.1790 - val_accuracy: 0.5464\n",
      "Epoch 7/30\n",
      "28709/28709 [==============================] - 209s 7ms/step - loss: 1.2232 - accuracy: 0.5376 - val_loss: 1.2788 - val_accuracy: 0.5063\n",
      "Epoch 8/30\n",
      "28709/28709 [==============================] - 206s 7ms/step - loss: 1.1923 - accuracy: 0.5496 - val_loss: 1.1658 - val_accuracy: 0.5573\n",
      "Epoch 9/30\n",
      "28709/28709 [==============================] - 206s 7ms/step - loss: 1.1713 - accuracy: 0.5578 - val_loss: 1.1678 - val_accuracy: 0.5419\n",
      "Epoch 10/30\n",
      "28709/28709 [==============================] - 206s 7ms/step - loss: 1.1553 - accuracy: 0.5664 - val_loss: 1.2386 - val_accuracy: 0.5366\n",
      "Epoch 11/30\n",
      "28709/28709 [==============================] - 206s 7ms/step - loss: 1.1293 - accuracy: 0.5745 - val_loss: 1.1521 - val_accuracy: 0.5570\n",
      "Epoch 12/30\n",
      "28709/28709 [==============================] - 205s 7ms/step - loss: 1.1137 - accuracy: 0.5803 - val_loss: 1.2251 - val_accuracy: 0.5347\n",
      "Epoch 13/30\n",
      "28709/28709 [==============================] - 206s 7ms/step - loss: 1.0934 - accuracy: 0.5914 - val_loss: 1.0889 - val_accuracy: 0.5846\n",
      "Epoch 14/30\n",
      "28709/28709 [==============================] - 206s 7ms/step - loss: 1.0796 - accuracy: 0.5948 - val_loss: 1.1862 - val_accuracy: 0.5478\n",
      "Epoch 15/30\n",
      "28709/28709 [==============================] - 206s 7ms/step - loss: 1.0689 - accuracy: 0.6004 - val_loss: 1.1892 - val_accuracy: 0.5553\n",
      "Epoch 16/30\n",
      "28709/28709 [==============================] - 206s 7ms/step - loss: 1.0553 - accuracy: 0.6088 - val_loss: 1.0761 - val_accuracy: 0.5926\n",
      "Epoch 17/30\n",
      "28709/28709 [==============================] - 206s 7ms/step - loss: 1.0441 - accuracy: 0.6114 - val_loss: 1.3211 - val_accuracy: 0.5174\n",
      "Epoch 18/30\n",
      "28709/28709 [==============================] - 206s 7ms/step - loss: 1.0316 - accuracy: 0.6145 - val_loss: 1.1166 - val_accuracy: 0.5628\n",
      "Epoch 19/30\n",
      "28709/28709 [==============================] - 207s 7ms/step - loss: 1.0210 - accuracy: 0.6179 - val_loss: 1.0381 - val_accuracy: 0.6085\n",
      "Epoch 20/30\n",
      "28709/28709 [==============================] - 206s 7ms/step - loss: 1.0128 - accuracy: 0.6207 - val_loss: 1.0994 - val_accuracy: 0.5829\n",
      "Epoch 21/30\n",
      "28709/28709 [==============================] - 206s 7ms/step - loss: 1.0060 - accuracy: 0.6263 - val_loss: 1.0482 - val_accuracy: 0.6055\n",
      "Epoch 22/30\n",
      "28709/28709 [==============================] - 206s 7ms/step - loss: 0.9925 - accuracy: 0.6288 - val_loss: 1.1113 - val_accuracy: 0.5834\n",
      "Epoch 23/30\n",
      "28709/28709 [==============================] - 206s 7ms/step - loss: 0.9837 - accuracy: 0.6342 - val_loss: 1.1196 - val_accuracy: 0.5837\n",
      "Epoch 24/30\n",
      "28709/28709 [==============================] - 206s 7ms/step - loss: 0.9769 - accuracy: 0.6383 - val_loss: 1.1326 - val_accuracy: 0.5837\n",
      "Epoch 25/30\n",
      "28709/28709 [==============================] - 206s 7ms/step - loss: 0.9683 - accuracy: 0.6403 - val_loss: 1.0644 - val_accuracy: 0.6013\n",
      "Epoch 26/30\n",
      "28709/28709 [==============================] - 206s 7ms/step - loss: 0.9544 - accuracy: 0.6430 - val_loss: 1.1046 - val_accuracy: 0.5910\n",
      "Epoch 27/30\n",
      "28709/28709 [==============================] - 206s 7ms/step - loss: 0.9544 - accuracy: 0.6427 - val_loss: 1.0414 - val_accuracy: 0.6077\n",
      "Epoch 28/30\n",
      "28709/28709 [==============================] - 206s 7ms/step - loss: 0.9477 - accuracy: 0.6507 - val_loss: 1.0964 - val_accuracy: 0.5993\n",
      "Epoch 29/30\n",
      "28709/28709 [==============================] - 203s 7ms/step - loss: 0.9419 - accuracy: 0.6530 - val_loss: 1.0635 - val_accuracy: 0.6043\n",
      "Epoch 30/30\n",
      "28709/28709 [==============================] - 203s 7ms/step - loss: 0.9426 - accuracy: 0.6533 - val_loss: 1.0631 - val_accuracy: 0.6069\n",
      "Saved model to disk\n"
     ]
    },
    {
     "data": {
      "image/png": "[encoded data removed]",
      "text/plain": [
       "<Figure size 432x288 with 1 Axes>"
      ]
     },
     "metadata": {
      "needs_background": "light"
     },
     "output_type": "display_data"
    }
   ],
   "source": [
    "l = model.fit(x=X_train, y=Y_train, validation_data = (X_valid, Y_valid), batch_size=32, epochs=30)\n",
    "sns.lineplot(data=pd.DataFrame(l.history)[['accuracy','val_accuracy']], palette=\"tab10\", linewidth=2.5);\n",
    "save_model(model, file_json=\"ferv7.json\", file_weight=\"ferv7.h5\")"
   ]
  },
  {
   "cell_type": "code",
   "execution_count": 32,
   "metadata": {},
   "outputs": [],
   "source": [
    "def fit_show_save_model(model, bs=32, ep=30, fnm='fer.json', fnw='fer.h5'):\n",
    "    l = model.fit(x=X_train, y=Y_train, validation_data = (X_valid, Y_valid), batch_size=bs, epochs=ep)\n",
    "    sns.lineplot(data=pd.DataFrame(l.history)[['accuracy','val_accuracy']], palette=\"tab10\", linewidth=2.5);\n",
    "    save_model(model, file_json=fnm, file_weight=fnw)"
   ]
  },
  {
   "cell_type": "markdown",
   "metadata": {},
   "source": [
    "<h3> Huitieme version</h3>\n",
    "<ul><li>La version 7 amene une plus haute performance: 0.6 pour val_accuracy.</li>\n",
    "<li>La performance était relativement stable apres epoch 20.</li>\n",
    "<li>Nous devons continue avec la version 6 malgre temps d'apprentissage</li>\n",
    "<li>Pour la version 8, nous allons choisi le nombre de filtres resemble a la version 6</li></ul>"
   ]
  },
  {
   "cell_type": "code",
   "execution_count": 30,
   "metadata": {},
   "outputs": [
    {
     "name": "stdout",
     "output_type": "stream",
     "text": [
      "Model: \"sequential_3\"\n",
      "_________________________________________________________________\n",
      "Layer (type)                 Output Shape              Param #   \n",
      "=================================================================\n",
      "conv2d_6 (Conv2D)            (None, 48, 48, 256)       2560      \n",
      "_________________________________________________________________\n",
      "max_pooling2d_6 (MaxPooling2 (None, 24, 24, 256)       0         \n",
      "_________________________________________________________________\n",
      "batch_normalization_6 (Batch (None, 24, 24, 256)       1024      \n",
      "_________________________________________________________________\n",
      "dropout_7 (Dropout)          (None, 24, 24, 256)       0         \n",
      "_________________________________________________________________\n",
      "conv2d_7 (Conv2D)            (None, 24, 24, 64)        147520    \n",
      "_________________________________________________________________\n",
      "max_pooling2d_7 (MaxPooling2 (None, 12, 12, 64)        0         \n",
      "_________________________________________________________________\n",
      "batch_normalization_7 (Batch (None, 12, 12, 64)        256       \n",
      "_________________________________________________________________\n",
      "dropout_8 (Dropout)          (None, 12, 12, 64)        0         \n",
      "_________________________________________________________________\n",
      "conv2d_8 (Conv2D)            (None, 12, 12, 128)       73856     \n",
      "_________________________________________________________________\n",
      "max_pooling2d_8 (MaxPooling2 (None, 6, 6, 128)         0         \n",
      "_________________________________________________________________\n",
      "batch_normalization_8 (Batch (None, 6, 6, 128)         512       \n",
      "_________________________________________________________________\n",
      "dropout_9 (Dropout)          (None, 6, 6, 128)         0         \n",
      "_________________________________________________________________\n",
      "conv2d_9 (Conv2D)            (None, 6, 6, 64)          73792     \n",
      "_________________________________________________________________\n",
      "max_pooling2d_9 (MaxPooling2 (None, 3, 3, 64)          0         \n",
      "_________________________________________________________________\n",
      "batch_normalization_9 (Batch (None, 3, 3, 64)          256       \n",
      "_________________________________________________________________\n",
      "dropout_10 (Dropout)         (None, 3, 3, 64)          0         \n",
      "_________________________________________________________________\n",
      "conv2d_10 (Conv2D)           (None, 3, 3, 32)          18464     \n",
      "_________________________________________________________________\n",
      "max_pooling2d_10 (MaxPooling (None, 1, 1, 32)          0         \n",
      "_________________________________________________________________\n",
      "batch_normalization_10 (Batc (None, 1, 1, 32)          128       \n",
      "_________________________________________________________________\n",
      "dropout_11 (Dropout)         (None, 1, 1, 32)          0         \n",
      "_________________________________________________________________\n",
      "flatten_2 (Flatten)          (None, 32)                0         \n",
      "_________________________________________________________________\n",
      "dense_3 (Dense)              (None, 64)                2112      \n",
      "_________________________________________________________________\n",
      "dropout_12 (Dropout)         (None, 64)                0         \n",
      "_________________________________________________________________\n",
      "dense_4 (Dense)              (None, 7)                 455       \n",
      "=================================================================\n",
      "Total params: 320,935\n",
      "Trainable params: 319,847\n",
      "Non-trainable params: 1,088\n",
      "_________________________________________________________________\n"
     ]
    }
   ],
   "source": [
    "model = get_model_v2(num_layers=5, num_filtre=(256, 64, 128, 64, 32), k_size=(3, 3, 3, 3, 3), p_size=(2, 2), dropout=((0, 1, 2, 3, 4), (0.25, 0.25, 0.25, 0.25, 0.25)))\n",
    "model.summary()"
   ]
  },
  {
   "cell_type": "code",
   "execution_count": 31,
   "metadata": {},
   "outputs": [
    {
     "name": "stdout",
     "output_type": "stream",
     "text": [
      "Train on 28709 samples, validate on 3589 samples\n",
      "Epoch 1/30\n",
      "28709/28709 [==============================] - 415s 14ms/step - loss: 1.8414 - accuracy: 0.2366 - val_loss: 1.8629 - val_accuracy: 0.1981\n",
      "Epoch 2/30\n",
      "28709/28709 [==============================] - 408s 14ms/step - loss: 1.6815 - accuracy: 0.3188 - val_loss: 1.5462 - val_accuracy: 0.3940\n",
      "Epoch 3/30\n",
      "28709/28709 [==============================] - 403s 14ms/step - loss: 1.4923 - accuracy: 0.4196 - val_loss: 1.5112 - val_accuracy: 0.4338\n",
      "Epoch 4/30\n",
      "28709/28709 [==============================] - 399s 14ms/step - loss: 1.3774 - accuracy: 0.4710 - val_loss: 1.2723 - val_accuracy: 0.5077\n",
      "Epoch 5/30\n",
      "28709/28709 [==============================] - 397s 14ms/step - loss: 1.3058 - accuracy: 0.5017 - val_loss: 1.2645 - val_accuracy: 0.5149\n",
      "Epoch 6/30\n",
      "28709/28709 [==============================] - 398s 14ms/step - loss: 1.2565 - accuracy: 0.5229 - val_loss: 1.1921 - val_accuracy: 0.5372\n",
      "Epoch 7/30\n",
      "28709/28709 [==============================] - 397s 14ms/step - loss: 1.2257 - accuracy: 0.5374 - val_loss: 1.1949 - val_accuracy: 0.5375\n",
      "Epoch 8/30\n",
      "28709/28709 [==============================] - 398s 14ms/step - loss: 1.1927 - accuracy: 0.5512 - val_loss: 1.1764 - val_accuracy: 0.5561\n",
      "Epoch 9/30\n",
      "28709/28709 [==============================] - 398s 14ms/step - loss: 1.1633 - accuracy: 0.5606 - val_loss: 1.1166 - val_accuracy: 0.5684\n",
      "Epoch 10/30\n",
      "28709/28709 [==============================] - 399s 14ms/step - loss: 1.1432 - accuracy: 0.5683 - val_loss: 1.1157 - val_accuracy: 0.5704\n",
      "Epoch 11/30\n",
      "28709/28709 [==============================] - 403s 14ms/step - loss: 1.1143 - accuracy: 0.5814 - val_loss: 1.1360 - val_accuracy: 0.5673\n",
      "Epoch 12/30\n",
      "28709/28709 [==============================] - 403s 14ms/step - loss: 1.1127 - accuracy: 0.5821 - val_loss: 1.1013 - val_accuracy: 0.5826\n",
      "Epoch 13/30\n",
      "28709/28709 [==============================] - 397s 14ms/step - loss: 1.0892 - accuracy: 0.5901 - val_loss: 1.1621 - val_accuracy: 0.5536\n",
      "Epoch 14/30\n",
      "28709/28709 [==============================] - 478s 17ms/step - loss: 1.0715 - accuracy: 0.5972 - val_loss: 1.0911 - val_accuracy: 0.5779\n",
      "Epoch 15/30\n",
      "28709/28709 [==============================] - 538s 19ms/step - loss: 1.0580 - accuracy: 0.6011 - val_loss: 1.0741 - val_accuracy: 0.5865\n",
      "Epoch 16/30\n",
      "28709/28709 [==============================] - 513s 18ms/step - loss: 1.0527 - accuracy: 0.6078 - val_loss: 1.0994 - val_accuracy: 0.5801\n",
      "Epoch 17/30\n",
      "28709/28709 [==============================] - 489s 17ms/step - loss: 1.0364 - accuracy: 0.6141 - val_loss: 1.0565 - val_accuracy: 0.6007\n",
      "Epoch 18/30\n",
      "28709/28709 [==============================] - 507s 18ms/step - loss: 1.0249 - accuracy: 0.6176 - val_loss: 1.0960 - val_accuracy: 0.5812\n",
      "Epoch 19/30\n",
      "28709/28709 [==============================] - 497s 17ms/step - loss: 1.0111 - accuracy: 0.6196 - val_loss: 1.0460 - val_accuracy: 0.5938\n",
      "Epoch 20/30\n",
      "28709/28709 [==============================] - 506s 18ms/step - loss: 0.9986 - accuracy: 0.6258 - val_loss: 1.4902 - val_accuracy: 0.4260\n",
      "Epoch 21/30\n",
      "28709/28709 [==============================] - 532s 19ms/step - loss: 0.9953 - accuracy: 0.6279 - val_loss: 1.0777 - val_accuracy: 0.5907\n",
      "Epoch 22/30\n",
      "28709/28709 [==============================] - 546s 19ms/step - loss: 0.9858 - accuracy: 0.6323 - val_loss: 1.1154 - val_accuracy: 0.5743\n",
      "Epoch 23/30\n",
      "28709/28709 [==============================] - 552s 19ms/step - loss: 0.9774 - accuracy: 0.6346 - val_loss: 1.0495 - val_accuracy: 0.5993\n",
      "Epoch 24/30\n",
      "28709/28709 [==============================] - 497s 17ms/step - loss: 0.9690 - accuracy: 0.6378 - val_loss: 1.1847 - val_accuracy: 0.5637\n",
      "Epoch 25/30\n",
      "28709/28709 [==============================] - 518s 18ms/step - loss: 0.9629 - accuracy: 0.6406 - val_loss: 1.0556 - val_accuracy: 0.6074\n",
      "Epoch 26/30\n",
      "28709/28709 [==============================] - 589s 21ms/step - loss: 0.9547 - accuracy: 0.6452 - val_loss: 1.1026 - val_accuracy: 0.5860\n",
      "Epoch 27/30\n",
      "28709/28709 [==============================] - 499s 17ms/step - loss: 0.9465 - accuracy: 0.6473 - val_loss: 1.0480 - val_accuracy: 0.6016\n",
      "Epoch 28/30\n",
      "28709/28709 [==============================] - 523s 18ms/step - loss: 0.9355 - accuracy: 0.6482 - val_loss: 1.0704 - val_accuracy: 0.5985\n",
      "Epoch 29/30\n",
      "28709/28709 [==============================] - 449s 16ms/step - loss: 0.9209 - accuracy: 0.6570 - val_loss: 1.2251 - val_accuracy: 0.5464\n",
      "Epoch 30/30\n",
      "28709/28709 [==============================] - 411s 14ms/step - loss: 0.9275 - accuracy: 0.6570 - val_loss: 1.0668 - val_accuracy: 0.6060\n",
      "Saved model to disk\n"
     ]
    },
    {
     "data": {
      "image/png": "[encoded data removed]",
      "text/plain": [
       "<Figure size 432x288 with 1 Axes>"
      ]
     },
     "metadata": {
      "needs_background": "light"
     },
     "output_type": "display_data"
    }
   ],
   "source": [
    "fit_show_save_model(model, fnm='ferv8.json', fnw='ferv8.h5')"
   ]
  },
  {
   "cell_type": "markdown",
   "metadata": {},
   "source": [
    "<h3> neuvieme version</h3>\n",
    "<ul><li>Pour la version 8, la performance reste environ 0.6 pour val_accuracy.</li>\n",
    "<li>La performance était relativement stable apres epoch 17.</li>\n",
    "<li>Avec la version 8, le temps d'apprentissage est assez longue 4h pour 30 epoch</li>\n",
    "<li>Pour la version 9, le nombre de filtres se augmente encore malgre le temps</li>\n",
    "<li>Pour la version 9, nous enleve normalisation</li></ul>"
   ]
  },
  {
   "cell_type": "code",
   "execution_count": 32,
   "metadata": {},
   "outputs": [],
   "source": [
    "def get_model_v9(num_layers=5, num_filtre=(512, 128, 64, 64, 32), k_size=(3, 3, 3, 3, 3), p_size=(2, 2), dropout=(0.25, 0.25, 0.25, 0.25, 0.25)):\n",
    "    input_shape = (48, 48, 1)\n",
    "    model = Sequential()\n",
    "    for layer in range(num_layers): \n",
    "        if layer == 0:\n",
    "            model.add(Conv2D(num_filtre[layer], kernel_size=k_size[layer], activation=tf.nn.relu, padding=\"same\", input_shape=input_shape))\n",
    "        else:\n",
    "            model.add(Conv2D(num_filtre[layer], kernel_size=k_size[layer], activation=tf.nn.relu, padding=\"same\"))\n",
    "        \n",
    "        model.add(MaxPooling2D(pool_size=p_size))\n",
    "        # model.add(BatchNormalization())\n",
    "\n",
    "        # if (len(dropout[0]) > 0) and (layer in dropout[0]):  # if specified, add Dropout layer for the Conv2D layer\n",
    "        model.add(Dropout(dropout[layer]))\n",
    "\n",
    "    model.add(Flatten()) # Flattening the 2D arrays for fully connected layers\n",
    "    model.add(Dense(64, activation=tf.nn.relu))\n",
    "    model.add(Dropout(0.25))\n",
    "    model.add(Dense(7,activation=tf.nn.softmax))\n",
    "    model.compile(optimizer='adam', loss='categorical_crossentropy', metrics=['accuracy'])\n",
    "    return model"
   ]
  },
  {
   "cell_type": "code",
   "execution_count": 34,
   "metadata": {},
   "outputs": [
    {
     "name": "stdout",
     "output_type": "stream",
     "text": [
      "Model: \"sequential_4\"\n",
      "_________________________________________________________________\n",
      "Layer (type)                 Output Shape              Param #   \n",
      "=================================================================\n",
      "conv2d_11 (Conv2D)           (None, 48, 48, 512)       5120      \n",
      "_________________________________________________________________\n",
      "max_pooling2d_11 (MaxPooling (None, 24, 24, 512)       0         \n",
      "_________________________________________________________________\n",
      "dropout_13 (Dropout)         (None, 24, 24, 512)       0         \n",
      "_________________________________________________________________\n",
      "conv2d_12 (Conv2D)           (None, 24, 24, 128)       589952    \n",
      "_________________________________________________________________\n",
      "max_pooling2d_12 (MaxPooling (None, 12, 12, 128)       0         \n",
      "_________________________________________________________________\n",
      "dropout_14 (Dropout)         (None, 12, 12, 128)       0         \n",
      "_________________________________________________________________\n",
      "conv2d_13 (Conv2D)           (None, 12, 12, 64)        73792     \n",
      "_________________________________________________________________\n",
      "max_pooling2d_13 (MaxPooling (None, 6, 6, 64)          0         \n",
      "_________________________________________________________________\n",
      "dropout_15 (Dropout)         (None, 6, 6, 64)          0         \n",
      "_________________________________________________________________\n",
      "conv2d_14 (Conv2D)           (None, 6, 6, 64)          36928     \n",
      "_________________________________________________________________\n",
      "max_pooling2d_14 (MaxPooling (None, 3, 3, 64)          0         \n",
      "_________________________________________________________________\n",
      "dropout_16 (Dropout)         (None, 3, 3, 64)          0         \n",
      "_________________________________________________________________\n",
      "conv2d_15 (Conv2D)           (None, 3, 3, 32)          18464     \n",
      "_________________________________________________________________\n",
      "max_pooling2d_15 (MaxPooling (None, 1, 1, 32)          0         \n",
      "_________________________________________________________________\n",
      "dropout_17 (Dropout)         (None, 1, 1, 32)          0         \n",
      "_________________________________________________________________\n",
      "flatten_3 (Flatten)          (None, 32)                0         \n",
      "_________________________________________________________________\n",
      "dense_5 (Dense)              (None, 64)                2112      \n",
      "_________________________________________________________________\n",
      "dropout_18 (Dropout)         (None, 64)                0         \n",
      "_________________________________________________________________\n",
      "dense_6 (Dense)              (None, 7)                 455       \n",
      "=================================================================\n",
      "Total params: 726,823\n",
      "Trainable params: 726,823\n",
      "Non-trainable params: 0\n",
      "_________________________________________________________________\n"
     ]
    }
   ],
   "source": [
    "model = get_model_v9()\n",
    "model.summary()"
   ]
  },
  {
   "cell_type": "code",
   "execution_count": 36,
   "metadata": {},
   "outputs": [
    {
     "name": "stdout",
     "output_type": "stream",
     "text": [
      "Train on 28709 samples, validate on 3589 samples\n",
      "Epoch 1/30\n",
      "28709/28709 [==============================] - 633s 22ms/step - loss: 1.8256 - accuracy: 0.2472 - val_loss: 1.8118 - val_accuracy: 0.2494\n",
      "Epoch 2/30\n",
      "28709/28709 [==============================] - 619s 22ms/step - loss: 1.8083 - accuracy: 0.2510 - val_loss: 1.7910 - val_accuracy: 0.2494\n",
      "Epoch 3/30\n",
      "28709/28709 [==============================] - 595s 21ms/step - loss: 1.7589 - accuracy: 0.2740 - val_loss: 1.6729 - val_accuracy: 0.3232\n",
      "Epoch 4/30\n",
      "28709/28709 [==============================] - 593s 21ms/step - loss: 1.6763 - accuracy: 0.3212 - val_loss: 1.5805 - val_accuracy: 0.3806\n",
      "Epoch 5/30\n",
      "28709/28709 [==============================] - 593s 21ms/step - loss: 1.5975 - accuracy: 0.3651 - val_loss: 1.5311 - val_accuracy: 0.3945\n",
      "Epoch 6/30\n",
      "28709/28709 [==============================] - 594s 21ms/step - loss: 1.5390 - accuracy: 0.3979 - val_loss: 1.4388 - val_accuracy: 0.4302\n",
      "Epoch 7/30\n",
      "28709/28709 [==============================] - 594s 21ms/step - loss: 1.4941 - accuracy: 0.4142 - val_loss: 1.3994 - val_accuracy: 0.4567\n",
      "Epoch 8/30\n",
      "28709/28709 [==============================] - 612s 21ms/step - loss: 1.4664 - accuracy: 0.4282 - val_loss: 1.3813 - val_accuracy: 0.4519\n",
      "Epoch 9/30\n",
      "28709/28709 [==============================] - 612s 21ms/step - loss: 1.4413 - accuracy: 0.4370 - val_loss: 1.3587 - val_accuracy: 0.4728\n",
      "Epoch 10/30\n",
      "28709/28709 [==============================] - 612s 21ms/step - loss: 1.4186 - accuracy: 0.4515 - val_loss: 1.3452 - val_accuracy: 0.4826\n",
      "Epoch 11/30\n",
      "28709/28709 [==============================] - 611s 21ms/step - loss: 1.4001 - accuracy: 0.4603 - val_loss: 1.2948 - val_accuracy: 0.4943\n",
      "Epoch 12/30\n",
      "28709/28709 [==============================] - 603s 21ms/step - loss: 1.3894 - accuracy: 0.4639 - val_loss: 1.2983 - val_accuracy: 0.5024\n",
      "Epoch 13/30\n",
      "28709/28709 [==============================] - 599s 21ms/step - loss: 1.3755 - accuracy: 0.4709 - val_loss: 1.2876 - val_accuracy: 0.5049\n",
      "Epoch 14/30\n",
      "28709/28709 [==============================] - 602s 21ms/step - loss: 1.3647 - accuracy: 0.4740 - val_loss: 1.2710 - val_accuracy: 0.5054\n",
      "Epoch 15/30\n",
      "28709/28709 [==============================] - 623s 22ms/step - loss: 1.3601 - accuracy: 0.4764 - val_loss: 1.2673 - val_accuracy: 0.5141\n",
      "Epoch 16/30\n",
      "28709/28709 [==============================] - 608s 21ms/step - loss: 1.3391 - accuracy: 0.4875 - val_loss: 1.2418 - val_accuracy: 0.5191\n",
      "Epoch 17/30\n",
      "28709/28709 [==============================] - 604s 21ms/step - loss: 1.3339 - accuracy: 0.4878 - val_loss: 1.2387 - val_accuracy: 0.5263\n",
      "Epoch 18/30\n",
      "28709/28709 [==============================] - 608s 21ms/step - loss: 1.3232 - accuracy: 0.4947 - val_loss: 1.2677 - val_accuracy: 0.5213\n",
      "Epoch 19/30\n",
      "28709/28709 [==============================] - 624s 22ms/step - loss: 1.3195 - accuracy: 0.4966 - val_loss: 1.2247 - val_accuracy: 0.5266\n",
      "Epoch 20/30\n",
      "28709/28709 [==============================] - 632s 22ms/step - loss: 1.3144 - accuracy: 0.4974 - val_loss: 1.2657 - val_accuracy: 0.5252\n",
      "Epoch 21/30\n",
      "28709/28709 [==============================] - 652s 23ms/step - loss: 1.3086 - accuracy: 0.5009 - val_loss: 1.2231 - val_accuracy: 0.5311\n",
      "Epoch 22/30\n",
      "28709/28709 [==============================] - 650s 23ms/step - loss: 1.3069 - accuracy: 0.5028 - val_loss: 1.2439 - val_accuracy: 0.5286\n",
      "Epoch 23/30\n",
      "28709/28709 [==============================] - 643s 22ms/step - loss: 1.2991 - accuracy: 0.5045 - val_loss: 1.2197 - val_accuracy: 0.5316\n",
      "Epoch 24/30\n",
      "28709/28709 [==============================] - 641s 22ms/step - loss: 1.2903 - accuracy: 0.5070 - val_loss: 1.2015 - val_accuracy: 0.5430\n",
      "Epoch 25/30\n",
      "28709/28709 [==============================] - 649s 23ms/step - loss: 1.2797 - accuracy: 0.5115 - val_loss: 1.2082 - val_accuracy: 0.5344\n",
      "Epoch 26/30\n",
      "28709/28709 [==============================] - 648s 23ms/step - loss: 1.2734 - accuracy: 0.5170 - val_loss: 1.1893 - val_accuracy: 0.5436\n",
      "Epoch 27/30\n",
      "28709/28709 [==============================] - 642s 22ms/step - loss: 1.2743 - accuracy: 0.5174 - val_loss: 1.1910 - val_accuracy: 0.5411\n",
      "Epoch 28/30\n",
      "28709/28709 [==============================] - 627s 22ms/step - loss: 1.2717 - accuracy: 0.5178 - val_loss: 1.2077 - val_accuracy: 0.5461\n",
      "Epoch 29/30\n",
      "28709/28709 [==============================] - 624s 22ms/step - loss: 1.2746 - accuracy: 0.5160 - val_loss: 1.2026 - val_accuracy: 0.5433\n",
      "Epoch 30/30\n",
      "28709/28709 [==============================] - 619s 22ms/step - loss: 1.2592 - accuracy: 0.5231 - val_loss: 1.1895 - val_accuracy: 0.5472\n",
      "Saved model to disk\n"
     ]
    },
    {
     "data": {
      "image/png": "[encoded data removed]",
      "text/plain": [
       "<Figure size 432x288 with 1 Axes>"
      ]
     },
     "metadata": {
      "needs_background": "light"
     },
     "output_type": "display_data"
    }
   ],
   "source": [
    "fit_show_save_model(model, fnm='ferv9.json', fnw='ferv9.h5')"
   ]
  },
  {
   "cell_type": "code",
   "execution_count": 37,
   "metadata": {},
   "outputs": [
    {
     "name": "stdout",
     "output_type": "stream",
     "text": [
      "Evaluate on test data\n",
      "3589/3589 [==============================] - 20s 5ms/step\n",
      "test loss, test acc: [1.1898248776913884, 0.5449985861778259]\n"
     ]
    }
   ],
   "source": [
    "# Evaluate the model on the test data using `evaluate`\n",
    "print(\"Evaluate on test data\")\n",
    "results = model.evaluate(X_test, Y_test)\n",
    "print(\"test loss, test acc:\", results)"
   ]
  },
  {
   "cell_type": "code",
   "execution_count": 33,
   "metadata": {},
   "outputs": [],
   "source": [
    "def fit_test_save_model(model, bs=32, ep=30, fnm='fer.json', fnw='fer.h5'):\n",
    "    print(\"Fitting the model with train set and validation set ...\")\n",
    "    l = model.fit(x=X_train, y=Y_train, validation_data = (X_valid, Y_valid), batch_size=bs, epochs=ep)\n",
    "    sns.lineplot(data=pd.DataFrame(l.history)[['accuracy','val_accuracy']], palette=\"tab10\", linewidth=2.5);\n",
    "    save_model(model, file_json=fnm, file_weight=fnw)\n",
    "    print(\"Evaluating the model on test data ...\")\n",
    "    results = model.evaluate(X_test, Y_test)\n",
    "    print(\"test loss, test acc:\", results)"
   ]
  },
  {
   "cell_type": "code",
   "execution_count": 36,
   "metadata": {},
   "outputs": [],
   "source": [
    "def get_model_v10(num_layers=6, num_filtre=(512, 128, 64, 64, 32, 16), k_size=3, p_size=(2, 2), dropout=0.25):\n",
    "    input_shape = (48, 48, 1)\n",
    "    model = Sequential()\n",
    "    for layer in range(num_layers): \n",
    "        if layer == 0:\n",
    "            model.add(Conv2D(num_filtre[layer], kernel_size=k_size, activation=tf.nn.relu, padding=\"same\", input_shape=input_shape))\n",
    "        else:\n",
    "            model.add(Conv2D(num_filtre[layer], kernel_size=k_size, activation=tf.nn.relu, padding=\"same\"))\n",
    "            model.add(MaxPooling2D(pool_size=p_size))\n",
    "            model.add(BatchNormalization())\n",
    "            model.add(Dropout(dropout))\n",
    "\n",
    "    model.add(Flatten())                          # Flattening the 2D arrays for fully connected layers\n",
    "    model.add(Dense(32, activation=tf.nn.relu))\n",
    "    model.add(Dropout(dropout))\n",
    "    model.add(Dense(7,activation=tf.nn.softmax))\n",
    "    model.compile(optimizer='adam', loss='categorical_crossentropy', metrics=['accuracy'])\n",
    "    return model"
   ]
  },
  {
   "cell_type": "code",
   "execution_count": 37,
   "metadata": {},
   "outputs": [
    {
     "name": "stdout",
     "output_type": "stream",
     "text": [
      "Model: \"sequential_3\"\n",
      "_________________________________________________________________\n",
      "Layer (type)                 Output Shape              Param #   \n",
      "=================================================================\n",
      "conv2d_5 (Conv2D)            (None, 48, 48, 512)       5120      \n",
      "_________________________________________________________________\n",
      "conv2d_6 (Conv2D)            (None, 48, 48, 128)       589952    \n",
      "_________________________________________________________________\n",
      "max_pooling2d_4 (MaxPooling2 (None, 24, 24, 128)       0         \n",
      "_________________________________________________________________\n",
      "batch_normalization_2 (Batch (None, 24, 24, 128)       512       \n",
      "_________________________________________________________________\n",
      "dropout_2 (Dropout)          (None, 24, 24, 128)       0         \n",
      "_________________________________________________________________\n",
      "conv2d_7 (Conv2D)            (None, 24, 24, 64)        73792     \n",
      "_________________________________________________________________\n",
      "max_pooling2d_5 (MaxPooling2 (None, 12, 12, 64)        0         \n",
      "_________________________________________________________________\n",
      "batch_normalization_3 (Batch (None, 12, 12, 64)        256       \n",
      "_________________________________________________________________\n",
      "dropout_3 (Dropout)          (None, 12, 12, 64)        0         \n",
      "_________________________________________________________________\n",
      "conv2d_8 (Conv2D)            (None, 12, 12, 64)        36928     \n",
      "_________________________________________________________________\n",
      "max_pooling2d_6 (MaxPooling2 (None, 6, 6, 64)          0         \n",
      "_________________________________________________________________\n",
      "batch_normalization_4 (Batch (None, 6, 6, 64)          256       \n",
      "_________________________________________________________________\n",
      "dropout_4 (Dropout)          (None, 6, 6, 64)          0         \n",
      "_________________________________________________________________\n",
      "conv2d_9 (Conv2D)            (None, 6, 6, 32)          18464     \n",
      "_________________________________________________________________\n",
      "max_pooling2d_7 (MaxPooling2 (None, 3, 3, 32)          0         \n",
      "_________________________________________________________________\n",
      "batch_normalization_5 (Batch (None, 3, 3, 32)          128       \n",
      "_________________________________________________________________\n",
      "dropout_5 (Dropout)          (None, 3, 3, 32)          0         \n",
      "_________________________________________________________________\n",
      "conv2d_10 (Conv2D)           (None, 3, 3, 16)          4624      \n",
      "_________________________________________________________________\n",
      "max_pooling2d_8 (MaxPooling2 (None, 1, 1, 16)          0         \n",
      "_________________________________________________________________\n",
      "batch_normalization_6 (Batch (None, 1, 1, 16)          64        \n",
      "_________________________________________________________________\n",
      "dropout_6 (Dropout)          (None, 1, 1, 16)          0         \n",
      "_________________________________________________________________\n",
      "flatten_2 (Flatten)          (None, 16)                0         \n",
      "_________________________________________________________________\n",
      "dense_3 (Dense)              (None, 32)                544       \n",
      "_________________________________________________________________\n",
      "dropout_7 (Dropout)          (None, 32)                0         \n",
      "_________________________________________________________________\n",
      "dense_4 (Dense)              (None, 7)                 231       \n",
      "=================================================================\n",
      "Total params: 730,871\n",
      "Trainable params: 730,263\n",
      "Non-trainable params: 608\n",
      "_________________________________________________________________\n"
     ]
    }
   ],
   "source": [
    "model = get_model_v10()\n",
    "model.summary()"
   ]
  },
  {
   "cell_type": "code",
   "execution_count": null,
   "metadata": {},
   "outputs": [
    {
     "name": "stdout",
     "output_type": "stream",
     "text": [
      "Fitting the model with train set and validation set ...\n",
      "Train on 28709 samples, validate on 3589 samples\n",
      "Epoch 1/30\n",
      " 4704/28709 [===>..........................] - ETA: 19:54 - loss: 1.9851 - accuracy: 0.1973"
     ]
    }
   ],
   "source": [
    "fit_test_save_model(model, bs=32, ep=30, fnm='fer10.json', fnw='fer10.h5')"
   ]
  },
  {
   "cell_type": "code",
   "execution_count": null,
   "metadata": {},
   "outputs": [],
   "source": []
  },
  {
   "cell_type": "code",
   "execution_count": null,
   "metadata": {},
   "outputs": [],
   "source": []
  },
  {
   "cell_type": "code",
   "execution_count": null,
   "metadata": {},
   "outputs": [],
   "source": []
  },
  {
   "cell_type": "markdown",
   "metadata": {},
   "source": [
    "## Data Augmentation"
   ]
  },
  {
   "cell_type": "code",
   "execution_count": 46,
   "metadata": {},
   "outputs": [],
   "source": [
    "# data augmentation\n",
    "# from keras.preprocessing.image import ImageDataGenerator\n",
    "datagen = ImageDataGenerator(featurewise_center=False,\n",
    "                        featurewise_std_normalization=False,\n",
    "                        rotation_range=10,\n",
    "                        width_shift_range=0.1,\n",
    "                        height_shift_range=0.1,\n",
    "                        zoom_range=.1,\n",
    "                        horizontal_flip=True,\n",
    "                        vertical_flip=False)"
   ]
  },
  {
   "cell_type": "code",
   "execution_count": 47,
   "metadata": {},
   "outputs": [
    {
     "name": "stdout",
     "output_type": "stream",
     "text": [
      "Epoch 1/20\n",
      "288/287 [==============================] - 23s 80ms/step - loss: 1.9733 - accuracy: 0.1472 - val_loss: 1.8552 - val_accuracy: 0.1819\n",
      "Epoch 2/20\n",
      "288/287 [==============================] - 24s 84ms/step - loss: 1.8374 - accuracy: 0.2287 - val_loss: 1.8262 - val_accuracy: 0.2494\n",
      "Epoch 3/20\n",
      "288/287 [==============================] - 23s 81ms/step - loss: 1.8176 - accuracy: 0.2497 - val_loss: 1.8181 - val_accuracy: 0.2494\n",
      "Epoch 4/20\n",
      "288/287 [==============================] - 23s 80ms/step - loss: 1.8170 - accuracy: 0.2527 - val_loss: 1.8145 - val_accuracy: 0.2494\n",
      "Epoch 5/20\n",
      "288/287 [==============================] - 25s 88ms/step - loss: 1.8118 - accuracy: 0.2531 - val_loss: 1.8131 - val_accuracy: 0.2494\n",
      "Epoch 6/20\n",
      "288/287 [==============================] - 25s 87ms/step - loss: 1.8121 - accuracy: 0.2502 - val_loss: 1.8126 - val_accuracy: 0.2494\n",
      "Epoch 7/20\n",
      "288/287 [==============================] - 24s 84ms/step - loss: 1.8123 - accuracy: 0.2490 - val_loss: 1.8120 - val_accuracy: 0.2494\n",
      "Epoch 8/20\n",
      "288/287 [==============================] - 23s 80ms/step - loss: 1.8099 - accuracy: 0.2536 - val_loss: 1.8116 - val_accuracy: 0.2494\n",
      "Epoch 9/20\n",
      "288/287 [==============================] - 24s 82ms/step - loss: 1.8132 - accuracy: 0.2476 - val_loss: 1.8116 - val_accuracy: 0.2494\n",
      "Epoch 10/20\n",
      "288/287 [==============================] - 24s 83ms/step - loss: 1.8079 - accuracy: 0.2550 - val_loss: 1.8113 - val_accuracy: 0.2494\n",
      "Epoch 11/20\n",
      "288/287 [==============================] - 24s 84ms/step - loss: 1.8090 - accuracy: 0.2532 - val_loss: 1.8110 - val_accuracy: 0.2494\n",
      "Epoch 12/20\n",
      "288/287 [==============================] - 24s 82ms/step - loss: 1.8118 - accuracy: 0.2489 - val_loss: 1.8115 - val_accuracy: 0.2494\n",
      "Epoch 13/20\n",
      "288/287 [==============================] - 24s 82ms/step - loss: 1.8101 - accuracy: 0.2515 - val_loss: 1.8116 - val_accuracy: 0.2494\n",
      "Epoch 14/20\n",
      "288/287 [==============================] - 24s 83ms/step - loss: 1.8089 - accuracy: 0.2524 - val_loss: 1.8113 - val_accuracy: 0.2494\n",
      "Epoch 15/20\n",
      "288/287 [==============================] - 24s 83ms/step - loss: 1.8098 - accuracy: 0.2501 - val_loss: 1.8114 - val_accuracy: 0.2494\n",
      "Epoch 16/20\n",
      "288/287 [==============================] - 23s 81ms/step - loss: 1.8093 - accuracy: 0.2519 - val_loss: 1.8112 - val_accuracy: 0.2494\n",
      "Epoch 17/20\n",
      "288/287 [==============================] - 24s 83ms/step - loss: 1.8092 - accuracy: 0.2535 - val_loss: 1.8114 - val_accuracy: 0.2494\n",
      "Epoch 18/20\n",
      "288/287 [==============================] - 23s 81ms/step - loss: 1.8109 - accuracy: 0.2488 - val_loss: 1.8113 - val_accuracy: 0.2494\n",
      "Epoch 19/20\n",
      "288/287 [==============================] - 24s 83ms/step - loss: 1.8144 - accuracy: 0.2472 - val_loss: 1.8110 - val_accuracy: 0.2494\n",
      "Epoch 20/20\n",
      "288/287 [==============================] - 24s 83ms/step - loss: 1.8055 - accuracy: 0.2546 - val_loss: 1.8115 - val_accuracy: 0.2494\n"
     ]
    }
   ],
   "source": [
    "L1 = model.fit_generator(datagen.flow(X_train,Y_train, batch_size=32), epochs = 30, \n",
    "                                  validation_data = (X_valid, Y_valid), verbose = 1, \n",
    "                                  steps_per_epoch = X_train.shape[0] / 100,)"
   ]
  },
  {
   "cell_type": "code",
   "execution_count": 48,
   "metadata": {},
   "outputs": [
    {
     "data": {
      "image/png": "[encoded data removed]",
      "text/plain": [
       "<Figure size 432x288 with 1 Axes>"
      ]
     },
     "metadata": {
      "needs_background": "light"
     },
     "output_type": "display_data"
    }
   ],
   "source": [
    "# import seaborn as sns\n",
    "df_history1 = pd.DataFrame(L1.history)\n",
    "sns.lineplot(data=df_history1[['accuracy','val_accuracy']], palette=\"tab10\", linewidth=2.5);"
   ]
  },
  {
   "cell_type": "code",
   "execution_count": 49,
   "metadata": {},
   "outputs": [],
   "source": [
    "# example of horizontal flip image augmentation\n",
    "#from numpy import expand_dims\n",
    "#from keras.preprocessing.image import img_to_array\n",
    "# from matplotlib import pyplot\n",
    "# convert to numpy array"
   ]
  },
  {
   "cell_type": "code",
   "execution_count": 50,
   "metadata": {},
   "outputs": [
    {
     "name": "stdout",
     "output_type": "stream",
     "text": [
      "Neutral\n"
     ]
    },
    {
     "data": {
      "image/png": "[encoded data removed]",
      "text/plain": [
       "<Figure size 432x288 with 1 Axes>"
      ]
     },
     "metadata": {
      "needs_background": "light"
     },
     "output_type": "display_data"
    }
   ],
   "source": [
    "\n",
    "image_sample = np.reshape(df_training.at[4, \"pixels\"].split(\" \"), (FER2013_WIDTH, FER2013_HEIGHT)).astype(\"float\")\n",
    "plt.imshow(image_sample, cmap=\"gray\")\n",
    "print(Emotions[df_training.at[4, \"emotion\"]])"
   ]
  },
  {
   "cell_type": "code",
   "execution_count": 51,
   "metadata": {},
   "outputs": [
    {
     "data": {
      "text/plain": [
       "(1, 48, 48, 1)"
      ]
     },
     "execution_count": 51,
     "metadata": {},
     "output_type": "execute_result"
    }
   ],
   "source": [
    "image_sample= image_sample.reshape(-1, 48, 48, 1)\n",
    "image_sample.shape"
   ]
  },
  {
   "cell_type": "code",
   "execution_count": 53,
   "metadata": {},
   "outputs": [
    {
     "data": {
      "image/png": "[encoded data removed]",
      "text/plain": [
       "<Figure size 432x288 with 9 Axes>"
      ]
     },
     "metadata": {
      "needs_background": "light"
     },
     "output_type": "display_data"
    }
   ],
   "source": [
    "# create image data augmentation generator\n",
    "datagen = ImageDataGenerator(featurewise_center=False,\n",
    "                        featurewise_std_normalization=False,\n",
    "                        rotation_range=10,\n",
    "                        width_shift_range=0.1,\n",
    "                        height_shift_range=0.1,\n",
    "                        zoom_range=.1,\n",
    "                        horizontal_flip=True,\n",
    "                        vertical_flip=False)\n",
    "# prepare iterator\n",
    "it = datagen.flow(image_sample, batch_size=1)\n",
    "# generate samples and plot\n",
    "image =[]\n",
    "for i in range(9):\n",
    "    # pyplot.subplot(330 + 1 + i)\n",
    "    plt.subplot(330 + 1 + i)\n",
    "    batch = it.next()\n",
    "    image = batch[0].astype('uint8').reshape(48,48)\n",
    "    plt.imshow(image,cmap=\"gray\")\n",
    "plt.show()"
   ]
  },
  {
   "cell_type": "code",
   "execution_count": 18,
   "metadata": {},
   "outputs": [],
   "source": [
    "# Creating a Sequential Model and adding the layers\n",
    "input_shape = (48, 48, 1)\n",
    "DROPOUT = 0.5\n",
    "KERNELSIZE = (3, 3)\n",
    "POOLING_SIZE = (2, 2)\n",
    "model = Sequential()\n",
    "\n",
    "#first layer\n",
    "model.add(Conv2D(64, kernel_size=KERNELSIZE, activation=tf.nn.relu, input_shape=input_shape, padding=\"same\", name='Conv2D_1'))\n",
    "#model.add(BatchNormalization())\n",
    "model.add(MaxPooling2D(pool_size=POOLING_SIZE))\n",
    "\n",
    "#second layer\n",
    "# input_shape should be the first layer's shape, shouldn't it???\n",
    "model.add(Conv2D(64, kernel_size=KERNELSIZE, activation=tf.nn.relu, padding=\"same\", name='Conv2D_2'))    # , input_shape=input_shape))\n",
    "#model.add(BatchNormalization())\n",
    "model.add(Dropout(DROPOUT))\n",
    "model.add(MaxPooling2D(pool_size=POOLING_SIZE))\n",
    "\n",
    "#third layer\n",
    "# Can we simply add a layer like this???\n",
    "model.add(Conv2D(64, kernel_size=KERNELSIZE, activation=tf.nn.relu, padding=\"same\", name='Conv2D_3'))   #, input_shape=input_shape))\n",
    "#model.add(BatchNormalization())\n",
    "model.add(Dropout(DROPOUT))\n",
    "model.add(MaxPooling2D(pool_size=POOLING_SIZE))\n",
    "\n",
    "#fourth layer\n",
    "# Can we simply add a layer like this???\n",
    "model.add(Conv2D(64, kernel_size=KERNELSIZE, activation=tf.nn.relu, padding=\"same\", name='Conv2D_4'))   #, input_shape=input_shape))\n",
    "#model.add(BatchNormalization())\n",
    "model.add(Dropout(DROPOUT))\n",
    "model.add(MaxPooling2D(pool_size=POOLING_SIZE))\n",
    "\n",
    "#fifth layer\n",
    "# Can we simply add a layer like this???\n",
    "#model.add(Conv2D(64, kernel_size=KERNELSIZE, activation=tf.nn.relu, padding=\"same\", name='Conv2D_5'))   #, input_shape=input_shape))\n",
    "#model.add(BatchNormalization())\n",
    "#model.add(Dropout(DROPOUT))\n",
    "#model.add(MaxPooling2D(pool_size=POOLING_SIZE))\n",
    "\n",
    "model.add(Flatten()) # Flattening the 2D arrays for fully connected layers\n",
    "model.add(Dense(225, activation=tf.nn.relu))\n",
    "# model.add(Dense(64, activation=tf.nn.relu))\n",
    "model.add(Dropout(DROPOUT))\n",
    "model.add(BatchNormalization())\n",
    "model.add(Dense(7, activation=tf.nn.softmax))"
   ]
  },
  {
   "cell_type": "code",
   "execution_count": null,
   "metadata": {},
   "outputs": [],
   "source": []
  },
  {
   "cell_type": "code",
   "execution_count": null,
   "metadata": {},
   "outputs": [],
   "source": []
  },
  {
   "cell_type": "code",
   "execution_count": null,
   "metadata": {},
   "outputs": [],
   "source": []
  },
  {
   "cell_type": "code",
   "execution_count": null,
   "metadata": {},
   "outputs": [],
   "source": []
  }
 ],
 "metadata": {
  "kernelspec": {
   "display_name": "Python 3",
   "language": "python",
   "name": "python3"
  },
  "language_info": {
   "codemirror_mode": {
    "name": "ipython",
    "version": 3
   },
   "file_extension": ".py",
   "mimetype": "text/x-python",
   "name": "python",
   "nbconvert_exporter": "python",
   "pygments_lexer": "ipython3",
   "version": "3.7.7"
  }
 },
 "nbformat": 4,
 "nbformat_minor": 4
}
