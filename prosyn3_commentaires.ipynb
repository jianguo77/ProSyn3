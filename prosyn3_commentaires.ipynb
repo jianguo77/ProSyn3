{
 "cells": [
  {
   "cell_type": "markdown",
   "metadata": {},
   "source": [
    "## Preparation"
   ]
  },
  {
   "cell_type": "markdown",
   "metadata": {},
   "source": [
    "<p>On commence par importer des packages necessaires. Si vous utilisez <b>tensorflow.compat.v1</b>, vous devez desactiver eager_execution. Notez que le package <b>tensorflow</b> n'a pas la fonction <b><i>disable_eager_execution</i></b> </p>"
   ]
  },
  {
   "cell_type": "code",
   "execution_count": 74,
   "metadata": {},
   "outputs": [],
   "source": [
    "import tensorflow as tf\n",
    "#import tensorflow.compat.v1 as tf\n",
    "#tf.disable_eager_execution()\n",
    "from keras.models import Sequential\n",
    "from keras.layers import Dense, Conv2D, Dropout, Flatten, MaxPooling2D "
   ]
  },
  {
   "cell_type": "code",
   "execution_count": 75,
   "metadata": {},
   "outputs": [],
   "source": [
    "import numpy as np      # linear algebra\n",
    "import pandas as pd     # data processing, CSV file I/O (e.g. pd.read_csv)\n",
    "import matplotlib.pyplot as plt"
   ]
  },
  {
   "cell_type": "code",
   "execution_count": 76,
   "metadata": {},
   "outputs": [],
   "source": [
    "%matplotlib inline"
   ]
  },
  {
   "cell_type": "markdown",
   "metadata": {},
   "source": [
    "<p>Pour eviter le download de data plusieurs fois, on les sauvegarde dans une repertoire local. Ceci pourrait differente pour different personne. Donc changez la valeur de variable <b><i>data_dir</i></b> si necessaire</p>"
   ]
  },
  {
   "cell_type": "code",
   "execution_count": 77,
   "metadata": {},
   "outputs": [],
   "source": [
    "# download the data from web and saved to local directory\n",
    "# put the data in a variable make the following code usable for any data sources\n",
    "# Original data is hold by df\n",
    "data_dir = \"C:\\\\Users\\\\jeang\\\\Documents\\\\BDEB\\\\A62\\\\ProSyn3\\\\data\\\\fer2013.csv\"\n",
    "##data_dir  = \"C:\\\\Users\\\\Nisha Haulkhory\\\\Desktop\\\\projet de synthese\\\\fer2013.csv\""
   ]
  },
  {
   "cell_type": "markdown",
   "metadata": {},
   "source": [
    "## Exploration des donnees"
   ]
  },
  {
   "cell_type": "markdown",
   "metadata": {},
   "source": [
    "<p>On charge les donnees dans une variable <b><i>df</i></b></p>"
   ]
  },
  {
   "cell_type": "code",
   "execution_count": 78,
   "metadata": {},
   "outputs": [
    {
     "data": {
      "text/html": [
       "<div>\n",
       "<style scoped>\n",
       "    .dataframe tbody tr th:only-of-type {\n",
       "        vertical-align: middle;\n",
       "    }\n",
       "\n",
       "    .dataframe tbody tr th {\n",
       "        vertical-align: top;\n",
       "    }\n",
       "\n",
       "    .dataframe thead th {\n",
       "        text-align: right;\n",
       "    }\n",
       "</style>\n",
       "<table border=\"1\" class=\"dataframe\">\n",
       "  <thead>\n",
       "    <tr style=\"text-align: right;\">\n",
       "      <th></th>\n",
       "      <th>emotion</th>\n",
       "      <th>pixels</th>\n",
       "      <th>Usage</th>\n",
       "    </tr>\n",
       "  </thead>\n",
       "  <tbody>\n",
       "    <tr>\n",
       "      <th>0</th>\n",
       "      <td>0</td>\n",
       "      <td>70 80 82 72 58 58 60 63 54 58 60 48 89 115 121...</td>\n",
       "      <td>Training</td>\n",
       "    </tr>\n",
       "    <tr>\n",
       "      <th>1</th>\n",
       "      <td>0</td>\n",
       "      <td>151 150 147 155 148 133 111 140 170 174 182 15...</td>\n",
       "      <td>Training</td>\n",
       "    </tr>\n",
       "    <tr>\n",
       "      <th>2</th>\n",
       "      <td>2</td>\n",
       "      <td>231 212 156 164 174 138 161 173 182 200 106 38...</td>\n",
       "      <td>Training</td>\n",
       "    </tr>\n",
       "    <tr>\n",
       "      <th>3</th>\n",
       "      <td>4</td>\n",
       "      <td>24 32 36 30 32 23 19 20 30 41 21 22 32 34 21 1...</td>\n",
       "      <td>Training</td>\n",
       "    </tr>\n",
       "    <tr>\n",
       "      <th>4</th>\n",
       "      <td>6</td>\n",
       "      <td>4 0 0 0 0 0 0 0 0 0 0 0 3 15 23 28 48 50 58 84...</td>\n",
       "      <td>Training</td>\n",
       "    </tr>\n",
       "  </tbody>\n",
       "</table>\n",
       "</div>"
      ],
      "text/plain": [
       "   emotion                                             pixels     Usage\n",
       "0        0  70 80 82 72 58 58 60 63 54 58 60 48 89 115 121...  Training\n",
       "1        0  151 150 147 155 148 133 111 140 170 174 182 15...  Training\n",
       "2        2  231 212 156 164 174 138 161 173 182 200 106 38...  Training\n",
       "3        4  24 32 36 30 32 23 19 20 30 41 21 22 32 34 21 1...  Training\n",
       "4        6  4 0 0 0 0 0 0 0 0 0 0 0 3 15 23 28 48 50 58 84...  Training"
      ]
     },
     "execution_count": 78,
     "metadata": {},
     "output_type": "execute_result"
    }
   ],
   "source": [
    "# Original data is hold by df\n",
    "df = pd.read_csv(data_dir )\n",
    "df.head()"
   ]
  },
  {
   "cell_type": "code",
   "execution_count": 79,
   "metadata": {},
   "outputs": [
    {
     "name": "stdout",
     "output_type": "stream",
     "text": [
      "Le dataset a 35887 lignes et 3 colonnes.\n"
     ]
    }
   ],
   "source": [
    "print(f\"Le dataset a {df.shape[0]} lignes et {df.shape[1]} colonnes.\")"
   ]
  },
  {
   "cell_type": "markdown",
   "metadata": {},
   "source": [
    "<p>Pour connaitre les differentes valeurs dans la colonne <b>Usage</b></P "
   ]
  },
  {
   "cell_type": "code",
   "execution_count": 80,
   "metadata": {},
   "outputs": [
    {
     "name": "stdout",
     "output_type": "stream",
     "text": [
      "Le dataset a comme Usage ces valeurs: ['PublicTest', 'Training', 'PrivateTest']\n"
     ]
    }
   ],
   "source": [
    "split = list(set(df['Usage']))\n",
    "print(f\"Le dataset a comme Usage ces valeurs: {split}\")"
   ]
  },
  {
   "cell_type": "markdown",
   "metadata": {},
   "source": [
    "<p>On partage les donnees en 3 parties selons les valeurs d'<b><i>Usage</i></b></P>"
   ]
  },
  {
   "cell_type": "code",
   "execution_count": 81,
   "metadata": {},
   "outputs": [],
   "source": [
    "df_training = df[df['Usage']=='Training']\n",
    "df_PublicTest = df[df['Usage']=='PublicTest']\n",
    "df_PrivateTest = df[df['Usage']=='PrivateTest']"
   ]
  },
  {
   "cell_type": "markdown",
   "metadata": {},
   "source": [
    "<p>Une partition des donnees pourrait etre desastreuse si la distribution de la cible est differente pour ces trois parties. Pour savoir si nos trois parties sont bien equilibre, nous allons charger quatre variables pour la distribution de la cible dans les donnees originals, et dans ces trois parties</P>"
   ]
  },
  {
   "cell_type": "code",
   "execution_count": 14,
   "metadata": {},
   "outputs": [],
   "source": [
    "rdf = df.emotion.value_counts(normalize=True)\n",
    "rdf_training = df_training.emotion.value_counts(normalize=True)\n",
    "rdf_PublicTest = df_PublicTest.emotion.value_counts(normalize=True)\n",
    "rdf_PrivateTest = df_PrivateTest.emotion.value_counts(normalize=True)"
   ]
  },
  {
   "cell_type": "code",
   "execution_count": 30,
   "metadata": {},
   "outputs": [],
   "source": [
    "trainset_keep_same_ratio = all(rdf.index==rdf_training.index)\n",
    "publicset_keep_same_ratio = all(rdf.index==rdf_PublicTest.index)\n",
    "privateset_keep_same_ratio = all(rdf.index==rdf_PrivateTest.index)"
   ]
  },
  {
   "cell_type": "markdown",
   "metadata": {},
   "source": [
    "<p><ul><li>La meilleurs situation est pour le senario lorsque ces trois parties ont relativement la meme distribution que les donnees avant la partition. Si c'est le cas, on affiche une DataFrame de la distribution des cibles pour ces quatre variables</li><li>Si jamais une partie n'a pas la meme distribution que les donnees originals, on affiche les autres parties dans le DataFrame. La distribution de cette partie sera affiche en comparant avec celle des donnees originals</li><li>Si jamais deux parties ou plus n'ont pas la meme distribution que les donnees originals, on affiche ces quatre distributions separativement</li></ul></P>"
   ]
  },
  {
   "cell_type": "code",
   "execution_count": 82,
   "metadata": {},
   "outputs": [
    {
     "name": "stdout",
     "output_type": "stream",
     "text": [
      "\n",
      "Train_set et private_test_set ont relativement la même partition:\n",
      "    origine  train_set  private_set\n",
      "3  0.250481   0.251315     0.244915\n",
      "6  0.172709   0.172942     0.174422\n",
      "4  0.169337   0.168240     0.165506\n",
      "2  0.142698   0.142708     0.147116\n",
      "0  0.138017   0.139155     0.136807\n",
      "5  0.111517   0.110453     0.115910\n",
      "1  0.015242   0.015187     0.015325\n",
      "Public_test_set a une partition différente:\n",
      "Original\n",
      " 3    0.250481\n",
      "6    0.172709\n",
      "4    0.169337\n",
      "2    0.142698\n",
      "0    0.138017\n",
      "5    0.111517\n",
      "1    0.015242\n",
      "Name: emotion, dtype: float64 \n",
      "PublicTest\n",
      " 3    0.249373\n",
      "4    0.181945\n",
      "6    0.169128\n",
      "2    0.138200\n",
      "0    0.130120\n",
      "5    0.115631\n",
      "1    0.015603\n",
      "Name: emotion, dtype: float64\n"
     ]
    }
   ],
   "source": [
    "if all([trainset_keep_same_ratio, publicset_keep_same_ratio, privateset_keep_same_ratio]):\n",
    "    print(\"\\nOn a relativement une bonne partition:\")\n",
    "    print(pd.DataFrame({\"origine\":rdf.values, \"train_set\":rdf_training.values, \"public_set\":rdf_PublicTest.values, \"private_set\":rdf_PrivateTest.values}, index=rdf.index))\n",
    "elif all([trainset_keep_same_ratio, privateset_keep_same_ratio]):\n",
    "    print(\"\\nTrain_set et private_test_set ont relativement la même partition:\")\n",
    "    print(pd.DataFrame({\"origine\":rdf.values, \"train_set\":rdf_training.values, \"private_set\":rdf_PrivateTest.values}, index=rdf.index))\n",
    "    print(\"Public_test_set a une partition différente:\\nOriginal\\n\", rdf, \"\\nPublicTest\\n\", rdf_PublicTest)\n",
    "elif all([trainset_keep_same_ratio, publicset_keep_same_ratio]):\n",
    "    print(\"\\nTrain_set et public_test_set ont relativement la même partition:\")\n",
    "    print(pd.DataFrame({\"origine\":rdf.values, \"train_set\":rdf_training.values, \"public_set\":rdf_PublicTest.values}, index=rdf.index))\n",
    "    print(\"Private_test_set a une partition différente:\\nOriginal\\n\", rdf, \"\\nPrivate Test\\n\", rdf_PrivateTest)          \n",
    "elif all([publicset_keep_same_ratio, privateset_keep_same_ratio]):\n",
    "    print(\"\\nPublic test set and private test set have relatively the same data partition:\")\n",
    "    print(pd.DataFrame({\"origine\":rdf.values, \"PublicTest\":rdf_PublicTest.values, \"PrivateTest\":rdf_PrivateTest.values}, index=rdf.index))\n",
    "    print(\"Train_set a une partition différente:\\nOriginal\\n\", rdf, \"\\nTraining\\n\", rdf_training)\n",
    "else:          \n",
    "    print(\"La partition des données n'est pas correctement effectuée!\")\n",
    "    print(\"\\nOriginal\\n\", rdf, \"\\nTraining\\n\", rdf_training, \"PublicTest\\n\", rdf_PublicTest, \"PrivateTest\\n\", rdf_PrivateTest)"
   ]
  },
  {
   "cell_type": "markdown",
   "metadata": {},
   "source": [
    "<p>Nous constatons que:<tr><ol><li>La distribution est relativement bien dans les trois parties</li><li>Les images de categorie 4 sont un peu plus nombreuses dans la partie <b>PublicTest</b> que les donnees originals</li><li>Ceci est tolerable pour une telle partition</li></p>"
   ]
  },
  {
   "cell_type": "markdown",
   "metadata": {},
   "source": [
    "<p>Nous allons continuer l'exploration des donnees.<br>On verifie les datatype de donnees, les valeurs manquantes, les valeurs aberantes</p>"
   ]
  },
  {
   "cell_type": "code",
   "execution_count": 83,
   "metadata": {},
   "outputs": [
    {
     "name": "stdout",
     "output_type": "stream",
     "text": [
      "<class 'pandas.core.frame.DataFrame'>\n",
      "RangeIndex: 35887 entries, 0 to 35886\n",
      "Data columns (total 3 columns):\n",
      " #   Column   Non-Null Count  Dtype \n",
      "---  ------   --------------  ----- \n",
      " 0   emotion  35887 non-null  int64 \n",
      " 1   pixels   35887 non-null  object\n",
      " 2   Usage    35887 non-null  object\n",
      "dtypes: int64(1), object(2)\n",
      "memory usage: 841.2+ KB\n"
     ]
    }
   ],
   "source": [
    "df.info()"
   ]
  },
  {
   "cell_type": "markdown",
   "metadata": {},
   "source": [
    "<p>Pour connaitre la structure des donnees dans la colonne <b>pixels</b>, une colonne,<b>length</b>, est ajoute qui est le nombre des chiffres sur chaque ligne</P>"
   ]
  },
  {
   "cell_type": "code",
   "execution_count": 84,
   "metadata": {},
   "outputs": [
    {
     "data": {
      "text/html": [
       "<div>\n",
       "<style scoped>\n",
       "    .dataframe tbody tr th:only-of-type {\n",
       "        vertical-align: middle;\n",
       "    }\n",
       "\n",
       "    .dataframe tbody tr th {\n",
       "        vertical-align: top;\n",
       "    }\n",
       "\n",
       "    .dataframe thead th {\n",
       "        text-align: right;\n",
       "    }\n",
       "</style>\n",
       "<table border=\"1\" class=\"dataframe\">\n",
       "  <thead>\n",
       "    <tr style=\"text-align: right;\">\n",
       "      <th></th>\n",
       "      <th>emotion</th>\n",
       "      <th>pixels</th>\n",
       "      <th>Usage</th>\n",
       "      <th>length</th>\n",
       "    </tr>\n",
       "  </thead>\n",
       "  <tbody>\n",
       "    <tr>\n",
       "      <th>0</th>\n",
       "      <td>0</td>\n",
       "      <td>70 80 82 72 58 58 60 63 54 58 60 48 89 115 121...</td>\n",
       "      <td>Training</td>\n",
       "      <td>2304</td>\n",
       "    </tr>\n",
       "    <tr>\n",
       "      <th>1</th>\n",
       "      <td>0</td>\n",
       "      <td>151 150 147 155 148 133 111 140 170 174 182 15...</td>\n",
       "      <td>Training</td>\n",
       "      <td>2304</td>\n",
       "    </tr>\n",
       "    <tr>\n",
       "      <th>2</th>\n",
       "      <td>2</td>\n",
       "      <td>231 212 156 164 174 138 161 173 182 200 106 38...</td>\n",
       "      <td>Training</td>\n",
       "      <td>2304</td>\n",
       "    </tr>\n",
       "    <tr>\n",
       "      <th>3</th>\n",
       "      <td>4</td>\n",
       "      <td>24 32 36 30 32 23 19 20 30 41 21 22 32 34 21 1...</td>\n",
       "      <td>Training</td>\n",
       "      <td>2304</td>\n",
       "    </tr>\n",
       "    <tr>\n",
       "      <th>4</th>\n",
       "      <td>6</td>\n",
       "      <td>4 0 0 0 0 0 0 0 0 0 0 0 3 15 23 28 48 50 58 84...</td>\n",
       "      <td>Training</td>\n",
       "      <td>2304</td>\n",
       "    </tr>\n",
       "  </tbody>\n",
       "</table>\n",
       "</div>"
      ],
      "text/plain": [
       "   emotion                                             pixels     Usage  \\\n",
       "0        0  70 80 82 72 58 58 60 63 54 58 60 48 89 115 121...  Training   \n",
       "1        0  151 150 147 155 148 133 111 140 170 174 182 15...  Training   \n",
       "2        2  231 212 156 164 174 138 161 173 182 200 106 38...  Training   \n",
       "3        4  24 32 36 30 32 23 19 20 30 41 21 22 32 34 21 1...  Training   \n",
       "4        6  4 0 0 0 0 0 0 0 0 0 0 0 3 15 23 28 48 50 58 84...  Training   \n",
       "\n",
       "   length  \n",
       "0    2304  \n",
       "1    2304  \n",
       "2    2304  \n",
       "3    2304  \n",
       "4    2304  "
      ]
     },
     "execution_count": 84,
     "metadata": {},
     "output_type": "execute_result"
    }
   ],
   "source": [
    "df['length'] = df.pixels.apply(lambda x: len(str(x).split(' ')))\n",
    "df.head()"
   ]
  },
  {
   "cell_type": "markdown",
   "metadata": {},
   "source": [
    "<p>Pour verifier si toutes les lignes ont la meme longeur ou s'il y a des valeurs manquantres</P>"
   ]
  },
  {
   "cell_type": "code",
   "execution_count": 85,
   "metadata": {},
   "outputs": [
    {
     "name": "stdout",
     "output_type": "stream",
     "text": [
      "valeur manquant, valeur different = (0, 0)\n"
     ]
    }
   ],
   "source": [
    "normal_length = 2304  \n",
    "no_data = sum(df.length.isna())\n",
    "anormal = sum([df.length[i] != normal_length for i in range(df.shape[0])])\n",
    "print(f\"valeur manquant, valeur different = {no_data, anormal}\")"
   ]
  },
  {
   "cell_type": "markdown",
   "metadata": {},
   "source": [
    "* Nous constatons que Les données n'ont pas de valeur manquante\n",
    "* La distribution des emotions montre qu'il y a plus de catégorie 3 et moins de catégorie 1"
   ]
  },
  {
   "cell_type": "markdown",
   "metadata": {},
   "source": [
    "## Points particulier¶"
   ]
  },
  {
   "cell_type": "markdown",
   "metadata": {},
   "source": [
    "<p>La cible, la colonne <b>emotion</b>, merite une attention particulier.</P>"
   ]
  },
  {
   "cell_type": "code",
   "execution_count": 39,
   "metadata": {},
   "outputs": [
    {
     "data": {
      "text/plain": [
       "<matplotlib.axes._subplots.AxesSubplot at 0x20bdd3127c8>"
      ]
     },
     "execution_count": 39,
     "metadata": {},
     "output_type": "execute_result"
    },
    {
     "data": {
      "image/png": "[encoded data removed]",
      "text/plain": [
       "<Figure size 432x288 with 1 Axes>"
      ]
     },
     "metadata": {
      "needs_background": "light"
     },
     "output_type": "display_data"
    }
   ],
   "source": [
    "lab = pd.DataFrame(df.emotion.value_counts())\n",
    "lab.plot.bar(title=\"labels break Down\")"
   ]
  },
  {
   "cell_type": "markdown",
   "metadata": {},
   "source": [
    "* Les données contient essentiellement deux colonnes: emotion est la cible (catégories) et pixels l'image 48x48 = 2304\n",
    "* L'autre colonne, Usage, est une parition des données: Training, PublicTest, PrivateTest\n",
    "* Nous allons utiliser la partie Training pour developper le modele et PrivateTest pour tester notre modele\n",
    "* En fin, la partie PublicTest sera utilisée pour la validation"
   ]
  },
  {
   "cell_type": "markdown",
   "metadata": {},
   "source": [
    "<p> Maintenant, nous allons definir des fonctions pour afficher un image (une ligne quelquonque)<br>Notons que 48 x 48 = 2304</p>"
   ]
  },
  {
   "cell_type": "code",
   "execution_count": 86,
   "metadata": {},
   "outputs": [
    {
     "data": {
      "image/png": "[encoded data removed]",
      "text/plain": [
       "<Figure size 432x288 with 1 Axes>"
      ]
     },
     "metadata": {
      "needs_background": "light"
     },
     "output_type": "display_data"
    }
   ],
   "source": [
    "import numpy as np\n",
    "import matplotlib.pyplot as plt\n",
    "\n",
    "FER2013_WIDTH = 48\n",
    "FER2013_HEIGHT = 48\n",
    "\n",
    "# indices 0 - 6 correspondent emotions suivantes\n",
    "Emotions = [\"Angry\", \"Disgust\", \"Fear\", \"Happy\", \"Sad\", \"Surprise\", \"Neutral\"]  \n",
    "\n",
    "def string_to_image(str_in):\n",
    "    return np.reshape(str_in.split(\" \"), (FER2013_WIDTH, FER2013_HEIGHT)).astype(\"float\")\n",
    "\n",
    "def fer2013_show_instance(index, d=df):\n",
    "    \"\"\"Shows the image and the emotion label of the index's instance.\"\"\"\n",
    "    category, str_image = d.at[index,'emotion'], d.at[index,'pixels']\n",
    "    image = string_to_image(str_image)\n",
    "    plt.imshow(image, cmap=\"gray\")\n",
    "    plt.title(f\"Exemple de categorie {category}: {Emotions[category]}\")\n",
    "    \n",
    "fer2013_show_instance(np.random.randint(0,len(df_training)))"
   ]
  },
  {
   "cell_type": "markdown",
   "metadata": {},
   "source": [
    "<p>Nous voulons aussi savoir les differentes expressions d'emotions pour les sept categories</p>"
   ]
  },
  {
   "cell_type": "code",
   "execution_count": 87,
   "metadata": {},
   "outputs": [
    {
     "data": {
      "image/png": "[encoded data removed]",
      "text/plain": [
       "<Figure size 432x288 with 1 Axes>"
      ]
     },
     "metadata": {
      "needs_background": "light"
     },
     "output_type": "display_data"
    },
    {
     "data": {
      "image/png": "[encoded data removed]",
      "text/plain": [
       "<Figure size 432x288 with 1 Axes>"
      ]
     },
     "metadata": {
      "needs_background": "light"
     },
     "output_type": "display_data"
    },
    {
     "data": {
      "image/png": "[encoded data removed]",
      "text/plain": [
       "<Figure size 432x288 with 1 Axes>"
      ]
     },
     "metadata": {
      "needs_background": "light"
     },
     "output_type": "display_data"
    },
    {
     "data": {
      "image/png": "[encoded data removed]",
      "text/plain": [
       "<Figure size 432x288 with 1 Axes>"
      ]
     },
     "metadata": {
      "needs_background": "light"
     },
     "output_type": "display_data"
    },
    {
     "data": {
      "image/png": "[encoded data removed]",
      "text/plain": [
       "<Figure size 432x288 with 1 Axes>"
      ]
     },
     "metadata": {
      "needs_background": "light"
     },
     "output_type": "display_data"
    },
    {
     "data": {
      "image/png": "[encoded data removed]",
      "text/plain": [
       "<Figure size 432x288 with 1 Axes>"
      ]
     },
     "metadata": {
      "needs_background": "light"
     },
     "output_type": "display_data"
    },
    {
     "data": {
      "image/png": "[encoded data removed]",
      "text/plain": [
       "<Figure size 432x288 with 1 Axes>"
      ]
     },
     "metadata": {
      "needs_background": "light"
     },
     "output_type": "display_data"
    }
   ],
   "source": [
    "for cat in range(7):\n",
    "    plt.figure(cat)\n",
    "    idx = np.random.choice(df.index[df.emotion==cat])\n",
    "    fer2013_show_instance(idx)\n",
    "plt.show()"
   ]
  },
  {
   "cell_type": "markdown",
   "metadata": {},
   "source": [
    "<p>La fonction <b><i>fer2013_to_4d_array</i></b> prend comme entree une dataframe qui tienne les donnees d'images mais en format des chaines de caracteres.<br>Elle retoune comme sortie un <b>np.array</b> de 4 dim, normalisee, utilisables pour <b>tensorflow<b> </p>"
   ]
  },
  {
   "cell_type": "code",
   "execution_count": 88,
   "metadata": {},
   "outputs": [],
   "source": [
    "def fer2013_to_4d_array(d=df):\n",
    "    \"\"\"Transforms the (blank separated) pixel strings in the DataFrame to an 4-dimensional array \n",
    "    (1st dim: instances, 2nd and 3rd dims represent 2D image, 4th dim represent the color).\"\"\"\n",
    "    \n",
    "    pixels_list = d[\"pixels\"].values\n",
    "    list_image_2d = [string_to_image(pixels) for pixels in pixels_list]\n",
    "    #for pixels in pixels_list:\n",
    "        # single_image_2d = np.reshape(pixels.split(\" \"), (FER2013_WIDTH, FER2013_HEIGHT)).astype(\"float\")\n",
    "    #    single_image_2d = string_to_image(pixels)\n",
    "    #    list_image_2d.append(single_image_2d)\n",
    "        \n",
    "    # Convert list to 4D array:\n",
    "    X = np.expand_dims(np.array(list_image_2d), -1)\n",
    "    print(f\"The given data <pixel strings> has been converted to {X.shape} array\")\n",
    "    return X / 255"
   ]
  },
  {
   "cell_type": "markdown",
   "metadata": {},
   "source": [
    "<p>On applique la fonction <b><i>fer2013_to_4d_array</i></b> sur les trois partitions</P>"
   ]
  },
  {
   "cell_type": "code",
   "execution_count": 89,
   "metadata": {},
   "outputs": [
    {
     "name": "stdout",
     "output_type": "stream",
     "text": [
      "The given data <pixel strings> has been converted to (28709, 48, 48, 1) array\n",
      "The given data <pixel strings> has been converted to (3589, 48, 48, 1) array\n",
      "The given data <pixel strings> has been converted to (3589, 48, 48, 1) array\n"
     ]
    }
   ],
   "source": [
    "X_train = fer2013_to_4d_array(df_training)\n",
    "X_test = fer2013_to_4d_array(df_PrivateTest)\n",
    "X_valid = fer2013_to_4d_array(df_PublicTest)"
   ]
  },
  {
   "cell_type": "markdown",
   "metadata": {},
   "source": [
    "<p>La fonction <b><i>one_hot_label</i></b> prend comme entree une dataframe qui tienne les donnees d'emotions mais en format categoriel (7 classes).<br>Elle retoune comme sortie un <b>np.array</b> de 2 dim. Les classes sont reparties en 7 colonnes, une pour chaque, utilisables pour <b>tensorflow<b> </p>"
   ]
  },
  {
   "cell_type": "code",
   "execution_count": 90,
   "metadata": {},
   "outputs": [
    {
     "name": "stdout",
     "output_type": "stream",
     "text": [
      "(28709, 7) (3589, 7) (3589, 7)\n"
     ]
    }
   ],
   "source": [
    "def one_hot_labels(d):\n",
    "    \"\"\"Get one-hot encoded labels\"\"\"\n",
    "    return pd.get_dummies(d.emotion).values\n",
    "\n",
    "Y_train = one_hot_labels(df_training)\n",
    "Y_test = one_hot_labels(df_PrivateTest)\n",
    "Y_valid = one_hot_labels(df_PublicTest)\n",
    "print(Y_train.shape, Y_test.shape, Y_valid.shape)"
   ]
  },
  {
   "cell_type": "markdown",
   "metadata": {},
   "source": [
    "<p>On verifie simplement si les donnees sont normalise</p>"
   ]
  },
  {
   "cell_type": "code",
   "execution_count": 91,
   "metadata": {},
   "outputs": [
    {
     "data": {
      "text/html": [
       "<div>\n",
       "<style scoped>\n",
       "    .dataframe tbody tr th:only-of-type {\n",
       "        vertical-align: middle;\n",
       "    }\n",
       "\n",
       "    .dataframe tbody tr th {\n",
       "        vertical-align: top;\n",
       "    }\n",
       "\n",
       "    .dataframe thead th {\n",
       "        text-align: right;\n",
       "    }\n",
       "</style>\n",
       "<table border=\"1\" class=\"dataframe\">\n",
       "  <thead>\n",
       "    <tr style=\"text-align: right;\">\n",
       "      <th></th>\n",
       "      <th>max</th>\n",
       "      <th>mean</th>\n",
       "      <th>min</th>\n",
       "    </tr>\n",
       "  </thead>\n",
       "  <tbody>\n",
       "    <tr>\n",
       "      <th>train_set</th>\n",
       "      <td>1.0</td>\n",
       "      <td>0.507743</td>\n",
       "      <td>0.0</td>\n",
       "    </tr>\n",
       "    <tr>\n",
       "      <th>test_set</th>\n",
       "      <td>1.0</td>\n",
       "      <td>0.506207</td>\n",
       "      <td>0.0</td>\n",
       "    </tr>\n",
       "    <tr>\n",
       "      <th>validation_set</th>\n",
       "      <td>1.0</td>\n",
       "      <td>0.505808</td>\n",
       "      <td>0.0</td>\n",
       "    </tr>\n",
       "  </tbody>\n",
       "</table>\n",
       "</div>"
      ],
      "text/plain": [
       "                max      mean  min\n",
       "train_set       1.0  0.507743  0.0\n",
       "test_set        1.0  0.506207  0.0\n",
       "validation_set  1.0  0.505808  0.0"
      ]
     },
     "execution_count": 91,
     "metadata": {},
     "output_type": "execute_result"
    }
   ],
   "source": [
    "pd.DataFrame({'max':[np.max(X_train), np.max(X_test), np.max(X_valid)], \n",
    "              'mean':[np.mean(X_train), np.mean(X_test), np.mean(X_valid)],\n",
    "              'min':[np.min(X_train), np.min(X_test), np.min(X_valid)]}, index=['train_set', 'test_set', 'validation_set'])"
   ]
  },
  {
   "cell_type": "markdown",
   "metadata": {},
   "source": [
    "# Peut-on supprimer cette reshape? Il n'est pas necessaire.\n",
    "* Let us reshape the images so that it's of size 48 x 48 x 1, and feed this as an input to the network.\n",
    "* The reason you need to reshape your data is that Tensorflow expects a certain input shape for its Deep Learning Model, i.e., in this case, a Convolution Neural Network, specifically:\n"
   ]
  },
  {
   "cell_type": "code",
   "execution_count": 92,
   "metadata": {},
   "outputs": [
    {
     "name": "stdout",
     "output_type": "stream",
     "text": [
      "(28709, 48, 48, 1) (28709, 48, 48, 1)\n"
     ]
    }
   ],
   "source": [
    "# I think our data has the same shape as needed, look at this: THERE IS NO DIFFERENCE AFTER RESHAPE\n",
    "# Reshape training and testing image\n",
    "X = X_train.reshape(-1, 48, 48, 1)\n",
    "# X_test = X_test.reshape(-1, 48, 48, 1)\n",
    "print(X.shape, X_train.shape)"
   ]
  },
  {
   "cell_type": "markdown",
   "metadata": {},
   "source": [
    "## The Deep Neural Network\n",
    "* First, we will define the Convolutional neural networks architecture as follows:\n",
    "* 1- The first hidden layer is a convolutional layer called a Convolution2D. We will use 32 filters with size 5×5 each.\n",
    "* 2- Then a Max pooling layer with a pool size of 2×2.\n",
    "* 3- Another convolutional layer with 64 filters with size 5×5 each.\n",
    "* 4- Then a Max pooling layer with a pool size of 2×2.\n",
    "* 5- Then next is a Flatten layer that converts the 2D matrix data to a 1D vector before building the fully connected layers.\n",
    "* 6- After that we will use a fully connected layer with 1024 neurons and relu activation function.\n",
    "* 7- Then we will use a regularization layer called Dropout. It is configured to randomly exclude 20% of neurons in the layer in order to reduce overfitting.\n",
    "* 8- Finally, the output layer which has 10 neurons for the 10 classes and a softmax activation function to output probability-like predictions for each class."
   ]
  },
  {
   "cell_type": "markdown",
   "metadata": {},
   "source": [
    "## Step 1 – Create a model:\n",
    "* Keras first creates a new instance of a model object and then add layers to it one after the another. It is called a sequential model API. We can add layers to the neural network just by calling model.add and passing in the type of layer we want to add. Finally, we will compile the model with two important information, loss function, and cost optimization algorithm."
   ]
  },
  {
   "cell_type": "code",
   "execution_count": 93,
   "metadata": {},
   "outputs": [],
   "source": [
    "# Creating a Sequential Model and adding the layers\n",
    "input_shape = (48, 48, 1)\n",
    "model = Sequential()\n",
    "#first layer\n",
    "model.add(Conv2D(32, kernel_size=(5,5), input_shape=input_shape))\n",
    "model.add(MaxPooling2D(pool_size=(2, 2)))\n",
    "#second layer\n",
    "model.add(Conv2D(64, kernel_size=(5,5), input_shape=input_shape))\n",
    "model.add(MaxPooling2D(pool_size=(2, 2)))\n",
    "model.add(Flatten()) # Flattening the 2D arrays for fully connected layers\n",
    "model.add(Dense(64, activation=tf.nn.relu))\n",
    "model.add(Dropout(0.2))\n",
    "model.add(Dense(7,activation=tf.nn.softmax))"
   ]
  },
  {
   "cell_type": "markdown",
   "metadata": {},
   "source": [
    "## Network Parameters\n",
    "* Next, you need to define the network parameters. Firstly, you define the number of inputs. This is 2304 since the image is initially loaded as a 2304-dimensional vector. Later, you will see that how you will reshape the 2304-dimensional vector to a 48 x 48 x 1 matrix. Secondly, you'll also define the number of classes, which is nothing else than the number of class labels.here 7"
   ]
  },
  {
   "cell_type": "code",
   "execution_count": 95,
   "metadata": {},
   "outputs": [],
   "source": [
    "#Compile the model\n",
    "optimizer = 'adam'\n",
    "model.compile(optimizer=optimizer, loss='categorical_crossentropy', metrics=['accuracy'])"
   ]
  },
  {
   "cell_type": "markdown",
   "metadata": {},
   "source": [
    "<p>Vu global du modele</p>"
   ]
  },
  {
   "cell_type": "code",
   "execution_count": 96,
   "metadata": {},
   "outputs": [
    {
     "name": "stdout",
     "output_type": "stream",
     "text": [
      "Model: \"sequential_2\"\n",
      "_________________________________________________________________\n",
      "Layer (type)                 Output Shape              Param #   \n",
      "=================================================================\n",
      "conv2d_3 (Conv2D)            (None, 44, 44, 32)        832       \n",
      "_________________________________________________________________\n",
      "max_pooling2d_3 (MaxPooling2 (None, 22, 22, 32)        0         \n",
      "_________________________________________________________________\n",
      "conv2d_4 (Conv2D)            (None, 18, 18, 64)        51264     \n",
      "_________________________________________________________________\n",
      "max_pooling2d_4 (MaxPooling2 (None, 9, 9, 64)          0         \n",
      "_________________________________________________________________\n",
      "flatten_2 (Flatten)          (None, 5184)              0         \n",
      "_________________________________________________________________\n",
      "dense_3 (Dense)              (None, 64)                331840    \n",
      "_________________________________________________________________\n",
      "dropout_2 (Dropout)          (None, 64)                0         \n",
      "_________________________________________________________________\n",
      "dense_4 (Dense)              (None, 7)                 455       \n",
      "=================================================================\n",
      "Total params: 384,391\n",
      "Trainable params: 384,391\n",
      "Non-trainable params: 0\n",
      "_________________________________________________________________\n"
     ]
    }
   ],
   "source": [
    "model.summary()"
   ]
  },
  {
   "cell_type": "markdown",
   "metadata": {},
   "source": [
    "<p>Execute le processu d'apprentissage</p>"
   ]
  },
  {
   "cell_type": "code",
   "execution_count": 97,
   "metadata": {},
   "outputs": [
    {
     "name": "stdout",
     "output_type": "stream",
     "text": [
      "Train on 28709 samples, validate on 3589 samples\n",
      "Epoch 1/10\n",
      "28709/28709 [==============================] - 73s 3ms/step - loss: 1.6391 - accuracy: 0.3557 - val_loss: 1.4692 - val_accuracy: 0.4310\n",
      "Epoch 2/10\n",
      "28709/28709 [==============================] - 53s 2ms/step - loss: 1.4579 - accuracy: 0.4377 - val_loss: 1.4119 - val_accuracy: 0.4531\n",
      "Epoch 3/10\n",
      "28709/28709 [==============================] - 51s 2ms/step - loss: 1.3667 - accuracy: 0.4758 - val_loss: 1.3439 - val_accuracy: 0.4795\n",
      "Epoch 4/10\n",
      "28709/28709 [==============================] - 52s 2ms/step - loss: 1.2922 - accuracy: 0.5051 - val_loss: 1.3348 - val_accuracy: 0.4882\n",
      "Epoch 5/10\n",
      "28709/28709 [==============================] - 52s 2ms/step - loss: 1.2284 - accuracy: 0.5323 - val_loss: 1.3087 - val_accuracy: 0.5038\n",
      "Epoch 6/10\n",
      "28709/28709 [==============================] - 52s 2ms/step - loss: 1.1574 - accuracy: 0.5567 - val_loss: 1.2946 - val_accuracy: 0.5052\n",
      "Epoch 7/10\n",
      "28709/28709 [==============================] - 51s 2ms/step - loss: 1.0853 - accuracy: 0.5891 - val_loss: 1.3354 - val_accuracy: 0.5088\n",
      "Epoch 8/10\n",
      "28709/28709 [==============================] - 50s 2ms/step - loss: 1.0112 - accuracy: 0.6189 - val_loss: 1.3847 - val_accuracy: 0.4937\n",
      "Epoch 9/10\n",
      "28709/28709 [==============================] - 50s 2ms/step - loss: 0.9340 - accuracy: 0.6468 - val_loss: 1.3887 - val_accuracy: 0.5118\n",
      "Epoch 10/10\n",
      "28709/28709 [==============================] - 49s 2ms/step - loss: 0.8683 - accuracy: 0.6720 - val_loss: 1.4325 - val_accuracy: 0.5146\n"
     ]
    }
   ],
   "source": [
    "l = model.fit(x=X_train, y=Y_train, validation_data = (X_test, Y_test), batch_size=50, epochs=10)"
   ]
  },
  {
   "cell_type": "markdown",
   "metadata": {},
   "source": [
    "## Evaluate Model"
   ]
  },
  {
   "cell_type": "markdown",
   "metadata": {},
   "source": []
  },
  {
   "cell_type": "code",
   "execution_count": 98,
   "metadata": {},
   "outputs": [
    {
     "name": "stdout",
     "output_type": "stream",
     "text": [
      "Evaluate on test and on validation data\n",
      "3589/3589 [==============================] - 2s 453us/step\n",
      "3589/3589 [==============================] - 2s 451us/step\n",
      "test loss, test acc: [1.4325283507046576, 0.5146280527114868]\n",
      "validation loss, validation acc: [1.4471950892719196, 0.5157425403594971]\n"
     ]
    }
   ],
   "source": [
    "# Evaluate the model on the test data using `evaluate`\n",
    "print(\"Evaluate on test and on validation data\")\n",
    "results_1 = model.evaluate(X_test, Y_test)\n",
    "results_2 = model.evaluate(X_valid, Y_valid)\n",
    "print(\"test loss, test acc:\", results_1)\n",
    "print(\"validation loss, validation acc:\", results_2)"
   ]
  },
  {
   "cell_type": "markdown",
   "metadata": {},
   "source": []
  },
  {
   "cell_type": "code",
   "execution_count": 99,
   "metadata": {},
   "outputs": [
    {
     "data": {
      "text/plain": [
       "{'val_loss': [1.4692068784540495,\n",
       "  1.4119175726339723,\n",
       "  1.3439327209697989,\n",
       "  1.3347653534858133,\n",
       "  1.3087056875561034,\n",
       "  1.2946197986270631,\n",
       "  1.3354287942029135,\n",
       "  1.3847376117469807,\n",
       "  1.3886811543587159,\n",
       "  1.4325283856802447],\n",
       " 'val_accuracy': [0.4310392737388611,\n",
       "  0.45305100083351135,\n",
       "  0.4795207679271698,\n",
       "  0.488158255815506,\n",
       "  0.5037614703178406,\n",
       "  0.5051546096801758,\n",
       "  0.508776843547821,\n",
       "  0.4937308430671692,\n",
       "  0.5118417143821716,\n",
       "  0.5146280527114868],\n",
       " 'loss': [1.6390575218517922,\n",
       "  1.457877209042136,\n",
       "  1.3666578281460986,\n",
       "  1.292163132408735,\n",
       "  1.2284176270164264,\n",
       "  1.157352302846683,\n",
       "  1.0853362954594241,\n",
       "  1.0112384605621145,\n",
       "  0.934045381828213,\n",
       "  0.8682990045735005],\n",
       " 'accuracy': [0.35570726,\n",
       "  0.43770248,\n",
       "  0.47584382,\n",
       "  0.50510293,\n",
       "  0.5323418,\n",
       "  0.55672437,\n",
       "  0.5891184,\n",
       "  0.6189,\n",
       "  0.6468355,\n",
       "  0.6719844]}"
      ]
     },
     "execution_count": 99,
     "metadata": {},
     "output_type": "execute_result"
    }
   ],
   "source": [
    "l.history"
   ]
  },
  {
   "cell_type": "markdown",
   "metadata": {},
   "source": []
  },
  {
   "cell_type": "code",
   "execution_count": 100,
   "metadata": {},
   "outputs": [
    {
     "data": {
      "image/png": "[encoded data removed]",
      "text/plain": [
       "<Figure size 432x288 with 1 Axes>"
      ]
     },
     "metadata": {
      "needs_background": "light"
     },
     "output_type": "display_data"
    }
   ],
   "source": [
    "import seaborn as sns\n",
    "df_history = pd.DataFrame(l.history)\n",
    "sns.lineplot(data=df_history[['accuracy','val_accuracy']], palette=\"tab10\", linewidth=2.5);"
   ]
  },
  {
   "cell_type": "markdown",
   "metadata": {},
   "source": []
  },
  {
   "cell_type": "code",
   "execution_count": 59,
   "metadata": {},
   "outputs": [],
   "source": [
    "# load test data and make prediction\n",
    "y_pred = model.predict(X_test)"
   ]
  },
  {
   "cell_type": "markdown",
   "metadata": {},
   "source": []
  },
  {
   "cell_type": "code",
   "execution_count": 60,
   "metadata": {},
   "outputs": [],
   "source": [
    "# convert prediction to df\n",
    "submission = pd.DataFrame(data=y_pred)\n",
    "\n",
    "# set label as the 0-6 class with highest value \n",
    "submission['Label'] = submission.idxmax(axis=1)\n",
    "submission['ImageId'] = np.asarray([i+1 for i in range(submission.shape[0])])"
   ]
  },
  {
   "cell_type": "markdown",
   "metadata": {},
   "source": []
  },
  {
   "cell_type": "code",
   "execution_count": 61,
   "metadata": {},
   "outputs": [
    {
     "data": {
      "text/html": [
       "<div>\n",
       "<style scoped>\n",
       "    .dataframe tbody tr th:only-of-type {\n",
       "        vertical-align: middle;\n",
       "    }\n",
       "\n",
       "    .dataframe tbody tr th {\n",
       "        vertical-align: top;\n",
       "    }\n",
       "\n",
       "    .dataframe thead th {\n",
       "        text-align: right;\n",
       "    }\n",
       "</style>\n",
       "<table border=\"1\" class=\"dataframe\">\n",
       "  <thead>\n",
       "    <tr style=\"text-align: right;\">\n",
       "      <th></th>\n",
       "      <th>0</th>\n",
       "      <th>1</th>\n",
       "      <th>2</th>\n",
       "      <th>3</th>\n",
       "      <th>4</th>\n",
       "      <th>5</th>\n",
       "      <th>6</th>\n",
       "      <th>Label</th>\n",
       "      <th>ImageId</th>\n",
       "    </tr>\n",
       "  </thead>\n",
       "  <tbody>\n",
       "    <tr>\n",
       "      <th>0</th>\n",
       "      <td>0.287484</td>\n",
       "      <td>0.030371</td>\n",
       "      <td>0.358116</td>\n",
       "      <td>0.013572</td>\n",
       "      <td>0.055808</td>\n",
       "      <td>0.162065</td>\n",
       "      <td>0.092583</td>\n",
       "      <td>2</td>\n",
       "      <td>1</td>\n",
       "    </tr>\n",
       "    <tr>\n",
       "      <th>1</th>\n",
       "      <td>0.454132</td>\n",
       "      <td>0.008309</td>\n",
       "      <td>0.036726</td>\n",
       "      <td>0.035954</td>\n",
       "      <td>0.441771</td>\n",
       "      <td>0.016031</td>\n",
       "      <td>0.007076</td>\n",
       "      <td>0</td>\n",
       "      <td>2</td>\n",
       "    </tr>\n",
       "    <tr>\n",
       "      <th>2</th>\n",
       "      <td>0.005195</td>\n",
       "      <td>0.000002</td>\n",
       "      <td>0.474847</td>\n",
       "      <td>0.055557</td>\n",
       "      <td>0.201029</td>\n",
       "      <td>0.006194</td>\n",
       "      <td>0.257176</td>\n",
       "      <td>2</td>\n",
       "      <td>3</td>\n",
       "    </tr>\n",
       "    <tr>\n",
       "      <th>3</th>\n",
       "      <td>0.007271</td>\n",
       "      <td>0.029387</td>\n",
       "      <td>0.082307</td>\n",
       "      <td>0.013905</td>\n",
       "      <td>0.250665</td>\n",
       "      <td>0.023715</td>\n",
       "      <td>0.592749</td>\n",
       "      <td>6</td>\n",
       "      <td>4</td>\n",
       "    </tr>\n",
       "    <tr>\n",
       "      <th>4</th>\n",
       "      <td>0.040250</td>\n",
       "      <td>0.037023</td>\n",
       "      <td>0.165503</td>\n",
       "      <td>0.007750</td>\n",
       "      <td>0.642747</td>\n",
       "      <td>0.001577</td>\n",
       "      <td>0.105149</td>\n",
       "      <td>4</td>\n",
       "      <td>5</td>\n",
       "    </tr>\n",
       "  </tbody>\n",
       "</table>\n",
       "</div>"
      ],
      "text/plain": [
       "          0         1         2         3         4         5         6  \\\n",
       "0  0.287484  0.030371  0.358116  0.013572  0.055808  0.162065  0.092583   \n",
       "1  0.454132  0.008309  0.036726  0.035954  0.441771  0.016031  0.007076   \n",
       "2  0.005195  0.000002  0.474847  0.055557  0.201029  0.006194  0.257176   \n",
       "3  0.007271  0.029387  0.082307  0.013905  0.250665  0.023715  0.592749   \n",
       "4  0.040250  0.037023  0.165503  0.007750  0.642747  0.001577  0.105149   \n",
       "\n",
       "   Label  ImageId  \n",
       "0      2        1  \n",
       "1      0        2  \n",
       "2      2        3  \n",
       "3      6        4  \n",
       "4      4        5  "
      ]
     },
     "execution_count": 61,
     "metadata": {},
     "output_type": "execute_result"
    }
   ],
   "source": [
    "submission.head()"
   ]
  },
  {
   "cell_type": "markdown",
   "metadata": {},
   "source": []
  },
  {
   "cell_type": "code",
   "execution_count": 62,
   "metadata": {},
   "outputs": [],
   "source": [
    "from sklearn.metrics import confusion_matrix\n",
    "cm = confusion_matrix(submission['Label'],df_PrivateTest['emotion'])"
   ]
  },
  {
   "cell_type": "markdown",
   "metadata": {},
   "source": []
  },
  {
   "cell_type": "code",
   "execution_count": 63,
   "metadata": {},
   "outputs": [
    {
     "name": "stdout",
     "output_type": "stream",
     "text": [
      "     0   1    2    3    4    5    6\n",
      "0  216  20   88   63  103   14   69\n",
      "1    1  15    1    1    0    0    0\n",
      "2   55   8  160   42   72   51   42\n",
      "3   51   2   46  646   74   25   67\n",
      "4   76   9  100   52  220   16   98\n",
      "5   25   0   67   24   23  296   32\n",
      "6   67   1   66   51  102   14  318\n"
     ]
    }
   ],
   "source": [
    "print(pd.DataFrame(cm))"
   ]
  },
  {
   "cell_type": "markdown",
   "metadata": {},
   "source": [
    "## Data Augmentation"
   ]
  },
  {
   "cell_type": "code",
   "execution_count": 64,
   "metadata": {},
   "outputs": [],
   "source": [
    "# data augmentation\n",
    "from keras.preprocessing.image import ImageDataGenerator\n",
    "datagen = ImageDataGenerator(featurewise_center=False,\n",
    "                        featurewise_std_normalization=False,\n",
    "                        rotation_range=10,\n",
    "                        width_shift_range=0.1,\n",
    "                        height_shift_range=0.1,\n",
    "                        zoom_range=.1,\n",
    "                        horizontal_flip=True,\n",
    "                        vertical_flip=False)"
   ]
  },
  {
   "cell_type": "code",
   "execution_count": 66,
   "metadata": {},
   "outputs": [
    {
     "name": "stdout",
     "output_type": "stream",
     "text": [
      "Epoch 1/20\n",
      "288/287 [==============================] - 23s 80ms/step - loss: 1.6529 - accuracy: 0.3637 - val_loss: 1.3295 - val_accuracy: 0.4787\n",
      "Epoch 2/20\n",
      "288/287 [==============================] - 23s 80ms/step - loss: 1.5645 - accuracy: 0.3987 - val_loss: 1.3033 - val_accuracy: 0.4909\n",
      "Epoch 3/20\n",
      "288/287 [==============================] - 22s 78ms/step - loss: 1.5196 - accuracy: 0.4060 - val_loss: 1.2759 - val_accuracy: 0.5029\n",
      "Epoch 4/20\n",
      "288/287 [==============================] - 24s 82ms/step - loss: 1.5074 - accuracy: 0.4145 - val_loss: 1.2635 - val_accuracy: 0.5107\n",
      "Epoch 5/20\n",
      "288/287 [==============================] - 25s 86ms/step - loss: 1.4909 - accuracy: 0.4222 - val_loss: 1.2657 - val_accuracy: 0.5021\n",
      "Epoch 6/20\n",
      "288/287 [==============================] - 24s 83ms/step - loss: 1.4772 - accuracy: 0.4286 - val_loss: 1.2776 - val_accuracy: 0.5035\n",
      "Epoch 7/20\n",
      "288/287 [==============================] - 23s 80ms/step - loss: 1.4638 - accuracy: 0.4376 - val_loss: 1.2647 - val_accuracy: 0.5130\n",
      "Epoch 8/20\n",
      "288/287 [==============================] - 24s 82ms/step - loss: 1.4717 - accuracy: 0.4352 - val_loss: 1.2577 - val_accuracy: 0.5049\n",
      "Epoch 9/20\n",
      "288/287 [==============================] - 25s 86ms/step - loss: 1.4621 - accuracy: 0.4367 - val_loss: 1.2618 - val_accuracy: 0.5130\n",
      "Epoch 10/20\n",
      "288/287 [==============================] - 23s 81ms/step - loss: 1.4485 - accuracy: 0.4431 - val_loss: 1.2515 - val_accuracy: 0.5188\n",
      "Epoch 11/20\n",
      "288/287 [==============================] - 24s 83ms/step - loss: 1.4420 - accuracy: 0.4434 - val_loss: 1.2494 - val_accuracy: 0.5143\n",
      "Epoch 12/20\n",
      "288/287 [==============================] - 23s 79ms/step - loss: 1.4322 - accuracy: 0.4487 - val_loss: 1.2488 - val_accuracy: 0.5143\n",
      "Epoch 13/20\n",
      "288/287 [==============================] - 22s 78ms/step - loss: 1.4269 - accuracy: 0.4490 - val_loss: 1.2383 - val_accuracy: 0.5213\n",
      "Epoch 14/20\n",
      "288/287 [==============================] - 23s 79ms/step - loss: 1.4189 - accuracy: 0.4509 - val_loss: 1.2412 - val_accuracy: 0.5169\n",
      "Epoch 15/20\n",
      "288/287 [==============================] - 22s 76ms/step - loss: 1.4160 - accuracy: 0.4543 - val_loss: 1.2308 - val_accuracy: 0.5280\n",
      "Epoch 16/20\n",
      "288/287 [==============================] - 23s 80ms/step - loss: 1.4251 - accuracy: 0.4517 - val_loss: 1.2379 - val_accuracy: 0.5213\n",
      "Epoch 17/20\n",
      "288/287 [==============================] - 23s 81ms/step - loss: 1.3923 - accuracy: 0.4635 - val_loss: 1.2414 - val_accuracy: 0.5233\n",
      "Epoch 18/20\n",
      "288/287 [==============================] - 23s 78ms/step - loss: 1.4241 - accuracy: 0.4532 - val_loss: 1.2390 - val_accuracy: 0.5235\n",
      "Epoch 19/20\n",
      "288/287 [==============================] - 23s 79ms/step - loss: 1.4028 - accuracy: 0.4605 - val_loss: 1.2308 - val_accuracy: 0.5169\n",
      "Epoch 20/20\n",
      "288/287 [==============================] - 24s 83ms/step - loss: 1.4056 - accuracy: 0.4652 - val_loss: 1.2311 - val_accuracy: 0.5213\n"
     ]
    }
   ],
   "source": [
    "L1 = model.fit_generator(datagen.flow(X_train,Y_train, batch_size=50),epochs = 20, \n",
    "                                  validation_data = (X_test,Y_test),verbose = 1, \n",
    "                                  steps_per_epoch = X.shape[0] / 100,)"
   ]
  },
  {
   "cell_type": "code",
   "execution_count": 67,
   "metadata": {},
   "outputs": [
    {
     "data": {
      "image/png": "[encoded data removed]",
      "text/plain": [
       "<Figure size 432x288 with 1 Axes>"
      ]
     },
     "metadata": {
      "needs_background": "light"
     },
     "output_type": "display_data"
    }
   ],
   "source": [
    "import seaborn as sns\n",
    "df_history1 = pd.DataFrame(L1.history)\n",
    "sns.lineplot(data=df_history1[['accuracy','val_accuracy']], palette=\"tab10\", linewidth=2.5);"
   ]
  },
  {
   "cell_type": "code",
   "execution_count": 68,
   "metadata": {},
   "outputs": [],
   "source": [
    "# example of horizontal flip image augmentation\n",
    "from numpy import expand_dims\n",
    "from keras.preprocessing.image import img_to_array\n",
    "from matplotlib import pyplot\n",
    "# convert to numpy array"
   ]
  },
  {
   "cell_type": "code",
   "execution_count": 69,
   "metadata": {},
   "outputs": [
    {
     "name": "stdout",
     "output_type": "stream",
     "text": [
      "Neutral\n"
     ]
    },
    {
     "data": {
      "image/png": "[encoded data removed]",
      "text/plain": [
       "<Figure size 432x288 with 1 Axes>"
      ]
     },
     "metadata": {
      "needs_background": "light"
     },
     "output_type": "display_data"
    }
   ],
   "source": [
    "\n",
    "image_sample = np.reshape(df_training.at[4, \"pixels\"].split(\" \"), (FER2013_WIDTH, FER2013_HEIGHT)).astype(\"float\")\n",
    "plt.imshow(image_sample, cmap=\"gray\")\n",
    "print(Emotions[df_training.at[4, \"emotion\"]])"
   ]
  },
  {
   "cell_type": "code",
   "execution_count": 70,
   "metadata": {},
   "outputs": [
    {
     "data": {
      "text/plain": [
       "(1, 48, 48, 1)"
      ]
     },
     "execution_count": 70,
     "metadata": {},
     "output_type": "execute_result"
    }
   ],
   "source": [
    "image_sample= image_sample.reshape(-1, 48, 48, 1)\n",
    "image_sample.shape"
   ]
  },
  {
   "cell_type": "code",
   "execution_count": 71,
   "metadata": {},
   "outputs": [
    {
     "data": {
      "image/png": "[encoded data removed]",
      "text/plain": [
       "<Figure size 432x288 with 9 Axes>"
      ]
     },
     "metadata": {
      "needs_background": "light"
     },
     "output_type": "display_data"
    }
   ],
   "source": [
    "# create image data augmentation generator\n",
    "datagen = ImageDataGenerator(featurewise_center=False,\n",
    "                        featurewise_std_normalization=False,\n",
    "                        rotation_range=10,\n",
    "                        width_shift_range=0.1,\n",
    "                        height_shift_range=0.1,\n",
    "                        zoom_range=.1,\n",
    "                        horizontal_flip=True,\n",
    "                        vertical_flip=False)\n",
    "# prepare iterator\n",
    "it = datagen.flow(image_sample, batch_size=1)\n",
    "# generate samples and plot\n",
    "image =[]\n",
    "for i in range(9):\n",
    "    pyplot.subplot(330 + 1 + i)\n",
    "    batch = it.next()\n",
    "    image = batch[0].astype('uint8').reshape(48,48)\n",
    "    plt.imshow(image,cmap=\"gray\")\n",
    "plt.show()"
   ]
  },
  {
   "cell_type": "code",
   "execution_count": 73,
   "metadata": {},
   "outputs": [
    {
     "name": "stdout",
     "output_type": "stream",
     "text": [
      "Saved model to disk\n"
     ]
    }
   ],
   "source": [
    "# serialize model to JSON\n",
    "model_json = model.to_json()\n",
    "projet_dir = \"C:\\\\Users\\\\jeang\\\\Documents\\\\BDEB\\\\A62\\\\ProSyn3\"\n",
    "with open('\\\\'.join([projet_dir, 'fer.json']), \"w\") as json_file:\n",
    "    json_file.write(model_json)\n",
    "# serialize weights to HDF5\n",
    "# model.save_weights(\"C:\\\\Users\\\\Nisha Haulkhory\\\\projet de synthese\\\\GIT\\\\ProSyn3\\\\fer.h5\")\n",
    "model.save_weights('\\\\'.join([projet_dir, \"fer.h5\"]))\n",
    "print(\"Saved model to disk\")"
   ]
  },
  {
   "cell_type": "code",
   "execution_count": null,
   "metadata": {},
   "outputs": [],
   "source": []
  },
  {
   "cell_type": "code",
   "execution_count": null,
   "metadata": {},
   "outputs": [],
   "source": []
  },
  {
   "cell_type": "code",
   "execution_count": null,
   "metadata": {},
   "outputs": [],
   "source": []
  },
  {
   "cell_type": "code",
   "execution_count": null,
   "metadata": {},
   "outputs": [],
   "source": []
  }
 ],
 "metadata": {
  "kernelspec": {
   "display_name": "Python 3",
   "language": "python",
   "name": "python3"
  },
  "language_info": {
   "codemirror_mode": {
    "name": "ipython",
    "version": 3
   },
   "file_extension": ".py",
   "mimetype": "text/x-python",
   "name": "python",
   "nbconvert_exporter": "python",
   "pygments_lexer": "ipython3",
   "version": "3.7.7"
  }
 },
 "nbformat": 4,
 "nbformat_minor": 4
}
