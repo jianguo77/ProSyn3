{
 "cells": [
  {
   "cell_type": "markdown",
   "metadata": {},
   "source": [
    "<div style=\"background-color:powderblue;\"><h1>Projet Synthese</h1><b>Groupe 3: Amardeepkumar Haulkhory, Hilaire Yuma, Jian-Guo Zhao, Mamadou Sy</b></div>"
   ]
  },
  {
   "cell_type": "markdown",
   "metadata": {},
   "source": [
    "<h2>Partie II Apprentissage par <abbr title=\"Convolutional Neural Networks\"><b>CNN </b></abbr></h2>\n",
    "<p>Definir le <abbr title=\"Convolutional Neural Networks\"><b>CNN </b></abbr>architecture:</p>\n",
    "<ol>\n",
    "<li>La premiere couche, Conv2D, prend un batch de donnees avec input_shape=(48,48,1)</li>\n",
    "<li>La deuxieme couche, Conv2D, prend la sortie de couche 1, keras determine le shape automatiquement</li>\n",
    "    <li>Il n'est pas necessaire d'indiquer input_shape pour les couches plus profondes</li>\n",
    "    <li>La troisieme couche, Conv2D, prend la sortie de la couche 2, keras determine le shape automatiquement</li>\n",
    "    <li>Ainsi de suite, on peut ajouter autres couches Conv2D s'il y en a besoin</li>\n",
    "    <li>Entre chaque deux couches Conv2D, une couche Max pooling est ajoutee, pour bonne apprentissage</li>\n",
    "    <li>Pour reduire le sur-apprentissage, une couche de regularisation Dropout pourrait etre ajoutee</li>\n",
    "    <li>Pour une meilleur performance, une couche Normalisation pourrait etre aussi appliquee</li>\n",
    "<li>Avant la couche dense, nous allons ajouter une couche Flatten qui convert le matrix 2D en vector 1D</li>\n",
    "    <li>Puis, une couche Dense avec une fonction activation ReLu</li>\n",
    "    <li>Encore une couche de regularization Dropout est appliquee</li>\n",
    "    <li>Enfin, la couche de sortie donne 7 neurons pour les 7 classes avec une fonction activation softmax qui donne la possibilite de prediction pour chaque class.</li>\n",
    "</ol>"
   ]
  },
  {
   "cell_type": "markdown",
   "metadata": {},
   "source": [
    "<h3>Dependences - packages nécessaires</h3>\n",
    "<p>En utilisant <b>tensorflow.compat.v1</b>, vous devez desactiver eager_execution.<br>Ce n'est pas le cas pour <b>tensorflow.v2</b>. De plus, le package <b>tensorflow</b> n'a pas la fonction <b><i>disable_eager_execution</i></b>.</p>"
   ]
  },
  {
   "cell_type": "code",
   "execution_count": 1,
   "metadata": {},
   "outputs": [
    {
     "name": "stderr",
     "output_type": "stream",
     "text": [
      "Using TensorFlow backend.\n"
     ]
    }
   ],
   "source": [
    "import tensorflow as tf\n",
    "#import tensorflow.compat.v1 as tf\n",
    "#tf.disable_eager_execution()\n",
    "\n",
    "from keras.models import Sequential\n",
    "from keras.layers import Dense, Conv2D, Dropout, Flatten, MaxPooling2D \n",
    "from keras.utils import to_categorical\n",
    "\n",
    "import numpy as np      # linear algebra\n",
    "import pandas as pd     # data processing, CSV file I/O (e.g. pd.read_csv)\n",
    "import matplotlib.pyplot as plt\n",
    "import seaborn as sns\n",
    "from sklearn.metrics import confusion_matrix\n",
    "\n",
    "import os\n",
    "from keras.layers.normalization import BatchNormalization\n",
    "from keras.preprocessing.image import ImageDataGenerator\n",
    "\n",
    "from numpy import expand_dims\n",
    "from keras.preprocessing.image import img_to_array\n",
    "\n",
    "%matplotlib inline"
   ]
  },
  {
   "cell_type": "markdown",
   "metadata": {},
   "source": [
    "<h3>Chargement des donnees</h3>\n",
    "<p>Pour eviter l'operation <b>download</b> des donnees se fait chaque fois, on les sauvegarde dans un repertoire local, qui est differente pour different colaborateurs. Veuillez changez la valeur de variable <b><i>data_dir</i></b> si necessaire</p>"
   ]
  },
  {
   "cell_type": "code",
   "execution_count": 2,
   "metadata": {},
   "outputs": [],
   "source": [
    "# download the data from web and saved to local directory\n",
    "# put the data in a variable make the following code usable for any data sources\n",
    "# Original data is hold by df\n",
    "data_dir = \"C:\\\\Users\\\\jeang\\\\Documents\\\\BDEB\\\\A62\\\\ProSyn3\\\\data\\\\fer2013.csv\"\n",
    "df = pd.read_csv(data_dir )"
   ]
  },
  {
   "cell_type": "markdown",
   "metadata": {},
   "source": [
    "<h3>Repartition des donnees</h3>\n",
    "<p>Les donnees originales sont repartie en trois partie. Selons Partie I, la cible est bien balance dans ces trois parties</p>"
   ]
  },
  {
   "cell_type": "code",
   "execution_count": 3,
   "metadata": {},
   "outputs": [],
   "source": [
    "df_training = df[df['Usage']=='Training']\n",
    "df_PublicTest = df[df['Usage']=='PublicTest']\n",
    "df_PrivateTest = df[df['Usage']=='PrivateTest']"
   ]
  },
  {
   "cell_type": "markdown",
   "metadata": {},
   "source": [
    "<h3>Affichage des donnees</h3>\n",
    "<p> Ces fonctions affichent un image (une ligne)<br>Notons que 48 x 48 = 2304</p>"
   ]
  },
  {
   "cell_type": "code",
   "execution_count": 4,
   "metadata": {},
   "outputs": [
    {
     "data": {
      "image/png": "[encoded data removed]",
      "text/plain": [
       "<Figure size 432x288 with 1 Axes>"
      ]
     },
     "metadata": {
      "needs_background": "light"
     },
     "output_type": "display_data"
    }
   ],
   "source": [
    "#import numpy as np\n",
    "#import matplotlib.pyplot as plt\n",
    "\n",
    "FER2013_WIDTH = 48\n",
    "FER2013_HEIGHT = 48\n",
    "\n",
    "# indices 0 - 6 correspondent emotions suivantes\n",
    "Emotions = [\"Angry\", \"Disgust\", \"Fear\", \"Happy\", \"Sad\", \"Surprise\", \"Neutral\"]  \n",
    "\n",
    "def string_to_image(str_in):\n",
    "    return np.reshape(str_in.split(\" \"), (FER2013_WIDTH, FER2013_HEIGHT)).astype(\"float\")\n",
    "\n",
    "def fer2013_show_instance(index, d=df):\n",
    "    \"\"\"Shows the image and the emotion label of the index's instance.\"\"\"\n",
    "    category, str_image = d.at[index,'emotion'], d.at[index,'pixels']\n",
    "    image = string_to_image(str_image)\n",
    "    plt.imshow(image, cmap=\"gray\")\n",
    "    plt.title(f\"Exemple de categorie {category}: {Emotions[category]}\")\n",
    "    \n",
    "fer2013_show_instance(np.random.randint(0,len(df_training)))"
   ]
  },
  {
   "cell_type": "markdown",
   "metadata": {},
   "source": [
    "<h3>Fonction de transformation des données</h3>\n",
    "<p><ul> La fonction <b><i>fer2013_to_4d_array</i></b> prend comme entree une dataframe qui tienne les donnees d'images en format des chaines de caracteres.<br>Elle retoune comme sortie un <b>np.array</b> de <mark>4 dimensions</mark>, normalisee, utilisables comme entree pour <b>tensorflow CNN<b></ul></p>"
   ]
  },
  {
   "cell_type": "code",
   "execution_count": 5,
   "metadata": {},
   "outputs": [],
   "source": [
    "def fer2013_to_4d_array(d=df):\n",
    "    \"\"\"Transforms the (blank separated) pixel strings in the DataFrame to an 4-dimensional array \n",
    "    (1st dim: instances, 2nd and 3rd dims represent 2D image, 4th dim represent the color).\"\"\"\n",
    "    \n",
    "    pixels_list = d[\"pixels\"].values\n",
    "    list_image_2d = [string_to_image(pixels) for pixels in pixels_list]\n",
    "        \n",
    "    # Convert list to 4D array:\n",
    "    X = np.expand_dims(np.array(list_image_2d), -1)\n",
    "    print(f\"The given data <pixel strings> has been converted to {X.shape} array\")\n",
    "    \n",
    "    return X / 255"
   ]
  },
  {
   "cell_type": "code",
   "execution_count": 52,
   "metadata": {},
   "outputs": [],
   "source": [
    "def image_to_4d_array(d=df):\n",
    "    \"\"\"Transforms the (blank separated) pixel strings in the DataFrame to an 4-dimensional array \n",
    "    (1st dim: instances, 2nd and 3rd dims represent 2D image, 4th dim represent the color).\"\"\"\n",
    "    \n",
    "    CLASS_NUMBER = 7\n",
    "    pixels_list = d[\"pixels\"].values\n",
    "    list_image_2d = [string_to_image(pixels) for pixels in pixels_list]\n",
    "        \n",
    "    # Convert list to 4D array:\n",
    "    X = np.expand_dims(np.array(list_image_2d), -1)\n",
    "    X = X / 255\n",
    "    \n",
    "    Y = to_categorical(df_training.emotion, CLASS_NUMBER)\n",
    "    \n",
    "    print(f\"The given data <pixel strings> has been converted to {X.shape} array\")\n",
    "    \n",
    "    return X, Y"
   ]
  },
  {
   "cell_type": "markdown",
   "metadata": {},
   "source": [
    "<p>On applique la fonction <b><i>fer2013_to_4d_array</i></b> sur les trois partitions</P>"
   ]
  },
  {
   "cell_type": "code",
   "execution_count": 6,
   "metadata": {},
   "outputs": [
    {
     "name": "stdout",
     "output_type": "stream",
     "text": [
      "The given data <pixel strings> has been converted to (28709, 48, 48, 1) array\n",
      "The given data <pixel strings> has been converted to (3589, 48, 48, 1) array\n",
      "The given data <pixel strings> has been converted to (3589, 48, 48, 1) array\n"
     ]
    }
   ],
   "source": [
    "X_train = fer2013_to_4d_array(df_training)\n",
    "X_test = fer2013_to_4d_array(df_PrivateTest)\n",
    "X_valid = fer2013_to_4d_array(df_PublicTest)"
   ]
  },
  {
   "cell_type": "markdown",
   "metadata": {},
   "source": [
    "<h3>Fonction de transformation pour la cible</h3>\n",
    "<p><ul>\n",
    "    <li>La fonction <b style=\"backgroud-color:powerblue\"><i>one_hot_label</i></b> prend comme entree une dataframe qui tienne les donnees d'emotions en format categoriel (7 classes).<br>Elle retoune comme sortie un <b>np.array</b> de <mark>2 dim</mark>. Les classes sont reparties en 7 colonnes, une pour chaque, utilisables pour <b>tensorflow<b></li>\n",
    "    <li><b><mark>keras.utils.to_categorical</mark></b> peut faire le meme travail la sortie est du dtype float32</li>\n",
    "</ul></p>"
   ]
  },
  {
   "cell_type": "code",
   "execution_count": 7,
   "metadata": {},
   "outputs": [
    {
     "data": {
      "text/plain": [
       "array([[1., 0., 0., 0., 0., 0., 0.],\n",
       "       [1., 0., 0., 0., 0., 0., 0.],\n",
       "       [0., 0., 1., 0., 0., 0., 0.],\n",
       "       [0., 0., 0., 0., 1., 0., 0.],\n",
       "       [0., 0., 0., 0., 0., 0., 1.]], dtype=float32)"
      ]
     },
     "execution_count": 7,
     "metadata": {},
     "output_type": "execute_result"
    }
   ],
   "source": [
    "CLASS_NUMBER = 7\n",
    "Y_train = to_categorical(df_training.emotion, CLASS_NUMBER)\n",
    "Y_test = to_categorical(df_PrivateTest.emotion, CLASS_NUMBER)\n",
    "Y_valid = to_categorical(df_PublicTest.emotion, CLASS_NUMBER)\n",
    "Y_train[:5]"
   ]
  },
  {
   "cell_type": "markdown",
   "metadata": {},
   "source": [
    "<h3>Fonction <i>show_confusion_matrix</i></h3>\n",
    "<p><ul>\n",
    "<li>Cette fonction <b style=\"backgroud-color:powerblue\"><i>show_confusion_matrix</i></b> prend comme entree un modele</li>\n",
    "    <li>Elle appelle la fonction <i style=\"color:blue\">sklearn.metrics.confusion_matrix</i> en utilisant les donnees dans TestSet</li>\n",
    "<li>pour retoune comme sortie un <b>pandas.DataFrame</b></li>\n",
    "    </ul></p>"
   ]
  },
  {
   "cell_type": "code",
   "execution_count": 8,
   "metadata": {},
   "outputs": [],
   "source": [
    "def show_confusion_matrix(model):\n",
    "    submission = pd.DataFrame(model.predict(X_test))\n",
    "    submission['label'] = submission.idxmax(axis=1)\n",
    "    # y_pred = submission['label']\n",
    "    # y_real = df_PrivateTest['emotion']\n",
    "    cm = confusion_matrix(submission['label'], df_PrivateTest['emotion'])\n",
    "    cm = cm.astype('float') / cm.sum(axis=1)[:, np.newaxis]\n",
    "    cm = cm.round(2)\n",
    "    return pd.DataFrame(cm)"
   ]
  },
  {
   "cell_type": "markdown",
   "metadata": {},
   "source": [
    "<h3>Fonction <i>save_model</i></h3>\n",
    "<p><ul>\n",
    "<li>Cette fonction <b style=\"backgroud-color:powerblue\"><i>save_model</i></b> prend comme entree un modele</li>\n",
    "<li>Elle appelle <i style=\"color:blue\">keras.models.to_json</i> et <i style=\"color:blue\">keras.models.save_weights</i></li>\n",
    "<li>Puis sauvegarde le modele et les poids dans deux fichies dont les nom sont fournies par utilisateur</li>\n",
    "<li>Si soit le nom de fichier, soit le nom du repertoire, non fournie, elle utilise un nom par defaut</li>\n",
    "    </ul></p>"
   ]
  },
  {
   "cell_type": "code",
   "execution_count": 9,
   "metadata": {},
   "outputs": [],
   "source": [
    "def save_model(model, file_json=\"\", file_weight=\"\", workdir=\"\"):\n",
    "    # serialize model to JSON\n",
    "    model_json = model.to_json()\n",
    "    projet_dir = workdir if len(workdir)>0 else \"C:\\\\Users\\\\jeang\\\\Documents\\\\BDEB\\\\A62\\\\ProSyn3\"\n",
    "    model_filename = 'fer.json' if file_json==\"\" else file_json\n",
    "    with open(os.path.join(projet_dir, model_filename), \"w\") as json_file:\n",
    "        json_file.write(model_json)\n",
    "\n",
    "    # serialize weights to HDF5\n",
    "    # model.save_weights(\"C:\\\\Users\\\\Nisha Haulkhory\\\\projet de synthese\\\\GIT\\\\ProSyn3\\\\fer.h5\")\n",
    "    weight_filename = 'fer.h5' if file_weight==\"\" else file_weight\n",
    "    model.save_weights(os.path.join(projet_dir, weight_filename))\n",
    "    print(\"Saved model to disk done\")"
   ]
  },
  {
   "cell_type": "markdown",
   "metadata": {},
   "source": [
    "<h3>Fonction <i>get_model_v20</i></h3>\n",
    "<p><ul>\n",
    "<li>Cette fonction <b style=\"backgroud-color:powerblue\"><i>get_model_v20</i></b> peut prendre seulement quelques hyperparametres</li>\n",
    "<li>Elle appelle <i style=\"color:blue\">keras.models.Sequential</i> qui nous permet de construire un modele cnn</li>\n",
    "<li>Les valeurs par defaut sont notre choix entre les meilleures, mais elle vous laisse la chance de les choisir</li>\n",
    "<li>Elle retourne un architecture d'un modele Sequential qu'on peut l'entrainner et le tester</li>\n",
    "</ul></p>"
   ]
  },
  {
   "cell_type": "code",
   "execution_count": 10,
   "metadata": {},
   "outputs": [],
   "source": [
    "def get_model_v20(num_layers=5, \n",
    "                  num_filtre=(512,128,64,32,16), \n",
    "                  k_size=(3,3,3,3,3), \n",
    "                  p_size=(2,2,2,2,2), \n",
    "                  dropout=(0.2, 0.25, 0.3, 0.4, 0.5)):\n",
    "    \n",
    "    input_shape, num_classes = (48, 48, 1), 7\n",
    "    model = Sequential()\n",
    "    \n",
    "    for layer in range(num_layers): \n",
    "        if layer == 0:\n",
    "            model.add(Conv2D(num_filtre[layer], kernel_size=k_size[layer], activation=tf.nn.relu, padding=\"same\", input_shape=input_shape))\n",
    "        else:\n",
    "            model.add(Conv2D(num_filtre[layer], kernel_size=k_size[layer], activation=tf.nn.relu, padding=\"same\"))\n",
    "            # normalization for each layer but not the first\n",
    "            model.add(BatchNormalization())\n",
    "        \n",
    "        # max pooling with the given choose\n",
    "        if p_size[layer] > 0:\n",
    "            model.add(MaxPooling2D(pool_size=(p_size[layer], p_size[layer])))\n",
    "        \n",
    "        # Dropout with the given choose\n",
    "        if dropout[layer] > 0:\n",
    "            model.add(Dropout(dropout[layer]))           \n",
    "        \n",
    "\n",
    "    model.add(Flatten())                          # Flattening the 2D arrays for fully connected layers\n",
    "    model.add(Dense(32, activation=tf.nn.relu))\n",
    "    model.add(Dropout(dropout[-1]))\n",
    "    model.add(Dense(num_classes,activation=tf.nn.softmax))\n",
    "    model.compile(optimizer='adam', loss='categorical_crossentropy', metrics=['accuracy'])\n",
    "    return model"
   ]
  },
  {
   "cell_type": "markdown",
   "metadata": {},
   "source": [
    "<h3>Fonction <i>fit_test_save_hist</i></h3>\n",
    "<p><ul>\n",
    "<li>Cette fonction <b style=\"backgroud-color:powerblue\"><i>fit_test_save_hist</i></b> prend comme entree un modele cnn et quelques hyperparametres</li>\n",
    "<li>Elle appelle <i style=\"color:blue\">keras.models.Sequential.fit</i> pour apprendre le modele cnn</li>\n",
    "    <li>Elle affiche l'evolution d'apprentissage en utilisant <i style=\"color:blue\">seaborn.lineplot</i></li>\n",
    "<li>Puis, elle appelle <i style=\"color:blue\">keras.models.Sequential.evaluate</i> pour tester le modele\n",
    "<li>Elle retourne l'histoire d'apprentissage du modele et le resultat du test avec les donnees TestSet</li>\n",
    "    <li>Ceci presente un avantage si on decide continue l'apprentissage</li>    \n",
    "<li>Les valeurs par defaut vous donne la possibilite de les choisir</li>\n",
    "    </ul></p>"
   ]
  },
  {
   "cell_type": "code",
   "execution_count": 11,
   "metadata": {},
   "outputs": [],
   "source": [
    "def fit_test_save_hist(model, x_train=X_train, y_train=Y_train, valid=(X_valid, Y_valid), \n",
    "                       bs=128, ep=30, fnm='fer.json', fnw='fer.h5'):\n",
    "    print(\"Fitting the model with new train set and new validation set ...\")\n",
    "    l = model.fit(x=x_train, y=y_train, validation_data=valid, batch_size=bs, epochs=ep)\n",
    "    sns.lineplot(data=pd.DataFrame(l.history)[['accuracy','val_accuracy']], palette=\"tab10\", linewidth=2.5);\n",
    "    save_model(model, file_json=fnm, file_weight=fnw)\n",
    "    print(\"Evaluating the model on test data ...\")\n",
    "    results = model.evaluate(X_test, Y_test)\n",
    "    print(\"test loss, test acc:\", results)\n",
    "    print(show_confusion_matrix(model))\n",
    "    return l, results"
   ]
  },
  {
   "cell_type": "markdown",
   "metadata": {},
   "source": [
    "<h3>Appliquer la <i style=\"color:blue\">fonction get_model_v20</i></h3>"
   ]
  },
  {
   "cell_type": "code",
   "execution_count": 12,
   "metadata": {},
   "outputs": [
    {
     "name": "stdout",
     "output_type": "stream",
     "text": [
      "Model: \"sequential_1\"\n",
      "_________________________________________________________________\n",
      "Layer (type)                 Output Shape              Param #   \n",
      "=================================================================\n",
      "conv2d_1 (Conv2D)            (None, 48, 48, 512)       5120      \n",
      "_________________________________________________________________\n",
      "max_pooling2d_1 (MaxPooling2 (None, 24, 24, 512)       0         \n",
      "_________________________________________________________________\n",
      "dropout_1 (Dropout)          (None, 24, 24, 512)       0         \n",
      "_________________________________________________________________\n",
      "conv2d_2 (Conv2D)            (None, 24, 24, 128)       589952    \n",
      "_________________________________________________________________\n",
      "batch_normalization_1 (Batch (None, 24, 24, 128)       512       \n",
      "_________________________________________________________________\n",
      "max_pooling2d_2 (MaxPooling2 (None, 12, 12, 128)       0         \n",
      "_________________________________________________________________\n",
      "dropout_2 (Dropout)          (None, 12, 12, 128)       0         \n",
      "_________________________________________________________________\n",
      "conv2d_3 (Conv2D)            (None, 12, 12, 64)        73792     \n",
      "_________________________________________________________________\n",
      "batch_normalization_2 (Batch (None, 12, 12, 64)        256       \n",
      "_________________________________________________________________\n",
      "max_pooling2d_3 (MaxPooling2 (None, 6, 6, 64)          0         \n",
      "_________________________________________________________________\n",
      "dropout_3 (Dropout)          (None, 6, 6, 64)          0         \n",
      "_________________________________________________________________\n",
      "conv2d_4 (Conv2D)            (None, 6, 6, 32)          18464     \n",
      "_________________________________________________________________\n",
      "batch_normalization_3 (Batch (None, 6, 6, 32)          128       \n",
      "_________________________________________________________________\n",
      "max_pooling2d_4 (MaxPooling2 (None, 3, 3, 32)          0         \n",
      "_________________________________________________________________\n",
      "dropout_4 (Dropout)          (None, 3, 3, 32)          0         \n",
      "_________________________________________________________________\n",
      "conv2d_5 (Conv2D)            (None, 3, 3, 16)          4624      \n",
      "_________________________________________________________________\n",
      "batch_normalization_4 (Batch (None, 3, 3, 16)          64        \n",
      "_________________________________________________________________\n",
      "max_pooling2d_5 (MaxPooling2 (None, 1, 1, 16)          0         \n",
      "_________________________________________________________________\n",
      "dropout_5 (Dropout)          (None, 1, 1, 16)          0         \n",
      "_________________________________________________________________\n",
      "flatten_1 (Flatten)          (None, 16)                0         \n",
      "_________________________________________________________________\n",
      "dense_1 (Dense)              (None, 32)                544       \n",
      "_________________________________________________________________\n",
      "dropout_6 (Dropout)          (None, 32)                0         \n",
      "_________________________________________________________________\n",
      "dense_2 (Dense)              (None, 7)                 231       \n",
      "=================================================================\n",
      "Total params: 693,687\n",
      "Trainable params: 693,207\n",
      "Non-trainable params: 480\n",
      "_________________________________________________________________\n"
     ]
    }
   ],
   "source": [
    "model = get_model_v20(dropout=(0.2,0.2,0.25,0.25,0.30))\n",
    "model.summary()"
   ]
  },
  {
   "cell_type": "code",
   "execution_count": 13,
   "metadata": {},
   "outputs": [
    {
     "name": "stdout",
     "output_type": "stream",
     "text": [
      "Fitting the model with new train set and new validation set ...\n",
      "Train on 28709 samples, validate on 3589 samples\n",
      "Epoch 1/30\n",
      "28709/28709 [==============================] - 667s 23ms/step - loss: 1.9086 - accuracy: 0.2205 - val_loss: 1.7909 - val_accuracy: 0.2488\n",
      "Epoch 2/30\n",
      "28709/28709 [==============================] - 665s 23ms/step - loss: 1.8026 - accuracy: 0.2498 - val_loss: 1.8026 - val_accuracy: 0.2611\n",
      "Epoch 3/30\n",
      "28709/28709 [==============================] - 662s 23ms/step - loss: 1.7811 - accuracy: 0.2597 - val_loss: 1.8124 - val_accuracy: 0.2605\n",
      "Epoch 4/30\n",
      "28709/28709 [==============================] - 663s 23ms/step - loss: 1.7174 - accuracy: 0.2995 - val_loss: 1.6739 - val_accuracy: 0.3271\n",
      "Epoch 5/30\n",
      "28709/28709 [==============================] - 659s 23ms/step - loss: 1.6057 - accuracy: 0.3672 - val_loss: 1.5444 - val_accuracy: 0.4032\n",
      "Epoch 6/30\n",
      "28709/28709 [==============================] - 659s 23ms/step - loss: 1.5404 - accuracy: 0.3971 - val_loss: 1.5203 - val_accuracy: 0.4007\n",
      "Epoch 7/30\n",
      "28709/28709 [==============================] - 656s 23ms/step - loss: 1.4838 - accuracy: 0.4256 - val_loss: 1.4325 - val_accuracy: 0.4330\n",
      "Epoch 8/30\n",
      "28709/28709 [==============================] - 655s 23ms/step - loss: 1.4452 - accuracy: 0.4428 - val_loss: 1.3566 - val_accuracy: 0.4739\n",
      "Epoch 9/30\n",
      "28709/28709 [==============================] - 653s 23ms/step - loss: 1.4223 - accuracy: 0.4503 - val_loss: 1.3288 - val_accuracy: 0.4848\n",
      "Epoch 10/30\n",
      "28709/28709 [==============================] - 654s 23ms/step - loss: 1.3926 - accuracy: 0.4629 - val_loss: 1.5578 - val_accuracy: 0.3937\n",
      "Epoch 11/30\n",
      "28709/28709 [==============================] - 653s 23ms/step - loss: 1.3666 - accuracy: 0.4742 - val_loss: 1.3219 - val_accuracy: 0.4921\n",
      "Epoch 12/30\n",
      "28709/28709 [==============================] - 652s 23ms/step - loss: 1.3537 - accuracy: 0.4819 - val_loss: 1.3335 - val_accuracy: 0.4840\n",
      "Epoch 13/30\n",
      "28709/28709 [==============================] - 661s 23ms/step - loss: 1.3318 - accuracy: 0.4911 - val_loss: 1.2506 - val_accuracy: 0.5191\n",
      "Epoch 14/30\n",
      "28709/28709 [==============================] - 650s 23ms/step - loss: 1.3223 - accuracy: 0.4951 - val_loss: 1.2466 - val_accuracy: 0.5238\n",
      "Epoch 15/30\n",
      "28709/28709 [==============================] - 651s 23ms/step - loss: 1.2997 - accuracy: 0.5073 - val_loss: 1.2170 - val_accuracy: 0.5258\n",
      "Epoch 16/30\n",
      "28709/28709 [==============================] - 651s 23ms/step - loss: 1.2931 - accuracy: 0.5087 - val_loss: 1.2273 - val_accuracy: 0.5227\n",
      "Epoch 17/30\n",
      "28709/28709 [==============================] - 650s 23ms/step - loss: 1.2786 - accuracy: 0.5165 - val_loss: 1.2234 - val_accuracy: 0.5266\n",
      "Epoch 18/30\n",
      "28709/28709 [==============================] - 649s 23ms/step - loss: 1.2687 - accuracy: 0.5185 - val_loss: 1.2129 - val_accuracy: 0.5361\n",
      "Epoch 19/30\n",
      "28709/28709 [==============================] - 649s 23ms/step - loss: 1.2610 - accuracy: 0.5243 - val_loss: 1.2226 - val_accuracy: 0.5297\n",
      "Epoch 20/30\n",
      "28709/28709 [==============================] - 648s 23ms/step - loss: 1.2543 - accuracy: 0.5219 - val_loss: 1.2263 - val_accuracy: 0.5249\n",
      "Epoch 21/30\n",
      "28709/28709 [==============================] - 651s 23ms/step - loss: 1.2411 - accuracy: 0.5314 - val_loss: 1.2081 - val_accuracy: 0.5380\n",
      "Epoch 22/30\n",
      "28709/28709 [==============================] - 651s 23ms/step - loss: 1.2397 - accuracy: 0.5321 - val_loss: 1.1824 - val_accuracy: 0.5520\n",
      "Epoch 23/30\n",
      "28709/28709 [==============================] - 651s 23ms/step - loss: 1.2287 - accuracy: 0.5354 - val_loss: 1.1607 - val_accuracy: 0.5534\n",
      "Epoch 24/30\n",
      "28709/28709 [==============================] - 650s 23ms/step - loss: 1.2210 - accuracy: 0.5406 - val_loss: 1.1970 - val_accuracy: 0.5456\n",
      "Epoch 25/30\n",
      "28709/28709 [==============================] - 651s 23ms/step - loss: 1.2143 - accuracy: 0.5440 - val_loss: 1.1761 - val_accuracy: 0.5503\n",
      "Epoch 26/30\n",
      "28709/28709 [==============================] - 651s 23ms/step - loss: 1.2074 - accuracy: 0.5474 - val_loss: 1.1889 - val_accuracy: 0.5433\n",
      "Epoch 27/30\n",
      "28709/28709 [==============================] - 652s 23ms/step - loss: 1.2013 - accuracy: 0.5528 - val_loss: 1.1514 - val_accuracy: 0.5609\n",
      "Epoch 28/30\n",
      "28709/28709 [==============================] - 652s 23ms/step - loss: 1.1959 - accuracy: 0.5522 - val_loss: 1.1804 - val_accuracy: 0.5545\n",
      "Epoch 29/30\n",
      "28709/28709 [==============================] - 652s 23ms/step - loss: 1.1948 - accuracy: 0.5521 - val_loss: 1.3045 - val_accuracy: 0.5230\n",
      "Epoch 30/30\n",
      "28709/28709 [==============================] - 653s 23ms/step - loss: 1.1859 - accuracy: 0.5582 - val_loss: 1.1334 - val_accuracy: 0.5648\n",
      "Saved model to disk done\n",
      "Evaluating the model on test data ...\n",
      "3589/3589 [==============================] - 21s 6ms/step\n",
      "test loss, test acc: [1.104317472734369, 0.5803844928741455]\n",
      "      0     1     2     3     4     5     6\n",
      "0  0.50  0.09  0.18  0.04  0.12  0.02  0.05\n",
      "1   NaN   NaN   NaN   NaN   NaN   NaN   NaN\n",
      "2  0.14  0.01  0.37  0.10  0.16  0.17  0.05\n",
      "3  0.03  0.00  0.03  0.80  0.04  0.03  0.06\n",
      "4  0.14  0.01  0.21  0.06  0.40  0.01  0.17\n",
      "5  0.03  0.01  0.21  0.04  0.03  0.67  0.03\n",
      "6  0.11  0.00  0.10  0.04  0.16  0.03  0.55\n"
     ]
    },
    {
     "name": "stderr",
     "output_type": "stream",
     "text": [
      "C:\\Users\\jeang\\anaconda3\\envs\\rl_env\\lib\\site-packages\\ipykernel_launcher.py:7: RuntimeWarning: invalid value encountered in true_divide\n",
      "  import sys\n"
     ]
    },
    {
     "data": {
      "image/png": "[encoded data removed]",
      "text/plain": [
       "<Figure size 432x288 with 1 Axes>"
      ]
     },
     "metadata": {
      "needs_background": "light"
     },
     "output_type": "display_data"
    }
   ],
   "source": [
    "h4, r4 = fit_test_save_hist(model, bs=64, fnm='fer24.json', fnw='fer24.h5')"
   ]
  },
  {
   "cell_type": "code",
   "execution_count": 14,
   "metadata": {},
   "outputs": [
    {
     "name": "stdout",
     "output_type": "stream",
     "text": [
      "Model: \"sequential_2\"\n",
      "_________________________________________________________________\n",
      "Layer (type)                 Output Shape              Param #   \n",
      "=================================================================\n",
      "conv2d_6 (Conv2D)            (None, 48, 48, 512)       5120      \n",
      "_________________________________________________________________\n",
      "max_pooling2d_6 (MaxPooling2 (None, 24, 24, 512)       0         \n",
      "_________________________________________________________________\n",
      "dropout_7 (Dropout)          (None, 24, 24, 512)       0         \n",
      "_________________________________________________________________\n",
      "conv2d_7 (Conv2D)            (None, 24, 24, 128)       589952    \n",
      "_________________________________________________________________\n",
      "batch_normalization_5 (Batch (None, 24, 24, 128)       512       \n",
      "_________________________________________________________________\n",
      "max_pooling2d_7 (MaxPooling2 (None, 12, 12, 128)       0         \n",
      "_________________________________________________________________\n",
      "dropout_8 (Dropout)          (None, 12, 12, 128)       0         \n",
      "_________________________________________________________________\n",
      "conv2d_8 (Conv2D)            (None, 12, 12, 64)        73792     \n",
      "_________________________________________________________________\n",
      "batch_normalization_6 (Batch (None, 12, 12, 64)        256       \n",
      "_________________________________________________________________\n",
      "max_pooling2d_8 (MaxPooling2 (None, 6, 6, 64)          0         \n",
      "_________________________________________________________________\n",
      "dropout_9 (Dropout)          (None, 6, 6, 64)          0         \n",
      "_________________________________________________________________\n",
      "conv2d_9 (Conv2D)            (None, 6, 6, 32)          18464     \n",
      "_________________________________________________________________\n",
      "batch_normalization_7 (Batch (None, 6, 6, 32)          128       \n",
      "_________________________________________________________________\n",
      "max_pooling2d_9 (MaxPooling2 (None, 3, 3, 32)          0         \n",
      "_________________________________________________________________\n",
      "dropout_10 (Dropout)         (None, 3, 3, 32)          0         \n",
      "_________________________________________________________________\n",
      "conv2d_10 (Conv2D)           (None, 3, 3, 16)          4624      \n",
      "_________________________________________________________________\n",
      "batch_normalization_8 (Batch (None, 3, 3, 16)          64        \n",
      "_________________________________________________________________\n",
      "max_pooling2d_10 (MaxPooling (None, 1, 1, 16)          0         \n",
      "_________________________________________________________________\n",
      "dropout_11 (Dropout)         (None, 1, 1, 16)          0         \n",
      "_________________________________________________________________\n",
      "flatten_2 (Flatten)          (None, 16)                0         \n",
      "_________________________________________________________________\n",
      "dense_3 (Dense)              (None, 32)                544       \n",
      "_________________________________________________________________\n",
      "dropout_12 (Dropout)         (None, 32)                0         \n",
      "_________________________________________________________________\n",
      "dense_4 (Dense)              (None, 7)                 231       \n",
      "=================================================================\n",
      "Total params: 693,687\n",
      "Trainable params: 693,207\n",
      "Non-trainable params: 480\n",
      "_________________________________________________________________\n"
     ]
    }
   ],
   "source": [
    "model = get_model_v20(dropout=(0.2,0.2,0.2,0.25,0.25))\n",
    "model.summary()"
   ]
  },
  {
   "cell_type": "markdown",
   "metadata": {},
   "source": [
    "<p>Nous cherchons la valeur maximum du hyperparametre bs, sachant que 128 entraine des crash de l'ordinateur et 64 ne peut pas detecter class 1, qui a environ 1% population. Nous commencons par 96</p>"
   ]
  },
  {
   "cell_type": "code",
   "execution_count": 15,
   "metadata": {},
   "outputs": [
    {
     "name": "stdout",
     "output_type": "stream",
     "text": [
      "Fitting the model with new train set and new validation set ...\n",
      "Train on 28709 samples, validate on 3589 samples\n",
      "Epoch 1/20\n",
      "28709/28709 [==============================] - 692s 24ms/step - loss: 1.9079 - accuracy: 0.2224 - val_loss: 1.8400 - val_accuracy: 0.2455\n",
      "Epoch 2/20\n",
      "28709/28709 [==============================] - 688s 24ms/step - loss: 1.8009 - accuracy: 0.2543 - val_loss: 1.8000 - val_accuracy: 0.2561\n",
      "Epoch 3/20\n",
      "28709/28709 [==============================] - 686s 24ms/step - loss: 1.7368 - accuracy: 0.2975 - val_loss: 1.9288 - val_accuracy: 0.2065\n",
      "Epoch 4/20\n",
      "28709/28709 [==============================] - 684s 24ms/step - loss: 1.6303 - accuracy: 0.3524 - val_loss: 1.9070 - val_accuracy: 0.2736\n",
      "Epoch 5/20\n",
      "28709/28709 [==============================] - 692s 24ms/step - loss: 1.5816 - accuracy: 0.3803 - val_loss: 1.5637 - val_accuracy: 0.3937\n",
      "Epoch 6/20\n",
      "28709/28709 [==============================] - 711s 25ms/step - loss: 1.5195 - accuracy: 0.4090 - val_loss: 1.4699 - val_accuracy: 0.4291\n",
      "Epoch 7/20\n",
      "28709/28709 [==============================] - 683s 24ms/step - loss: 1.4725 - accuracy: 0.4319 - val_loss: 1.4837 - val_accuracy: 0.4380\n",
      "Epoch 8/20\n",
      "28709/28709 [==============================] - 681s 24ms/step - loss: 1.4383 - accuracy: 0.4483 - val_loss: 1.4821 - val_accuracy: 0.4244\n",
      "Epoch 9/20\n",
      "28709/28709 [==============================] - 680s 24ms/step - loss: 1.4087 - accuracy: 0.4588 - val_loss: 1.3796 - val_accuracy: 0.4689\n",
      "Epoch 10/20\n",
      "28709/28709 [==============================] - 680s 24ms/step - loss: 1.3812 - accuracy: 0.4694 - val_loss: 1.3010 - val_accuracy: 0.5057\n",
      "Epoch 11/20\n",
      "28709/28709 [==============================] - 692s 24ms/step - loss: 1.3574 - accuracy: 0.4818 - val_loss: 1.3147 - val_accuracy: 0.4948\n",
      "Epoch 12/20\n",
      "28709/28709 [==============================] - 694s 24ms/step - loss: 1.3404 - accuracy: 0.4888 - val_loss: 1.2777 - val_accuracy: 0.5102\n",
      "Epoch 13/20\n",
      "28709/28709 [==============================] - 682s 24ms/step - loss: 1.3308 - accuracy: 0.4913 - val_loss: 1.3000 - val_accuracy: 0.5032\n",
      "Epoch 14/20\n",
      "28709/28709 [==============================] - 674s 23ms/step - loss: 1.3088 - accuracy: 0.4990 - val_loss: 1.2408 - val_accuracy: 0.5216\n",
      "Epoch 15/20\n",
      "28709/28709 [==============================] - 674s 23ms/step - loss: 1.2927 - accuracy: 0.5075 - val_loss: 1.2366 - val_accuracy: 0.5294\n",
      "Epoch 16/20\n",
      "28709/28709 [==============================] - 671s 23ms/step - loss: 1.2841 - accuracy: 0.5106 - val_loss: 1.2717 - val_accuracy: 0.5149\n",
      "Epoch 17/20\n",
      "28709/28709 [==============================] - 674s 23ms/step - loss: 1.2739 - accuracy: 0.5176 - val_loss: 1.2356 - val_accuracy: 0.5325\n",
      "Epoch 18/20\n",
      "28709/28709 [==============================] - 672s 23ms/step - loss: 1.2656 - accuracy: 0.5192 - val_loss: 1.1934 - val_accuracy: 0.5436\n",
      "Epoch 19/20\n",
      "28709/28709 [==============================] - 686s 24ms/step - loss: 1.2537 - accuracy: 0.5230 - val_loss: 1.2083 - val_accuracy: 0.5467\n",
      "Epoch 20/20\n",
      "28709/28709 [==============================] - 701s 24ms/step - loss: 1.2496 - accuracy: 0.5285 - val_loss: 1.1979 - val_accuracy: 0.5458\n",
      "Saved model to disk done\n",
      "Evaluating the model on test data ...\n",
      "3589/3589 [==============================] - 20s 6ms/step\n",
      "test loss, test acc: [1.1837144622765534, 0.5424909591674805]\n",
      "      0     1     2     3     4     5     6\n",
      "0  0.50  0.09  0.16  0.04  0.13  0.02  0.05\n",
      "1   NaN   NaN   NaN   NaN   NaN   NaN   NaN\n",
      "2  0.16  0.01  0.31  0.09  0.15  0.20  0.08\n",
      "3  0.04  0.00  0.03  0.81  0.03  0.03  0.05\n",
      "4  0.16  0.02  0.19  0.09  0.35  0.02  0.18\n",
      "5  0.03  0.01  0.21  0.04  0.02  0.67  0.03\n",
      "6  0.11  0.00  0.12  0.05  0.16  0.03  0.51\n"
     ]
    },
    {
     "name": "stderr",
     "output_type": "stream",
     "text": [
      "C:\\Users\\jeang\\anaconda3\\envs\\rl_env\\lib\\site-packages\\ipykernel_launcher.py:7: RuntimeWarning: invalid value encountered in true_divide\n",
      "  import sys\n"
     ]
    },
    {
     "data": {
      "image/png": "[encoded data removed]",
      "text/plain": [
       "<Figure size 432x288 with 1 Axes>"
      ]
     },
     "metadata": {
      "needs_background": "light"
     },
     "output_type": "display_data"
    }
   ],
   "source": [
    "h5, r5 = fit_test_save_hist(model, bs=96, ep=20, fnm='fer25.json', fnw='fer25.h5')"
   ]
  },
  {
   "cell_type": "markdown",
   "metadata": {},
   "source": [
    "<p>On a pas de problem over-fitting avec ce model et mon ordi a bien fini son travail sans lacher, mais le problem de class 1 est encore la. Testons donc bs = 112 pour avoir un maximum value bs et meilleur performance</p> "
   ]
  },
  {
   "cell_type": "code",
   "execution_count": 16,
   "metadata": {},
   "outputs": [
    {
     "name": "stdout",
     "output_type": "stream",
     "text": [
      "Fitting the model with new train set and new validation set ...\n",
      "Train on 28709 samples, validate on 3589 samples\n",
      "Epoch 1/10\n",
      "28709/28709 [==============================] - 680s 24ms/step - loss: 1.2282 - accuracy: 0.5362 - val_loss: 1.1672 - val_accuracy: 0.5539\n",
      "Epoch 2/10\n",
      "28709/28709 [==============================] - 695s 24ms/step - loss: 1.2196 - accuracy: 0.5416 - val_loss: 1.2022 - val_accuracy: 0.5344\n",
      "Epoch 3/10\n",
      "28709/28709 [==============================] - 709s 25ms/step - loss: 1.2179 - accuracy: 0.5398 - val_loss: 1.1692 - val_accuracy: 0.5567\n",
      "Epoch 4/10\n",
      "28709/28709 [==============================] - 696s 24ms/step - loss: 1.2087 - accuracy: 0.5455 - val_loss: 1.1562 - val_accuracy: 0.5614\n",
      "Epoch 5/10\n",
      "28709/28709 [==============================] - 698s 24ms/step - loss: 1.1998 - accuracy: 0.5503 - val_loss: 1.1856 - val_accuracy: 0.5511\n",
      "Epoch 6/10\n",
      "28709/28709 [==============================] - 686s 24ms/step - loss: 1.1960 - accuracy: 0.5520 - val_loss: 1.1752 - val_accuracy: 0.5575\n",
      "Epoch 7/10\n",
      "28709/28709 [==============================] - 698s 24ms/step - loss: 1.1881 - accuracy: 0.5525 - val_loss: 1.1547 - val_accuracy: 0.5592\n",
      "Epoch 8/10\n",
      "28709/28709 [==============================] - 695s 24ms/step - loss: 1.1850 - accuracy: 0.5562 - val_loss: 1.1720 - val_accuracy: 0.5603\n",
      "Epoch 9/10\n",
      "28709/28709 [==============================] - 693s 24ms/step - loss: 1.1733 - accuracy: 0.5599 - val_loss: 1.2017 - val_accuracy: 0.5467\n",
      "Epoch 10/10\n",
      "28709/28709 [==============================] - 686s 24ms/step - loss: 1.1691 - accuracy: 0.5644 - val_loss: 1.1447 - val_accuracy: 0.5692\n",
      "Saved model to disk done\n",
      "Evaluating the model on test data ...\n",
      "3589/3589 [==============================] - 21s 6ms/step\n",
      "test loss, test acc: [1.13832221455679, 0.5731401443481445]\n",
      "      0     1     2     3     4     5     6\n",
      "0  0.53  0.07  0.17  0.03  0.13  0.02  0.05\n",
      "1   NaN   NaN   NaN   NaN   NaN   NaN   NaN\n",
      "2  0.15  0.01  0.44  0.05  0.12  0.19  0.03\n",
      "3  0.05  0.01  0.06  0.70  0.06  0.04  0.08\n",
      "4  0.15  0.02  0.20  0.05  0.42  0.01  0.15\n",
      "5  0.02  0.01  0.19  0.03  0.01  0.73  0.01\n",
      "6  0.12  0.00  0.13  0.04  0.18  0.03  0.49\n"
     ]
    },
    {
     "name": "stderr",
     "output_type": "stream",
     "text": [
      "C:\\Users\\jeang\\anaconda3\\envs\\rl_env\\lib\\site-packages\\ipykernel_launcher.py:7: RuntimeWarning: invalid value encountered in true_divide\n",
      "  import sys\n"
     ]
    },
    {
     "data": {
      "image/png": "[encoded data removed]",
      "text/plain": [
       "<Figure size 432x288 with 1 Axes>"
      ]
     },
     "metadata": {
      "needs_background": "light"
     },
     "output_type": "display_data"
    }
   ],
   "source": [
    "h6, r6 = fit_test_save_hist(model, bs=112, ep=10, fnm='fer26.json', fnw='fer26.h5')"
   ]
  },
  {
   "cell_type": "code",
   "execution_count": 17,
   "metadata": {},
   "outputs": [
    {
     "ename": "AttributeError",
     "evalue": "'numpy.ndarray' object has no attribute 'idxmax'",
     "output_type": "error",
     "traceback": [
      "\u001b[1;31m---------------------------------------------------------------------------\u001b[0m",
      "\u001b[1;31mAttributeError\u001b[0m                            Traceback (most recent call last)",
      "\u001b[1;32m<ipython-input-17-5916ad9d5f9e>\u001b[0m in \u001b[0;36m<module>\u001b[1;34m\u001b[0m\n\u001b[0;32m      1\u001b[0m \u001b[0mproba\u001b[0m \u001b[1;33m=\u001b[0m \u001b[0mpd\u001b[0m\u001b[1;33m.\u001b[0m\u001b[0mDataFrame\u001b[0m\u001b[1;33m(\u001b[0m\u001b[0mmodel\u001b[0m\u001b[1;33m.\u001b[0m\u001b[0mpredict\u001b[0m\u001b[1;33m(\u001b[0m\u001b[0mX_test\u001b[0m\u001b[1;33m)\u001b[0m\u001b[1;33m)\u001b[0m\u001b[1;33m\u001b[0m\u001b[1;33m\u001b[0m\u001b[0m\n\u001b[0;32m      2\u001b[0m \u001b[0my_pred\u001b[0m \u001b[1;33m=\u001b[0m \u001b[0mproba\u001b[0m\u001b[1;33m.\u001b[0m\u001b[0midxmax\u001b[0m\u001b[1;33m(\u001b[0m\u001b[0maxis\u001b[0m\u001b[1;33m=\u001b[0m\u001b[1;36m1\u001b[0m\u001b[1;33m)\u001b[0m\u001b[1;33m\u001b[0m\u001b[1;33m\u001b[0m\u001b[0m\n\u001b[1;32m----> 3\u001b[1;33m \u001b[0my_real\u001b[0m \u001b[1;33m=\u001b[0m \u001b[0mY_test\u001b[0m\u001b[1;33m.\u001b[0m\u001b[0midxmax\u001b[0m\u001b[1;33m(\u001b[0m\u001b[0maxis\u001b[0m\u001b[1;33m=\u001b[0m\u001b[1;36m1\u001b[0m\u001b[1;33m)\u001b[0m\u001b[1;33m\u001b[0m\u001b[1;33m\u001b[0m\u001b[0m\n\u001b[0m",
      "\u001b[1;31mAttributeError\u001b[0m: 'numpy.ndarray' object has no attribute 'idxmax'"
     ]
    }
   ],
   "source": [
    "proba = pd.DataFrame(model.predict(X_test))\n",
    "y_pred = proba.idxmax(axis=1)\n"
   ]
  },
  {
   "cell_type": "code",
   "execution_count": 20,
   "metadata": {},
   "outputs": [
    {
     "data": {
      "text/plain": [
       "Series([], dtype: int64)"
      ]
     },
     "execution_count": 20,
     "metadata": {},
     "output_type": "execute_result"
    }
   ],
   "source": [
    "y_pred[y_pred==1]"
   ]
  },
  {
   "cell_type": "code",
   "execution_count": 18,
   "metadata": {},
   "outputs": [],
   "source": [
    "y_real = pd.DataFrame(Y_test).idxmax(axis=1)"
   ]
  },
  {
   "cell_type": "code",
   "execution_count": 21,
   "metadata": {},
   "outputs": [
    {
     "data": {
      "text/plain": [
       "34      1\n",
       "178     1\n",
       "189     1\n",
       "227     1\n",
       "233     1\n",
       "248     1\n",
       "383     1\n",
       "419     1\n",
       "614     1\n",
       "625     1\n",
       "706     1\n",
       "911     1\n",
       "986     1\n",
       "1064    1\n",
       "1085    1\n",
       "1089    1\n",
       "1183    1\n",
       "1245    1\n",
       "1263    1\n",
       "1363    1\n",
       "1372    1\n",
       "1466    1\n",
       "1486    1\n",
       "1549    1\n",
       "1672    1\n",
       "1676    1\n",
       "1697    1\n",
       "1724    1\n",
       "1770    1\n",
       "1775    1\n",
       "1828    1\n",
       "1909    1\n",
       "2125    1\n",
       "2134    1\n",
       "2207    1\n",
       "2221    1\n",
       "2295    1\n",
       "2324    1\n",
       "2389    1\n",
       "2394    1\n",
       "2482    1\n",
       "2495    1\n",
       "2649    1\n",
       "2650    1\n",
       "2660    1\n",
       "2717    1\n",
       "2998    1\n",
       "3014    1\n",
       "3078    1\n",
       "3093    1\n",
       "3108    1\n",
       "3111    1\n",
       "3282    1\n",
       "3488    1\n",
       "3543    1\n",
       "dtype: int64"
      ]
     },
     "execution_count": 21,
     "metadata": {},
     "output_type": "execute_result"
    }
   ],
   "source": [
    "y_real[y_real==1]"
   ]
  },
  {
   "cell_type": "code",
   "execution_count": 19,
   "metadata": {},
   "outputs": [
    {
     "data": {
      "text/html": [
       "<div>\n",
       "<style scoped>\n",
       "    .dataframe tbody tr th:only-of-type {\n",
       "        vertical-align: middle;\n",
       "    }\n",
       "\n",
       "    .dataframe tbody tr th {\n",
       "        vertical-align: top;\n",
       "    }\n",
       "\n",
       "    .dataframe thead th {\n",
       "        text-align: right;\n",
       "    }\n",
       "</style>\n",
       "<table border=\"1\" class=\"dataframe\">\n",
       "  <thead>\n",
       "    <tr style=\"text-align: right;\">\n",
       "      <th></th>\n",
       "      <th>0</th>\n",
       "      <th>1</th>\n",
       "      <th>2</th>\n",
       "      <th>3</th>\n",
       "      <th>4</th>\n",
       "      <th>5</th>\n",
       "      <th>6</th>\n",
       "    </tr>\n",
       "  </thead>\n",
       "  <tbody>\n",
       "    <tr>\n",
       "      <th>0</th>\n",
       "      <td>196</td>\n",
       "      <td>27</td>\n",
       "      <td>64</td>\n",
       "      <td>10</td>\n",
       "      <td>48</td>\n",
       "      <td>6</td>\n",
       "      <td>18</td>\n",
       "    </tr>\n",
       "    <tr>\n",
       "      <th>1</th>\n",
       "      <td>0</td>\n",
       "      <td>0</td>\n",
       "      <td>0</td>\n",
       "      <td>0</td>\n",
       "      <td>0</td>\n",
       "      <td>0</td>\n",
       "      <td>0</td>\n",
       "    </tr>\n",
       "    <tr>\n",
       "      <th>2</th>\n",
       "      <td>23</td>\n",
       "      <td>2</td>\n",
       "      <td>68</td>\n",
       "      <td>8</td>\n",
       "      <td>19</td>\n",
       "      <td>29</td>\n",
       "      <td>5</td>\n",
       "    </tr>\n",
       "    <tr>\n",
       "      <th>3</th>\n",
       "      <td>58</td>\n",
       "      <td>8</td>\n",
       "      <td>62</td>\n",
       "      <td>784</td>\n",
       "      <td>68</td>\n",
       "      <td>45</td>\n",
       "      <td>89</td>\n",
       "    </tr>\n",
       "    <tr>\n",
       "      <th>4</th>\n",
       "      <td>106</td>\n",
       "      <td>12</td>\n",
       "      <td>148</td>\n",
       "      <td>34</td>\n",
       "      <td>307</td>\n",
       "      <td>10</td>\n",
       "      <td>107</td>\n",
       "    </tr>\n",
       "    <tr>\n",
       "      <th>5</th>\n",
       "      <td>8</td>\n",
       "      <td>3</td>\n",
       "      <td>78</td>\n",
       "      <td>12</td>\n",
       "      <td>6</td>\n",
       "      <td>299</td>\n",
       "      <td>4</td>\n",
       "    </tr>\n",
       "    <tr>\n",
       "      <th>6</th>\n",
       "      <td>100</td>\n",
       "      <td>3</td>\n",
       "      <td>108</td>\n",
       "      <td>31</td>\n",
       "      <td>146</td>\n",
       "      <td>27</td>\n",
       "      <td>403</td>\n",
       "    </tr>\n",
       "  </tbody>\n",
       "</table>\n",
       "</div>"
      ],
      "text/plain": [
       "     0   1    2    3    4    5    6\n",
       "0  196  27   64   10   48    6   18\n",
       "1    0   0    0    0    0    0    0\n",
       "2   23   2   68    8   19   29    5\n",
       "3   58   8   62  784   68   45   89\n",
       "4  106  12  148   34  307   10  107\n",
       "5    8   3   78   12    6  299    4\n",
       "6  100   3  108   31  146   27  403"
      ]
     },
     "execution_count": 19,
     "metadata": {},
     "output_type": "execute_result"
    }
   ],
   "source": [
    "    # y_pred = submission['label']\n",
    "    # y_real = df_PrivateTest['emotion']\n",
    "#cm = confusion_matrix(submission['label'], df_PrivateTest['emotion'])\n",
    "cm = confusion_matrix(y_pred, y_real)\n",
    "pd.DataFrame(cm)\n",
    "    #cm = cm.astype('float') / cm.sum(axis=1)[:, np.newaxis]\n",
    "    #cm = cm.round(2)\n",
    "    #return pd.DataFrame(cm)"
   ]
  },
  {
   "cell_type": "code",
   "execution_count": 22,
   "metadata": {},
   "outputs": [
    {
     "name": "stdout",
     "output_type": "stream",
     "text": [
      "Model: \"sequential_3\"\n",
      "_________________________________________________________________\n",
      "Layer (type)                 Output Shape              Param #   \n",
      "=================================================================\n",
      "conv2d_11 (Conv2D)           (None, 48, 48, 512)       5120      \n",
      "_________________________________________________________________\n",
      "max_pooling2d_11 (MaxPooling (None, 24, 24, 512)       0         \n",
      "_________________________________________________________________\n",
      "dropout_13 (Dropout)         (None, 24, 24, 512)       0         \n",
      "_________________________________________________________________\n",
      "conv2d_12 (Conv2D)           (None, 24, 24, 128)       589952    \n",
      "_________________________________________________________________\n",
      "batch_normalization_9 (Batch (None, 24, 24, 128)       512       \n",
      "_________________________________________________________________\n",
      "max_pooling2d_12 (MaxPooling (None, 12, 12, 128)       0         \n",
      "_________________________________________________________________\n",
      "dropout_14 (Dropout)         (None, 12, 12, 128)       0         \n",
      "_________________________________________________________________\n",
      "conv2d_13 (Conv2D)           (None, 12, 12, 64)        73792     \n",
      "_________________________________________________________________\n",
      "batch_normalization_10 (Batc (None, 12, 12, 64)        256       \n",
      "_________________________________________________________________\n",
      "max_pooling2d_13 (MaxPooling (None, 6, 6, 64)          0         \n",
      "_________________________________________________________________\n",
      "dropout_15 (Dropout)         (None, 6, 6, 64)          0         \n",
      "_________________________________________________________________\n",
      "conv2d_14 (Conv2D)           (None, 6, 6, 32)          18464     \n",
      "_________________________________________________________________\n",
      "batch_normalization_11 (Batc (None, 6, 6, 32)          128       \n",
      "_________________________________________________________________\n",
      "max_pooling2d_14 (MaxPooling (None, 3, 3, 32)          0         \n",
      "_________________________________________________________________\n",
      "dropout_16 (Dropout)         (None, 3, 3, 32)          0         \n",
      "_________________________________________________________________\n",
      "conv2d_15 (Conv2D)           (None, 3, 3, 16)          4624      \n",
      "_________________________________________________________________\n",
      "batch_normalization_12 (Batc (None, 3, 3, 16)          64        \n",
      "_________________________________________________________________\n",
      "dropout_17 (Dropout)         (None, 3, 3, 16)          0         \n",
      "_________________________________________________________________\n",
      "flatten_3 (Flatten)          (None, 144)               0         \n",
      "_________________________________________________________________\n",
      "dense_5 (Dense)              (None, 32)                4640      \n",
      "_________________________________________________________________\n",
      "dropout_18 (Dropout)         (None, 32)                0         \n",
      "_________________________________________________________________\n",
      "dense_6 (Dense)              (None, 7)                 231       \n",
      "=================================================================\n",
      "Total params: 697,783\n",
      "Trainable params: 697,303\n",
      "Non-trainable params: 480\n",
      "_________________________________________________________________\n"
     ]
    }
   ],
   "source": [
    "model = get_model_v20(p_size=(2,2,2,2,0), dropout=(0.2, 0.2, 0.2, 0.2, 0.25))\n",
    "model.summary()"
   ]
  },
  {
   "cell_type": "code",
   "execution_count": 23,
   "metadata": {},
   "outputs": [
    {
     "name": "stdout",
     "output_type": "stream",
     "text": [
      "Fitting the model with new train set and new validation set ...\n",
      "Train on 28709 samples, validate on 3589 samples\n",
      "Epoch 1/10\n",
      "28709/28709 [==============================] - 696s 24ms/step - loss: 1.9038 - accuracy: 0.2296 - val_loss: 1.8319 - val_accuracy: 0.2494\n",
      "Epoch 2/10\n",
      "28709/28709 [==============================] - 727s 25ms/step - loss: 1.7934 - accuracy: 0.2621 - val_loss: 1.8247 - val_accuracy: 0.2588\n",
      "Epoch 3/10\n",
      "28709/28709 [==============================] - 718s 25ms/step - loss: 1.7368 - accuracy: 0.2961 - val_loss: 1.9410 - val_accuracy: 0.2471\n",
      "Epoch 4/10\n",
      "28709/28709 [==============================] - 707s 25ms/step - loss: 1.6523 - accuracy: 0.3446 - val_loss: 1.7053 - val_accuracy: 0.3360\n",
      "Epoch 5/10\n",
      "28709/28709 [==============================] - 698s 24ms/step - loss: 1.5566 - accuracy: 0.3900 - val_loss: 1.6807 - val_accuracy: 0.3452\n",
      "Epoch 6/10\n",
      "28709/28709 [==============================] - 694s 24ms/step - loss: 1.4886 - accuracy: 0.4171 - val_loss: 1.5726 - val_accuracy: 0.3954\n",
      "Epoch 7/10\n",
      "28709/28709 [==============================] - 689s 24ms/step - loss: 1.4426 - accuracy: 0.4344 - val_loss: 1.4991 - val_accuracy: 0.4074\n",
      "Epoch 8/10\n",
      "28709/28709 [==============================] - 684s 24ms/step - loss: 1.4001 - accuracy: 0.4565 - val_loss: 1.3313 - val_accuracy: 0.4798\n",
      "Epoch 9/10\n",
      "28709/28709 [==============================] - 682s 24ms/step - loss: 1.3619 - accuracy: 0.4741 - val_loss: 1.3235 - val_accuracy: 0.4859\n",
      "Epoch 10/10\n",
      "28709/28709 [==============================] - 695s 24ms/step - loss: 1.3356 - accuracy: 0.4859 - val_loss: 1.2735 - val_accuracy: 0.5032\n",
      "Saved model to disk done\n",
      "Evaluating the model on test data ...\n",
      "3589/3589 [==============================] - 20s 5ms/step\n",
      "test loss, test acc: [1.260312090281425, 0.514906644821167]\n",
      "      0     1     2     3     4     5     6\n",
      "0  0.49  0.12  0.22  0.04  0.10  0.02  0.02\n",
      "1   NaN   NaN   NaN   NaN   NaN   NaN   NaN\n",
      "2  0.19  0.02  0.27  0.11  0.20  0.15  0.06\n",
      "3  0.08  0.01  0.07  0.62  0.09  0.03  0.09\n",
      "4  0.21  0.02  0.19  0.04  0.39  0.01  0.14\n",
      "5  0.07  0.01  0.21  0.03  0.03  0.61  0.04\n",
      "6  0.12  0.00  0.15  0.03  0.22  0.04  0.44\n"
     ]
    },
    {
     "name": "stderr",
     "output_type": "stream",
     "text": [
      "C:\\Users\\jeang\\anaconda3\\envs\\rl_env\\lib\\site-packages\\ipykernel_launcher.py:7: RuntimeWarning: invalid value encountered in true_divide\n",
      "  import sys\n"
     ]
    },
    {
     "data": {
      "image/png": "[encoded data removed]",
      "text/plain": [
       "<Figure size 432x288 with 1 Axes>"
      ]
     },
     "metadata": {
      "needs_background": "light"
     },
     "output_type": "display_data"
    }
   ],
   "source": [
    "h7, r7 = fit_test_save_hist(model, bs=128, ep=10, fnm='fer27.json', fnw='fer27.h5')"
   ]
  },
  {
   "cell_type": "code",
   "execution_count": 24,
   "metadata": {},
   "outputs": [
    {
     "data": {
      "text/plain": [
       "Series([], dtype: int64)"
      ]
     },
     "execution_count": 24,
     "metadata": {},
     "output_type": "execute_result"
    }
   ],
   "source": [
    "proba = pd.DataFrame(model.predict(X_test))\n",
    "y_pred = proba.idxmax(axis=1)\n",
    "y_pred[y_pred==1]"
   ]
  },
  {
   "cell_type": "code",
   "execution_count": 39,
   "metadata": {},
   "outputs": [],
   "source": [
    "def get_model_v40(num_layers=5, lf = 128,\n",
    "                  num_filtre=(16, 32, 64, 128, 256), \n",
    "                  k_size=(3,3,3,3,3), \n",
    "                  p_size=(2,2,2,2,0), \n",
    "                  dropout=(0.0, 0.0, 0.5, 0.0, 0.0)):\n",
    "    \n",
    "    input_shape, num_classes, last_features = (48, 48, 1), 7, lf\n",
    "    model = Sequential()\n",
    "    \n",
    "    for layer in range(num_layers): \n",
    "        if layer == 0:\n",
    "            model.add(Conv2D(num_filtre[layer], kernel_size=k_size[layer], activation=tf.nn.relu, padding=\"same\", input_shape=input_shape))\n",
    "        else:\n",
    "            model.add(Conv2D(num_filtre[layer], kernel_size=k_size[layer], activation=tf.nn.relu, padding=\"same\"))\n",
    "            # normalization for each layer but not the first\n",
    "            model.add(BatchNormalization())\n",
    "        \n",
    "        # max pooling with the given choose\n",
    "        if p_size[layer] > 0:\n",
    "            model.add(MaxPooling2D(pool_size=(p_size[layer], p_size[layer])))\n",
    "        \n",
    "        # Dropout with the given choose\n",
    "        if dropout[layer] > 0:\n",
    "            model.add(Dropout(dropout[layer]))           \n",
    "        \n",
    "\n",
    "    model.add(Flatten())                          # Flattening the 2D arrays for fully connected layers\n",
    "    model.add(Dense(last_features, activation=tf.nn.relu))\n",
    "    last_dropout = dropout[-1]\n",
    "    if last_dropout < 0.5:\n",
    "        last_dropout = 0.5\n",
    "    model.add(Dropout(dropout[-1]))\n",
    "    model.add(Dense(num_classes, activation=tf.nn.softmax))\n",
    "    model.compile(optimizer='adam', loss='categorical_crossentropy', metrics=['accuracy'])\n",
    "    return model"
   ]
  },
  {
   "cell_type": "code",
   "execution_count": 25,
   "metadata": {},
   "outputs": [],
   "source": [
    "def get_model_v30(num_layers=5, \n",
    "                  num_filtre=(32, 64, 128, 256, 512), \n",
    "                  k_size=(3,3,3,3,3), \n",
    "                  p_size=(2,2,2,2,0), \n",
    "                  dropout=(0.0, 0.0, 0.0, 0.0, 0.25)):\n",
    "    \n",
    "    input_shape, num_classes = (48, 48, 1), 7\n",
    "    model = Sequential()\n",
    "    \n",
    "    for layer in range(num_layers): \n",
    "        if layer == 0:\n",
    "            model.add(Conv2D(num_filtre[layer], kernel_size=k_size[layer], activation=tf.nn.relu, padding=\"same\", input_shape=input_shape))\n",
    "        else:\n",
    "            model.add(Conv2D(num_filtre[layer], kernel_size=k_size[layer], activation=tf.nn.relu, padding=\"same\"))\n",
    "            # normalization for each layer but not the first\n",
    "            model.add(BatchNormalization())\n",
    "        \n",
    "        # max pooling with the given choose\n",
    "        if p_size[layer] > 0:\n",
    "            model.add(MaxPooling2D(pool_size=(p_size[layer], p_size[layer])))\n",
    "        \n",
    "        # Dropout with the given choose\n",
    "        if dropout[layer] > 0:\n",
    "            model.add(Dropout(dropout[layer]))           \n",
    "        \n",
    "\n",
    "    model.add(Flatten())                          # Flattening the 2D arrays for fully connected layers\n",
    "    model.add(Dense(32, activation=tf.nn.relu))\n",
    "    last_dropout = dropout[-1]\n",
    "    if last_dropout < 0.5:\n",
    "        last_dropout = 0.5\n",
    "    model.add(Dropout(dropout[-1]))\n",
    "    model.add(Dense(num_classes, activation=tf.nn.softmax))\n",
    "    model.compile(optimizer='adam', loss='categorical_crossentropy', metrics=['accuracy'])\n",
    "    return model"
   ]
  },
  {
   "cell_type": "code",
   "execution_count": 27,
   "metadata": {},
   "outputs": [
    {
     "name": "stdout",
     "output_type": "stream",
     "text": [
      "Model: \"sequential_5\"\n",
      "_________________________________________________________________\n",
      "Layer (type)                 Output Shape              Param #   \n",
      "=================================================================\n",
      "conv2d_21 (Conv2D)           (None, 48, 48, 32)        320       \n",
      "_________________________________________________________________\n",
      "max_pooling2d_19 (MaxPooling (None, 24, 24, 32)        0         \n",
      "_________________________________________________________________\n",
      "conv2d_22 (Conv2D)           (None, 24, 24, 64)        18496     \n",
      "_________________________________________________________________\n",
      "batch_normalization_17 (Batc (None, 24, 24, 64)        256       \n",
      "_________________________________________________________________\n",
      "max_pooling2d_20 (MaxPooling (None, 12, 12, 64)        0         \n",
      "_________________________________________________________________\n",
      "conv2d_23 (Conv2D)           (None, 12, 12, 64)        36928     \n",
      "_________________________________________________________________\n",
      "batch_normalization_18 (Batc (None, 12, 12, 64)        256       \n",
      "_________________________________________________________________\n",
      "max_pooling2d_21 (MaxPooling (None, 6, 6, 64)          0         \n",
      "_________________________________________________________________\n",
      "dropout_21 (Dropout)         (None, 6, 6, 64)          0         \n",
      "_________________________________________________________________\n",
      "conv2d_24 (Conv2D)           (None, 6, 6, 128)         73856     \n",
      "_________________________________________________________________\n",
      "batch_normalization_19 (Batc (None, 6, 6, 128)         512       \n",
      "_________________________________________________________________\n",
      "max_pooling2d_22 (MaxPooling (None, 3, 3, 128)         0         \n",
      "_________________________________________________________________\n",
      "conv2d_25 (Conv2D)           (None, 3, 3, 128)         147584    \n",
      "_________________________________________________________________\n",
      "batch_normalization_20 (Batc (None, 3, 3, 128)         512       \n",
      "_________________________________________________________________\n",
      "flatten_5 (Flatten)          (None, 1152)              0         \n",
      "_________________________________________________________________\n",
      "dense_9 (Dense)              (None, 32)                36896     \n",
      "_________________________________________________________________\n",
      "dropout_22 (Dropout)         (None, 32)                0         \n",
      "_________________________________________________________________\n",
      "dense_10 (Dense)             (None, 7)                 231       \n",
      "=================================================================\n",
      "Total params: 315,847\n",
      "Trainable params: 315,079\n",
      "Non-trainable params: 768\n",
      "_________________________________________________________________\n"
     ]
    }
   ],
   "source": [
    "model = get_model_v30(num_filtre=(32, 64, 64, 128, 128), p_size=(2,2,2,2,0), dropout=(0.0, 0.0, 0.25, 0.0, 0.0))\n",
    "model.summary()"
   ]
  },
  {
   "cell_type": "code",
   "execution_count": 28,
   "metadata": {},
   "outputs": [
    {
     "name": "stdout",
     "output_type": "stream",
     "text": [
      "Fitting the model with new train set and new validation set ...\n",
      "Train on 28709 samples, validate on 3589 samples\n",
      "Epoch 1/10\n",
      "28709/28709 [==============================] - 76s 3ms/step - loss: 1.6856 - accuracy: 0.3219 - val_loss: 2.6223 - val_accuracy: 0.0471\n",
      "Epoch 2/10\n",
      "28709/28709 [==============================] - 75s 3ms/step - loss: 1.4403 - accuracy: 0.4391 - val_loss: 1.8322 - val_accuracy: 0.2288\n",
      "Epoch 3/10\n",
      "28709/28709 [==============================] - 76s 3ms/step - loss: 1.3083 - accuracy: 0.4912 - val_loss: 1.3457 - val_accuracy: 0.4706\n",
      "Epoch 4/10\n",
      "28709/28709 [==============================] - 76s 3ms/step - loss: 1.2056 - accuracy: 0.5386 - val_loss: 1.2805 - val_accuracy: 0.5040\n",
      "Epoch 5/10\n",
      "28709/28709 [==============================] - 75s 3ms/step - loss: 1.1239 - accuracy: 0.5688 - val_loss: 1.2551 - val_accuracy: 0.5213\n",
      "Epoch 6/10\n",
      "28709/28709 [==============================] - 76s 3ms/step - loss: 1.0555 - accuracy: 0.5980 - val_loss: 1.3683 - val_accuracy: 0.4951\n",
      "Epoch 7/10\n",
      "28709/28709 [==============================] - 76s 3ms/step - loss: 1.0037 - accuracy: 0.6198 - val_loss: 1.2186 - val_accuracy: 0.5620\n",
      "Epoch 8/10\n",
      "28709/28709 [==============================] - 75s 3ms/step - loss: 0.9285 - accuracy: 0.6508 - val_loss: 1.2471 - val_accuracy: 0.5497\n",
      "Epoch 9/10\n",
      "28709/28709 [==============================] - 75s 3ms/step - loss: 0.8687 - accuracy: 0.6730 - val_loss: 1.2393 - val_accuracy: 0.5539\n",
      "Epoch 10/10\n",
      "28709/28709 [==============================] - 77s 3ms/step - loss: 0.8105 - accuracy: 0.6974 - val_loss: 1.2524 - val_accuracy: 0.5609\n",
      "Saved model to disk done\n",
      "Evaluating the model on test data ...\n",
      "3589/3589 [==============================] - 2s 570us/step\n",
      "test loss, test acc: [1.2310466843748797, 0.5706325173377991]\n",
      "      0     1     2     3     4     5     6\n",
      "0  0.52  0.04  0.12  0.07  0.14  0.02  0.09\n",
      "1  0.18  0.62  0.10  0.00  0.00  0.05  0.05\n",
      "2  0.12  0.01  0.51  0.05  0.15  0.12  0.04\n",
      "3  0.05  0.00  0.05  0.75  0.04  0.05  0.05\n",
      "4  0.14  0.01  0.17  0.10  0.41  0.02  0.15\n",
      "5  0.03  0.01  0.13  0.03  0.01  0.78  0.01\n",
      "6  0.11  0.00  0.13  0.06  0.15  0.06  0.48\n"
     ]
    },
    {
     "data": {
      "image/png": "[encoded data removed]",
      "text/plain": [
       "<Figure size 432x288 with 1 Axes>"
      ]
     },
     "metadata": {
      "needs_background": "light"
     },
     "output_type": "display_data"
    }
   ],
   "source": [
    "h8, r8 = fit_test_save_hist(model, bs=128, ep=10, fnm='fer28.json', fnw='fer28.h5')"
   ]
  },
  {
   "cell_type": "code",
   "execution_count": 30,
   "metadata": {},
   "outputs": [
    {
     "name": "stdout",
     "output_type": "stream",
     "text": [
      "Model: \"sequential_7\"\n",
      "_________________________________________________________________\n",
      "Layer (type)                 Output Shape              Param #   \n",
      "=================================================================\n",
      "conv2d_31 (Conv2D)           (None, 48, 48, 16)        160       \n",
      "_________________________________________________________________\n",
      "max_pooling2d_28 (MaxPooling (None, 24, 24, 16)        0         \n",
      "_________________________________________________________________\n",
      "dropout_29 (Dropout)         (None, 24, 24, 16)        0         \n",
      "_________________________________________________________________\n",
      "conv2d_32 (Conv2D)           (None, 24, 24, 32)        4640      \n",
      "_________________________________________________________________\n",
      "batch_normalization_25 (Batc (None, 24, 24, 32)        128       \n",
      "_________________________________________________________________\n",
      "max_pooling2d_29 (MaxPooling (None, 12, 12, 32)        0         \n",
      "_________________________________________________________________\n",
      "dropout_30 (Dropout)         (None, 12, 12, 32)        0         \n",
      "_________________________________________________________________\n",
      "conv2d_33 (Conv2D)           (None, 12, 12, 64)        18496     \n",
      "_________________________________________________________________\n",
      "batch_normalization_26 (Batc (None, 12, 12, 64)        256       \n",
      "_________________________________________________________________\n",
      "max_pooling2d_30 (MaxPooling (None, 6, 6, 64)          0         \n",
      "_________________________________________________________________\n",
      "dropout_31 (Dropout)         (None, 6, 6, 64)          0         \n",
      "_________________________________________________________________\n",
      "conv2d_34 (Conv2D)           (None, 6, 6, 128)         73856     \n",
      "_________________________________________________________________\n",
      "batch_normalization_27 (Batc (None, 6, 6, 128)         512       \n",
      "_________________________________________________________________\n",
      "max_pooling2d_31 (MaxPooling (None, 3, 3, 128)         0         \n",
      "_________________________________________________________________\n",
      "dropout_32 (Dropout)         (None, 3, 3, 128)         0         \n",
      "_________________________________________________________________\n",
      "conv2d_35 (Conv2D)           (None, 3, 3, 256)         295168    \n",
      "_________________________________________________________________\n",
      "batch_normalization_28 (Batc (None, 3, 3, 256)         1024      \n",
      "_________________________________________________________________\n",
      "dropout_33 (Dropout)         (None, 3, 3, 256)         0         \n",
      "_________________________________________________________________\n",
      "flatten_7 (Flatten)          (None, 2304)              0         \n",
      "_________________________________________________________________\n",
      "dense_13 (Dense)             (None, 32)                73760     \n",
      "_________________________________________________________________\n",
      "dropout_34 (Dropout)         (None, 32)                0         \n",
      "_________________________________________________________________\n",
      "dense_14 (Dense)             (None, 7)                 231       \n",
      "=================================================================\n",
      "Total params: 468,231\n",
      "Trainable params: 467,271\n",
      "Non-trainable params: 960\n",
      "_________________________________________________________________\n"
     ]
    }
   ],
   "source": [
    "model = get_model_v30(num_filtre=(16, 32, 64, 128, 256), p_size=(2,2,2,2,0), dropout=(0.10, 0.10, 0.2, 0.1, 0.1))\n",
    "model.summary()"
   ]
  },
  {
   "cell_type": "code",
   "execution_count": 31,
   "metadata": {},
   "outputs": [
    {
     "name": "stdout",
     "output_type": "stream",
     "text": [
      "Fitting the model with new train set and new validation set ...\n",
      "Train on 28709 samples, validate on 3589 samples\n",
      "Epoch 1/10\n",
      "28709/28709 [==============================] - 51s 2ms/step - loss: 1.8224 - accuracy: 0.2470 - val_loss: 1.9000 - val_accuracy: 0.2463\n",
      "Epoch 2/10\n",
      "28709/28709 [==============================] - 49s 2ms/step - loss: 1.7089 - accuracy: 0.3149 - val_loss: 1.7532 - val_accuracy: 0.2527\n",
      "Epoch 3/10\n",
      "28709/28709 [==============================] - 49s 2ms/step - loss: 1.5863 - accuracy: 0.3580 - val_loss: 1.5461 - val_accuracy: 0.3792\n",
      "Epoch 4/10\n",
      "28709/28709 [==============================] - 49s 2ms/step - loss: 1.5119 - accuracy: 0.3874 - val_loss: 1.4177 - val_accuracy: 0.4210\n",
      "Epoch 5/10\n",
      "28709/28709 [==============================] - 48s 2ms/step - loss: 1.4505 - accuracy: 0.4051 - val_loss: 1.4464 - val_accuracy: 0.4283\n",
      "Epoch 6/10\n",
      "28709/28709 [==============================] - 49s 2ms/step - loss: 1.4069 - accuracy: 0.4274 - val_loss: 1.4501 - val_accuracy: 0.4366\n",
      "Epoch 7/10\n",
      "28709/28709 [==============================] - 48s 2ms/step - loss: 1.3655 - accuracy: 0.4515 - val_loss: 1.3153 - val_accuracy: 0.4843\n",
      "Epoch 8/10\n",
      "28709/28709 [==============================] - 48s 2ms/step - loss: 1.3223 - accuracy: 0.4786 - val_loss: 1.3500 - val_accuracy: 0.4876\n",
      "Epoch 9/10\n",
      "28709/28709 [==============================] - 48s 2ms/step - loss: 1.2666 - accuracy: 0.5062 - val_loss: 1.2953 - val_accuracy: 0.5113\n",
      "Epoch 10/10\n",
      "28709/28709 [==============================] - 48s 2ms/step - loss: 1.2227 - accuracy: 0.5243 - val_loss: 1.2598 - val_accuracy: 0.5177\n",
      "Saved model to disk done\n",
      "Evaluating the model on test data ...\n",
      "3589/3589 [==============================] - 2s 447us/step\n",
      "test loss, test acc: [1.274877560142024, 0.5020897388458252]\n",
      "      0     1     2     3     4     5     6\n",
      "0  0.41  0.10  0.24  0.10  0.09  0.03  0.02\n",
      "1   NaN   NaN   NaN   NaN   NaN   NaN   NaN\n",
      "2  0.13  0.01  0.32  0.05  0.08  0.37  0.04\n",
      "3  0.04  0.00  0.04  0.79  0.03  0.04  0.06\n",
      "4  0.19  0.02  0.19  0.09  0.30  0.03  0.18\n",
      "5  0.01  0.00  0.17  0.03  0.01  0.77  0.01\n",
      "6  0.11  0.01  0.10  0.05  0.15  0.07  0.51\n"
     ]
    },
    {
     "name": "stderr",
     "output_type": "stream",
     "text": [
      "C:\\Users\\jeang\\anaconda3\\envs\\rl_env\\lib\\site-packages\\ipykernel_launcher.py:7: RuntimeWarning: invalid value encountered in true_divide\n",
      "  import sys\n"
     ]
    },
    {
     "data": {
      "image/png": "[encoded data removed]",
      "text/plain": [
       "<Figure size 432x288 with 1 Axes>"
      ]
     },
     "metadata": {
      "needs_background": "light"
     },
     "output_type": "display_data"
    }
   ],
   "source": [
    "h9, r9 = fit_test_save_hist(model, bs=128, ep=10, fnm='fer29.json', fnw='fer29.h5')"
   ]
  },
  {
   "cell_type": "code",
   "execution_count": 32,
   "metadata": {},
   "outputs": [
    {
     "name": "stdout",
     "output_type": "stream",
     "text": [
      "Model: \"sequential_8\"\n",
      "_________________________________________________________________\n",
      "Layer (type)                 Output Shape              Param #   \n",
      "=================================================================\n",
      "conv2d_36 (Conv2D)           (None, 48, 48, 16)        160       \n",
      "_________________________________________________________________\n",
      "max_pooling2d_32 (MaxPooling (None, 24, 24, 16)        0         \n",
      "_________________________________________________________________\n",
      "conv2d_37 (Conv2D)           (None, 24, 24, 32)        4640      \n",
      "_________________________________________________________________\n",
      "batch_normalization_29 (Batc (None, 24, 24, 32)        128       \n",
      "_________________________________________________________________\n",
      "max_pooling2d_33 (MaxPooling (None, 12, 12, 32)        0         \n",
      "_________________________________________________________________\n",
      "conv2d_38 (Conv2D)           (None, 12, 12, 64)        18496     \n",
      "_________________________________________________________________\n",
      "batch_normalization_30 (Batc (None, 12, 12, 64)        256       \n",
      "_________________________________________________________________\n",
      "max_pooling2d_34 (MaxPooling (None, 6, 6, 64)          0         \n",
      "_________________________________________________________________\n",
      "dropout_35 (Dropout)         (None, 6, 6, 64)          0         \n",
      "_________________________________________________________________\n",
      "conv2d_39 (Conv2D)           (None, 6, 6, 128)         73856     \n",
      "_________________________________________________________________\n",
      "batch_normalization_31 (Batc (None, 6, 6, 128)         512       \n",
      "_________________________________________________________________\n",
      "max_pooling2d_35 (MaxPooling (None, 3, 3, 128)         0         \n",
      "_________________________________________________________________\n",
      "conv2d_40 (Conv2D)           (None, 3, 3, 256)         295168    \n",
      "_________________________________________________________________\n",
      "batch_normalization_32 (Batc (None, 3, 3, 256)         1024      \n",
      "_________________________________________________________________\n",
      "flatten_8 (Flatten)          (None, 2304)              0         \n",
      "_________________________________________________________________\n",
      "dense_15 (Dense)             (None, 32)                73760     \n",
      "_________________________________________________________________\n",
      "dropout_36 (Dropout)         (None, 32)                0         \n",
      "_________________________________________________________________\n",
      "dense_16 (Dense)             (None, 7)                 231       \n",
      "=================================================================\n",
      "Total params: 468,231\n",
      "Trainable params: 467,271\n",
      "Non-trainable params: 960\n",
      "_________________________________________________________________\n"
     ]
    }
   ],
   "source": [
    "model = get_model_v30(num_filtre=(16, 32, 64, 128, 256), p_size=(2,2,2,2,0), dropout=(0.0, 0.0, 0.25, 0.0, 0.0))\n",
    "model.summary()"
   ]
  },
  {
   "cell_type": "code",
   "execution_count": 33,
   "metadata": {},
   "outputs": [
    {
     "name": "stdout",
     "output_type": "stream",
     "text": [
      "Fitting the model with new train set and new validation set ...\n",
      "Train on 28709 samples, validate on 3589 samples\n",
      "Epoch 1/10\n",
      "28709/28709 [==============================] - 47s 2ms/step - loss: 1.6953 - accuracy: 0.3161 - val_loss: 2.2266 - val_accuracy: 0.1379\n",
      "Epoch 2/10\n",
      "28709/28709 [==============================] - 46s 2ms/step - loss: 1.4513 - accuracy: 0.4361 - val_loss: 1.5981 - val_accuracy: 0.3817\n",
      "Epoch 3/10\n",
      "28709/28709 [==============================] - 47s 2ms/step - loss: 1.3279 - accuracy: 0.4793 - val_loss: 1.3881 - val_accuracy: 0.4670\n",
      "Epoch 4/10\n",
      "28709/28709 [==============================] - 48s 2ms/step - loss: 1.2438 - accuracy: 0.5173 - val_loss: 1.3183 - val_accuracy: 0.4893\n",
      "Epoch 5/10\n",
      "28709/28709 [==============================] - 46s 2ms/step - loss: 1.1583 - accuracy: 0.5542 - val_loss: 1.3597 - val_accuracy: 0.4976\n",
      "Epoch 6/10\n",
      "28709/28709 [==============================] - 46s 2ms/step - loss: 1.0899 - accuracy: 0.5854 - val_loss: 1.2556 - val_accuracy: 0.5291\n",
      "Epoch 7/10\n",
      "28709/28709 [==============================] - 46s 2ms/step - loss: 1.0151 - accuracy: 0.6188 - val_loss: 1.2628 - val_accuracy: 0.5241\n",
      "Epoch 8/10\n",
      "28709/28709 [==============================] - 45s 2ms/step - loss: 0.9457 - accuracy: 0.6441 - val_loss: 1.2219 - val_accuracy: 0.5587\n",
      "Epoch 9/10\n",
      "28709/28709 [==============================] - 45s 2ms/step - loss: 0.8742 - accuracy: 0.6717 - val_loss: 1.2431 - val_accuracy: 0.5676\n",
      "Epoch 10/10\n",
      "28709/28709 [==============================] - 47s 2ms/step - loss: 0.8040 - accuracy: 0.7026 - val_loss: 1.2847 - val_accuracy: 0.5528\n",
      "Saved model to disk done\n",
      "Evaluating the model on test data ...\n",
      "3589/3589 [==============================] - 2s 423us/step\n",
      "test loss, test acc: [1.2325715433425244, 0.568682074546814]\n",
      "      0     1     2     3     4     5     6\n",
      "0  0.51  0.03  0.14  0.06  0.13  0.03  0.10\n",
      "1  0.10  0.48  0.17  0.04  0.15  0.02  0.04\n",
      "2  0.12  0.01  0.47  0.06  0.17  0.10  0.08\n",
      "3  0.05  0.00  0.06  0.71  0.06  0.04  0.07\n",
      "4  0.15  0.01  0.19  0.05  0.44  0.02  0.14\n",
      "5  0.03  0.01  0.15  0.03  0.03  0.72  0.03\n",
      "6  0.11  0.01  0.10  0.07  0.16  0.06  0.49\n"
     ]
    },
    {
     "data": {
      "image/png": "[encoded data removed]",
      "text/plain": [
       "<Figure size 432x288 with 1 Axes>"
      ]
     },
     "metadata": {
      "needs_background": "light"
     },
     "output_type": "display_data"
    }
   ],
   "source": [
    "h1, r1 = fit_test_save_hist(model, bs=128, ep=10, fnm='fer31.json', fnw='fer31.h5')"
   ]
  },
  {
   "cell_type": "code",
   "execution_count": 34,
   "metadata": {},
   "outputs": [
    {
     "name": "stdout",
     "output_type": "stream",
     "text": [
      "Model: \"sequential_9\"\n",
      "_________________________________________________________________\n",
      "Layer (type)                 Output Shape              Param #   \n",
      "=================================================================\n",
      "conv2d_41 (Conv2D)           (None, 48, 48, 16)        160       \n",
      "_________________________________________________________________\n",
      "max_pooling2d_36 (MaxPooling (None, 24, 24, 16)        0         \n",
      "_________________________________________________________________\n",
      "conv2d_42 (Conv2D)           (None, 24, 24, 32)        4640      \n",
      "_________________________________________________________________\n",
      "batch_normalization_33 (Batc (None, 24, 24, 32)        128       \n",
      "_________________________________________________________________\n",
      "max_pooling2d_37 (MaxPooling (None, 12, 12, 32)        0         \n",
      "_________________________________________________________________\n",
      "conv2d_43 (Conv2D)           (None, 12, 12, 64)        18496     \n",
      "_________________________________________________________________\n",
      "batch_normalization_34 (Batc (None, 12, 12, 64)        256       \n",
      "_________________________________________________________________\n",
      "max_pooling2d_38 (MaxPooling (None, 6, 6, 64)          0         \n",
      "_________________________________________________________________\n",
      "dropout_37 (Dropout)         (None, 6, 6, 64)          0         \n",
      "_________________________________________________________________\n",
      "conv2d_44 (Conv2D)           (None, 6, 6, 128)         73856     \n",
      "_________________________________________________________________\n",
      "batch_normalization_35 (Batc (None, 6, 6, 128)         512       \n",
      "_________________________________________________________________\n",
      "max_pooling2d_39 (MaxPooling (None, 3, 3, 128)         0         \n",
      "_________________________________________________________________\n",
      "conv2d_45 (Conv2D)           (None, 3, 3, 256)         295168    \n",
      "_________________________________________________________________\n",
      "batch_normalization_36 (Batc (None, 3, 3, 256)         1024      \n",
      "_________________________________________________________________\n",
      "flatten_9 (Flatten)          (None, 2304)              0         \n",
      "_________________________________________________________________\n",
      "dense_17 (Dense)             (None, 32)                73760     \n",
      "_________________________________________________________________\n",
      "dropout_38 (Dropout)         (None, 32)                0         \n",
      "_________________________________________________________________\n",
      "dense_18 (Dense)             (None, 7)                 231       \n",
      "=================================================================\n",
      "Total params: 468,231\n",
      "Trainable params: 467,271\n",
      "Non-trainable params: 960\n",
      "_________________________________________________________________\n"
     ]
    }
   ],
   "source": [
    "model = get_model_v30(num_filtre=(16, 32, 64, 128, 256), p_size=(2,2,2,2,0), dropout=(0.0, 0.0, 0.5, 0.0, 0.0))\n",
    "model.summary()"
   ]
  },
  {
   "cell_type": "code",
   "execution_count": 35,
   "metadata": {},
   "outputs": [
    {
     "name": "stdout",
     "output_type": "stream",
     "text": [
      "Fitting the model with new train set and new validation set ...\n",
      "Train on 28709 samples, validate on 3589 samples\n",
      "Epoch 1/10\n",
      "28709/28709 [==============================] - 47s 2ms/step - loss: 1.7203 - accuracy: 0.3149 - val_loss: 7.6928 - val_accuracy: 0.0156\n",
      "Epoch 2/10\n",
      "28709/28709 [==============================] - 47s 2ms/step - loss: 1.5158 - accuracy: 0.4057 - val_loss: 2.5887 - val_accuracy: 0.2522\n",
      "Epoch 3/10\n",
      "28709/28709 [==============================] - 47s 2ms/step - loss: 1.4078 - accuracy: 0.4506 - val_loss: 1.4639 - val_accuracy: 0.4316\n",
      "Epoch 4/10\n",
      "28709/28709 [==============================] - 45s 2ms/step - loss: 1.3376 - accuracy: 0.4776 - val_loss: 1.4415 - val_accuracy: 0.4344\n",
      "Epoch 5/10\n",
      "28709/28709 [==============================] - 45s 2ms/step - loss: 1.2815 - accuracy: 0.5010 - val_loss: 1.3975 - val_accuracy: 0.4731\n",
      "Epoch 6/10\n",
      "28709/28709 [==============================] - 45s 2ms/step - loss: 1.2388 - accuracy: 0.5217 - val_loss: 1.2988 - val_accuracy: 0.5001\n",
      "Epoch 7/10\n",
      "28709/28709 [==============================] - 45s 2ms/step - loss: 1.1879 - accuracy: 0.5432 - val_loss: 1.2966 - val_accuracy: 0.5174\n",
      "Epoch 8/10\n",
      "28709/28709 [==============================] - 45s 2ms/step - loss: 1.1523 - accuracy: 0.5587 - val_loss: 1.2477 - val_accuracy: 0.5361\n",
      "Epoch 9/10\n",
      "28709/28709 [==============================] - 46s 2ms/step - loss: 1.1090 - accuracy: 0.5758 - val_loss: 1.2437 - val_accuracy: 0.5347\n",
      "Epoch 10/10\n",
      "28709/28709 [==============================] - 46s 2ms/step - loss: 1.0714 - accuracy: 0.5940 - val_loss: 1.3046 - val_accuracy: 0.5208\n",
      "Saved model to disk done\n",
      "Evaluating the model on test data ...\n",
      "3589/3589 [==============================] - 2s 462us/step\n",
      "test loss, test acc: [1.2938572465626101, 0.5084981918334961]\n",
      "      0     1     2     3     4     5     6\n",
      "0  0.50  0.07  0.12  0.03  0.16  0.02  0.10\n",
      "1  0.20  0.60  0.00  0.00  0.20  0.00  0.00\n",
      "2  0.18  0.02  0.36  0.06  0.19  0.07  0.12\n",
      "3  0.07  0.01  0.07  0.59  0.10  0.03  0.13\n",
      "4  0.13  0.01  0.18  0.08  0.39  0.01  0.19\n",
      "5  0.07  0.00  0.19  0.06  0.06  0.55  0.07\n",
      "6  0.13  0.01  0.11  0.04  0.19  0.01  0.52\n"
     ]
    },
    {
     "data": {
      "image/png": "[encoded data removed]",
      "text/plain": [
       "<Figure size 432x288 with 1 Axes>"
      ]
     },
     "metadata": {
      "needs_background": "light"
     },
     "output_type": "display_data"
    }
   ],
   "source": [
    "h2, r2 = fit_test_save_hist(model, bs=128, ep=10, fnm='fer32.json', fnw='fer32.h5')"
   ]
  },
  {
   "cell_type": "code",
   "execution_count": 36,
   "metadata": {},
   "outputs": [
    {
     "name": "stdout",
     "output_type": "stream",
     "text": [
      "Fitting the model with new train set and new validation set ...\n",
      "Train on 28709 samples, validate on 3589 samples\n",
      "Epoch 1/10\n",
      "28709/28709 [==============================] - 44s 2ms/step - loss: 1.0076 - accuracy: 0.6178 - val_loss: 1.1890 - val_accuracy: 0.5587\n",
      "Epoch 2/10\n",
      "28709/28709 [==============================] - 44s 2ms/step - loss: 0.9668 - accuracy: 0.6367 - val_loss: 1.2926 - val_accuracy: 0.5461\n",
      "Epoch 3/10\n",
      "28709/28709 [==============================] - 45s 2ms/step - loss: 0.9336 - accuracy: 0.6462 - val_loss: 1.2534 - val_accuracy: 0.5795\n",
      "Epoch 4/10\n",
      "28709/28709 [==============================] - 44s 2ms/step - loss: 0.9073 - accuracy: 0.6583 - val_loss: 1.3264 - val_accuracy: 0.5667\n",
      "Epoch 5/10\n",
      "28709/28709 [==============================] - 44s 2ms/step - loss: 0.8603 - accuracy: 0.6777 - val_loss: 1.2388 - val_accuracy: 0.5782\n",
      "Epoch 6/10\n",
      "28709/28709 [==============================] - 44s 2ms/step - loss: 0.8321 - accuracy: 0.6875 - val_loss: 1.5474 - val_accuracy: 0.5366\n",
      "Epoch 7/10\n",
      "28709/28709 [==============================] - 44s 2ms/step - loss: 0.8053 - accuracy: 0.7008 - val_loss: 1.5205 - val_accuracy: 0.5603\n",
      "Epoch 8/10\n",
      "28709/28709 [==============================] - 44s 2ms/step - loss: 0.7760 - accuracy: 0.7122 - val_loss: 1.3868 - val_accuracy: 0.5876\n",
      "Epoch 9/10\n",
      "28709/28709 [==============================] - 44s 2ms/step - loss: 0.7385 - accuracy: 0.7248 - val_loss: 1.4693 - val_accuracy: 0.5639\n",
      "Epoch 10/10\n",
      "28709/28709 [==============================] - 44s 2ms/step - loss: 0.7176 - accuracy: 0.7374 - val_loss: 1.4492 - val_accuracy: 0.5676\n",
      "Saved model to disk done\n",
      "Evaluating the model on test data ...\n",
      "3589/3589 [==============================] - 2s 432us/step\n",
      "test loss, test acc: [1.38804870191209, 0.5895792841911316]\n",
      "      0     1     2     3     4     5     6\n",
      "0  0.50  0.02  0.12  0.06  0.14  0.04  0.11\n",
      "1  0.20  0.36  0.14  0.07  0.09  0.02  0.11\n",
      "2  0.12  0.00  0.48  0.05  0.14  0.15  0.06\n",
      "3  0.04  0.00  0.03  0.79  0.05  0.02  0.07\n",
      "4  0.13  0.01  0.17  0.08  0.42  0.02  0.18\n",
      "5  0.03  0.01  0.13  0.07  0.02  0.74  0.02\n",
      "6  0.07  0.00  0.09  0.05  0.15  0.04  0.59\n"
     ]
    },
    {
     "data": {
      "image/png": "[encoded data removed]",
      "text/plain": [
       "<Figure size 432x288 with 1 Axes>"
      ]
     },
     "metadata": {
      "needs_background": "light"
     },
     "output_type": "display_data"
    }
   ],
   "source": [
    "h3, r3 = fit_test_save_hist(model, bs=192, ep=10, fnm='fer33.json', fnw='fer33.h5')"
   ]
  },
  {
   "cell_type": "code",
   "execution_count": 37,
   "metadata": {},
   "outputs": [
    {
     "name": "stdout",
     "output_type": "stream",
     "text": [
      "Model: \"sequential_10\"\n",
      "_________________________________________________________________\n",
      "Layer (type)                 Output Shape              Param #   \n",
      "=================================================================\n",
      "conv2d_46 (Conv2D)           (None, 48, 48, 16)        160       \n",
      "_________________________________________________________________\n",
      "max_pooling2d_40 (MaxPooling (None, 24, 24, 16)        0         \n",
      "_________________________________________________________________\n",
      "conv2d_47 (Conv2D)           (None, 24, 24, 32)        4640      \n",
      "_________________________________________________________________\n",
      "batch_normalization_37 (Batc (None, 24, 24, 32)        128       \n",
      "_________________________________________________________________\n",
      "max_pooling2d_41 (MaxPooling (None, 12, 12, 32)        0         \n",
      "_________________________________________________________________\n",
      "conv2d_48 (Conv2D)           (None, 12, 12, 64)        18496     \n",
      "_________________________________________________________________\n",
      "batch_normalization_38 (Batc (None, 12, 12, 64)        256       \n",
      "_________________________________________________________________\n",
      "max_pooling2d_42 (MaxPooling (None, 6, 6, 64)          0         \n",
      "_________________________________________________________________\n",
      "dropout_39 (Dropout)         (None, 6, 6, 64)          0         \n",
      "_________________________________________________________________\n",
      "conv2d_49 (Conv2D)           (None, 6, 6, 128)         73856     \n",
      "_________________________________________________________________\n",
      "batch_normalization_39 (Batc (None, 6, 6, 128)         512       \n",
      "_________________________________________________________________\n",
      "max_pooling2d_43 (MaxPooling (None, 3, 3, 128)         0         \n",
      "_________________________________________________________________\n",
      "conv2d_50 (Conv2D)           (None, 3, 3, 256)         295168    \n",
      "_________________________________________________________________\n",
      "batch_normalization_40 (Batc (None, 3, 3, 256)         1024      \n",
      "_________________________________________________________________\n",
      "dropout_40 (Dropout)         (None, 3, 3, 256)         0         \n",
      "_________________________________________________________________\n",
      "flatten_10 (Flatten)         (None, 2304)              0         \n",
      "_________________________________________________________________\n",
      "dense_19 (Dense)             (None, 32)                73760     \n",
      "_________________________________________________________________\n",
      "dropout_41 (Dropout)         (None, 32)                0         \n",
      "_________________________________________________________________\n",
      "dense_20 (Dense)             (None, 7)                 231       \n",
      "=================================================================\n",
      "Total params: 468,231\n",
      "Trainable params: 467,271\n",
      "Non-trainable params: 960\n",
      "_________________________________________________________________\n"
     ]
    }
   ],
   "source": [
    "model = get_model_v30(num_filtre=(16, 32, 64, 128, 256), p_size=(2,2,2,2,0), dropout=(0.0, 0.0, 0.5, 0.0, 0.5))\n",
    "model.summary()"
   ]
  },
  {
   "cell_type": "code",
   "execution_count": 38,
   "metadata": {},
   "outputs": [
    {
     "name": "stdout",
     "output_type": "stream",
     "text": [
      "Fitting the model with new train set and new validation set ...\n",
      "Train on 28709 samples, validate on 3589 samples\n",
      "Epoch 1/10\n",
      "28709/28709 [==============================] - 49s 2ms/step - loss: 1.9565 - accuracy: 0.2440 - val_loss: 2.0108 - val_accuracy: 0.2494\n",
      "Epoch 2/10\n",
      "28709/28709 [==============================] - 47s 2ms/step - loss: 1.8755 - accuracy: 0.2555 - val_loss: 2.1126 - val_accuracy: 0.2466\n",
      "Epoch 3/10\n",
      "28709/28709 [==============================] - 46s 2ms/step - loss: 1.8254 - accuracy: 0.2599 - val_loss: 1.8877 - val_accuracy: 0.2315\n",
      "Epoch 4/10\n",
      "28709/28709 [==============================] - 47s 2ms/step - loss: 1.7950 - accuracy: 0.2587 - val_loss: 1.7591 - val_accuracy: 0.2510\n",
      "Epoch 5/10\n",
      "28709/28709 [==============================] - 48s 2ms/step - loss: 1.7409 - accuracy: 0.2830 - val_loss: 1.6781 - val_accuracy: 0.3221\n",
      "Epoch 6/10\n",
      "28709/28709 [==============================] - 46s 2ms/step - loss: 1.7078 - accuracy: 0.3051 - val_loss: 1.6702 - val_accuracy: 0.3580\n",
      "Epoch 7/10\n",
      "28709/28709 [==============================] - 50s 2ms/step - loss: 1.6715 - accuracy: 0.3198 - val_loss: 1.5474 - val_accuracy: 0.4085\n",
      "Epoch 8/10\n",
      "28709/28709 [==============================] - 49s 2ms/step - loss: 1.6499 - accuracy: 0.3314 - val_loss: 1.5544 - val_accuracy: 0.3787\n",
      "Epoch 9/10\n",
      "28709/28709 [==============================] - 47s 2ms/step - loss: 1.6184 - accuracy: 0.3392 - val_loss: 1.5948 - val_accuracy: 0.3728\n",
      "Epoch 10/10\n",
      "28709/28709 [==============================] - 48s 2ms/step - loss: 1.5901 - accuracy: 0.3511 - val_loss: 1.4685 - val_accuracy: 0.4202\n",
      "Saved model to disk done\n",
      "Evaluating the model on test data ...\n",
      "3589/3589 [==============================] - 2s 497us/step\n",
      "test loss, test acc: [1.4830756544834327, 0.42407354712486267]\n",
      "      0     1     2     3     4     5     6\n",
      "0  0.00  0.00  1.00  0.00  0.00  0.00  0.00\n",
      "1   NaN   NaN   NaN   NaN   NaN   NaN   NaN\n",
      "2  0.17  0.01  0.27  0.06  0.12  0.33  0.05\n",
      "3  0.08  0.01  0.07  0.61  0.10  0.03  0.10\n",
      "4  0.21  0.02  0.17  0.11  0.24  0.06  0.18\n",
      "5  0.02  0.00  0.19  0.02  0.01  0.74  0.02\n",
      "6  0.18  0.02  0.17  0.05  0.24  0.05  0.30\n"
     ]
    },
    {
     "name": "stderr",
     "output_type": "stream",
     "text": [
      "C:\\Users\\jeang\\anaconda3\\envs\\rl_env\\lib\\site-packages\\ipykernel_launcher.py:7: RuntimeWarning: invalid value encountered in true_divide\n",
      "  import sys\n"
     ]
    },
    {
     "data": {
      "image/png": "[encoded data removed]",
      "text/plain": [
       "<Figure size 432x288 with 1 Axes>"
      ]
     },
     "metadata": {
      "needs_background": "light"
     },
     "output_type": "display_data"
    }
   ],
   "source": [
    "h1, r1 = fit_test_save_hist(model, bs=256, ep=10, fnm='fer34.json', fnw='fer34.h5')"
   ]
  },
  {
   "cell_type": "code",
   "execution_count": 41,
   "metadata": {},
   "outputs": [
    {
     "name": "stdout",
     "output_type": "stream",
     "text": [
      "Model: \"sequential_12\"\n",
      "_________________________________________________________________\n",
      "Layer (type)                 Output Shape              Param #   \n",
      "=================================================================\n",
      "conv2d_56 (Conv2D)           (None, 48, 48, 16)        160       \n",
      "_________________________________________________________________\n",
      "max_pooling2d_48 (MaxPooling (None, 24, 24, 16)        0         \n",
      "_________________________________________________________________\n",
      "conv2d_57 (Conv2D)           (None, 24, 24, 32)        4640      \n",
      "_________________________________________________________________\n",
      "batch_normalization_45 (Batc (None, 24, 24, 32)        128       \n",
      "_________________________________________________________________\n",
      "max_pooling2d_49 (MaxPooling (None, 12, 12, 32)        0         \n",
      "_________________________________________________________________\n",
      "conv2d_58 (Conv2D)           (None, 12, 12, 64)        18496     \n",
      "_________________________________________________________________\n",
      "batch_normalization_46 (Batc (None, 12, 12, 64)        256       \n",
      "_________________________________________________________________\n",
      "max_pooling2d_50 (MaxPooling (None, 6, 6, 64)          0         \n",
      "_________________________________________________________________\n",
      "dropout_44 (Dropout)         (None, 6, 6, 64)          0         \n",
      "_________________________________________________________________\n",
      "conv2d_59 (Conv2D)           (None, 6, 6, 128)         73856     \n",
      "_________________________________________________________________\n",
      "batch_normalization_47 (Batc (None, 6, 6, 128)         512       \n",
      "_________________________________________________________________\n",
      "max_pooling2d_51 (MaxPooling (None, 3, 3, 128)         0         \n",
      "_________________________________________________________________\n",
      "conv2d_60 (Conv2D)           (None, 3, 3, 256)         295168    \n",
      "_________________________________________________________________\n",
      "batch_normalization_48 (Batc (None, 3, 3, 256)         1024      \n",
      "_________________________________________________________________\n",
      "max_pooling2d_52 (MaxPooling (None, 1, 1, 256)         0         \n",
      "_________________________________________________________________\n",
      "flatten_12 (Flatten)         (None, 256)               0         \n",
      "_________________________________________________________________\n",
      "dense_23 (Dense)             (None, 128)               32896     \n",
      "_________________________________________________________________\n",
      "dropout_45 (Dropout)         (None, 128)               0         \n",
      "_________________________________________________________________\n",
      "dense_24 (Dense)             (None, 7)                 903       \n",
      "=================================================================\n",
      "Total params: 428,039\n",
      "Trainable params: 427,079\n",
      "Non-trainable params: 960\n",
      "_________________________________________________________________\n"
     ]
    }
   ],
   "source": [
    "model = get_model_v40(p_size=(2,2,2,2,2))\n",
    "model.summary()"
   ]
  },
  {
   "cell_type": "code",
   "execution_count": 42,
   "metadata": {},
   "outputs": [
    {
     "name": "stdout",
     "output_type": "stream",
     "text": [
      "Fitting the model with new train set and new validation set ...\n",
      "Train on 28709 samples, validate on 3589 samples\n",
      "Epoch 1/10\n",
      "28709/28709 [==============================] - 48s 2ms/step - loss: 1.7667 - accuracy: 0.2923 - val_loss: 2.1436 - val_accuracy: 0.1691\n",
      "Epoch 2/10\n",
      "28709/28709 [==============================] - 47s 2ms/step - loss: 1.5366 - accuracy: 0.4035 - val_loss: 2.7577 - val_accuracy: 0.1775\n",
      "Epoch 3/10\n",
      "28709/28709 [==============================] - 48s 2ms/step - loss: 1.4034 - accuracy: 0.4577 - val_loss: 2.6195 - val_accuracy: 0.1775\n",
      "Epoch 4/10\n",
      "28709/28709 [==============================] - 47s 2ms/step - loss: 1.3211 - accuracy: 0.4924 - val_loss: 1.9484 - val_accuracy: 0.2547\n",
      "Epoch 5/10\n",
      "28709/28709 [==============================] - 46s 2ms/step - loss: 1.2610 - accuracy: 0.5159 - val_loss: 1.9868 - val_accuracy: 0.2758\n",
      "Epoch 6/10\n",
      "28709/28709 [==============================] - 46s 2ms/step - loss: 1.2059 - accuracy: 0.5420 - val_loss: 1.4161 - val_accuracy: 0.4692\n",
      "Epoch 7/10\n",
      "28709/28709 [==============================] - 46s 2ms/step - loss: 1.1636 - accuracy: 0.5610 - val_loss: 1.3789 - val_accuracy: 0.4795\n",
      "Epoch 8/10\n",
      "28709/28709 [==============================] - 46s 2ms/step - loss: 1.1238 - accuracy: 0.5733 - val_loss: 1.2137 - val_accuracy: 0.5467\n",
      "Epoch 9/10\n",
      "28709/28709 [==============================] - 47s 2ms/step - loss: 1.0864 - accuracy: 0.5892 - val_loss: 1.2120 - val_accuracy: 0.5553\n",
      "Epoch 10/10\n",
      "28709/28709 [==============================] - 46s 2ms/step - loss: 1.0453 - accuracy: 0.6080 - val_loss: 1.3173 - val_accuracy: 0.5202\n",
      "Saved model to disk done\n",
      "Evaluating the model on test data ...\n",
      "3589/3589 [==============================] - 1s 412us/step\n",
      "test loss, test acc: [1.282516149200414, 0.5321816802024841]\n",
      "      0     1     2     3     4     5     6\n",
      "0  0.47  0.02  0.15  0.06  0.13  0.05  0.11\n",
      "1  0.15  0.40  0.18  0.02  0.02  0.15  0.08\n",
      "2  0.06  0.00  0.57  0.05  0.10  0.21  0.01\n",
      "3  0.07  0.01  0.06  0.65  0.07  0.05  0.09\n",
      "4  0.14  0.02  0.21  0.06  0.36  0.03  0.18\n",
      "5  0.01  0.00  0.16  0.03  0.02  0.77  0.01\n",
      "6  0.11  0.00  0.11  0.05  0.13  0.08  0.52\n"
     ]
    },
    {
     "data": {
      "image/png": "[encoded data removed]",
      "text/plain": [
       "<Figure size 432x288 with 1 Axes>"
      ]
     },
     "metadata": {
      "needs_background": "light"
     },
     "output_type": "display_data"
    }
   ],
   "source": [
    "h1, r1 = fit_test_save_hist(model, bs=256, ep=10, fnm='fer40.json', fnw='fer40.h5')"
   ]
  },
  {
   "cell_type": "code",
   "execution_count": 43,
   "metadata": {},
   "outputs": [
    {
     "name": "stdout",
     "output_type": "stream",
     "text": [
      "Fitting the model with new train set and new validation set ...\n",
      "Train on 28709 samples, validate on 3589 samples\n",
      "Epoch 1/10\n",
      "28709/28709 [==============================] - 47s 2ms/step - loss: 1.0114 - accuracy: 0.6167 - val_loss: 1.2384 - val_accuracy: 0.5511\n",
      "Epoch 2/10\n",
      "28709/28709 [==============================] - 48s 2ms/step - loss: 0.9795 - accuracy: 0.6318 - val_loss: 1.2179 - val_accuracy: 0.5500\n",
      "Epoch 3/10\n",
      "28709/28709 [==============================] - 48s 2ms/step - loss: 0.9495 - accuracy: 0.6427 - val_loss: 1.2282 - val_accuracy: 0.5528\n",
      "Epoch 4/10\n",
      "28709/28709 [==============================] - 47s 2ms/step - loss: 0.9156 - accuracy: 0.6563 - val_loss: 1.2504 - val_accuracy: 0.5645\n",
      "Epoch 5/10\n",
      "28709/28709 [==============================] - 47s 2ms/step - loss: 0.8738 - accuracy: 0.6729 - val_loss: 1.1881 - val_accuracy: 0.5575\n",
      "Epoch 6/10\n",
      "28709/28709 [==============================] - 46s 2ms/step - loss: 0.8476 - accuracy: 0.6834 - val_loss: 1.3961 - val_accuracy: 0.5352\n",
      "Epoch 7/10\n",
      "28709/28709 [==============================] - 47s 2ms/step - loss: 0.8214 - accuracy: 0.6922 - val_loss: 1.1913 - val_accuracy: 0.5818\n",
      "Epoch 8/10\n",
      "28709/28709 [==============================] - 47s 2ms/step - loss: 0.7871 - accuracy: 0.7067 - val_loss: 1.2775 - val_accuracy: 0.5612\n",
      "Epoch 9/10\n",
      "28709/28709 [==============================] - 46s 2ms/step - loss: 0.7570 - accuracy: 0.7201 - val_loss: 1.2638 - val_accuracy: 0.5860\n",
      "Epoch 10/10\n",
      "28709/28709 [==============================] - 48s 2ms/step - loss: 0.7229 - accuracy: 0.7329 - val_loss: 1.3775 - val_accuracy: 0.5612\n",
      "Saved model to disk done\n",
      "Evaluating the model on test data ...\n",
      "3589/3589 [==============================] - 1s 415us/step\n",
      "test loss, test acc: [1.3017408239638848, 0.5703538656234741]\n",
      "      0     1     2     3     4     5     6\n",
      "0  0.62  0.00  0.14  0.07  0.06  0.04  0.06\n",
      "1  0.19  0.48  0.11  0.04  0.05  0.05  0.09\n",
      "2  0.10  0.00  0.55  0.03  0.16  0.09  0.06\n",
      "3  0.06  0.00  0.06  0.68  0.09  0.03  0.08\n",
      "4  0.18  0.01  0.19  0.04  0.42  0.02  0.14\n",
      "5  0.04  0.00  0.17  0.06  0.03  0.65  0.04\n",
      "6  0.12  0.01  0.10  0.07  0.21  0.03  0.48\n"
     ]
    },
    {
     "data": {
      "image/png": "[encoded data removed]",
      "text/plain": [
       "<Figure size 432x288 with 1 Axes>"
      ]
     },
     "metadata": {
      "needs_background": "light"
     },
     "output_type": "display_data"
    }
   ],
   "source": [
    "h2, r2 = fit_test_save_hist(model, bs=256, ep=10, fnm='fer41.json', fnw='fer41.h5')"
   ]
  },
  {
   "cell_type": "code",
   "execution_count": 44,
   "metadata": {},
   "outputs": [
    {
     "name": "stdout",
     "output_type": "stream",
     "text": [
      "WARNING:tensorflow:Large dropout rate: 0.6 (>0.5). In TensorFlow 2.x, dropout() uses dropout rate instead of keep_prob. Please ensure that this is intended.\n",
      "WARNING:tensorflow:Large dropout rate: 0.6 (>0.5). In TensorFlow 2.x, dropout() uses dropout rate instead of keep_prob. Please ensure that this is intended.\n",
      "Model: \"sequential_13\"\n",
      "_________________________________________________________________\n",
      "Layer (type)                 Output Shape              Param #   \n",
      "=================================================================\n",
      "conv2d_61 (Conv2D)           (None, 48, 48, 16)        160       \n",
      "_________________________________________________________________\n",
      "max_pooling2d_53 (MaxPooling (None, 24, 24, 16)        0         \n",
      "_________________________________________________________________\n",
      "conv2d_62 (Conv2D)           (None, 24, 24, 32)        4640      \n",
      "_________________________________________________________________\n",
      "batch_normalization_49 (Batc (None, 24, 24, 32)        128       \n",
      "_________________________________________________________________\n",
      "max_pooling2d_54 (MaxPooling (None, 12, 12, 32)        0         \n",
      "_________________________________________________________________\n",
      "conv2d_63 (Conv2D)           (None, 12, 12, 64)        18496     \n",
      "_________________________________________________________________\n",
      "batch_normalization_50 (Batc (None, 12, 12, 64)        256       \n",
      "_________________________________________________________________\n",
      "max_pooling2d_55 (MaxPooling (None, 6, 6, 64)          0         \n",
      "_________________________________________________________________\n",
      "conv2d_64 (Conv2D)           (None, 6, 6, 128)         73856     \n",
      "_________________________________________________________________\n",
      "batch_normalization_51 (Batc (None, 6, 6, 128)         512       \n",
      "_________________________________________________________________\n",
      "max_pooling2d_56 (MaxPooling (None, 3, 3, 128)         0         \n",
      "_________________________________________________________________\n",
      "conv2d_65 (Conv2D)           (None, 3, 3, 256)         295168    \n",
      "_________________________________________________________________\n",
      "batch_normalization_52 (Batc (None, 3, 3, 256)         1024      \n",
      "_________________________________________________________________\n",
      "max_pooling2d_57 (MaxPooling (None, 1, 1, 256)         0         \n",
      "_________________________________________________________________\n",
      "dropout_46 (Dropout)         (None, 1, 1, 256)         0         \n",
      "_________________________________________________________________\n",
      "flatten_13 (Flatten)         (None, 256)               0         \n",
      "_________________________________________________________________\n",
      "dense_25 (Dense)             (None, 128)               32896     \n",
      "_________________________________________________________________\n",
      "dropout_47 (Dropout)         (None, 128)               0         \n",
      "_________________________________________________________________\n",
      "dense_26 (Dense)             (None, 7)                 903       \n",
      "=================================================================\n",
      "Total params: 428,039\n",
      "Trainable params: 427,079\n",
      "Non-trainable params: 960\n",
      "_________________________________________________________________\n"
     ]
    }
   ],
   "source": [
    "model = get_model_v40(p_size=(2,2,2,2,2), dropout=(0,0,0,0,0.6))\n",
    "model.summary()"
   ]
  },
  {
   "cell_type": "code",
   "execution_count": 45,
   "metadata": {},
   "outputs": [
    {
     "name": "stdout",
     "output_type": "stream",
     "text": [
      "Fitting the model with new train set and new validation set ...\n",
      "Train on 28709 samples, validate on 3589 samples\n",
      "Epoch 1/10\n",
      "28709/28709 [==============================] - 48s 2ms/step - loss: 2.1888 - accuracy: 0.2128 - val_loss: 2.3018 - val_accuracy: 0.1797\n",
      "Epoch 2/10\n",
      "28709/28709 [==============================] - 47s 2ms/step - loss: 1.8229 - accuracy: 0.2472 - val_loss: 2.5218 - val_accuracy: 0.2497\n",
      "Epoch 3/10\n",
      "28709/28709 [==============================] - 46s 2ms/step - loss: 1.7389 - accuracy: 0.2952 - val_loss: 2.0733 - val_accuracy: 0.2705\n",
      "Epoch 4/10\n",
      "28709/28709 [==============================] - 47s 2ms/step - loss: 1.6361 - accuracy: 0.3465 - val_loss: 1.7300 - val_accuracy: 0.3043\n",
      "Epoch 5/10\n",
      "28709/28709 [==============================] - 46s 2ms/step - loss: 1.5413 - accuracy: 0.3912 - val_loss: 2.0623 - val_accuracy: 0.3728\n",
      "Epoch 6/10\n",
      "28709/28709 [==============================] - 46s 2ms/step - loss: 1.4720 - accuracy: 0.4203 - val_loss: 1.5416 - val_accuracy: 0.4244\n",
      "Epoch 7/10\n",
      "28709/28709 [==============================] - 47s 2ms/step - loss: 1.4213 - accuracy: 0.4448 - val_loss: 2.2494 - val_accuracy: 0.3385\n",
      "Epoch 8/10\n",
      "28709/28709 [==============================] - 47s 2ms/step - loss: 1.3650 - accuracy: 0.4700 - val_loss: 1.4867 - val_accuracy: 0.4341\n",
      "Epoch 9/10\n",
      "28709/28709 [==============================] - 46s 2ms/step - loss: 1.3076 - accuracy: 0.4950 - val_loss: 1.4927 - val_accuracy: 0.4402\n",
      "Epoch 10/10\n",
      "28709/28709 [==============================] - 46s 2ms/step - loss: 1.2743 - accuracy: 0.5098 - val_loss: 1.2954 - val_accuracy: 0.4965\n",
      "Saved model to disk done\n",
      "Evaluating the model on test data ...\n",
      "3589/3589 [==============================] - 1s 399us/step\n",
      "test loss, test acc: [1.2985619574278702, 0.4970743954181671]\n",
      "      0     1     2     3     4     5     6\n",
      "0  0.42  0.08  0.21  0.07  0.12  0.04  0.07\n",
      "1   NaN   NaN   NaN   NaN   NaN   NaN   NaN\n",
      "2  0.10  0.02  0.33  0.05  0.07  0.35  0.09\n",
      "3  0.07  0.00  0.06  0.67  0.07  0.04  0.09\n",
      "4  0.16  0.01  0.17  0.09  0.33  0.03  0.20\n",
      "5  0.03  0.00  0.18  0.03  0.02  0.74  0.01\n",
      "6  0.09  0.00  0.13  0.05  0.14  0.05  0.51\n"
     ]
    },
    {
     "name": "stderr",
     "output_type": "stream",
     "text": [
      "C:\\Users\\jeang\\anaconda3\\envs\\rl_env\\lib\\site-packages\\ipykernel_launcher.py:7: RuntimeWarning: invalid value encountered in true_divide\n",
      "  import sys\n"
     ]
    },
    {
     "data": {
      "image/png": "[encoded data removed]",
      "text/plain": [
       "<Figure size 432x288 with 1 Axes>"
      ]
     },
     "metadata": {
      "needs_background": "light"
     },
     "output_type": "display_data"
    }
   ],
   "source": [
    "h2, r2 = fit_test_save_hist(model, bs=256, ep=10, fnm='fer42.json', fnw='fer42.h5')"
   ]
  },
  {
   "cell_type": "code",
   "execution_count": 46,
   "metadata": {},
   "outputs": [
    {
     "name": "stdout",
     "output_type": "stream",
     "text": [
      "WARNING:tensorflow:Large dropout rate: 0.6 (>0.5). In TensorFlow 2.x, dropout() uses dropout rate instead of keep_prob. Please ensure that this is intended.\n",
      "Model: \"sequential_14\"\n",
      "_________________________________________________________________\n",
      "Layer (type)                 Output Shape              Param #   \n",
      "=================================================================\n",
      "conv2d_66 (Conv2D)           (None, 48, 48, 16)        160       \n",
      "_________________________________________________________________\n",
      "max_pooling2d_58 (MaxPooling (None, 24, 24, 16)        0         \n",
      "_________________________________________________________________\n",
      "conv2d_67 (Conv2D)           (None, 24, 24, 32)        4640      \n",
      "_________________________________________________________________\n",
      "batch_normalization_53 (Batc (None, 24, 24, 32)        128       \n",
      "_________________________________________________________________\n",
      "max_pooling2d_59 (MaxPooling (None, 12, 12, 32)        0         \n",
      "_________________________________________________________________\n",
      "conv2d_68 (Conv2D)           (None, 12, 12, 64)        18496     \n",
      "_________________________________________________________________\n",
      "batch_normalization_54 (Batc (None, 12, 12, 64)        256       \n",
      "_________________________________________________________________\n",
      "max_pooling2d_60 (MaxPooling (None, 6, 6, 64)          0         \n",
      "_________________________________________________________________\n",
      "dropout_48 (Dropout)         (None, 6, 6, 64)          0         \n",
      "_________________________________________________________________\n",
      "conv2d_69 (Conv2D)           (None, 6, 6, 128)         73856     \n",
      "_________________________________________________________________\n",
      "batch_normalization_55 (Batc (None, 6, 6, 128)         512       \n",
      "_________________________________________________________________\n",
      "max_pooling2d_61 (MaxPooling (None, 3, 3, 128)         0         \n",
      "_________________________________________________________________\n",
      "conv2d_70 (Conv2D)           (None, 3, 3, 256)         295168    \n",
      "_________________________________________________________________\n",
      "batch_normalization_56 (Batc (None, 3, 3, 256)         1024      \n",
      "_________________________________________________________________\n",
      "max_pooling2d_62 (MaxPooling (None, 1, 1, 256)         0         \n",
      "_________________________________________________________________\n",
      "flatten_14 (Flatten)         (None, 256)               0         \n",
      "_________________________________________________________________\n",
      "dense_27 (Dense)             (None, 128)               32896     \n",
      "_________________________________________________________________\n",
      "dropout_49 (Dropout)         (None, 128)               0         \n",
      "_________________________________________________________________\n",
      "dense_28 (Dense)             (None, 7)                 903       \n",
      "=================================================================\n",
      "Total params: 428,039\n",
      "Trainable params: 427,079\n",
      "Non-trainable params: 960\n",
      "_________________________________________________________________\n"
     ]
    }
   ],
   "source": [
    "model = get_model_v40(p_size=(2,2,2,2,2), dropout=(0,0,0.6,0,0))\n",
    "model.summary()"
   ]
  },
  {
   "cell_type": "code",
   "execution_count": 47,
   "metadata": {},
   "outputs": [
    {
     "name": "stdout",
     "output_type": "stream",
     "text": [
      "Fitting the model with new train set and new validation set ...\n",
      "Train on 28709 samples, validate on 3589 samples\n",
      "Epoch 1/10\n",
      "28709/28709 [==============================] - 48s 2ms/step - loss: 1.8150 - accuracy: 0.2748 - val_loss: 2.2434 - val_accuracy: 0.1382\n",
      "Epoch 2/10\n",
      "28709/28709 [==============================] - 48s 2ms/step - loss: 1.6168 - accuracy: 0.3642 - val_loss: 2.4419 - val_accuracy: 0.1368\n",
      "Epoch 3/10\n",
      "28709/28709 [==============================] - 47s 2ms/step - loss: 1.4944 - accuracy: 0.4220 - val_loss: 2.6768 - val_accuracy: 0.1783\n",
      "Epoch 4/10\n",
      "28709/28709 [==============================] - 48s 2ms/step - loss: 1.4107 - accuracy: 0.4589 - val_loss: 1.8589 - val_accuracy: 0.2956\n",
      "Epoch 5/10\n",
      "28709/28709 [==============================] - 48s 2ms/step - loss: 1.3443 - accuracy: 0.4855 - val_loss: 1.5981 - val_accuracy: 0.4099\n",
      "Epoch 6/10\n",
      "28709/28709 [==============================] - 48s 2ms/step - loss: 1.2873 - accuracy: 0.5056 - val_loss: 1.5911 - val_accuracy: 0.4374\n",
      "Epoch 7/10\n",
      "28709/28709 [==============================] - 47s 2ms/step - loss: 1.2466 - accuracy: 0.5257 - val_loss: 1.3506 - val_accuracy: 0.4893\n",
      "Epoch 8/10\n",
      "28709/28709 [==============================] - 52s 2ms/step - loss: 1.2103 - accuracy: 0.5379 - val_loss: 1.2617 - val_accuracy: 0.5196\n",
      "Epoch 9/10\n",
      "28709/28709 [==============================] - 50s 2ms/step - loss: 1.1738 - accuracy: 0.5540 - val_loss: 1.3061 - val_accuracy: 0.5146\n",
      "Epoch 10/10\n",
      "28709/28709 [==============================] - 50s 2ms/step - loss: 1.1371 - accuracy: 0.5667 - val_loss: 1.3631 - val_accuracy: 0.5121\n",
      "Saved model to disk done\n",
      "Evaluating the model on test data ...\n",
      "3589/3589 [==============================] - 2s 439us/step\n",
      "test loss, test acc: [1.3204596796617696, 0.523544192314148]\n",
      "      0     1     2     3     4     5     6\n",
      "0  0.43  0.04  0.16  0.05  0.21  0.03  0.09\n",
      "1  0.18  0.45  0.18  0.03  0.06  0.03  0.06\n",
      "2  0.16  0.01  0.48  0.02  0.19  0.09  0.06\n",
      "3  0.08  0.01  0.08  0.61  0.10  0.03  0.09\n",
      "4  0.13  0.01  0.26  0.03  0.49  0.00  0.07\n",
      "5  0.05  0.00  0.18  0.05  0.06  0.62  0.04\n",
      "6  0.13  0.01  0.13  0.05  0.23  0.03  0.42\n"
     ]
    },
    {
     "data": {
      "image/png": "[encoded data removed]",
      "text/plain": [
       "<Figure size 432x288 with 1 Axes>"
      ]
     },
     "metadata": {
      "needs_background": "light"
     },
     "output_type": "display_data"
    }
   ],
   "source": [
    "h2, r2 = fit_test_save_hist(model, bs=256, ep=10, fnm='fer43.json', fnw='fer43.h5')"
   ]
  },
  {
   "cell_type": "code",
   "execution_count": 48,
   "metadata": {},
   "outputs": [
    {
     "name": "stdout",
     "output_type": "stream",
     "text": [
      "Model: \"sequential_15\"\n",
      "_________________________________________________________________\n",
      "Layer (type)                 Output Shape              Param #   \n",
      "=================================================================\n",
      "conv2d_71 (Conv2D)           (None, 48, 48, 16)        160       \n",
      "_________________________________________________________________\n",
      "max_pooling2d_63 (MaxPooling (None, 24, 24, 16)        0         \n",
      "_________________________________________________________________\n",
      "conv2d_72 (Conv2D)           (None, 24, 24, 32)        4640      \n",
      "_________________________________________________________________\n",
      "batch_normalization_57 (Batc (None, 24, 24, 32)        128       \n",
      "_________________________________________________________________\n",
      "max_pooling2d_64 (MaxPooling (None, 12, 12, 32)        0         \n",
      "_________________________________________________________________\n",
      "dropout_50 (Dropout)         (None, 12, 12, 32)        0         \n",
      "_________________________________________________________________\n",
      "conv2d_73 (Conv2D)           (None, 12, 12, 64)        18496     \n",
      "_________________________________________________________________\n",
      "batch_normalization_58 (Batc (None, 12, 12, 64)        256       \n",
      "_________________________________________________________________\n",
      "max_pooling2d_65 (MaxPooling (None, 6, 6, 64)          0         \n",
      "_________________________________________________________________\n",
      "conv2d_74 (Conv2D)           (None, 6, 6, 128)         73856     \n",
      "_________________________________________________________________\n",
      "batch_normalization_59 (Batc (None, 6, 6, 128)         512       \n",
      "_________________________________________________________________\n",
      "max_pooling2d_66 (MaxPooling (None, 3, 3, 128)         0         \n",
      "_________________________________________________________________\n",
      "dropout_51 (Dropout)         (None, 3, 3, 128)         0         \n",
      "_________________________________________________________________\n",
      "conv2d_75 (Conv2D)           (None, 3, 3, 256)         295168    \n",
      "_________________________________________________________________\n",
      "batch_normalization_60 (Batc (None, 3, 3, 256)         1024      \n",
      "_________________________________________________________________\n",
      "max_pooling2d_67 (MaxPooling (None, 1, 1, 256)         0         \n",
      "_________________________________________________________________\n",
      "flatten_15 (Flatten)         (None, 256)               0         \n",
      "_________________________________________________________________\n",
      "dense_29 (Dense)             (None, 128)               32896     \n",
      "_________________________________________________________________\n",
      "dropout_52 (Dropout)         (None, 128)               0         \n",
      "_________________________________________________________________\n",
      "dense_30 (Dense)             (None, 7)                 903       \n",
      "=================================================================\n",
      "Total params: 428,039\n",
      "Trainable params: 427,079\n",
      "Non-trainable params: 960\n",
      "_________________________________________________________________\n"
     ]
    }
   ],
   "source": [
    "model = get_model_v40(p_size=(2,2,2,2,2), dropout=(0,0.3,0.0,0.3,0))\n",
    "model.summary()"
   ]
  },
  {
   "cell_type": "code",
   "execution_count": 49,
   "metadata": {},
   "outputs": [
    {
     "name": "stdout",
     "output_type": "stream",
     "text": [
      "Fitting the model with new train set and new validation set ...\n",
      "Train on 28709 samples, validate on 3589 samples\n",
      "Epoch 1/10\n",
      "28709/28709 [==============================] - 54s 2ms/step - loss: 1.8237 - accuracy: 0.2814 - val_loss: 3.0871 - val_accuracy: 0.0156\n",
      "Epoch 2/10\n",
      "28709/28709 [==============================] - 54s 2ms/step - loss: 1.5870 - accuracy: 0.3829 - val_loss: 2.2061 - val_accuracy: 0.1691\n",
      "Epoch 3/10\n",
      "28709/28709 [==============================] - 52s 2ms/step - loss: 1.4712 - accuracy: 0.4342 - val_loss: 2.8903 - val_accuracy: 0.1691\n",
      "Epoch 4/10\n",
      "28709/28709 [==============================] - 53s 2ms/step - loss: 1.3763 - accuracy: 0.4722 - val_loss: 2.2139 - val_accuracy: 0.2115\n",
      "Epoch 5/10\n",
      "28709/28709 [==============================] - 52s 2ms/step - loss: 1.3131 - accuracy: 0.5001 - val_loss: 1.6080 - val_accuracy: 0.3806\n",
      "Epoch 6/10\n",
      "28709/28709 [==============================] - 52s 2ms/step - loss: 1.2481 - accuracy: 0.5250 - val_loss: 1.3041 - val_accuracy: 0.5060\n",
      "Epoch 7/10\n",
      "28709/28709 [==============================] - 53s 2ms/step - loss: 1.1964 - accuracy: 0.5464 - val_loss: 1.2374 - val_accuracy: 0.5336\n",
      "Epoch 8/10\n",
      "28709/28709 [==============================] - 53s 2ms/step - loss: 1.1488 - accuracy: 0.5644 - val_loss: 1.2823 - val_accuracy: 0.5071\n",
      "Epoch 9/10\n",
      "28709/28709 [==============================] - 50s 2ms/step - loss: 1.1104 - accuracy: 0.5777 - val_loss: 1.2322 - val_accuracy: 0.5489\n",
      "Epoch 10/10\n",
      "28709/28709 [==============================] - 51s 2ms/step - loss: 1.0729 - accuracy: 0.5963 - val_loss: 1.2571 - val_accuracy: 0.5378\n",
      "Saved model to disk done\n",
      "Evaluating the model on test data ...\n",
      "3589/3589 [==============================] - 2s 452us/step\n",
      "test loss, test acc: [1.2050602462139592, 0.5335748195648193]\n",
      "      0     1     2     3     4     5     6\n",
      "0  0.49  0.02  0.14  0.08  0.17  0.03  0.08\n",
      "1  0.25  0.32  0.16  0.03  0.14  0.03  0.06\n",
      "2  0.14  0.02  0.39  0.04  0.27  0.05  0.09\n",
      "3  0.04  0.01  0.05  0.72  0.07  0.04  0.06\n",
      "4  0.11  0.01  0.17  0.08  0.47  0.01  0.14\n",
      "5  0.05  0.01  0.21  0.04  0.07  0.57  0.05\n",
      "6  0.14  0.01  0.12  0.09  0.20  0.02  0.43\n"
     ]
    },
    {
     "data": {
      "image/png": "[encoded data removed]",
      "text/plain": [
       "<Figure size 432x288 with 1 Axes>"
      ]
     },
     "metadata": {
      "needs_background": "light"
     },
     "output_type": "display_data"
    }
   ],
   "source": [
    "h2, r2 = fit_test_save_hist(model, bs=256, ep=10, fnm='fer44.json', fnw='fer44.h5')"
   ]
  },
  {
   "cell_type": "code",
   "execution_count": 51,
   "metadata": {},
   "outputs": [
    {
     "name": "stdout",
     "output_type": "stream",
     "text": [
      "Fitting the model with new train set and new validation set ...\n",
      "Train on 28709 samples, validate on 3589 samples\n",
      "Epoch 1/10\n",
      "28709/28709 [==============================] - 50s 2ms/step - loss: 1.0349 - accuracy: 0.6095 - val_loss: 1.1803 - val_accuracy: 0.5723\n",
      "Epoch 2/10\n",
      "28709/28709 [==============================] - 50s 2ms/step - loss: 1.0005 - accuracy: 0.6234 - val_loss: 1.2553 - val_accuracy: 0.5350\n",
      "Epoch 3/10\n",
      "28709/28709 [==============================] - 51s 2ms/step - loss: 0.9666 - accuracy: 0.6388 - val_loss: 1.2309 - val_accuracy: 0.5581\n",
      "Epoch 4/10\n",
      "28709/28709 [==============================] - 50s 2ms/step - loss: 0.9317 - accuracy: 0.6543 - val_loss: 1.2415 - val_accuracy: 0.5483\n",
      "Epoch 5/10\n",
      "28709/28709 [==============================] - 51s 2ms/step - loss: 0.8956 - accuracy: 0.6632 - val_loss: 1.2113 - val_accuracy: 0.5709\n",
      "Epoch 6/10\n",
      "28709/28709 [==============================] - 52s 2ms/step - loss: 0.8621 - accuracy: 0.6787 - val_loss: 1.3107 - val_accuracy: 0.5425\n",
      "Epoch 7/10\n",
      "28709/28709 [==============================] - 49s 2ms/step - loss: 0.8495 - accuracy: 0.6824 - val_loss: 1.3169 - val_accuracy: 0.5458\n",
      "Epoch 8/10\n",
      "28709/28709 [==============================] - 50s 2ms/step - loss: 0.8097 - accuracy: 0.6991 - val_loss: 1.2705 - val_accuracy: 0.5659\n",
      "Epoch 9/10\n",
      "28709/28709 [==============================] - 50s 2ms/step - loss: 0.7755 - accuracy: 0.7087 - val_loss: 1.2767 - val_accuracy: 0.5631\n",
      "Epoch 10/10\n",
      "28709/28709 [==============================] - 51s 2ms/step - loss: 0.7434 - accuracy: 0.7238 - val_loss: 1.2454 - val_accuracy: 0.5793\n",
      "Saved model to disk done\n",
      "Evaluating the model on test data ...\n",
      "3589/3589 [==============================] - 2s 490us/step\n",
      "test loss, test acc: [1.2227285676893997, 0.5831707715988159]\n",
      "      0     1     2     3     4     5     6\n",
      "0  0.56  0.04  0.12  0.06  0.12  0.04  0.07\n",
      "1  0.10  0.79  0.03  0.00  0.03  0.00  0.03\n",
      "2  0.11  0.01  0.48  0.09  0.11  0.14  0.05\n",
      "3  0.04  0.00  0.02  0.81  0.05  0.02  0.06\n",
      "4  0.14  0.01  0.20  0.08  0.40  0.04  0.15\n",
      "5  0.02  0.00  0.13  0.04  0.03  0.75  0.03\n",
      "6  0.10  0.00  0.10  0.07  0.16  0.05  0.51\n"
     ]
    },
    {
     "data": {
      "image/png": "[encoded data removed]",
      "text/plain": [
       "<Figure size 432x288 with 1 Axes>"
      ]
     },
     "metadata": {
      "needs_background": "light"
     },
     "output_type": "display_data"
    }
   ],
   "source": [
    "h3, r3 = fit_test_save_hist(model, bs=256, ep=10, fnm='fer45.json', fnw='fer45.h5')"
   ]
  },
  {
   "cell_type": "code",
   "execution_count": 54,
   "metadata": {},
   "outputs": [
    {
     "name": "stdout",
     "output_type": "stream",
     "text": [
      "Model: \"sequential_17\"\n",
      "_________________________________________________________________\n",
      "Layer (type)                 Output Shape              Param #   \n",
      "=================================================================\n",
      "conv2d_81 (Conv2D)           (None, 48, 48, 16)        160       \n",
      "_________________________________________________________________\n",
      "max_pooling2d_73 (MaxPooling (None, 24, 24, 16)        0         \n",
      "_________________________________________________________________\n",
      "conv2d_82 (Conv2D)           (None, 24, 24, 32)        4640      \n",
      "_________________________________________________________________\n",
      "batch_normalization_65 (Batc (None, 24, 24, 32)        128       \n",
      "_________________________________________________________________\n",
      "max_pooling2d_74 (MaxPooling (None, 12, 12, 32)        0         \n",
      "_________________________________________________________________\n",
      "dropout_56 (Dropout)         (None, 12, 12, 32)        0         \n",
      "_________________________________________________________________\n",
      "conv2d_83 (Conv2D)           (None, 12, 12, 64)        18496     \n",
      "_________________________________________________________________\n",
      "batch_normalization_66 (Batc (None, 12, 12, 64)        256       \n",
      "_________________________________________________________________\n",
      "max_pooling2d_75 (MaxPooling (None, 6, 6, 64)          0         \n",
      "_________________________________________________________________\n",
      "conv2d_84 (Conv2D)           (None, 6, 6, 128)         73856     \n",
      "_________________________________________________________________\n",
      "batch_normalization_67 (Batc (None, 6, 6, 128)         512       \n",
      "_________________________________________________________________\n",
      "max_pooling2d_76 (MaxPooling (None, 3, 3, 128)         0         \n",
      "_________________________________________________________________\n",
      "dropout_57 (Dropout)         (None, 3, 3, 128)         0         \n",
      "_________________________________________________________________\n",
      "conv2d_85 (Conv2D)           (None, 3, 3, 256)         295168    \n",
      "_________________________________________________________________\n",
      "batch_normalization_68 (Batc (None, 3, 3, 256)         1024      \n",
      "_________________________________________________________________\n",
      "flatten_17 (Flatten)         (None, 2304)              0         \n",
      "_________________________________________________________________\n",
      "dense_33 (Dense)             (None, 128)               295040    \n",
      "_________________________________________________________________\n",
      "dropout_58 (Dropout)         (None, 128)               0         \n",
      "_________________________________________________________________\n",
      "dense_34 (Dense)             (None, 7)                 903       \n",
      "=================================================================\n",
      "Total params: 690,183\n",
      "Trainable params: 689,223\n",
      "Non-trainable params: 960\n",
      "_________________________________________________________________\n"
     ]
    }
   ],
   "source": [
    "model = get_model_v40(p_size=(2,2,2,2,0), dropout=(0,0.5,0.0,0.5,0))\n",
    "model.summary()"
   ]
  },
  {
   "cell_type": "code",
   "execution_count": 55,
   "metadata": {},
   "outputs": [
    {
     "name": "stdout",
     "output_type": "stream",
     "text": [
      "Fitting the model with new train set and new validation set ...\n",
      "Train on 28709 samples, validate on 3589 samples\n",
      "Epoch 1/10\n",
      "28709/28709 [==============================] - 52s 2ms/step - loss: 1.8540 - accuracy: 0.2522 - val_loss: 1.9681 - val_accuracy: 0.1691\n",
      "Epoch 2/10\n",
      "28709/28709 [==============================] - 51s 2ms/step - loss: 1.6948 - accuracy: 0.3271 - val_loss: 2.0636 - val_accuracy: 0.1936\n",
      "Epoch 3/10\n",
      "28709/28709 [==============================] - 50s 2ms/step - loss: 1.6109 - accuracy: 0.3717 - val_loss: 2.0258 - val_accuracy: 0.2995\n",
      "Epoch 4/10\n",
      "28709/28709 [==============================] - 51s 2ms/step - loss: 1.5352 - accuracy: 0.4033 - val_loss: 2.0684 - val_accuracy: 0.1733\n",
      "Epoch 5/10\n",
      "28709/28709 [==============================] - 51s 2ms/step - loss: 1.4796 - accuracy: 0.4252 - val_loss: 1.9119 - val_accuracy: 0.2655\n",
      "Epoch 6/10\n",
      "28709/28709 [==============================] - 50s 2ms/step - loss: 1.4365 - accuracy: 0.4444 - val_loss: 1.7680 - val_accuracy: 0.3213\n",
      "Epoch 7/10\n",
      "28709/28709 [==============================] - 54s 2ms/step - loss: 1.3900 - accuracy: 0.4640 - val_loss: 2.0915 - val_accuracy: 0.2602\n",
      "Epoch 8/10\n",
      "28709/28709 [==============================] - 52s 2ms/step - loss: 1.3488 - accuracy: 0.4800 - val_loss: 1.5753 - val_accuracy: 0.3828\n",
      "Epoch 9/10\n",
      "28709/28709 [==============================] - 54s 2ms/step - loss: 1.3154 - accuracy: 0.4925 - val_loss: 1.4730 - val_accuracy: 0.4232\n",
      "Epoch 10/10\n",
      "28709/28709 [==============================] - 51s 2ms/step - loss: 1.2841 - accuracy: 0.5071 - val_loss: 1.5916 - val_accuracy: 0.4185\n",
      "Saved model to disk done\n",
      "Evaluating the model on test data ...\n",
      "3589/3589 [==============================] - 2s 442us/step\n",
      "test loss, test acc: [1.5748071974118993, 0.4201727509498596]\n",
      "      0     1     2     3     4     5     6\n",
      "0  0.48  0.01  0.16  0.07  0.16  0.05  0.07\n",
      "1  0.15  0.33  0.33  0.04  0.04  0.04  0.07\n",
      "2  0.12  0.02  0.30  0.02  0.07  0.44  0.02\n",
      "3  0.09  0.01  0.09  0.61  0.08  0.05  0.07\n",
      "4  0.16  0.02  0.21  0.09  0.33  0.05  0.14\n",
      "5  0.01  0.00  0.16  0.01  0.01  0.80  0.01\n",
      "6  0.15  0.02  0.15  0.08  0.18  0.13  0.29\n"
     ]
    },
    {
     "data": {
      "image/png": "[encoded data removed]",
      "text/plain": [
       "<Figure size 432x288 with 1 Axes>"
      ]
     },
     "metadata": {
      "needs_background": "light"
     },
     "output_type": "display_data"
    }
   ],
   "source": [
    "h2, r2 = fit_test_save_hist(model, bs=512, ep=10, fnm='fer46.json', fnw='fer46.h5')"
   ]
  },
  {
   "cell_type": "code",
   "execution_count": 56,
   "metadata": {},
   "outputs": [
    {
     "name": "stdout",
     "output_type": "stream",
     "text": [
      "Fitting the model with new train set and new validation set ...\n",
      "Train on 28709 samples, validate on 3589 samples\n",
      "Epoch 1/10\n",
      "28709/28709 [==============================] - 52s 2ms/step - loss: 1.2843 - accuracy: 0.5066 - val_loss: 1.2911 - val_accuracy: 0.5043\n",
      "Epoch 2/10\n",
      "28709/28709 [==============================] - 50s 2ms/step - loss: 1.2486 - accuracy: 0.5191 - val_loss: 1.3396 - val_accuracy: 0.4937\n",
      "Epoch 3/10\n",
      "28709/28709 [==============================] - 49s 2ms/step - loss: 1.2190 - accuracy: 0.5345 - val_loss: 1.2648 - val_accuracy: 0.5222\n",
      "Epoch 4/10\n",
      "28709/28709 [==============================] - 51s 2ms/step - loss: 1.1864 - accuracy: 0.5453 - val_loss: 1.2502 - val_accuracy: 0.5344\n",
      "Epoch 5/10\n",
      "28709/28709 [==============================] - 51s 2ms/step - loss: 1.1585 - accuracy: 0.5584 - val_loss: 1.1936 - val_accuracy: 0.5425\n",
      "Epoch 6/10\n",
      "28709/28709 [==============================] - 51s 2ms/step - loss: 1.1351 - accuracy: 0.5691 - val_loss: 1.2029 - val_accuracy: 0.5405\n",
      "Epoch 7/10\n",
      "28709/28709 [==============================] - 50s 2ms/step - loss: 1.1109 - accuracy: 0.5734 - val_loss: 1.1481 - val_accuracy: 0.5692\n",
      "Epoch 8/10\n",
      "28709/28709 [==============================] - 50s 2ms/step - loss: 1.0894 - accuracy: 0.5876 - val_loss: 1.4366 - val_accuracy: 0.4631\n",
      "Epoch 9/10\n",
      "28709/28709 [==============================] - 49s 2ms/step - loss: 1.0781 - accuracy: 0.5903 - val_loss: 1.1420 - val_accuracy: 0.5818\n",
      "Epoch 10/10\n",
      "28709/28709 [==============================] - 49s 2ms/step - loss: 1.0541 - accuracy: 0.5984 - val_loss: 1.4133 - val_accuracy: 0.4876\n",
      "Saved model to disk done\n",
      "Evaluating the model on test data ...\n",
      "3589/3589 [==============================] - 2s 423us/step\n",
      "test loss, test acc: [1.3769980628166931, 0.48983004689216614]\n",
      "      0     1     2     3     4     5     6\n",
      "0  0.52  0.07  0.14  0.11  0.11  0.02  0.04\n",
      "1  0.10  0.80  0.10  0.00  0.00  0.00  0.00\n",
      "2  0.14  0.02  0.29  0.17  0.17  0.08  0.15\n",
      "3  0.01  0.00  0.01  0.94  0.01  0.01  0.01\n",
      "4  0.15  0.01  0.15  0.15  0.36  0.02  0.16\n",
      "5  0.08  0.00  0.15  0.11  0.04  0.54  0.08\n",
      "6  0.12  0.01  0.08  0.12  0.16  0.02  0.48\n"
     ]
    },
    {
     "data": {
      "image/png": "[encoded data removed]",
      "text/plain": [
       "<Figure size 432x288 with 1 Axes>"
      ]
     },
     "metadata": {
      "needs_background": "light"
     },
     "output_type": "display_data"
    }
   ],
   "source": [
    "h3, r3 = fit_test_save_hist(model, bs=256, ep=10, fnm='fer45.json', fnw='fer45.h5')"
   ]
  },
  {
   "cell_type": "code",
   "execution_count": 57,
   "metadata": {},
   "outputs": [
    {
     "name": "stdout",
     "output_type": "stream",
     "text": [
      "Fitting the model with new train set and new validation set ...\n",
      "Train on 28709 samples, validate on 3589 samples\n",
      "Epoch 1/10\n",
      "28709/28709 [==============================] - 50s 2ms/step - loss: 1.0294 - accuracy: 0.6099 - val_loss: 1.1406 - val_accuracy: 0.5851\n",
      "Epoch 2/10\n",
      "28709/28709 [==============================] - 51s 2ms/step - loss: 1.0075 - accuracy: 0.6202 - val_loss: 1.1212 - val_accuracy: 0.5815\n",
      "Epoch 3/10\n",
      "28709/28709 [==============================] - 52s 2ms/step - loss: 0.9939 - accuracy: 0.6260 - val_loss: 1.1774 - val_accuracy: 0.5587\n",
      "Epoch 4/10\n",
      "28709/28709 [==============================] - 50s 2ms/step - loss: 0.9741 - accuracy: 0.6325 - val_loss: 1.1187 - val_accuracy: 0.5854\n",
      "Epoch 5/10\n",
      "28709/28709 [==============================] - 48s 2ms/step - loss: 0.9535 - accuracy: 0.6416 - val_loss: 1.1275 - val_accuracy: 0.5837\n",
      "Epoch 6/10\n",
      "28709/28709 [==============================] - 49s 2ms/step - loss: 0.9431 - accuracy: 0.6439 - val_loss: 1.1293 - val_accuracy: 0.5773\n",
      "Epoch 7/10\n",
      "28709/28709 [==============================] - 49s 2ms/step - loss: 0.9274 - accuracy: 0.6536 - val_loss: 1.1195 - val_accuracy: 0.5840\n",
      "Epoch 8/10\n",
      "28709/28709 [==============================] - 50s 2ms/step - loss: 0.9044 - accuracy: 0.6624 - val_loss: 1.1876 - val_accuracy: 0.5653\n",
      "Epoch 9/10\n",
      "28709/28709 [==============================] - 49s 2ms/step - loss: 0.8882 - accuracy: 0.6633 - val_loss: 1.1402 - val_accuracy: 0.5874\n",
      "Epoch 10/10\n",
      "28709/28709 [==============================] - 49s 2ms/step - loss: 0.8675 - accuracy: 0.6754 - val_loss: 1.1503 - val_accuracy: 0.5768\n",
      "Saved model to disk done\n",
      "Evaluating the model on test data ...\n",
      "3589/3589 [==============================] - 2s 425us/step\n",
      "test loss, test acc: [1.1152887833287837, 0.5982167720794678]\n",
      "      0     1     2     3     4     5     6\n",
      "0  0.57  0.03  0.12  0.07  0.10  0.04  0.06\n",
      "1  0.12  0.88  0.00  0.00  0.00  0.00  0.00\n",
      "2  0.12  0.03  0.44  0.05  0.17  0.10  0.08\n",
      "3  0.05  0.01  0.04  0.76  0.05  0.03  0.06\n",
      "4  0.16  0.01  0.16  0.07  0.46  0.02  0.14\n",
      "5  0.03  0.00  0.12  0.03  0.03  0.76  0.03\n",
      "6  0.09  0.01  0.11  0.05  0.18  0.03  0.53\n"
     ]
    },
    {
     "data": {
      "image/png": "[encoded data removed]",
      "text/plain": [
       "<Figure size 432x288 with 1 Axes>"
      ]
     },
     "metadata": {
      "needs_background": "light"
     },
     "output_type": "display_data"
    }
   ],
   "source": [
    "h4, r4 = fit_test_save_hist(model, bs=256, ep=10, fnm='fer46.json', fnw='fer46.h5')"
   ]
  },
  {
   "cell_type": "code",
   "execution_count": 66,
   "metadata": {},
   "outputs": [
    {
     "name": "stdout",
     "output_type": "stream",
     "text": [
      "Model: \"sequential_25\"\n",
      "_________________________________________________________________\n",
      "Layer (type)                 Output Shape              Param #   \n",
      "=================================================================\n",
      "conv2d_121 (Conv2D)          (None, 48, 48, 16)        160       \n",
      "_________________________________________________________________\n",
      "max_pooling2d_106 (MaxPoolin (None, 24, 24, 16)        0         \n",
      "_________________________________________________________________\n",
      "conv2d_122 (Conv2D)          (None, 24, 24, 32)        4640      \n",
      "_________________________________________________________________\n",
      "batch_normalization_97 (Batc (None, 24, 24, 32)        128       \n",
      "_________________________________________________________________\n",
      "max_pooling2d_107 (MaxPoolin (None, 12, 12, 32)        0         \n",
      "_________________________________________________________________\n",
      "dropout_80 (Dropout)         (None, 12, 12, 32)        0         \n",
      "_________________________________________________________________\n",
      "conv2d_123 (Conv2D)          (None, 12, 12, 64)        18496     \n",
      "_________________________________________________________________\n",
      "batch_normalization_98 (Batc (None, 12, 12, 64)        256       \n",
      "_________________________________________________________________\n",
      "max_pooling2d_108 (MaxPoolin (None, 6, 6, 64)          0         \n",
      "_________________________________________________________________\n",
      "conv2d_124 (Conv2D)          (None, 6, 6, 128)         73856     \n",
      "_________________________________________________________________\n",
      "batch_normalization_99 (Batc (None, 6, 6, 128)         512       \n",
      "_________________________________________________________________\n",
      "max_pooling2d_109 (MaxPoolin (None, 3, 3, 128)         0         \n",
      "_________________________________________________________________\n",
      "dropout_81 (Dropout)         (None, 3, 3, 128)         0         \n",
      "_________________________________________________________________\n",
      "conv2d_125 (Conv2D)          (None, 3, 3, 256)         295168    \n",
      "_________________________________________________________________\n",
      "batch_normalization_100 (Bat (None, 3, 3, 256)         1024      \n",
      "_________________________________________________________________\n",
      "flatten_25 (Flatten)         (None, 2304)              0         \n",
      "_________________________________________________________________\n",
      "dense_49 (Dense)             (None, 256)               590080    \n",
      "_________________________________________________________________\n",
      "dropout_82 (Dropout)         (None, 256)               0         \n",
      "_________________________________________________________________\n",
      "dense_50 (Dense)             (None, 7)                 1799      \n",
      "=================================================================\n",
      "Total params: 986,119\n",
      "Trainable params: 985,159\n",
      "Non-trainable params: 960\n",
      "_________________________________________________________________\n"
     ]
    }
   ],
   "source": [
    "model = get_model_v40(num_filtre=(16, 32, 64, 128, 256), lf=256, p_size=(2,2,2,2,0), dropout=(0.0, 0.50, 0.0, 0.5, 0.0))\n",
    "model.summary()"
   ]
  },
  {
   "cell_type": "code",
   "execution_count": 67,
   "metadata": {},
   "outputs": [
    {
     "name": "stdout",
     "output_type": "stream",
     "text": [
      "Fitting the model with new train set and new validation set ...\n",
      "Train on 28709 samples, validate on 3589 samples\n",
      "Epoch 1/10\n",
      "28709/28709 [==============================] - 53s 2ms/step - loss: 1.8006 - accuracy: 0.2725 - val_loss: 2.1747 - val_accuracy: 0.2494\n",
      "Epoch 2/10\n",
      "28709/28709 [==============================] - 54s 2ms/step - loss: 1.6279 - accuracy: 0.3572 - val_loss: 2.0094 - val_accuracy: 0.3004\n",
      "Epoch 3/10\n",
      "28709/28709 [==============================] - 51s 2ms/step - loss: 1.5291 - accuracy: 0.4043 - val_loss: 1.7483 - val_accuracy: 0.3045\n",
      "Epoch 4/10\n",
      "28709/28709 [==============================] - 51s 2ms/step - loss: 1.4438 - accuracy: 0.4414 - val_loss: 1.5516 - val_accuracy: 0.3906\n",
      "Epoch 5/10\n",
      "28709/28709 [==============================] - 52s 2ms/step - loss: 1.3889 - accuracy: 0.4632 - val_loss: 1.4631 - val_accuracy: 0.4135\n",
      "Epoch 6/10\n",
      "28709/28709 [==============================] - 52s 2ms/step - loss: 1.3499 - accuracy: 0.4804 - val_loss: 1.3930 - val_accuracy: 0.4570\n",
      "Epoch 7/10\n",
      "28709/28709 [==============================] - 51s 2ms/step - loss: 1.3102 - accuracy: 0.4947 - val_loss: 1.2913 - val_accuracy: 0.4987\n",
      "Epoch 8/10\n",
      "28709/28709 [==============================] - 52s 2ms/step - loss: 1.2764 - accuracy: 0.5112 - val_loss: 1.2565 - val_accuracy: 0.5222\n",
      "Epoch 9/10\n",
      "28709/28709 [==============================] - 53s 2ms/step - loss: 1.2428 - accuracy: 0.5200 - val_loss: 1.3571 - val_accuracy: 0.4926\n",
      "Epoch 10/10\n",
      "28709/28709 [==============================] - 54s 2ms/step - loss: 1.2165 - accuracy: 0.5350 - val_loss: 1.2760 - val_accuracy: 0.5124\n",
      "Saved model to disk done\n",
      "Evaluating the model on test data ...\n",
      "3589/3589 [==============================] - 2s 625us/step\n",
      "test loss, test acc: [1.2329311248451662, 0.5243800282478333]\n",
      "      0     1     2     3     4     5     6\n",
      "0  0.34  0.04  0.20  0.11  0.16  0.06  0.09\n",
      "1  0.17  0.83  0.00  0.00  0.00  0.00  0.00\n",
      "2  0.06  0.00  0.43  0.05  0.10  0.28  0.08\n",
      "3  0.04  0.00  0.04  0.77  0.05  0.03  0.06\n",
      "4  0.11  0.01  0.20  0.07  0.41  0.04  0.16\n",
      "5  0.02  0.01  0.12  0.03  0.02  0.76  0.04\n",
      "6  0.12  0.00  0.12  0.07  0.19  0.05  0.46\n"
     ]
    },
    {
     "data": {
      "image/png": "[encoded data removed]",
      "text/plain": [
       "<Figure size 432x288 with 1 Axes>"
      ]
     },
     "metadata": {
      "needs_background": "light"
     },
     "output_type": "display_data"
    }
   ],
   "source": [
    "h5, r5 = fit_test_save_hist(model, bs=256, ep=10, fnm='fer47.json', fnw='fer47.h5')"
   ]
  },
  {
   "cell_type": "code",
   "execution_count": 68,
   "metadata": {},
   "outputs": [
    {
     "name": "stdout",
     "output_type": "stream",
     "text": [
      "Fitting the model with new train set and new validation set ...\n",
      "Train on 28709 samples, validate on 3589 samples\n",
      "Epoch 1/10\n",
      "28709/28709 [==============================] - 54s 2ms/step - loss: 1.1949 - accuracy: 0.5400 - val_loss: 1.2731 - val_accuracy: 0.5333\n",
      "Epoch 2/10\n",
      "28709/28709 [==============================] - 54s 2ms/step - loss: 1.1588 - accuracy: 0.5588 - val_loss: 1.1948 - val_accuracy: 0.5442\n",
      "Epoch 3/10\n",
      "28709/28709 [==============================] - 53s 2ms/step - loss: 1.1478 - accuracy: 0.5626 - val_loss: 1.1995 - val_accuracy: 0.5458\n",
      "Epoch 4/10\n",
      "28709/28709 [==============================] - 56s 2ms/step - loss: 1.1255 - accuracy: 0.5731 - val_loss: 1.2427 - val_accuracy: 0.5325\n",
      "Epoch 5/10\n",
      "28709/28709 [==============================] - 60s 2ms/step - loss: 1.0971 - accuracy: 0.5798 - val_loss: 1.1720 - val_accuracy: 0.5531\n",
      "Epoch 6/10\n",
      "28709/28709 [==============================] - 57s 2ms/step - loss: 1.0768 - accuracy: 0.5922 - val_loss: 1.1783 - val_accuracy: 0.5603\n",
      "Epoch 7/10\n",
      "28709/28709 [==============================] - 54s 2ms/step - loss: 1.0477 - accuracy: 0.6033 - val_loss: 1.1228 - val_accuracy: 0.5762\n",
      "Epoch 8/10\n",
      "28709/28709 [==============================] - 53s 2ms/step - loss: 1.0328 - accuracy: 0.6105 - val_loss: 1.1392 - val_accuracy: 0.5687\n",
      "Epoch 9/10\n",
      "28709/28709 [==============================] - 53s 2ms/step - loss: 1.0095 - accuracy: 0.6184 - val_loss: 1.1186 - val_accuracy: 0.5745\n",
      "Epoch 10/10\n",
      "28709/28709 [==============================] - 53s 2ms/step - loss: 0.9848 - accuracy: 0.6268 - val_loss: 1.1419 - val_accuracy: 0.5807\n",
      "Saved model to disk done\n",
      "Evaluating the model on test data ...\n",
      "3589/3589 [==============================] - 2s 550us/step\n",
      "test loss, test acc: [1.0934737150501028, 0.5881861448287964]\n",
      "      0     1     2     3     4     5     6\n",
      "0  0.51  0.04  0.14  0.06  0.12  0.02  0.11\n",
      "1  0.15  0.73  0.06  0.00  0.03  0.00  0.03\n",
      "2  0.12  0.01  0.42  0.07  0.22  0.06  0.10\n",
      "3  0.03  0.00  0.03  0.82  0.05  0.03  0.05\n",
      "4  0.12  0.00  0.17  0.06  0.45  0.01  0.19\n",
      "5  0.05  0.01  0.19  0.05  0.05  0.59  0.06\n",
      "6  0.10  0.00  0.10  0.08  0.15  0.02  0.55\n"
     ]
    },
    {
     "data": {
      "image/png": "[encoded data removed]",
      "text/plain": [
       "<Figure size 432x288 with 1 Axes>"
      ]
     },
     "metadata": {
      "needs_background": "light"
     },
     "output_type": "display_data"
    }
   ],
   "source": [
    "h6, r6 = fit_test_save_hist(model, bs=256, ep=10, fnm='fer48.json', fnw='fer48.h5')"
   ]
  },
  {
   "cell_type": "code",
   "execution_count": 69,
   "metadata": {},
   "outputs": [
    {
     "name": "stdout",
     "output_type": "stream",
     "text": [
      "Fitting the model with new train set and new validation set ...\n",
      "Train on 28709 samples, validate on 3589 samples\n",
      "Epoch 1/10\n",
      "28709/28709 [==============================] - 56s 2ms/step - loss: 0.9747 - accuracy: 0.6314 - val_loss: 1.1480 - val_accuracy: 0.5690\n",
      "Epoch 2/10\n",
      "28709/28709 [==============================] - 53s 2ms/step - loss: 0.9428 - accuracy: 0.6470 - val_loss: 1.1406 - val_accuracy: 0.5667\n",
      "Epoch 3/10\n",
      "28709/28709 [==============================] - 53s 2ms/step - loss: 0.9268 - accuracy: 0.6531 - val_loss: 1.2357 - val_accuracy: 0.5595\n",
      "Epoch 4/10\n",
      "28709/28709 [==============================] - 54s 2ms/step - loss: 0.9035 - accuracy: 0.6601 - val_loss: 1.1467 - val_accuracy: 0.5843\n",
      "Epoch 5/10\n",
      "28709/28709 [==============================] - 53s 2ms/step - loss: 0.8764 - accuracy: 0.6737 - val_loss: 1.3373 - val_accuracy: 0.5495\n",
      "Epoch 6/10\n",
      "28709/28709 [==============================] - 53s 2ms/step - loss: 0.8520 - accuracy: 0.6833 - val_loss: 1.1822 - val_accuracy: 0.5737\n",
      "Epoch 7/10\n",
      "28709/28709 [==============================] - 53s 2ms/step - loss: 0.8270 - accuracy: 0.6900 - val_loss: 1.1626 - val_accuracy: 0.5882\n",
      "Epoch 8/10\n",
      "28709/28709 [==============================] - 52s 2ms/step - loss: 0.8119 - accuracy: 0.6971 - val_loss: 1.1757 - val_accuracy: 0.5837\n",
      "Epoch 9/10\n",
      "28709/28709 [==============================] - 53s 2ms/step - loss: 0.7922 - accuracy: 0.7034 - val_loss: 1.1739 - val_accuracy: 0.5745\n",
      "Epoch 10/10\n",
      "28709/28709 [==============================] - 53s 2ms/step - loss: 0.7850 - accuracy: 0.7075 - val_loss: 1.2271 - val_accuracy: 0.5637\n",
      "Saved model to disk done\n",
      "Evaluating the model on test data ...\n",
      "3589/3589 [==============================] - 2s 536us/step\n",
      "test loss, test acc: [1.1713726905834445, 0.5773195624351501]\n",
      "      0     1     2     3     4     5     6\n",
      "0  0.47  0.03  0.14  0.10  0.13  0.04  0.10\n",
      "1  0.17  0.62  0.02  0.12  0.02  0.00  0.05\n",
      "2  0.11  0.01  0.41  0.11  0.17  0.10  0.09\n",
      "3  0.02  0.00  0.02  0.89  0.03  0.02  0.02\n",
      "4  0.13  0.01  0.15  0.09  0.43  0.02  0.16\n",
      "5  0.04  0.01  0.15  0.05  0.03  0.69  0.03\n",
      "6  0.10  0.00  0.10  0.09  0.14  0.03  0.54\n"
     ]
    },
    {
     "data": {
      "image/png": "[encoded data removed]",
      "text/plain": [
       "<Figure size 432x288 with 1 Axes>"
      ]
     },
     "metadata": {
      "needs_background": "light"
     },
     "output_type": "display_data"
    }
   ],
   "source": [
    "h7, r7 = fit_test_save_hist(model, bs=256, ep=10, fnm='fer49.json', fnw='fer49.h5')"
   ]
  },
  {
   "cell_type": "code",
   "execution_count": null,
   "metadata": {},
   "outputs": [],
   "source": []
  },
  {
   "cell_type": "code",
   "execution_count": null,
   "metadata": {},
   "outputs": [],
   "source": []
  },
  {
   "cell_type": "code",
   "execution_count": null,
   "metadata": {},
   "outputs": [],
   "source": []
  },
  {
   "cell_type": "code",
   "execution_count": null,
   "metadata": {},
   "outputs": [],
   "source": []
  },
  {
   "cell_type": "code",
   "execution_count": null,
   "metadata": {},
   "outputs": [],
   "source": []
  },
  {
   "cell_type": "code",
   "execution_count": 12,
   "metadata": {},
   "outputs": [
    {
     "name": "stdout",
     "output_type": "stream",
     "text": [
      "Model: \"sequential_1\"\n",
      "_________________________________________________________________\n",
      "Layer (type)                 Output Shape              Param #   \n",
      "=================================================================\n",
      "conv2d_1 (Conv2D)            (None, 48, 48, 512)       5120      \n",
      "_________________________________________________________________\n",
      "max_pooling2d_1 (MaxPooling2 (None, 24, 24, 512)       0         \n",
      "_________________________________________________________________\n",
      "dropout_1 (Dropout)          (None, 24, 24, 512)       0         \n",
      "_________________________________________________________________\n",
      "conv2d_2 (Conv2D)            (None, 24, 24, 128)       589952    \n",
      "_________________________________________________________________\n",
      "batch_normalization_1 (Batch (None, 24, 24, 128)       512       \n",
      "_________________________________________________________________\n",
      "max_pooling2d_2 (MaxPooling2 (None, 12, 12, 128)       0         \n",
      "_________________________________________________________________\n",
      "dropout_2 (Dropout)          (None, 12, 12, 128)       0         \n",
      "_________________________________________________________________\n",
      "conv2d_3 (Conv2D)            (None, 12, 12, 64)        73792     \n",
      "_________________________________________________________________\n",
      "batch_normalization_2 (Batch (None, 12, 12, 64)        256       \n",
      "_________________________________________________________________\n",
      "max_pooling2d_3 (MaxPooling2 (None, 6, 6, 64)          0         \n",
      "_________________________________________________________________\n",
      "dropout_3 (Dropout)          (None, 6, 6, 64)          0         \n",
      "_________________________________________________________________\n",
      "conv2d_4 (Conv2D)            (None, 6, 6, 32)          18464     \n",
      "_________________________________________________________________\n",
      "batch_normalization_3 (Batch (None, 6, 6, 32)          128       \n",
      "_________________________________________________________________\n",
      "max_pooling2d_4 (MaxPooling2 (None, 3, 3, 32)          0         \n",
      "_________________________________________________________________\n",
      "dropout_4 (Dropout)          (None, 3, 3, 32)          0         \n",
      "_________________________________________________________________\n",
      "conv2d_5 (Conv2D)            (None, 3, 3, 16)          4624      \n",
      "_________________________________________________________________\n",
      "batch_normalization_4 (Batch (None, 3, 3, 16)          64        \n",
      "_________________________________________________________________\n",
      "max_pooling2d_5 (MaxPooling2 (None, 1, 1, 16)          0         \n",
      "_________________________________________________________________\n",
      "dropout_5 (Dropout)          (None, 1, 1, 16)          0         \n",
      "_________________________________________________________________\n",
      "flatten_1 (Flatten)          (None, 16)                0         \n",
      "_________________________________________________________________\n",
      "dense_1 (Dense)              (None, 32)                544       \n",
      "_________________________________________________________________\n",
      "dropout_6 (Dropout)          (None, 32)                0         \n",
      "_________________________________________________________________\n",
      "dense_2 (Dense)              (None, 7)                 231       \n",
      "=================================================================\n",
      "Total params: 693,687\n",
      "Trainable params: 693,207\n",
      "Non-trainable params: 480\n",
      "_________________________________________________________________\n"
     ]
    }
   ],
   "source": [
    "model = get_model_v20()\n",
    "model.summary()"
   ]
  },
  {
   "cell_type": "markdown",
   "metadata": {},
   "source": [
    "<h3>Appliquer la fonction <i style=\"color:blue\">fit_test_save_hist</i></h3>"
   ]
  },
  {
   "cell_type": "markdown",
   "metadata": {},
   "source": [
    "<p>Le processu est interrompu voltairement car chaque epoch prend plus d'une heure de temps</p>"
   ]
  },
  {
   "cell_type": "code",
   "execution_count": null,
   "metadata": {},
   "outputs": [
    {
     "name": "stdout",
     "output_type": "stream",
     "text": [
      "Fitting the model with new train set and new validation set ...\n",
      "Train on 28709 samples, validate on 3589 samples\n",
      "Epoch 1/30\n",
      "28709/28709 [==============================] - 6846s 238ms/step - loss: 2.0149 - accuracy: 0.2355 - val_loss: 3.0117 - val_accuracy: 0.0371\n",
      "Epoch 2/30\n",
      "28709/28709 [==============================] - 4642s 162ms/step - loss: 1.8468 - accuracy: 0.2509 - val_loss: 2.2439 - val_accuracy: 0.1452\n",
      "Epoch 3/30\n",
      "28709/28709 [==============================] - 3845s 134ms/step - loss: 1.8258 - accuracy: 0.2507 - val_loss: 2.2182 - val_accuracy: 0.2343\n",
      "Epoch 4/30\n",
      "28709/28709 [==============================] - 3813s 133ms/step - loss: 1.8172 - accuracy: 0.2510 - val_loss: 1.9328 - val_accuracy: 0.2173\n",
      "Epoch 5/30\n",
      " 6400/28709 [=====>........................] - ETA: 46:39 - loss: 1.8125 - accuracy: 0.2469"
     ]
    }
   ],
   "source": [
    "#history, test_result = fit_test_save_hist(model, fnm='fer20.json', fnw='fer20.h5')"
   ]
  },
  {
   "cell_type": "markdown",
   "metadata": {},
   "source": [
    "<h3>1ere appel de la fonction d'apprentissage</h3>"
   ]
  },
  {
   "cell_type": "code",
   "execution_count": 13,
   "metadata": {},
   "outputs": [
    {
     "name": "stdout",
     "output_type": "stream",
     "text": [
      "Fitting the model with new train set and new validation set ...\n",
      "Train on 28709 samples, validate on 3589 samples\n",
      "Epoch 1/30\n",
      "28709/28709 [==============================] - 718s 25ms/step - loss: 2.0583 - accuracy: 0.1976 - val_loss: 2.0180 - val_accuracy: 0.2494\n",
      "Epoch 2/30\n",
      "28709/28709 [==============================] - 703s 25ms/step - loss: 1.8429 - accuracy: 0.2379 - val_loss: 1.8616 - val_accuracy: 0.2449\n",
      "Epoch 3/30\n",
      "28709/28709 [==============================] - 706s 25ms/step - loss: 1.8243 - accuracy: 0.2452 - val_loss: 1.8031 - val_accuracy: 0.2494\n",
      "Epoch 4/30\n",
      "28709/28709 [==============================] - 705s 25ms/step - loss: 1.8166 - accuracy: 0.2487 - val_loss: 1.8717 - val_accuracy: 0.2494\n",
      "Epoch 5/30\n",
      "28709/28709 [==============================] - 705s 25ms/step - loss: 1.8077 - accuracy: 0.2519 - val_loss: 1.8184 - val_accuracy: 0.2513\n",
      "Epoch 6/30\n",
      "28709/28709 [==============================] - 705s 25ms/step - loss: 1.8007 - accuracy: 0.2519 - val_loss: 1.7930 - val_accuracy: 0.2494\n",
      "Epoch 7/30\n",
      "28709/28709 [==============================] - 717s 25ms/step - loss: 1.7887 - accuracy: 0.2600 - val_loss: 1.7553 - val_accuracy: 0.2602\n",
      "Epoch 8/30\n",
      "28709/28709 [==============================] - 707s 25ms/step - loss: 1.7677 - accuracy: 0.2710 - val_loss: 1.8158 - val_accuracy: 0.2870\n",
      "Epoch 9/30\n",
      "28709/28709 [==============================] - 704s 25ms/step - loss: 1.7246 - accuracy: 0.2965 - val_loss: 1.7962 - val_accuracy: 0.2867\n",
      "Epoch 10/30\n",
      "28709/28709 [==============================] - 705s 25ms/step - loss: 1.6803 - accuracy: 0.3237 - val_loss: 1.6194 - val_accuracy: 0.3722\n",
      "Epoch 11/30\n",
      "28709/28709 [==============================] - 702s 24ms/step - loss: 1.6387 - accuracy: 0.3447 - val_loss: 1.5958 - val_accuracy: 0.3642\n",
      "Epoch 12/30\n",
      "28709/28709 [==============================] - 702s 24ms/step - loss: 1.6079 - accuracy: 0.3611 - val_loss: 1.6044 - val_accuracy: 0.3611\n",
      "Epoch 13/30\n",
      "28709/28709 [==============================] - 700s 24ms/step - loss: 1.5783 - accuracy: 0.3744 - val_loss: 1.5018 - val_accuracy: 0.4074\n",
      "Epoch 14/30\n",
      "28709/28709 [==============================] - 699s 24ms/step - loss: 1.5628 - accuracy: 0.3795 - val_loss: 1.4620 - val_accuracy: 0.4140\n",
      "Epoch 15/30\n",
      "28709/28709 [==============================] - 697s 24ms/step - loss: 1.5444 - accuracy: 0.3880 - val_loss: 1.5343 - val_accuracy: 0.3856\n",
      "Epoch 16/30\n",
      "28709/28709 [==============================] - 695s 24ms/step - loss: 1.5313 - accuracy: 0.3937 - val_loss: 1.4669 - val_accuracy: 0.4138\n",
      "Epoch 17/30\n",
      "28709/28709 [==============================] - 694s 24ms/step - loss: 1.5106 - accuracy: 0.4003 - val_loss: 1.4026 - val_accuracy: 0.4500\n",
      "Epoch 18/30\n",
      "28709/28709 [==============================] - 695s 24ms/step - loss: 1.4915 - accuracy: 0.4088 - val_loss: 1.3802 - val_accuracy: 0.4469\n",
      "Epoch 19/30\n",
      "28709/28709 [==============================] - 693s 24ms/step - loss: 1.4764 - accuracy: 0.4124 - val_loss: 1.3810 - val_accuracy: 0.4578\n",
      "Epoch 20/30\n",
      "28709/28709 [==============================] - 691s 24ms/step - loss: 1.4715 - accuracy: 0.4166 - val_loss: 1.3854 - val_accuracy: 0.4450\n",
      "Epoch 21/30\n",
      "28709/28709 [==============================] - 692s 24ms/step - loss: 1.4573 - accuracy: 0.4215 - val_loss: 1.3787 - val_accuracy: 0.4408\n",
      "Epoch 22/30\n",
      "28709/28709 [==============================] - 703s 24ms/step - loss: 1.4436 - accuracy: 0.4271 - val_loss: 1.4063 - val_accuracy: 0.4383\n",
      "Epoch 23/30\n",
      "28709/28709 [==============================] - 711s 25ms/step - loss: 1.4297 - accuracy: 0.4306 - val_loss: 1.3257 - val_accuracy: 0.4606\n",
      "Epoch 24/30\n",
      "28709/28709 [==============================] - 704s 25ms/step - loss: 1.4272 - accuracy: 0.4337 - val_loss: 1.3432 - val_accuracy: 0.4517\n",
      "Epoch 25/30\n",
      "28709/28709 [==============================] - 699s 24ms/step - loss: 1.4189 - accuracy: 0.4331 - val_loss: 1.3334 - val_accuracy: 0.4645\n",
      "Epoch 26/30\n",
      "28709/28709 [==============================] - 703s 24ms/step - loss: 1.4087 - accuracy: 0.4414 - val_loss: 1.3339 - val_accuracy: 0.4639\n",
      "Epoch 27/30\n",
      "28709/28709 [==============================] - 713s 25ms/step - loss: 1.3977 - accuracy: 0.4427 - val_loss: 1.3494 - val_accuracy: 0.4581\n",
      "Epoch 28/30\n",
      "28709/28709 [==============================] - 707s 25ms/step - loss: 1.3939 - accuracy: 0.4421 - val_loss: 1.3184 - val_accuracy: 0.4606\n",
      "Epoch 29/30\n",
      "28709/28709 [==============================] - 715s 25ms/step - loss: 1.3817 - accuracy: 0.4488 - val_loss: 1.3461 - val_accuracy: 0.4636\n",
      "Epoch 30/30\n",
      "28709/28709 [==============================] - 695s 24ms/step - loss: 1.3811 - accuracy: 0.4518 - val_loss: 1.2840 - val_accuracy: 0.4790\n",
      "Saved model to disk done\n",
      "Evaluating the model on test data ...\n",
      "3589/3589 [==============================] - 20s 5ms/step\n",
      "test loss, test acc: [1.2836494406939019, 0.4970743954181671]\n",
      "      0     1     2     3     4     5     6\n",
      "0  0.38  0.07  0.29  0.06  0.10  0.03  0.06\n",
      "1   NaN   NaN   NaN   NaN   NaN   NaN   NaN\n",
      "2  0.23  0.01  0.31  0.07  0.09  0.23  0.06\n",
      "3  0.06  0.01  0.06  0.68  0.07  0.03  0.09\n",
      "4  0.21  0.03  0.16  0.06  0.34  0.02  0.17\n",
      "5  0.05  0.00  0.22  0.03  0.02  0.68  0.01\n",
      "6  0.16  0.02  0.16  0.02  0.26  0.03  0.36\n"
     ]
    },
    {
     "name": "stderr",
     "output_type": "stream",
     "text": [
      "C:\\Users\\jeang\\anaconda3\\envs\\rl_env\\lib\\site-packages\\ipykernel_launcher.py:7: RuntimeWarning: invalid value encountered in true_divide\n",
      "  import sys\n"
     ]
    },
    {
     "data": {
      "image/png": "[encoded data removed]",
      "text/plain": [
       "<Figure size 432x288 with 1 Axes>"
      ]
     },
     "metadata": {
      "needs_background": "light"
     },
     "output_type": "display_data"
    }
   ],
   "source": [
    "history, test_result = fit_test_save_hist(model, fnm='fer20.json', fnw='fer20.h5')"
   ]
  },
  {
   "cell_type": "code",
   "execution_count": 14,
   "metadata": {},
   "outputs": [
    {
     "name": "stderr",
     "output_type": "stream",
     "text": [
      "C:\\Users\\jeang\\anaconda3\\envs\\rl_env\\lib\\site-packages\\ipykernel_launcher.py:7: RuntimeWarning: invalid value encountered in true_divide\n",
      "  import sys\n"
     ]
    },
    {
     "data": {
      "text/html": [
       "<div>\n",
       "<style scoped>\n",
       "    .dataframe tbody tr th:only-of-type {\n",
       "        vertical-align: middle;\n",
       "    }\n",
       "\n",
       "    .dataframe tbody tr th {\n",
       "        vertical-align: top;\n",
       "    }\n",
       "\n",
       "    .dataframe thead th {\n",
       "        text-align: right;\n",
       "    }\n",
       "</style>\n",
       "<table border=\"1\" class=\"dataframe\">\n",
       "  <thead>\n",
       "    <tr style=\"text-align: right;\">\n",
       "      <th></th>\n",
       "      <th>0</th>\n",
       "      <th>1</th>\n",
       "      <th>2</th>\n",
       "      <th>3</th>\n",
       "      <th>4</th>\n",
       "      <th>5</th>\n",
       "      <th>6</th>\n",
       "    </tr>\n",
       "  </thead>\n",
       "  <tbody>\n",
       "    <tr>\n",
       "      <th>0</th>\n",
       "      <td>0.38</td>\n",
       "      <td>0.07</td>\n",
       "      <td>0.29</td>\n",
       "      <td>0.06</td>\n",
       "      <td>0.10</td>\n",
       "      <td>0.03</td>\n",
       "      <td>0.06</td>\n",
       "    </tr>\n",
       "    <tr>\n",
       "      <th>1</th>\n",
       "      <td>NaN</td>\n",
       "      <td>NaN</td>\n",
       "      <td>NaN</td>\n",
       "      <td>NaN</td>\n",
       "      <td>NaN</td>\n",
       "      <td>NaN</td>\n",
       "      <td>NaN</td>\n",
       "    </tr>\n",
       "    <tr>\n",
       "      <th>2</th>\n",
       "      <td>0.23</td>\n",
       "      <td>0.01</td>\n",
       "      <td>0.31</td>\n",
       "      <td>0.07</td>\n",
       "      <td>0.09</td>\n",
       "      <td>0.23</td>\n",
       "      <td>0.06</td>\n",
       "    </tr>\n",
       "    <tr>\n",
       "      <th>3</th>\n",
       "      <td>0.06</td>\n",
       "      <td>0.01</td>\n",
       "      <td>0.06</td>\n",
       "      <td>0.68</td>\n",
       "      <td>0.07</td>\n",
       "      <td>0.03</td>\n",
       "      <td>0.09</td>\n",
       "    </tr>\n",
       "    <tr>\n",
       "      <th>4</th>\n",
       "      <td>0.21</td>\n",
       "      <td>0.03</td>\n",
       "      <td>0.16</td>\n",
       "      <td>0.06</td>\n",
       "      <td>0.34</td>\n",
       "      <td>0.02</td>\n",
       "      <td>0.17</td>\n",
       "    </tr>\n",
       "    <tr>\n",
       "      <th>5</th>\n",
       "      <td>0.05</td>\n",
       "      <td>0.00</td>\n",
       "      <td>0.22</td>\n",
       "      <td>0.03</td>\n",
       "      <td>0.02</td>\n",
       "      <td>0.68</td>\n",
       "      <td>0.01</td>\n",
       "    </tr>\n",
       "    <tr>\n",
       "      <th>6</th>\n",
       "      <td>0.16</td>\n",
       "      <td>0.02</td>\n",
       "      <td>0.16</td>\n",
       "      <td>0.02</td>\n",
       "      <td>0.26</td>\n",
       "      <td>0.03</td>\n",
       "      <td>0.36</td>\n",
       "    </tr>\n",
       "  </tbody>\n",
       "</table>\n",
       "</div>"
      ],
      "text/plain": [
       "      0     1     2     3     4     5     6\n",
       "0  0.38  0.07  0.29  0.06  0.10  0.03  0.06\n",
       "1   NaN   NaN   NaN   NaN   NaN   NaN   NaN\n",
       "2  0.23  0.01  0.31  0.07  0.09  0.23  0.06\n",
       "3  0.06  0.01  0.06  0.68  0.07  0.03  0.09\n",
       "4  0.21  0.03  0.16  0.06  0.34  0.02  0.17\n",
       "5  0.05  0.00  0.22  0.03  0.02  0.68  0.01\n",
       "6  0.16  0.02  0.16  0.02  0.26  0.03  0.36"
      ]
     },
     "execution_count": 14,
     "metadata": {},
     "output_type": "execute_result"
    }
   ],
   "source": [
    "show_confusion_matrix(model)"
   ]
  },
  {
   "cell_type": "markdown",
   "metadata": {},
   "source": [
    "<h3>2eme appel de la fonction d'apprentissage</h3>\n",
    "<p>Le nombre d'epoche etait change a 10<br>\n",
    "Ceci nous permet de ne pas tomber dans un processu trop couteux<br>\n",
    "S'il a besoin plus d'epoch pour apprentissage, on peut appeler la meme fonction</p>"
   ]
  },
  {
   "cell_type": "code",
   "execution_count": 15,
   "metadata": {},
   "outputs": [
    {
     "name": "stdout",
     "output_type": "stream",
     "text": [
      "Fitting the model with new train set and new validation set ...\n",
      "Train on 28709 samples, validate on 3589 samples\n",
      "Epoch 1/10\n",
      "28709/28709 [==============================] - 712s 25ms/step - loss: 1.3693 - accuracy: 0.4537 - val_loss: 1.3133 - val_accuracy: 0.4801\n",
      "Epoch 2/10\n",
      "28709/28709 [==============================] - 698s 24ms/step - loss: 1.3709 - accuracy: 0.4586 - val_loss: 1.2645 - val_accuracy: 0.4943\n",
      "Epoch 3/10\n",
      "28709/28709 [==============================] - 693s 24ms/step - loss: 1.3558 - accuracy: 0.4682 - val_loss: 1.2605 - val_accuracy: 0.4915\n",
      "Epoch 4/10\n",
      "28709/28709 [==============================] - 695s 24ms/step - loss: 1.3541 - accuracy: 0.4694 - val_loss: 1.2485 - val_accuracy: 0.5174\n",
      "Epoch 5/10\n",
      "28709/28709 [==============================] - 696s 24ms/step - loss: 1.3398 - accuracy: 0.4752 - val_loss: 1.2748 - val_accuracy: 0.5063\n",
      "Epoch 6/10\n",
      "28709/28709 [==============================] - 695s 24ms/step - loss: 1.3416 - accuracy: 0.4761 - val_loss: 1.2400 - val_accuracy: 0.5166\n",
      "Epoch 7/10\n",
      "28709/28709 [==============================] - 699s 24ms/step - loss: 1.3346 - accuracy: 0.4826 - val_loss: 1.2593 - val_accuracy: 0.5091\n",
      "Epoch 8/10\n",
      "28709/28709 [==============================] - 720s 25ms/step - loss: 1.3302 - accuracy: 0.4832 - val_loss: 1.2328 - val_accuracy: 0.5291\n",
      "Epoch 9/10\n",
      "28709/28709 [==============================] - 716s 25ms/step - loss: 1.3200 - accuracy: 0.4887 - val_loss: 1.2276 - val_accuracy: 0.5213\n",
      "Epoch 10/10\n",
      "28709/28709 [==============================] - 714s 25ms/step - loss: 1.3186 - accuracy: 0.4920 - val_loss: 1.2277 - val_accuracy: 0.5166\n",
      "Saved model to disk done\n",
      "Evaluating the model on test data ...\n",
      "3589/3589 [==============================] - 22s 6ms/step\n",
      "test loss, test acc: [1.2206446557165886, 0.523544192314148]\n",
      "      0     1     2     3     4     5     6\n",
      "0  0.45  0.09  0.25  0.05  0.09  0.04  0.03\n",
      "1   NaN   NaN   NaN   NaN   NaN   NaN   NaN\n",
      "2  0.19  0.00  0.30  0.06  0.11  0.29  0.06\n",
      "3  0.05  0.00  0.05  0.73  0.06  0.04  0.08\n",
      "4  0.23  0.03  0.18  0.06  0.34  0.02  0.15\n",
      "5  0.03  0.00  0.22  0.03  0.01  0.70  0.01\n",
      "6  0.12  0.01  0.16  0.04  0.23  0.03  0.42\n"
     ]
    },
    {
     "name": "stderr",
     "output_type": "stream",
     "text": [
      "C:\\Users\\jeang\\anaconda3\\envs\\rl_env\\lib\\site-packages\\ipykernel_launcher.py:7: RuntimeWarning: invalid value encountered in true_divide\n",
      "  import sys\n"
     ]
    },
    {
     "data": {
      "image/png": "[encoded data removed]",
      "text/plain": [
       "<Figure size 432x288 with 1 Axes>"
      ]
     },
     "metadata": {
      "needs_background": "light"
     },
     "output_type": "display_data"
    }
   ],
   "source": [
    "h1, r1 = fit_test_save_hist(model, ep=10, fnm='fer21.json', fnw='fer21.h5')"
   ]
  },
  {
   "cell_type": "markdown",
   "metadata": {},
   "source": [
    "<h3>Nouvel model de <i style=\"color:blue\">fonction get_model_v20</i></h3>\n",
    "<p>La valeur de dropout est modifiee pour controler le probleme de sous apprentissage</p>"
   ]
  },
  {
   "cell_type": "code",
   "execution_count": 17,
   "metadata": {},
   "outputs": [
    {
     "name": "stdout",
     "output_type": "stream",
     "text": [
      "Model: \"sequential_2\"\n",
      "_________________________________________________________________\n",
      "Layer (type)                 Output Shape              Param #   \n",
      "=================================================================\n",
      "conv2d_6 (Conv2D)            (None, 48, 48, 512)       5120      \n",
      "_________________________________________________________________\n",
      "max_pooling2d_6 (MaxPooling2 (None, 24, 24, 512)       0         \n",
      "_________________________________________________________________\n",
      "dropout_7 (Dropout)          (None, 24, 24, 512)       0         \n",
      "_________________________________________________________________\n",
      "conv2d_7 (Conv2D)            (None, 24, 24, 128)       589952    \n",
      "_________________________________________________________________\n",
      "batch_normalization_5 (Batch (None, 24, 24, 128)       512       \n",
      "_________________________________________________________________\n",
      "max_pooling2d_7 (MaxPooling2 (None, 12, 12, 128)       0         \n",
      "_________________________________________________________________\n",
      "dropout_8 (Dropout)          (None, 12, 12, 128)       0         \n",
      "_________________________________________________________________\n",
      "conv2d_8 (Conv2D)            (None, 12, 12, 64)        73792     \n",
      "_________________________________________________________________\n",
      "batch_normalization_6 (Batch (None, 12, 12, 64)        256       \n",
      "_________________________________________________________________\n",
      "max_pooling2d_8 (MaxPooling2 (None, 6, 6, 64)          0         \n",
      "_________________________________________________________________\n",
      "dropout_9 (Dropout)          (None, 6, 6, 64)          0         \n",
      "_________________________________________________________________\n",
      "conv2d_9 (Conv2D)            (None, 6, 6, 32)          18464     \n",
      "_________________________________________________________________\n",
      "batch_normalization_7 (Batch (None, 6, 6, 32)          128       \n",
      "_________________________________________________________________\n",
      "max_pooling2d_9 (MaxPooling2 (None, 3, 3, 32)          0         \n",
      "_________________________________________________________________\n",
      "dropout_10 (Dropout)         (None, 3, 3, 32)          0         \n",
      "_________________________________________________________________\n",
      "conv2d_10 (Conv2D)           (None, 3, 3, 16)          4624      \n",
      "_________________________________________________________________\n",
      "batch_normalization_8 (Batch (None, 3, 3, 16)          64        \n",
      "_________________________________________________________________\n",
      "max_pooling2d_10 (MaxPooling (None, 1, 1, 16)          0         \n",
      "_________________________________________________________________\n",
      "dropout_11 (Dropout)         (None, 1, 1, 16)          0         \n",
      "_________________________________________________________________\n",
      "flatten_2 (Flatten)          (None, 16)                0         \n",
      "_________________________________________________________________\n",
      "dense_3 (Dense)              (None, 32)                544       \n",
      "_________________________________________________________________\n",
      "dropout_12 (Dropout)         (None, 32)                0         \n",
      "_________________________________________________________________\n",
      "dense_4 (Dense)              (None, 7)                 231       \n",
      "=================================================================\n",
      "Total params: 693,687\n",
      "Trainable params: 693,207\n",
      "Non-trainable params: 480\n",
      "_________________________________________________________________\n"
     ]
    }
   ],
   "source": [
    "model = get_model_v20(dropout=(0.25,0.25,0.25,0.30,0.30))\n",
    "model.summary()"
   ]
  },
  {
   "cell_type": "markdown",
   "metadata": {},
   "source": [
    "<h3>3eme appel de la fonction d'apprentissage</h3>\n",
    "<p>C'est un nouvel modele car la avleur dropout est change en raison de sous-apprentissage<br>\n",
    "Ceci nous permet de ne pas tomber dans un processu trop couteux<br>\n",
    "S'il a besoin plus d'epoch pour apprentissage, on peut appeler la meme fonction</p>"
   ]
  },
  {
   "cell_type": "code",
   "execution_count": null,
   "metadata": {},
   "outputs": [
    {
     "name": "stdout",
     "output_type": "stream",
     "text": [
      "Fitting the model with new train set and new validation set ...\n",
      "Train on 28709 samples, validate on 3589 samples\n",
      "Epoch 1/30\n",
      "28709/28709 [==============================] - 704s 25ms/step - loss: 1.9283 - accuracy: 0.2053 - val_loss: 1.8261 - val_accuracy: 0.2494\n",
      "Epoch 2/30\n",
      "28709/28709 [==============================] - 698s 24ms/step - loss: 1.8191 - accuracy: 0.2418 - val_loss: 1.7900 - val_accuracy: 0.2625\n",
      "Epoch 3/30\n",
      "28709/28709 [==============================] - 702s 24ms/step - loss: 1.7973 - accuracy: 0.2532 - val_loss: 1.7667 - val_accuracy: 0.2692\n",
      "Epoch 4/30\n",
      "28709/28709 [==============================] - 699s 24ms/step - loss: 1.7537 - accuracy: 0.2844 - val_loss: 1.8027 - val_accuracy: 0.2555\n",
      "Epoch 5/30\n",
      "28709/28709 [==============================] - 699s 24ms/step - loss: 1.6784 - accuracy: 0.3317 - val_loss: 1.7203 - val_accuracy: 0.2795\n",
      "Epoch 6/30\n",
      "28709/28709 [==============================] - 697s 24ms/step - loss: 1.6061 - accuracy: 0.3676 - val_loss: 1.5110 - val_accuracy: 0.4216\n",
      "Epoch 7/30\n",
      "28709/28709 [==============================] - 697s 24ms/step - loss: 1.5497 - accuracy: 0.3956 - val_loss: 1.7211 - val_accuracy: 0.3469\n",
      "Epoch 8/30\n",
      "28709/28709 [==============================] - 699s 24ms/step - loss: 1.5054 - accuracy: 0.4163 - val_loss: 1.4465 - val_accuracy: 0.4361\n",
      "Epoch 9/30\n",
      "28709/28709 [==============================] - 695s 24ms/step - loss: 1.4692 - accuracy: 0.4286 - val_loss: 1.3612 - val_accuracy: 0.4770\n",
      "Epoch 10/30\n",
      "28709/28709 [==============================] - 693s 24ms/step - loss: 1.4416 - accuracy: 0.4424 - val_loss: 1.4525 - val_accuracy: 0.4361\n",
      "Epoch 11/30\n",
      "28709/28709 [==============================] - 694s 24ms/step - loss: 1.4179 - accuracy: 0.4493 - val_loss: 1.3783 - val_accuracy: 0.4661\n",
      "Epoch 12/30\n",
      "28709/28709 [==============================] - 693s 24ms/step - loss: 1.3935 - accuracy: 0.4643 - val_loss: 1.4216 - val_accuracy: 0.4511\n",
      "Epoch 13/30\n",
      "28709/28709 [==============================] - 690s 24ms/step - loss: 1.3731 - accuracy: 0.4746 - val_loss: 1.2896 - val_accuracy: 0.5091\n",
      "Epoch 14/30\n",
      "28709/28709 [==============================] - 692s 24ms/step - loss: 1.3532 - accuracy: 0.4793 - val_loss: 1.3129 - val_accuracy: 0.4923\n",
      "Epoch 15/30\n",
      "28709/28709 [==============================] - 691s 24ms/step - loss: 1.3396 - accuracy: 0.4866 - val_loss: 1.2755 - val_accuracy: 0.5152\n",
      "Epoch 16/30\n",
      "28709/28709 [==============================] - 692s 24ms/step - loss: 1.3262 - accuracy: 0.4923 - val_loss: 1.2803 - val_accuracy: 0.5116\n",
      "Epoch 17/30\n",
      "28709/28709 [==============================] - 691s 24ms/step - loss: 1.3040 - accuracy: 0.5005 - val_loss: 1.2594 - val_accuracy: 0.5180\n",
      "Epoch 18/30\n",
      "28709/28709 [==============================] - 691s 24ms/step - loss: 1.2917 - accuracy: 0.5076 - val_loss: 1.2172 - val_accuracy: 0.5352\n",
      "Epoch 19/30\n",
      " 3200/28709 [==>...........................] - ETA: 10:16 - loss: 1.2748 - accuracy: 0.5156"
     ]
    }
   ],
   "source": [
    "h3, r3 = fit_test_save_hist(model, fnm='fer23.json', fnw='fer23.h5')"
   ]
  },
  {
   "cell_type": "code",
   "execution_count": null,
   "metadata": {},
   "outputs": [],
   "source": []
  },
  {
   "cell_type": "code",
   "execution_count": null,
   "metadata": {},
   "outputs": [],
   "source": []
  },
  {
   "cell_type": "code",
   "execution_count": 17,
   "metadata": {},
   "outputs": [
    {
     "name": "stdout",
     "output_type": "stream",
     "text": [
      "Fitting the model with new train set and new validation set ...\n",
      "Train on 28709 samples, validate on 3589 samples\n",
      "Epoch 1/10\n",
      "28709/28709 [==============================] - 711s 25ms/step - loss: 2.1001 - accuracy: 0.1928 - val_loss: 1.8376 - val_accuracy: 0.2154\n",
      "Epoch 2/10\n",
      "28709/28709 [==============================] - 704s 25ms/step - loss: 1.8485 - accuracy: 0.2302 - val_loss: 1.8247 - val_accuracy: 0.2274\n",
      "Epoch 3/10\n",
      "28709/28709 [==============================] - 701s 24ms/step - loss: 1.8208 - accuracy: 0.2434 - val_loss: 1.7945 - val_accuracy: 0.2566\n",
      "Epoch 4/10\n",
      "28709/28709 [==============================] - 701s 24ms/step - loss: 1.8112 - accuracy: 0.2483 - val_loss: 1.7877 - val_accuracy: 0.2583\n",
      "Epoch 5/10\n",
      "28709/28709 [==============================] - 702s 24ms/step - loss: 1.8032 - accuracy: 0.2547 - val_loss: 1.7862 - val_accuracy: 0.2508\n",
      "Epoch 6/10\n",
      "28709/28709 [==============================] - 707s 25ms/step - loss: 1.7974 - accuracy: 0.2547 - val_loss: 1.7743 - val_accuracy: 0.2583\n",
      "Epoch 7/10\n",
      "28709/28709 [==============================] - 708s 25ms/step - loss: 1.7862 - accuracy: 0.2626 - val_loss: 1.7877 - val_accuracy: 0.2549\n",
      "Epoch 8/10\n",
      "28709/28709 [==============================] - 718s 25ms/step - loss: 1.7705 - accuracy: 0.2736 - val_loss: 1.8353 - val_accuracy: 0.2502\n",
      "Epoch 9/10\n",
      "28709/28709 [==============================] - 706s 25ms/step - loss: 1.7310 - accuracy: 0.2940 - val_loss: 1.8663 - val_accuracy: 0.1892\n",
      "Epoch 10/10\n",
      "28709/28709 [==============================] - 716s 25ms/step - loss: 1.6918 - accuracy: 0.3192 - val_loss: 1.7977 - val_accuracy: 0.3045\n",
      "Saved model to disk done\n",
      "Evaluating the model on test data ...\n",
      "3589/3589 [==============================] - 20s 6ms/step\n",
      "test loss, test acc: [1.816189228143158, 0.2956255078315735]\n"
     ]
    },
    {
     "name": "stderr",
     "output_type": "stream",
     "text": [
      "C:\\Users\\jeang\\anaconda3\\envs\\rl_env\\lib\\site-packages\\ipykernel_launcher.py:7: RuntimeWarning: invalid value encountered in true_divide\n",
      "  import sys\n"
     ]
    },
    {
     "data": {
      "image/png": "[encoded data removed]",
      "text/plain": [
       "<Figure size 432x288 with 1 Axes>"
      ]
     },
     "metadata": {
      "needs_background": "light"
     },
     "output_type": "display_data"
    }
   ],
   "source": [
    "history, test_result = fit_test_save_hist(model, ep=10, fnm='fer20.json', fnw='fer20.h5')"
   ]
  },
  {
   "cell_type": "markdown",
   "metadata": {},
   "source": [
    "<h3>2eme appel de la fonction d'apprentissage</h3>\n",
    "<p>Le nombre d'epoche etait change a 10<br>\n",
    "Ceci nous permet de ne pas tomber dans un processu trop couteux<br>\n",
    "S'il a besoin plus d'epoch pour apprentissage, on peut appeler la meme fonction</p>"
   ]
  },
  {
   "cell_type": "code",
   "execution_count": null,
   "metadata": {},
   "outputs": [
    {
     "name": "stdout",
     "output_type": "stream",
     "text": [
      "Fitting the model with new train set and new validation set ...\n",
      "Train on 28709 samples, validate on 3589 samples\n",
      "Epoch 1/10\n",
      "10880/28709 [==========>...................] - ETA: 7:16 - loss: 1.6465 - accuracy: 0.3461"
     ]
    }
   ],
   "source": [
    "h1, r1 = fit_test_save_hist(model, ep=10, fnm='fer21.json', fnw='fer21.h5')"
   ]
  },
  {
   "cell_type": "code",
   "execution_count": null,
   "metadata": {},
   "outputs": [],
   "source": []
  },
  {
   "cell_type": "code",
   "execution_count": null,
   "metadata": {},
   "outputs": [],
   "source": []
  },
  {
   "cell_type": "code",
   "execution_count": null,
   "metadata": {},
   "outputs": [],
   "source": []
  },
  {
   "cell_type": "code",
   "execution_count": null,
   "metadata": {},
   "outputs": [],
   "source": [
    "from keras.utils.data_utils import Sequence\n",
    "from imblearn.over_sampling import RandomOverSampler\n",
    "from imblearn.keras import balanced_batch_generator\n",
    "\n",
    "class BalancedDataGenerator(Sequence):\n",
    "    \"\"\"ImageDataGenerator + RandomOversampling\"\"\"\n",
    "    def __init__(self, x, y, datagen, batch_size=32):\n",
    "        self.datagen = datagen\n",
    "        self.batch_size = min(batch_size, x.shape[0])\n",
    "        datagen.fit(x)\n",
    "        self.gen, self.steps_per_epoch = balanced_batch_generator(x.reshape(x.shape[0], -1), y, \n",
    "                                                                  sampler=RandomOverSampler(), \n",
    "                                                                  batch_size=self.batch_size, keep_sparse=True)\n",
    "        self._shape = (self.steps_per_epoch * batch_size, *x.shape[1:])\n",
    "        \n",
    "    def __len__(self):\n",
    "        return self.steps_per_epoch\n",
    "\n",
    "    def __getitem__(self, idx):\n",
    "        x_batch, y_batch = self.gen.__next__()\n",
    "        x_batch = x_batch.reshape(-1, *self._shape[1:])\n",
    "        return self.datagen.flow(x_batch, y_batch, batch_size=self.batch_size).next()"
   ]
  },
  {
   "cell_type": "code",
   "execution_count": null,
   "metadata": {},
   "outputs": [],
   "source": [
    "datagen = ImageDataGenerator(...) # define your data augmentation\n",
    "bgen = BalancedDataGenerator(x, y, datagen, batch_size=32)\n",
    "steps_per_epoch = bgen.steps_per_epoch"
   ]
  },
  {
   "cell_type": "code",
   "execution_count": null,
   "metadata": {},
   "outputs": [],
   "source": [
    "y_gen = [bgen.__getitem__(0)[1] for i in range(steps_per_epoch)]\n",
    "print(np.unique(y_gen, return_counts=True))"
   ]
  },
  {
   "cell_type": "code",
   "execution_count": null,
   "metadata": {},
   "outputs": [],
   "source": []
  },
  {
   "cell_type": "code",
   "execution_count": null,
   "metadata": {},
   "outputs": [],
   "source": []
  },
  {
   "cell_type": "code",
   "execution_count": null,
   "metadata": {},
   "outputs": [],
   "source": []
  },
  {
   "cell_type": "code",
   "execution_count": null,
   "metadata": {},
   "outputs": [],
   "source": [
    "x, y = ... # load your data\n",
    "datagen = ImageDataGenerator()\n",
    "balanced_gen = BalancedDataGenerator(x, y, datagen, batch_size=32)\n",
    "steps_per_epoch = balanced_gen.steps_per_epoch\n",
    "model = ... # define your model\n",
    "model.compile(...) # define your compile parameters\n",
    "model.fit_generator(balanced_gen, steps_per_epoch, ...)"
   ]
  }
 ],
 "metadata": {
  "kernelspec": {
   "display_name": "Python 3",
   "language": "python",
   "name": "python3"
  },
  "language_info": {
   "codemirror_mode": {
    "name": "ipython",
    "version": 3
   },
   "file_extension": ".py",
   "mimetype": "text/x-python",
   "name": "python",
   "nbconvert_exporter": "python",
   "pygments_lexer": "ipython3",
   "version": "3.7.7"
  }
 },
 "nbformat": 4,
 "nbformat_minor": 4
}
