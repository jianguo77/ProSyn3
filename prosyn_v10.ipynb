{
 "cells": [
  {
   "cell_type": "markdown",
   "metadata": {},
   "source": [
    "<div style=\"background-color:powderblue;\"><h1>Projet Synthese</h1><br><b>Groupe 3: Amardeepkumar Haulkhory, Hilaire Yuma, Jian-Guo Zhao, Mamadou Sy</b></div>"
   ]
  },
  {
   "cell_type": "markdown",
   "metadata": {},
   "source": [
    "<h2>Partie II Apprentissage par <abbr title=\"Convolutional Neural Networks\"><b>CNN </b></abbr></h2>\n",
    "<p>Definir le <abbr title=\"Convolutional Neural Networks\"><b>CNN </b></abbr>architecture:</p>\n",
    "<ol>\n",
    "<li>La premiere couche, Conv2D, prend un batch de donnees avec input_shape=(48,48,1)</li>\n",
    "<li>La deuxieme couche, Conv2D, prend la sortie de couche 1, keras determine le shape automatiquement</li>\n",
    "    <li>Il n'est pas necessaire d'indiquer input_shape pour les couches plus profondes</li>\n",
    "    <li>La troisieme couche, Conv2D, prend la sortie de la couche 2, keras determine le shape automatiquement</li>\n",
    "    <li>Ainsi de suite, on peut ajouter autres couches Conv2D s'il y en a besoin</li>\n",
    "    <li>Entre chaque deux couches Conv2D, une couche Max pooling, taille (2,2), est ajoutee, pour bonne apprentissage</li>\n",
    "    <li>Pour reduire le sur-apprentissage, une couche de regularisation Dropout pourrait aussi etre ajoutee</li>\n",
    "    <li>Pour une meilleur performance, une couche Normalisation pourrait etre aussi appliquee</li>\n",
    "<li>Avant la couche dense, nous allons ajouter une couche Flatten qui convert le matrix 2D en vector 1D</li>\n",
    "    <li>Puis, une couche Dense avec une fonction activation ReLu</li>\n",
    "    <li>Encore une couche de regularization Dropout est appliquee</li>\n",
    "    <li>Enfin, la couche de sortie donne 7 neurons pour les 7 classes avec une fonction activation softmax qui donne la possibilite de prediction pour chaque class.</li>\n",
    "</ol>"
   ]
  },
  {
   "cell_type": "markdown",
   "metadata": {},
   "source": [
    "<h3>Dependences - packages nécessaires</h3>\n",
    "<p>En utilisant <b>tensorflow.compat.v1</b>, vous devez desactiver eager_execution.<br>Ce n'est pas le cas pour <b>tensorflow.v2</b>. De plus, le package <b>tensorflow</b> n'a pas la fonction <b><i>disable_eager_execution</i></b>.</p>"
   ]
  },
  {
   "cell_type": "code",
   "execution_count": 29,
   "metadata": {},
   "outputs": [],
   "source": [
    "import tensorflow as tf\n",
    "#import tensorflow.compat.v1 as tf\n",
    "#tf.disable_eager_execution()\n",
    "\n",
    "from keras.models import Sequential\n",
    "from keras.layers import Dense, Conv2D, Dropout, Flatten, MaxPooling2D \n",
    "from keras.utils import to_categorical\n",
    "\n",
    "import numpy as np      # linear algebra\n",
    "import pandas as pd     # data processing, CSV file I/O (e.g. pd.read_csv)\n",
    "import matplotlib.pyplot as plt\n",
    "import seaborn as sns\n",
    "from sklearn.metrics import confusion_matrix\n",
    "\n",
    "import os\n",
    "from keras.layers.normalization import BatchNormalization\n",
    "from keras.preprocessing.image import ImageDataGenerator\n",
    "\n",
    "from numpy import expand_dims\n",
    "from keras.preprocessing.image import img_to_array"
   ]
  },
  {
   "cell_type": "code",
   "execution_count": 2,
   "metadata": {},
   "outputs": [],
   "source": [
    "%matplotlib inline"
   ]
  },
  {
   "cell_type": "markdown",
   "metadata": {},
   "source": [
    "<h3>Chargement des donnees</h3>\n",
    "<p>Pour eviter l'operation <b>download</b> des donnees se fait chaque fois, on les sauvegarde dans un repertoire local, qui est differente pour different colaborateurs. Veuillez changez la valeur de variable <b><i>data_dir</i></b> si necessaire</p>"
   ]
  },
  {
   "cell_type": "code",
   "execution_count": 3,
   "metadata": {},
   "outputs": [],
   "source": [
    "# download the data from web and saved to local directory\n",
    "# put the data in a variable make the following code usable for any data sources\n",
    "# Original data is hold by df\n",
    "data_dir = \"C:\\\\Users\\\\jeang\\\\Documents\\\\BDEB\\\\A62\\\\ProSyn3\\\\data\\\\fer2013.csv\"\n",
    "df = pd.read_csv(data_dir )"
   ]
  },
  {
   "cell_type": "markdown",
   "metadata": {},
   "source": [
    "<h3>Repartition des donnees</h3>\n",
    "<p>Les donnees originales sont repartie en trois partie. Selons Partie I, la cible est bien balance dans ces trois parties</p>"
   ]
  },
  {
   "cell_type": "code",
   "execution_count": 4,
   "metadata": {},
   "outputs": [],
   "source": [
    "df_training = df[df['Usage']=='Training']\n",
    "df_PublicTest = df[df['Usage']=='PublicTest']\n",
    "df_PrivateTest = df[df['Usage']=='PrivateTest']"
   ]
  },
  {
   "cell_type": "markdown",
   "metadata": {},
   "source": [
    "<h3>Fonction de transformation des données</h3>\n",
    "<p><ul> La fonction <b><i>fer2013_to_4d_array</i></b> prend comme entree une dataframe qui tienne les donnees d'images en format des chaines de caracteres.<br>Elle retoune comme sortie un <b>np.array</b> de <mark>4 dimensions</mark>, normalisee, utilisables comme entree pour <b>tensorflow CNN<b></ul></p>"
   ]
  },
  {
   "cell_type": "code",
   "execution_count": 9,
   "metadata": {},
   "outputs": [
    {
     "data": {
      "image/png": "[encoded data removed]",
      "text/plain": [
       "<Figure size 432x288 with 1 Axes>"
      ]
     },
     "metadata": {
      "needs_background": "light"
     },
     "output_type": "display_data"
    }
   ],
   "source": [
    "#import numpy as np\n",
    "#import matplotlib.pyplot as plt\n",
    "\n",
    "FER2013_WIDTH = 48\n",
    "FER2013_HEIGHT = 48\n",
    "\n",
    "# indices 0 - 6 correspondent emotions suivantes\n",
    "Emotions = [\"Angry\", \"Disgust\", \"Fear\", \"Happy\", \"Sad\", \"Surprise\", \"Neutral\"]  \n",
    "\n",
    "def string_to_image(str_in):\n",
    "    return np.reshape(str_in.split(\" \"), (FER2013_WIDTH, FER2013_HEIGHT)).astype(\"float\")\n",
    "\n",
    "def fer2013_show_instance(index, d=df):\n",
    "    \"\"\"Shows the image and the emotion label of the index's instance.\"\"\"\n",
    "    category, str_image = d.at[index,'emotion'], d.at[index,'pixels']\n",
    "    image = string_to_image(str_image)\n",
    "    plt.imshow(image, cmap=\"gray\")\n",
    "    plt.title(f\"Exemple de categorie {category}: {Emotions[category]}\")\n",
    "    \n",
    "fer2013_show_instance(np.random.randint(0,len(df_training)))"
   ]
  },
  {
   "cell_type": "code",
   "execution_count": 10,
   "metadata": {},
   "outputs": [],
   "source": [
    "def fer2013_to_4d_array(d=df):\n",
    "    \"\"\"Transforms the (blank separated) pixel strings in the DataFrame to an 4-dimensional array \n",
    "    (1st dim: instances, 2nd and 3rd dims represent 2D image, 4th dim represent the color).\"\"\"\n",
    "    \n",
    "    pixels_list = d[\"pixels\"].values\n",
    "    list_image_2d = [string_to_image(pixels) for pixels in pixels_list]\n",
    "        \n",
    "    # Convert list to 4D array:\n",
    "    X = np.expand_dims(np.array(list_image_2d), -1)\n",
    "    print(f\"The given data <pixel strings> has been converted to {X.shape} array\")\n",
    "    \n",
    "    return X / 255"
   ]
  },
  {
   "cell_type": "markdown",
   "metadata": {},
   "source": [
    "<p>On applique la fonction <b><i>fer2013_to_4d_array</i></b> sur les trois partitions</P>"
   ]
  },
  {
   "cell_type": "code",
   "execution_count": 11,
   "metadata": {},
   "outputs": [
    {
     "name": "stdout",
     "output_type": "stream",
     "text": [
      "The given data <pixel strings> has been converted to (28709, 48, 48, 1) array\n",
      "The given data <pixel strings> has been converted to (3589, 48, 48, 1) array\n",
      "The given data <pixel strings> has been converted to (3589, 48, 48, 1) array\n"
     ]
    }
   ],
   "source": [
    "X_train = fer2013_to_4d_array(df_training)\n",
    "X_test = fer2013_to_4d_array(df_PrivateTest)\n",
    "X_valid = fer2013_to_4d_array(df_PublicTest)"
   ]
  },
  {
   "cell_type": "markdown",
   "metadata": {},
   "source": [
    "<h3>Fonction de transformation pour la cible</h3>\n",
    "<p><ul>\n",
    "    <li>La fonction <b style=\"backgroud-color:powerblue\"><i>one_hot_label</i></b> prend comme entree une dataframe qui tienne les donnees d'emotions en format categoriel (7 classes).<br>Elle retoune comme sortie un <b>np.array</b> de <mark>2 dim</mark>. Les classes sont reparties en 7 colonnes, une pour chaque, utilisables pour <b>tensorflow<b></li>\n",
    "    <li><b><mark>keras.utils.to_categorical</mark></b> peut faire le meme travail la sortie est du dtype float32</li>\n",
    "</ul></p>"
   ]
  },
  {
   "cell_type": "code",
   "execution_count": 22,
   "metadata": {},
   "outputs": [
    {
     "data": {
      "text/plain": [
       "array([[1., 0., 0., 0., 0., 0., 0.],\n",
       "       [1., 0., 0., 0., 0., 0., 0.],\n",
       "       [0., 0., 1., 0., 0., 0., 0.],\n",
       "       [0., 0., 0., 0., 1., 0., 0.],\n",
       "       [0., 0., 0., 0., 0., 0., 1.]], dtype=float32)"
      ]
     },
     "execution_count": 22,
     "metadata": {},
     "output_type": "execute_result"
    }
   ],
   "source": [
    "CLASS_NUMBER = 7\n",
    "Y_train = to_categorical(df_training.emotion, CLASS_NUMBER)\n",
    "Y_test = to_categorical(df_PrivateTest.emotion, CLASS_NUMBER)\n",
    "Y_valid = to_categorical(df_PublicTest.emotion, CLASS_NUMBER)\n",
    "Y_train[:5]"
   ]
  },
  {
   "cell_type": "markdown",
   "metadata": {},
   "source": [
    "<h3>Fonction <i>show_confusion_matrix</i></h3>\n",
    "<p><ul>\n",
    "<li>Cette fonction <b style=\"backgroud-color:powerblue\"><i>show_confusion_matrix</i></b> prend comme entree un modele</li>\n",
    "    <li>Elle appelle la fonction <i style=\"color:blue\">sklearn.metrics.confusion_matrix</i> en utilisant les donnees dans TestSet</li>\n",
    "<li>pour retoune comme sortie un <b>pandas.DataFrame</b></li>\n",
    "    </ul></p>"
   ]
  },
  {
   "cell_type": "code",
   "execution_count": 13,
   "metadata": {},
   "outputs": [],
   "source": [
    "def show_confusion_matrix(model):\n",
    "    submission = pd.DataFrame(model.predict(X_test))\n",
    "    submission['label'] = submission.idxmax(axis=1)\n",
    "    # y_pred = submission['label']\n",
    "    # y_real = df_PrivateTest['emotion']\n",
    "    cm = confusion_matrix(submission['label'], df_PrivateTest['emotion'])\n",
    "    cm = cm.astype('float') / cm.sum(axis=1)[:, np.newaxis]\n",
    "    cm = cm.round(2)\n",
    "    return pd.DataFrame(cm)"
   ]
  },
  {
   "cell_type": "markdown",
   "metadata": {},
   "source": [
    "<h3>Fonction <i>save_model</i></h3>\n",
    "<p><ul>\n",
    "<li>Cette fonction <b style=\"backgroud-color:powerblue\"><i>save_model</i></b> prend comme entree un modele</li>\n",
    "<li>Elle appelle <i style=\"color:blue\">keras.models.to_json</i> et <i style=\"color:blue\">keras.models.save_weights</i></li>\n",
    "<li>Puis sauvegarde le modele et les poids dans deux fichies dont les nom sont fournies par utilisateur</li>\n",
    "<li>Si soit le nom de fichier, soit le nom du repertoire, non fournie, elle utilise un nom par defaut</li>\n",
    "    </ul></p>"
   ]
  },
  {
   "cell_type": "code",
   "execution_count": 14,
   "metadata": {},
   "outputs": [],
   "source": [
    "def save_model(model, file_json=\"\", file_weight=\"\", workdir=\"\"):\n",
    "    # serialize model to JSON\n",
    "    model_json = model.to_json()\n",
    "    projet_dir = workdir if len(workdir)>0 else \"C:\\\\Users\\\\jeang\\\\Documents\\\\BDEB\\\\A62\\\\ProSyn3\"\n",
    "    model_filename = 'fer.json' if file_json==\"\" else file_json\n",
    "    with open(os.path.join(projet_dir, model_filename), \"w\") as json_file:\n",
    "        json_file.write(model_json)\n",
    "\n",
    "    # serialize weights to HDF5\n",
    "    # model.save_weights(\"C:\\\\Users\\\\Nisha Haulkhory\\\\projet de synthese\\\\GIT\\\\ProSyn3\\\\fer.h5\")\n",
    "    weight_filename = 'fer.h5' if file_weight==\"\" else file_weight\n",
    "    model.save_weights(os.path.join(projet_dir, weight_filename))\n",
    "    print(\"Saved model to disk done\")"
   ]
  },
  {
   "cell_type": "markdown",
   "metadata": {},
   "source": [
    "<h3>Fonction <i>get_model_v10</i></h3>\n",
    "<p><ul>\n",
    "<li>Cette fonction <b style=\"backgroud-color:powerblue\"><i>get_model_v10</i></b> peut prendre seulement quelques hyperparametres</li>\n",
    "<li>Elle appelle <i style=\"color:blue\">keras.models.Sequential</i> qui nous permet avec les hyperparametres de construire un cnn</li>\n",
    "<li>Les valeurs par defaut sont notre choix entre les meilleures en ce moment, mais ceci vous donne la possibilite de les choisir</li>\n",
    "<li>Elle retourne un architecture d'un modele Sequential qu'on peut l'entrainner et le tester</li>\n",
    "    </ul></p>"
   ]
  },
  {
   "cell_type": "code",
   "execution_count": 18,
   "metadata": {},
   "outputs": [],
   "source": [
    "def get_model_v10(num_layers=5, num_filtre=(512, 128, 64, 64, 32), k_size=3, p_size=(2, 2), dropout=0.25):\n",
    "    input_shape = (48, 48, 1)\n",
    "    model = Sequential()\n",
    "    for layer in range(num_layers): \n",
    "        if layer == 0:\n",
    "            model.add(Conv2D(num_filtre[layer], kernel_size=k_size, activation=tf.nn.relu, padding=\"same\", input_shape=input_shape))\n",
    "        else:\n",
    "            model.add(Conv2D(num_filtre[layer], kernel_size=k_size, activation=tf.nn.relu, padding=\"same\"))\n",
    "        model.add(MaxPooling2D(pool_size=p_size))\n",
    "        model.add(BatchNormalization())\n",
    "        model.add(Dropout(dropout))\n",
    "\n",
    "    model.add(Flatten())                          # Flattening the 2D arrays for fully connected layers\n",
    "    model.add(Dense(32, activation=tf.nn.relu))\n",
    "    model.add(Dropout(dropout))\n",
    "    model.add(Dense(7,activation=tf.nn.softmax))\n",
    "    model.compile(optimizer='adam', loss='categorical_crossentropy', metrics=['accuracy'])\n",
    "    return model"
   ]
  },
  {
   "cell_type": "markdown",
   "metadata": {},
   "source": [
    "<h3>Fonction <i>fit_test_save_model</i></h3>\n",
    "<p><ul>\n",
    "<li>Cette fonction <b style=\"backgroud-color:powerblue\"><i>fit_test_save_model</i></b> prend comme entree un modele cnn et quelques hyperparametres</li>\n",
    "<li>Elle appelle <i style=\"color:blue\">keras.models.Sequential.fit</i> pour apprendre le modele cnn</li>\n",
    "    <li>Elle affiche l'evolution d'apprentissage en utilisant <i style=\"color:blue\">seaborn.lineplot</i></li>\n",
    "<li>Puis, elle appelle <i style=\"color:blue\">keras.models.Sequential.evaluate</i> pour tester le modele\n",
    "<li>Les valeurs par defaut vous donne la possibilite de les choisir</li>\n",
    "<li>Elle retourne None, l'histoire d'apprentissage du modele et le resultat du test ne sont pas utilisables</li>\n",
    "    </ul></p>"
   ]
  },
  {
   "cell_type": "code",
   "execution_count": 19,
   "metadata": {},
   "outputs": [],
   "source": [
    "def fit_test_save_model(model, bs=32, ep=30, fnm='fer.json', fnw='fer.h5'):\n",
    "    print(\"Fitting the model with train set and validation set ...\")\n",
    "    l = model.fit(x=X_train, y=Y_train, validation_data = (X_valid, Y_valid), batch_size=bs, epochs=ep)\n",
    "    sns.lineplot(data=pd.DataFrame(l.history)[['accuracy','val_accuracy']], palette=\"tab10\", linewidth=2.5);\n",
    "    save_model(model, file_json=fnm, file_weight=fnw)\n",
    "    print(\"Evaluating the model on test data ...\")\n",
    "    results = model.evaluate(X_test, Y_test)\n",
    "    print(\"test loss, test acc:\", results)"
   ]
  },
  {
   "cell_type": "markdown",
   "metadata": {},
   "source": [
    "<h3>Appliquer la <i style=\"color:blue\">fonction get_model_v10</i></h3>"
   ]
  },
  {
   "cell_type": "code",
   "execution_count": 20,
   "metadata": {},
   "outputs": [
    {
     "name": "stdout",
     "output_type": "stream",
     "text": [
      "Model: \"sequential_2\"\n",
      "_________________________________________________________________\n",
      "Layer (type)                 Output Shape              Param #   \n",
      "=================================================================\n",
      "conv2d_7 (Conv2D)            (None, 48, 48, 512)       5120      \n",
      "_________________________________________________________________\n",
      "max_pooling2d_7 (MaxPooling2 (None, 24, 24, 512)       0         \n",
      "_________________________________________________________________\n",
      "batch_normalization_6 (Batch (None, 24, 24, 512)       2048      \n",
      "_________________________________________________________________\n",
      "dropout_6 (Dropout)          (None, 24, 24, 512)       0         \n",
      "_________________________________________________________________\n",
      "conv2d_8 (Conv2D)            (None, 24, 24, 128)       589952    \n",
      "_________________________________________________________________\n",
      "max_pooling2d_8 (MaxPooling2 (None, 12, 12, 128)       0         \n",
      "_________________________________________________________________\n",
      "batch_normalization_7 (Batch (None, 12, 12, 128)       512       \n",
      "_________________________________________________________________\n",
      "dropout_7 (Dropout)          (None, 12, 12, 128)       0         \n",
      "_________________________________________________________________\n",
      "conv2d_9 (Conv2D)            (None, 12, 12, 64)        73792     \n",
      "_________________________________________________________________\n",
      "max_pooling2d_9 (MaxPooling2 (None, 6, 6, 64)          0         \n",
      "_________________________________________________________________\n",
      "batch_normalization_8 (Batch (None, 6, 6, 64)          256       \n",
      "_________________________________________________________________\n",
      "dropout_8 (Dropout)          (None, 6, 6, 64)          0         \n",
      "_________________________________________________________________\n",
      "conv2d_10 (Conv2D)           (None, 6, 6, 64)          36928     \n",
      "_________________________________________________________________\n",
      "max_pooling2d_10 (MaxPooling (None, 3, 3, 64)          0         \n",
      "_________________________________________________________________\n",
      "batch_normalization_9 (Batch (None, 3, 3, 64)          256       \n",
      "_________________________________________________________________\n",
      "dropout_9 (Dropout)          (None, 3, 3, 64)          0         \n",
      "_________________________________________________________________\n",
      "conv2d_11 (Conv2D)           (None, 3, 3, 32)          18464     \n",
      "_________________________________________________________________\n",
      "max_pooling2d_11 (MaxPooling (None, 1, 1, 32)          0         \n",
      "_________________________________________________________________\n",
      "batch_normalization_10 (Batc (None, 1, 1, 32)          128       \n",
      "_________________________________________________________________\n",
      "dropout_10 (Dropout)         (None, 1, 1, 32)          0         \n",
      "_________________________________________________________________\n",
      "flatten_1 (Flatten)          (None, 32)                0         \n",
      "_________________________________________________________________\n",
      "dense_1 (Dense)              (None, 32)                1056      \n",
      "_________________________________________________________________\n",
      "dropout_11 (Dropout)         (None, 32)                0         \n",
      "_________________________________________________________________\n",
      "dense_2 (Dense)              (None, 7)                 231       \n",
      "=================================================================\n",
      "Total params: 728,743\n",
      "Trainable params: 727,143\n",
      "Non-trainable params: 1,600\n",
      "_________________________________________________________________\n"
     ]
    }
   ],
   "source": [
    "model = get_model_v10()\n",
    "model.summary()"
   ]
  },
  {
   "cell_type": "markdown",
   "metadata": {},
   "source": [
    "<h3>Appliquer la fonction <i style=\"color:blue\">fit_test_save_model</i></h3>"
   ]
  },
  {
   "cell_type": "code",
   "execution_count": 23,
   "metadata": {},
   "outputs": [
    {
     "name": "stdout",
     "output_type": "stream",
     "text": [
      "Fitting the model with train set and validation set ...\n",
      "Train on 28709 samples, validate on 3589 samples\n",
      "Epoch 1/30\n",
      "28709/28709 [==============================] - 1047s 36ms/step - loss: 1.9531 - accuracy: 0.2170 - val_loss: 1.8536 - val_accuracy: 0.2494\n",
      "Epoch 2/30\n",
      "28709/28709 [==============================] - 1042s 36ms/step - loss: 1.7998 - accuracy: 0.2582 - val_loss: 1.7837 - val_accuracy: 0.2558\n",
      "Epoch 3/30\n",
      "28709/28709 [==============================] - 1044s 36ms/step - loss: 1.6900 - accuracy: 0.3239 - val_loss: 1.6953 - val_accuracy: 0.3043\n",
      "Epoch 4/30\n",
      "28709/28709 [==============================] - 1044s 36ms/step - loss: 1.5596 - accuracy: 0.3920 - val_loss: 1.7347 - val_accuracy: 0.3369\n",
      "Epoch 5/30\n",
      "28709/28709 [==============================] - 1043s 36ms/step - loss: 1.4729 - accuracy: 0.4296 - val_loss: 1.4229 - val_accuracy: 0.4556\n",
      "Epoch 6/30\n",
      "28709/28709 [==============================] - 1042s 36ms/step - loss: 1.4143 - accuracy: 0.4584 - val_loss: 1.5568 - val_accuracy: 0.3703\n",
      "Epoch 7/30\n",
      "28709/28709 [==============================] - 1042s 36ms/step - loss: 1.3568 - accuracy: 0.4824 - val_loss: 1.3857 - val_accuracy: 0.4712\n",
      "Epoch 8/30\n",
      "28709/28709 [==============================] - 1041s 36ms/step - loss: 1.3116 - accuracy: 0.5026 - val_loss: 1.3177 - val_accuracy: 0.4948\n",
      "Epoch 9/30\n",
      "28709/28709 [==============================] - 1042s 36ms/step - loss: 1.2715 - accuracy: 0.5170 - val_loss: 1.2473 - val_accuracy: 0.5213\n",
      "Epoch 10/30\n",
      "28709/28709 [==============================] - 1041s 36ms/step - loss: 1.2481 - accuracy: 0.5266 - val_loss: 1.2943 - val_accuracy: 0.5052\n",
      "Epoch 11/30\n",
      "28709/28709 [==============================] - 1041s 36ms/step - loss: 1.2248 - accuracy: 0.5381 - val_loss: 1.3150 - val_accuracy: 0.4957\n",
      "Epoch 12/30\n",
      "28709/28709 [==============================] - 1040s 36ms/step - loss: 1.1959 - accuracy: 0.5456 - val_loss: 1.1469 - val_accuracy: 0.5603\n",
      "Epoch 13/30\n",
      "28709/28709 [==============================] - 1050s 37ms/step - loss: 1.1844 - accuracy: 0.5526 - val_loss: 1.2489 - val_accuracy: 0.5261\n",
      "Epoch 14/30\n",
      "28709/28709 [==============================] - 1044s 36ms/step - loss: 1.1558 - accuracy: 0.5659 - val_loss: 1.1955 - val_accuracy: 0.5352\n",
      "Epoch 15/30\n",
      "28709/28709 [==============================] - 1048s 36ms/step - loss: 1.1385 - accuracy: 0.5722 - val_loss: 1.2041 - val_accuracy: 0.5322\n",
      "Epoch 16/30\n",
      "28709/28709 [==============================] - 1044s 36ms/step - loss: 1.1220 - accuracy: 0.5779 - val_loss: 1.2267 - val_accuracy: 0.5464\n",
      "Epoch 17/30\n",
      "28709/28709 [==============================] - 1044s 36ms/step - loss: 1.1019 - accuracy: 0.5886 - val_loss: 1.1296 - val_accuracy: 0.5564\n",
      "Epoch 18/30\n",
      "28709/28709 [==============================] - 1045s 36ms/step - loss: 1.0872 - accuracy: 0.5935 - val_loss: 1.1742 - val_accuracy: 0.5617\n",
      "Epoch 19/30\n",
      "28709/28709 [==============================] - 1044s 36ms/step - loss: 1.0787 - accuracy: 0.5944 - val_loss: 1.3017 - val_accuracy: 0.5071\n",
      "Epoch 20/30\n",
      "28709/28709 [==============================] - 1044s 36ms/step - loss: 1.0669 - accuracy: 0.6000 - val_loss: 1.1867 - val_accuracy: 0.5495\n",
      "Epoch 21/30\n",
      "28709/28709 [==============================] - 1048s 37ms/step - loss: 1.0600 - accuracy: 0.6082 - val_loss: 1.1626 - val_accuracy: 0.5550\n",
      "Epoch 22/30\n",
      "28709/28709 [==============================] - 1047s 36ms/step - loss: 1.0503 - accuracy: 0.6083 - val_loss: 1.1600 - val_accuracy: 0.5656\n",
      "Epoch 23/30\n",
      "28709/28709 [==============================] - 1047s 36ms/step - loss: 1.0375 - accuracy: 0.6145 - val_loss: 1.0889 - val_accuracy: 0.5868\n",
      "Epoch 24/30\n",
      "28709/28709 [==============================] - 1048s 36ms/step - loss: 1.0278 - accuracy: 0.6171 - val_loss: 1.1130 - val_accuracy: 0.5770\n",
      "Epoch 25/30\n",
      "28709/28709 [==============================] - 1048s 37ms/step - loss: 1.0115 - accuracy: 0.6234 - val_loss: 1.1342 - val_accuracy: 0.5709\n",
      "Epoch 26/30\n",
      "28709/28709 [==============================] - 1049s 37ms/step - loss: 1.0022 - accuracy: 0.6266 - val_loss: 1.1514 - val_accuracy: 0.5729\n",
      "Epoch 27/30\n",
      "28709/28709 [==============================] - 1048s 36ms/step - loss: 0.9943 - accuracy: 0.6304 - val_loss: 1.0612 - val_accuracy: 0.6004\n",
      "Epoch 28/30\n",
      "28709/28709 [==============================] - 1048s 37ms/step - loss: 0.9889 - accuracy: 0.6338 - val_loss: 1.1127 - val_accuracy: 0.5737\n",
      "Epoch 29/30\n",
      "28709/28709 [==============================] - 1048s 37ms/step - loss: 0.9818 - accuracy: 0.6349 - val_loss: 1.0971 - val_accuracy: 0.5876\n",
      "Epoch 30/30\n",
      "28709/28709 [==============================] - 1050s 37ms/step - loss: 0.9753 - accuracy: 0.6389 - val_loss: 1.0595 - val_accuracy: 0.6049\n",
      "Saved model to disk\n",
      "Evaluating the model on test data ...\n",
      "3589/3589 [==============================] - 35s 10ms/step\n",
      "test loss, test acc: [1.043177680920744, 0.6118695735931396]\n"
     ]
    },
    {
     "data": {
      "image/png": "[encoded data removed]",
      "text/plain": [
       "<Figure size 432x288 with 1 Axes>"
      ]
     },
     "metadata": {
      "needs_background": "light"
     },
     "output_type": "display_data"
    }
   ],
   "source": [
    "fit_test_save_model(model, bs=128, ep=30, fnm='fer10.json', fnw='fer10.h5')"
   ]
  },
  {
   "cell_type": "markdown",
   "metadata": {},
   "source": [
    "<h3>Appliquer deuxieme fois la fonction <i style=\"color:blue\">fit_test_save_model</i> sur le meme modele cnn</h3>\n",
    "<p> Nous coyons que la performance pourrait augmenter encore apres 30 epoches car la courbe val_accuracy n'est pas stable<br>Nous allons changer deux hyperparametre <abbr title='Batch_size'><b>bs</b></abbr> et <abbr title='epochs'><b>ep</b></abbr> pour voir leur effet</p> "
   ]
  },
  {
   "cell_type": "code",
   "execution_count": 24,
   "metadata": {},
   "outputs": [
    {
     "name": "stdout",
     "output_type": "stream",
     "text": [
      "Fitting the model with train set and validation set ...\n",
      "Train on 28709 samples, validate on 3589 samples\n",
      "Epoch 1/60\n",
      "28709/28709 [==============================] - 1059s 37ms/step - loss: 0.9354 - accuracy: 0.6550 - val_loss: 1.0692 - val_accuracy: 0.6016\n",
      "Epoch 2/60\n",
      "28709/28709 [==============================] - 1056s 37ms/step - loss: 0.9271 - accuracy: 0.6549 - val_loss: 1.1080 - val_accuracy: 0.5901\n",
      "Epoch 3/60\n",
      "28709/28709 [==============================] - 1048s 37ms/step - loss: 0.9161 - accuracy: 0.6616 - val_loss: 1.0856 - val_accuracy: 0.5887\n",
      "Epoch 4/60\n",
      "28709/28709 [==============================] - 1047s 36ms/step - loss: 0.9109 - accuracy: 0.6644 - val_loss: 1.0464 - val_accuracy: 0.6027\n",
      "Epoch 5/60\n",
      "28709/28709 [==============================] - 1061s 37ms/step - loss: 0.9063 - accuracy: 0.6657 - val_loss: 1.1035 - val_accuracy: 0.5957\n",
      "Epoch 6/60\n",
      "28709/28709 [==============================] - 1050s 37ms/step - loss: 0.8971 - accuracy: 0.6684 - val_loss: 1.0412 - val_accuracy: 0.6113\n",
      "Epoch 7/60\n",
      "28709/28709 [==============================] - 1053s 37ms/step - loss: 0.8962 - accuracy: 0.6678 - val_loss: 1.0707 - val_accuracy: 0.6024\n",
      "Epoch 8/60\n",
      "28709/28709 [==============================] - 1064s 37ms/step - loss: 0.8874 - accuracy: 0.6716 - val_loss: 1.0546 - val_accuracy: 0.6180\n",
      "Epoch 9/60\n",
      "28709/28709 [==============================] - 1057s 37ms/step - loss: 0.8887 - accuracy: 0.6734 - val_loss: 1.1430 - val_accuracy: 0.5834\n",
      "Epoch 10/60\n",
      "28709/28709 [==============================] - 1078s 38ms/step - loss: 0.8828 - accuracy: 0.6746 - val_loss: 1.2908 - val_accuracy: 0.5506\n",
      "Epoch 11/60\n",
      "28709/28709 [==============================] - 1077s 38ms/step - loss: 0.8793 - accuracy: 0.6722 - val_loss: 1.0524 - val_accuracy: 0.6208\n",
      "Epoch 12/60\n",
      "28709/28709 [==============================] - 1058s 37ms/step - loss: 0.8771 - accuracy: 0.6780 - val_loss: 1.0715 - val_accuracy: 0.6021\n",
      "Epoch 13/60\n",
      "28709/28709 [==============================] - 1053s 37ms/step - loss: 0.8777 - accuracy: 0.6764 - val_loss: 1.0822 - val_accuracy: 0.6085\n",
      "Epoch 14/60\n",
      "28709/28709 [==============================] - 1054s 37ms/step - loss: 0.8805 - accuracy: 0.6772 - val_loss: 1.0888 - val_accuracy: 0.6055\n",
      "Epoch 15/60\n",
      "28709/28709 [==============================] - 1052s 37ms/step - loss: 0.8634 - accuracy: 0.6811 - val_loss: 1.0649 - val_accuracy: 0.6057\n",
      "Epoch 16/60\n",
      "28709/28709 [==============================] - 1054s 37ms/step - loss: 0.8536 - accuracy: 0.6836 - val_loss: 1.0630 - val_accuracy: 0.6116\n",
      "Epoch 17/60\n",
      "28709/28709 [==============================] - 1052s 37ms/step - loss: 0.8513 - accuracy: 0.6875 - val_loss: 1.0550 - val_accuracy: 0.6191\n",
      "Epoch 18/60\n",
      "28709/28709 [==============================] - 1060s 37ms/step - loss: 0.8520 - accuracy: 0.6871 - val_loss: 1.0474 - val_accuracy: 0.6233\n",
      "Epoch 19/60\n",
      "28709/28709 [==============================] - 1087s 38ms/step - loss: 0.8573 - accuracy: 0.6819 - val_loss: 1.0594 - val_accuracy: 0.6124\n",
      "Epoch 20/60\n",
      "28709/28709 [==============================] - 1085s 38ms/step - loss: 0.8489 - accuracy: 0.6860 - val_loss: 1.0862 - val_accuracy: 0.6108\n",
      "Epoch 21/60\n",
      "28709/28709 [==============================] - 1080s 38ms/step - loss: 0.8399 - accuracy: 0.6929 - val_loss: 1.1210 - val_accuracy: 0.5907\n",
      "Epoch 22/60\n",
      "28709/28709 [==============================] - 1059s 37ms/step - loss: 0.8441 - accuracy: 0.6900 - val_loss: 1.0650 - val_accuracy: 0.6127\n",
      "Epoch 23/60\n",
      "28709/28709 [==============================] - 1072s 37ms/step - loss: 0.8389 - accuracy: 0.6885 - val_loss: 1.1387 - val_accuracy: 0.5899\n",
      "Epoch 24/60\n",
      "28709/28709 [==============================] - 1073s 37ms/step - loss: 0.8317 - accuracy: 0.6948 - val_loss: 1.0710 - val_accuracy: 0.6138\n",
      "Epoch 25/60\n",
      "28709/28709 [==============================] - 1063s 37ms/step - loss: 0.8257 - accuracy: 0.6962 - val_loss: 1.0735 - val_accuracy: 0.6202\n",
      "Epoch 26/60\n",
      "28709/28709 [==============================] - 1051s 37ms/step - loss: 0.8276 - accuracy: 0.6962 - val_loss: 1.1004 - val_accuracy: 0.6071\n",
      "Epoch 27/60\n",
      "28709/28709 [==============================] - 1050s 37ms/step - loss: 0.8225 - accuracy: 0.6939 - val_loss: 1.0667 - val_accuracy: 0.6099\n",
      "Epoch 28/60\n",
      "28709/28709 [==============================] - 1049s 37ms/step - loss: 0.8122 - accuracy: 0.7005 - val_loss: 1.0389 - val_accuracy: 0.6241\n",
      "Epoch 29/60\n",
      "28709/28709 [==============================] - 1048s 37ms/step - loss: 0.8129 - accuracy: 0.6992 - val_loss: 1.1208 - val_accuracy: 0.6013\n",
      "Epoch 30/60\n",
      "28709/28709 [==============================] - 1049s 37ms/step - loss: 0.8064 - accuracy: 0.7018 - val_loss: 1.0471 - val_accuracy: 0.6227\n",
      "Epoch 31/60\n",
      "28709/28709 [==============================] - 1048s 37ms/step - loss: 0.8059 - accuracy: 0.7043 - val_loss: 1.0531 - val_accuracy: 0.6272\n",
      "Epoch 32/60\n",
      "28709/28709 [==============================] - 1049s 37ms/step - loss: 0.7965 - accuracy: 0.7078 - val_loss: 1.0911 - val_accuracy: 0.6085\n",
      "Epoch 33/60\n",
      "28709/28709 [==============================] - 1083s 38ms/step - loss: 0.8082 - accuracy: 0.7051 - val_loss: 1.0875 - val_accuracy: 0.6108\n",
      "Epoch 34/60\n",
      "28709/28709 [==============================] - 1079s 38ms/step - loss: 0.7970 - accuracy: 0.7079 - val_loss: 1.0592 - val_accuracy: 0.6219\n",
      "Epoch 35/60\n",
      "28709/28709 [==============================] - 1059s 37ms/step - loss: 0.7952 - accuracy: 0.7092 - val_loss: 1.0439 - val_accuracy: 0.6283\n",
      "Epoch 36/60\n",
      "28709/28709 [==============================] - 1082s 38ms/step - loss: 0.7900 - accuracy: 0.7097 - val_loss: 1.1669 - val_accuracy: 0.6002\n",
      "Epoch 37/60\n",
      "28709/28709 [==============================] - 1217s 42ms/step - loss: 0.7952 - accuracy: 0.7086 - val_loss: 1.0653 - val_accuracy: 0.6172\n",
      "Epoch 38/60\n",
      "28709/28709 [==============================] - 1229s 43ms/step - loss: 0.7969 - accuracy: 0.7090 - val_loss: 1.0619 - val_accuracy: 0.6275\n",
      "Epoch 39/60\n",
      "28709/28709 [==============================] - 1094s 38ms/step - loss: 0.7871 - accuracy: 0.7139 - val_loss: 1.1176 - val_accuracy: 0.6127\n",
      "Epoch 40/60\n",
      "28709/28709 [==============================] - 1086s 38ms/step - loss: 0.7882 - accuracy: 0.7078 - val_loss: 1.0772 - val_accuracy: 0.6300\n",
      "Epoch 41/60\n",
      "28709/28709 [==============================] - 1092s 38ms/step - loss: 0.7821 - accuracy: 0.7174 - val_loss: 1.1157 - val_accuracy: 0.6141\n",
      "Epoch 42/60\n",
      "28709/28709 [==============================] - 1078s 38ms/step - loss: 0.7789 - accuracy: 0.7131 - val_loss: 1.0961 - val_accuracy: 0.6124\n",
      "Epoch 43/60\n",
      "28709/28709 [==============================] - 1086s 38ms/step - loss: 0.7770 - accuracy: 0.7164 - val_loss: 1.0482 - val_accuracy: 0.6197\n",
      "Epoch 44/60\n",
      "28709/28709 [==============================] - 1079s 38ms/step - loss: 0.7751 - accuracy: 0.7165 - val_loss: 1.1239 - val_accuracy: 0.6119\n",
      "Epoch 45/60\n",
      "28709/28709 [==============================] - 1079s 38ms/step - loss: 0.7709 - accuracy: 0.7208 - val_loss: 1.0751 - val_accuracy: 0.6216\n",
      "Epoch 46/60\n",
      "28709/28709 [==============================] - 1059s 37ms/step - loss: 0.7671 - accuracy: 0.7210 - val_loss: 1.0721 - val_accuracy: 0.6177\n",
      "Epoch 47/60\n",
      "28709/28709 [==============================] - 1057s 37ms/step - loss: 0.7747 - accuracy: 0.7177 - val_loss: 1.0566 - val_accuracy: 0.6236\n",
      "Epoch 48/60\n",
      "28709/28709 [==============================] - 1051s 37ms/step - loss: 0.7595 - accuracy: 0.7243 - val_loss: 1.1941 - val_accuracy: 0.5804\n",
      "Epoch 49/60\n",
      "28709/28709 [==============================] - 1064s 37ms/step - loss: 0.7689 - accuracy: 0.7178 - val_loss: 1.0907 - val_accuracy: 0.6208\n",
      "Epoch 50/60\n",
      "28709/28709 [==============================] - 1066s 37ms/step - loss: 0.7501 - accuracy: 0.7251 - val_loss: 1.1293 - val_accuracy: 0.6149\n",
      "Epoch 51/60\n",
      "28709/28709 [==============================] - 1058s 37ms/step - loss: 0.7561 - accuracy: 0.7248 - val_loss: 1.0641 - val_accuracy: 0.6289\n",
      "Epoch 52/60\n",
      "28709/28709 [==============================] - 1057s 37ms/step - loss: 0.7580 - accuracy: 0.7243 - val_loss: 1.0848 - val_accuracy: 0.6239\n",
      "Epoch 53/60\n",
      "28709/28709 [==============================] - 1063s 37ms/step - loss: 0.7507 - accuracy: 0.7272 - val_loss: 1.0653 - val_accuracy: 0.6311\n",
      "Epoch 54/60\n"
     ]
    },
    {
     "name": "stdout",
     "output_type": "stream",
     "text": [
      "28709/28709 [==============================] - 1054s 37ms/step - loss: 0.7479 - accuracy: 0.7271 - val_loss: 1.1154 - val_accuracy: 0.6197\n",
      "Epoch 55/60\n",
      "28709/28709 [==============================] - 1055s 37ms/step - loss: 0.7474 - accuracy: 0.7250 - val_loss: 1.1087 - val_accuracy: 0.6121\n",
      "Epoch 56/60\n",
      "28709/28709 [==============================] - 1058s 37ms/step - loss: 0.7447 - accuracy: 0.7290 - val_loss: 1.1515 - val_accuracy: 0.6085\n",
      "Epoch 57/60\n",
      "28709/28709 [==============================] - 1054s 37ms/step - loss: 0.7501 - accuracy: 0.7272 - val_loss: 1.0892 - val_accuracy: 0.6264\n",
      "Epoch 58/60\n",
      "28709/28709 [==============================] - 1055s 37ms/step - loss: 0.7339 - accuracy: 0.7319 - val_loss: 1.1602 - val_accuracy: 0.6021\n",
      "Epoch 59/60\n",
      "28709/28709 [==============================] - 1055s 37ms/step - loss: 0.7361 - accuracy: 0.7314 - val_loss: 1.0807 - val_accuracy: 0.6286\n",
      "Epoch 60/60\n",
      "28709/28709 [==============================] - 1057s 37ms/step - loss: 0.7340 - accuracy: 0.7340 - val_loss: 1.1090 - val_accuracy: 0.6222\n",
      "Saved model to disk\n",
      "Evaluating the model on test data ...\n",
      "3589/3589 [==============================] - 35s 10ms/step\n",
      "test loss, test acc: [1.074834049329282, 0.6216216087341309]\n"
     ]
    },
    {
     "data": {
      "image/png": "[encoded data removed]",
      "text/plain": [
       "<Figure size 432x288 with 1 Axes>"
      ]
     },
     "metadata": {
      "needs_background": "light"
     },
     "output_type": "display_data"
    }
   ],
   "source": [
    "fit_test_save_model(model, bs=256, ep=60, fnm='fer11.json', fnw='fer11.h5')"
   ]
  },
  {
   "cell_type": "code",
   "execution_count": 27,
   "metadata": {},
   "outputs": [
    {
     "data": {
      "text/html": [
       "<div>\n",
       "<style scoped>\n",
       "    .dataframe tbody tr th:only-of-type {\n",
       "        vertical-align: middle;\n",
       "    }\n",
       "\n",
       "    .dataframe tbody tr th {\n",
       "        vertical-align: top;\n",
       "    }\n",
       "\n",
       "    .dataframe thead th {\n",
       "        text-align: right;\n",
       "    }\n",
       "</style>\n",
       "<table border=\"1\" class=\"dataframe\">\n",
       "  <thead>\n",
       "    <tr style=\"text-align: right;\">\n",
       "      <th></th>\n",
       "      <th>0</th>\n",
       "      <th>1</th>\n",
       "      <th>2</th>\n",
       "      <th>3</th>\n",
       "      <th>4</th>\n",
       "      <th>5</th>\n",
       "      <th>6</th>\n",
       "    </tr>\n",
       "  </thead>\n",
       "  <tbody>\n",
       "    <tr>\n",
       "      <th>0</th>\n",
       "      <td>0.62</td>\n",
       "      <td>0.03</td>\n",
       "      <td>0.13</td>\n",
       "      <td>0.04</td>\n",
       "      <td>0.09</td>\n",
       "      <td>0.02</td>\n",
       "      <td>0.07</td>\n",
       "    </tr>\n",
       "    <tr>\n",
       "      <th>1</th>\n",
       "      <td>0.13</td>\n",
       "      <td>0.66</td>\n",
       "      <td>0.11</td>\n",
       "      <td>0.03</td>\n",
       "      <td>0.05</td>\n",
       "      <td>0.00</td>\n",
       "      <td>0.03</td>\n",
       "    </tr>\n",
       "    <tr>\n",
       "      <th>2</th>\n",
       "      <td>0.08</td>\n",
       "      <td>0.02</td>\n",
       "      <td>0.62</td>\n",
       "      <td>0.04</td>\n",
       "      <td>0.09</td>\n",
       "      <td>0.12</td>\n",
       "      <td>0.03</td>\n",
       "    </tr>\n",
       "    <tr>\n",
       "      <th>3</th>\n",
       "      <td>0.03</td>\n",
       "      <td>0.00</td>\n",
       "      <td>0.03</td>\n",
       "      <td>0.84</td>\n",
       "      <td>0.04</td>\n",
       "      <td>0.03</td>\n",
       "      <td>0.04</td>\n",
       "    </tr>\n",
       "    <tr>\n",
       "      <th>4</th>\n",
       "      <td>0.12</td>\n",
       "      <td>0.01</td>\n",
       "      <td>0.22</td>\n",
       "      <td>0.06</td>\n",
       "      <td>0.44</td>\n",
       "      <td>0.02</td>\n",
       "      <td>0.13</td>\n",
       "    </tr>\n",
       "    <tr>\n",
       "      <th>5</th>\n",
       "      <td>0.02</td>\n",
       "      <td>0.00</td>\n",
       "      <td>0.15</td>\n",
       "      <td>0.03</td>\n",
       "      <td>0.02</td>\n",
       "      <td>0.75</td>\n",
       "      <td>0.02</td>\n",
       "    </tr>\n",
       "    <tr>\n",
       "      <th>6</th>\n",
       "      <td>0.11</td>\n",
       "      <td>0.00</td>\n",
       "      <td>0.10</td>\n",
       "      <td>0.06</td>\n",
       "      <td>0.19</td>\n",
       "      <td>0.03</td>\n",
       "      <td>0.49</td>\n",
       "    </tr>\n",
       "  </tbody>\n",
       "</table>\n",
       "</div>"
      ],
      "text/plain": [
       "      0     1     2     3     4     5     6\n",
       "0  0.62  0.03  0.13  0.04  0.09  0.02  0.07\n",
       "1  0.13  0.66  0.11  0.03  0.05  0.00  0.03\n",
       "2  0.08  0.02  0.62  0.04  0.09  0.12  0.03\n",
       "3  0.03  0.00  0.03  0.84  0.04  0.03  0.04\n",
       "4  0.12  0.01  0.22  0.06  0.44  0.02  0.13\n",
       "5  0.02  0.00  0.15  0.03  0.02  0.75  0.02\n",
       "6  0.11  0.00  0.10  0.06  0.19  0.03  0.49"
      ]
     },
     "execution_count": 27,
     "metadata": {},
     "output_type": "execute_result"
    }
   ],
   "source": [
    "show_confusion_matrix(model)"
   ]
  },
  {
   "cell_type": "markdown",
   "metadata": {},
   "source": [
    "<h3>Troisieme appliquation de la fonction <i style=\"color:blue\">fit_test_save_model</i> sur le meme modele cnn</h3>\n",
    "<p> Il est evidant que cette modele est sur-apprenti (ove-fitted)<br>\n",
    "    Nous coyons vu aussi que larger batch_size (256) n'aide pas vraiment la performance<br>\n",
    "    Nous allons changer deux hyperparametre <abbr title='Batch_size'><b>bs</b></abbr> et <abbr title='epochs'><b>ep</b></abbr> pour voir leur effet</p>\n",
    "    Dans une direction opposee de test precedente<br>"
   ]
  },
  {
   "cell_type": "code",
   "execution_count": 28,
   "metadata": {},
   "outputs": [
    {
     "name": "stdout",
     "output_type": "stream",
     "text": [
      "Fitting the model with train set and validation set ...\n",
      "Train on 28709 samples, validate on 3589 samples\n",
      "Epoch 1/10\n",
      "28709/28709 [==============================] - 1039s 36ms/step - loss: 1.0829 - accuracy: 0.6030 - val_loss: 1.2207 - val_accuracy: 0.5539\n",
      "Epoch 2/10\n",
      "28709/28709 [==============================] - 1048s 37ms/step - loss: 1.0241 - accuracy: 0.6260 - val_loss: 1.2409 - val_accuracy: 0.5461\n",
      "Epoch 3/10\n",
      "28709/28709 [==============================] - 1033s 36ms/step - loss: 1.0051 - accuracy: 0.6304 - val_loss: 1.0652 - val_accuracy: 0.5949\n",
      "Epoch 4/10\n",
      "28709/28709 [==============================] - 1058s 37ms/step - loss: 1.0021 - accuracy: 0.6331 - val_loss: 1.1109 - val_accuracy: 0.5818\n",
      "Epoch 5/10\n",
      "28709/28709 [==============================] - 1074s 37ms/step - loss: 0.9934 - accuracy: 0.6355 - val_loss: 1.0824 - val_accuracy: 0.5993\n",
      "Epoch 6/10\n",
      "28709/28709 [==============================] - 1114s 39ms/step - loss: 0.9912 - accuracy: 0.6377 - val_loss: 1.0465 - val_accuracy: 0.6013\n",
      "Epoch 7/10\n",
      "28709/28709 [==============================] - 2147s 75ms/step - loss: 0.9840 - accuracy: 0.6393 - val_loss: 1.0874 - val_accuracy: 0.5985\n",
      "Epoch 8/10\n",
      "28709/28709 [==============================] - 2143s 75ms/step - loss: 0.9732 - accuracy: 0.6467 - val_loss: 1.0444 - val_accuracy: 0.6091\n",
      "Epoch 9/10\n",
      "28709/28709 [==============================] - 2142s 75ms/step - loss: 0.9716 - accuracy: 0.6442 - val_loss: 1.0737 - val_accuracy: 0.5971\n",
      "Epoch 10/10\n",
      "28709/28709 [==============================] - 2164s 75ms/step - loss: 0.9655 - accuracy: 0.6462 - val_loss: 1.0793 - val_accuracy: 0.5960\n",
      "Saved model to disk\n",
      "Evaluating the model on test data ...\n",
      "3589/3589 [==============================] - 70s 20ms/step\n",
      "test loss, test acc: [1.052920056239713, 0.6118695735931396]\n"
     ]
    },
    {
     "data": {
      "image/png": "[encoded data removed]",
      "text/plain": [
       "<Figure size 432x288 with 1 Axes>"
      ]
     },
     "metadata": {
      "needs_background": "light"
     },
     "output_type": "display_data"
    }
   ],
   "source": [
    "fit_test_save_model(model, bs=19, ep=10, fnm='fer12.json', fnw='fer12.h5')"
   ]
  },
  {
   "cell_type": "markdown",
   "metadata": {},
   "source": [
    "<h3>Conclusion</h3>\n",
    "<p><ol><li>Change bs et ep sur un modele deja sur-apprenti (ove-fitted) ne corrige pas la situation</li>\n",
    "    <li>Utilison grand batch_size (256) a un effet tres faible sur la performance</li>\n",
    "    <li>Utilison grand epoche (60) gaspille inutilement du temps si le modele est daja sur-apprenti</li>\n",
    "    <li>Utilson petit batch_size (19) a un effet fort mais negative sur la performance</li>\n",
    "    <li>Utilson petit batch_size (19) a un faible effet sur la vitesse d'apprentissage</li>\n",
    "    <li>Bonne nouvelle est que Accuracy Test global se monte a 62%</li>\n",
    "    <li>Accuracy Test pour la categorie 3 (happy), echantillons le plus grande, se monte a 84%</li>\n",
    "    <li>Suivi par la categorie 5 (surprise), avec Accuracy Test 75%</li>\n",
    "    <li>Accuracy Test pour la categorie 1 (disgust), echantillons le plus petit, 66%, n'est pas la plus faible</li>\n",
    "    <li>Le plus faible Accuray Test: 44% se trouve pour la categorie 4 (sad)</li>\n",
    "    "
   ]
  },
  {
   "cell_type": "markdown",
   "metadata": {},
   "source": [
    "## Une autre version, que j'espere un performance plus elevee, viendra sous peu"
   ]
  },
  {
   "cell_type": "code",
   "execution_count": null,
   "metadata": {},
   "outputs": [],
   "source": []
  }
 ],
 "metadata": {
  "kernelspec": {
   "display_name": "Python 3",
   "language": "python",
   "name": "python3"
  },
  "language_info": {
   "codemirror_mode": {
    "name": "ipython",
    "version": 3
   },
   "file_extension": ".py",
   "mimetype": "text/x-python",
   "name": "python",
   "nbconvert_exporter": "python",
   "pygments_lexer": "ipython3",
   "version": "3.7.7"
  }
 },
 "nbformat": 4,
 "nbformat_minor": 4
}
